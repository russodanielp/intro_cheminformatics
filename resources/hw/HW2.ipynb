{
 "cells": [
  {
   "cell_type": "markdown",
   "metadata": {},
   "source": [
    "# Homework Set 1\n",
    "\n",
    "In this exercise, you will practice your skills in Python, Pandas, and Matplotlib.  The file `compounds.csv` contains compounds by IUPAC name along with some attributes of the chemicals (e.g., Number of atoms, bonds, etc.). Using the file `compounds.csv` use Python, Pandas, and/or matplotlib to complete the following exercises.  Each excercise should have one or more code blocks to acheieve the desired outcome.      \n"
   ]
  },
  {
   "cell_type": "markdown",
   "metadata": {},
   "source": [
    "\n",
    "## Exercise 1\n",
    "\n",
    "Read the file `compounds.csv` into a pandas data frame.  Print the number of chemicals and the total number of columns in the file.  "
   ]
  },
  {
   "cell_type": "code",
   "execution_count": null,
   "metadata": {},
   "outputs": [],
   "source": []
  },
  {
   "cell_type": "markdown",
   "metadata": {},
   "source": [
    "\n",
    "## Exercise 2\n",
    "\n",
    "Create three new variables called `avg_mw`, `low_mw`,  and `high_mw`.  For each these variables, store the average molecular weight of all the compounds in the datset, the lowest, and highest molecular weight.  Print the results along with a message introducing each (e.g., `\"The average molecular weight is: \"`). \n"
   ]
  },
  {
   "cell_type": "code",
   "execution_count": null,
   "metadata": {},
   "outputs": [],
   "source": []
  },
  {
   "cell_type": "markdown",
   "metadata": {},
   "source": [
    "## Exercise 3\n",
    "\n",
    "From your dataframe, create a new variable called `atom_freq` that stores the frequencies of the number of atoms in the dataset calculated using Pandas.  Using a `for` loop, loop through the `frequencies` and print the number of atoms along with its frequencies.  \n",
    "\n",
    "Repeat this same procedure in a second cell for a variable called `bond_freq` and do the same for the number of bonds in the dataset.  \n",
    "\n",
    "The `for` loop should print something like `\"There are [blank] compounds that have [blank] atoms/bonds.\"` \n",
    "\n"
   ]
  },
  {
   "cell_type": "code",
   "execution_count": null,
   "metadata": {},
   "outputs": [],
   "source": []
  },
  {
   "cell_type": "code",
   "execution_count": null,
   "metadata": {},
   "outputs": [],
   "source": []
  },
  {
   "cell_type": "markdown",
   "metadata": {},
   "source": [
    "## Exercise 4\n",
    "\n",
    "Create a new variable called `top_logp` that consists of the 25 most lipophilic (i.e., highest logP values) compounds.  Plot the logP values of these as a scatter+line plot.  Make sure you label both the x and y axis.  "
   ]
  },
  {
   "cell_type": "code",
   "execution_count": null,
   "metadata": {},
   "outputs": [],
   "source": []
  },
  {
   "cell_type": "markdown",
   "metadata": {},
   "source": [
    "## Exercise 5\n",
    "\n",
    "Create a scatter plot of the molecular weight on the x axis and the LogP on the y axis.  For every compound, color the scatter point depending on the number of rings.  Compounds with 3 rings should be blue, compounds with 4 should be orange, and compounds with 5 should be red.  "
   ]
  },
  {
   "cell_type": "code",
   "execution_count": null,
   "metadata": {},
   "outputs": [],
   "source": []
  },
  {
   "cell_type": "markdown",
   "metadata": {},
   "source": [
    "# Exercise 6\n",
    "\n",
    "From the your last homework assignment, you shouls have created a text file of CAS registry numbers along with SMILES.  Using Pandas and rdkit create an sdf from this file.    "
   ]
  },
  {
   "cell_type": "code",
   "execution_count": null,
   "metadata": {},
   "outputs": [],
   "source": []
  }
 ],
 "metadata": {
  "interpreter": {
   "hash": "bf2aebe159be3b8647630a935c4df1106a3a7c8d22f5e308d1bdbbd01980e327"
  },
  "kernelspec": {
   "display_name": "Python 3 (ipykernel)",
   "language": "python",
   "name": "python3"
  },
  "language_info": {
   "codemirror_mode": {
    "name": "ipython",
    "version": 3
   },
   "file_extension": ".py",
   "mimetype": "text/x-python",
   "name": "python",
   "nbconvert_exporter": "python",
   "pygments_lexer": "ipython3",
   "version": "3.7.11"
  }
 },
 "nbformat": 4,
 "nbformat_minor": 4
}
