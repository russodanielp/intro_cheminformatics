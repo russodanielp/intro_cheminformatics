{
 "cells": [
  {
   "cell_type": "markdown",
   "id": "0c3f644c-7b1a-4dbe-9849-bd82bb46a742",
   "metadata": {},
   "source": [
    "# Data merging"
   ]
  },
  {
   "cell_type": "markdown",
   "id": "e6638528-89be-4c6d-8970-a8b5f4483cab",
   "metadata": {},
   "source": [
    "One of the most time consuming but necessary tasks in cheminformatics is merging information from different sources.  So long as your chemicals have a common identifier (refer to lecture on chemical representation for what a unique identifier means), there exist operations to merge different datasets.  \n",
    "\n",
    "In pandas, this is done through the merge function ([refer to the documentation](https://pandas.pydata.org/docs/user_guide/merging.html#database-style-dataframe-or-named-series-joining-merging) for full functionality).  \n",
    "\n",
    "There are several types of ways to merge data, borrowed from the table joins from the SQL database language.  They are conceptualized in the following graphic.  \n",
    "\n",
    "<img src='join_examples.png'>"
   ]
  },
  {
   "cell_type": "markdown",
   "id": "f5102476-0a38-4cba-92e2-e0a23634b126",
   "metadata": {},
   "source": [
    "This notebook we show the most common four ways to merge to datasets in tabular format:\n",
    "\n",
    "1) Inner Join  \n",
    "2) Full (Outer) Join  \n",
    "3) Left Join  \n",
    "4) Right Join."
   ]
  },
  {
   "cell_type": "markdown",
   "id": "963ef529-c590-45c4-a2a4-da548b724646",
   "metadata": {},
   "source": [
    "Support for reading Excel tables using Pandas requires the installation of the `openpyxl` package.   "
   ]
  },
  {
   "cell_type": "raw",
   "id": "7d01e159-4780-484e-8dd5-fb4ff95b985a",
   "metadata": {},
   "source": [
    "!pip install openpyxl"
   ]
  },
  {
   "cell_type": "markdown",
   "id": "bd964c69-f1d8-4ff1-b001-76fbdc01129f",
   "metadata": {},
   "source": [
    "We first need to load the two datasets as different dataframes."
   ]
  },
  {
   "cell_type": "code",
   "execution_count": 2,
   "id": "b903de69-9ed3-49e8-9e96-a4085584bc82",
   "metadata": {},
   "outputs": [],
   "source": [
    "import pandas as pd\n",
    "\n",
    "ds_one = pd.read_excel('Fake Data.xlsx', sheet_name='Dataset One')\n",
    "ds_two = pd.read_excel('Fake Data.xlsx', sheet_name='Dataset Two')"
   ]
  },
  {
   "cell_type": "code",
   "execution_count": 6,
   "id": "99ef16da-3e9b-4711-a897-5f10a8e12c0a",
   "metadata": {},
   "outputs": [
    {
     "name": "stdout",
     "output_type": "stream",
     "text": [
      "(19, 3)\n"
     ]
    },
    {
     "data": {
      "text/html": [
       "<div>\n",
       "<style scoped>\n",
       "    .dataframe tbody tr th:only-of-type {\n",
       "        vertical-align: middle;\n",
       "    }\n",
       "\n",
       "    .dataframe tbody tr th {\n",
       "        vertical-align: top;\n",
       "    }\n",
       "\n",
       "    .dataframe thead th {\n",
       "        text-align: right;\n",
       "    }\n",
       "</style>\n",
       "<table border=\"1\" class=\"dataframe\">\n",
       "  <thead>\n",
       "    <tr style=\"text-align: right;\">\n",
       "      <th></th>\n",
       "      <th>Chemical Identifier</th>\n",
       "      <th>Molecular Weight</th>\n",
       "      <th>Log P</th>\n",
       "    </tr>\n",
       "  </thead>\n",
       "  <tbody>\n",
       "    <tr>\n",
       "      <th>0</th>\n",
       "      <td>Compound 1</td>\n",
       "      <td>257</td>\n",
       "      <td>3</td>\n",
       "    </tr>\n",
       "    <tr>\n",
       "      <th>1</th>\n",
       "      <td>Compound 2</td>\n",
       "      <td>437</td>\n",
       "      <td>-1</td>\n",
       "    </tr>\n",
       "    <tr>\n",
       "      <th>2</th>\n",
       "      <td>Compound 3</td>\n",
       "      <td>432</td>\n",
       "      <td>-3</td>\n",
       "    </tr>\n",
       "    <tr>\n",
       "      <th>3</th>\n",
       "      <td>Compound 4</td>\n",
       "      <td>318</td>\n",
       "      <td>-1</td>\n",
       "    </tr>\n",
       "    <tr>\n",
       "      <th>4</th>\n",
       "      <td>Compound 5</td>\n",
       "      <td>298</td>\n",
       "      <td>-1</td>\n",
       "    </tr>\n",
       "  </tbody>\n",
       "</table>\n",
       "</div>"
      ],
      "text/plain": [
       "  Chemical Identifier  Molecular Weight  Log P \n",
       "0          Compound 1               257       3\n",
       "1          Compound 2               437      -1\n",
       "2          Compound 3               432      -3\n",
       "3          Compound 4               318      -1\n",
       "4          Compound 5               298      -1"
      ]
     },
     "execution_count": 6,
     "metadata": {},
     "output_type": "execute_result"
    }
   ],
   "source": [
    "print(ds_one.shape)\n",
    "\n",
    "ds_one.head()"
   ]
  },
  {
   "cell_type": "code",
   "execution_count": 7,
   "id": "26edd132-d9d3-44d8-bf3b-8a795604c70f",
   "metadata": {},
   "outputs": [
    {
     "name": "stdout",
     "output_type": "stream",
     "text": [
      "(19, 3)\n"
     ]
    },
    {
     "data": {
      "text/html": [
       "<div>\n",
       "<style scoped>\n",
       "    .dataframe tbody tr th:only-of-type {\n",
       "        vertical-align: middle;\n",
       "    }\n",
       "\n",
       "    .dataframe tbody tr th {\n",
       "        vertical-align: top;\n",
       "    }\n",
       "\n",
       "    .dataframe thead th {\n",
       "        text-align: right;\n",
       "    }\n",
       "</style>\n",
       "<table border=\"1\" class=\"dataframe\">\n",
       "  <thead>\n",
       "    <tr style=\"text-align: right;\">\n",
       "      <th></th>\n",
       "      <th>Chemical Identifier</th>\n",
       "      <th>Chemical SMILES</th>\n",
       "      <th>Chemical InChI</th>\n",
       "    </tr>\n",
       "  </thead>\n",
       "  <tbody>\n",
       "    <tr>\n",
       "      <th>0</th>\n",
       "      <td>Compound 1</td>\n",
       "      <td>O=C2NC(=O)C(C1=CC=CC=C1)(C(=O)N2)CC</td>\n",
       "      <td>NaN</td>\n",
       "    </tr>\n",
       "    <tr>\n",
       "      <th>1</th>\n",
       "      <td>Compound 4</td>\n",
       "      <td>C=1C=C(C=CC=1C(C2=CC=C(C=C2)Cl)C(Cl)(Cl)Cl)Cl</td>\n",
       "      <td>NaN</td>\n",
       "    </tr>\n",
       "    <tr>\n",
       "      <th>2</th>\n",
       "      <td>Compound 5</td>\n",
       "      <td>O=C(O)C1=C(C=CC(=C1Cl)Cl)Cl</td>\n",
       "      <td>NaN</td>\n",
       "    </tr>\n",
       "    <tr>\n",
       "      <th>3</th>\n",
       "      <td>Compound 11</td>\n",
       "      <td>O=[N+]([O-])C=1C=CC(O)=C(C=1)[N+](=O)[O-]</td>\n",
       "      <td>NaN</td>\n",
       "    </tr>\n",
       "    <tr>\n",
       "      <th>4</th>\n",
       "      <td>Compound 12</td>\n",
       "      <td>O=C(OCC)N</td>\n",
       "      <td>NaN</td>\n",
       "    </tr>\n",
       "  </tbody>\n",
       "</table>\n",
       "</div>"
      ],
      "text/plain": [
       "  Chemical Identifier                                Chemical SMILES  \\\n",
       "0          Compound 1            O=C2NC(=O)C(C1=CC=CC=C1)(C(=O)N2)CC   \n",
       "1          Compound 4  C=1C=C(C=CC=1C(C2=CC=C(C=C2)Cl)C(Cl)(Cl)Cl)Cl   \n",
       "2          Compound 5                    O=C(O)C1=C(C=CC(=C1Cl)Cl)Cl   \n",
       "3         Compound 11      O=[N+]([O-])C=1C=CC(O)=C(C=1)[N+](=O)[O-]   \n",
       "4         Compound 12                                      O=C(OCC)N   \n",
       "\n",
       "   Chemical InChI  \n",
       "0             NaN  \n",
       "1             NaN  \n",
       "2             NaN  \n",
       "3             NaN  \n",
       "4             NaN  "
      ]
     },
     "execution_count": 7,
     "metadata": {},
     "output_type": "execute_result"
    }
   ],
   "source": [
    "print(ds_two.shape)\n",
    "\n",
    "ds_two.head()"
   ]
  },
  {
   "cell_type": "markdown",
   "id": "64730647-3594-4891-a7a7-88675d9f53b5",
   "metadata": {},
   "source": [
    "After, we can use the `pd.merge` function that well join the datasets by a unique column identifier.  The merge function takes the first (left) and second (right) dataframes as required arguments.  The other important arguments are the `on` argument, which is the unique column shared between two datasets and the `how` argument which tells the type of join. \n",
    "\n",
    "### Inner join\n",
    "\n",
    "The first join is the inner join. The inner join takes all finds all rows from both datasets that match in both dataframes.  E.g., identifiers not in both dataframes are exclused.  "
   ]
  },
  {
   "cell_type": "code",
   "execution_count": 5,
   "id": "d677ce76-2906-4330-955f-6e3e5b88cf61",
   "metadata": {},
   "outputs": [
    {
     "name": "stdout",
     "output_type": "stream",
     "text": [
      "(12, 5)\n"
     ]
    },
    {
     "data": {
      "text/html": [
       "<div>\n",
       "<style scoped>\n",
       "    .dataframe tbody tr th:only-of-type {\n",
       "        vertical-align: middle;\n",
       "    }\n",
       "\n",
       "    .dataframe tbody tr th {\n",
       "        vertical-align: top;\n",
       "    }\n",
       "\n",
       "    .dataframe thead th {\n",
       "        text-align: right;\n",
       "    }\n",
       "</style>\n",
       "<table border=\"1\" class=\"dataframe\">\n",
       "  <thead>\n",
       "    <tr style=\"text-align: right;\">\n",
       "      <th></th>\n",
       "      <th>Chemical Identifier</th>\n",
       "      <th>Molecular Weight</th>\n",
       "      <th>Log P</th>\n",
       "      <th>Chemical SMILES</th>\n",
       "      <th>Chemical InChI</th>\n",
       "    </tr>\n",
       "  </thead>\n",
       "  <tbody>\n",
       "    <tr>\n",
       "      <th>0</th>\n",
       "      <td>Compound 1</td>\n",
       "      <td>257</td>\n",
       "      <td>3</td>\n",
       "      <td>O=C2NC(=O)C(C1=CC=CC=C1)(C(=O)N2)CC</td>\n",
       "      <td>NaN</td>\n",
       "    </tr>\n",
       "    <tr>\n",
       "      <th>1</th>\n",
       "      <td>Compound 4</td>\n",
       "      <td>318</td>\n",
       "      <td>-1</td>\n",
       "      <td>C=1C=C(C=CC=1C(C2=CC=C(C=C2)Cl)C(Cl)(Cl)Cl)Cl</td>\n",
       "      <td>NaN</td>\n",
       "    </tr>\n",
       "    <tr>\n",
       "      <th>2</th>\n",
       "      <td>Compound 5</td>\n",
       "      <td>298</td>\n",
       "      <td>-1</td>\n",
       "      <td>O=C(O)C1=C(C=CC(=C1Cl)Cl)Cl</td>\n",
       "      <td>NaN</td>\n",
       "    </tr>\n",
       "    <tr>\n",
       "      <th>3</th>\n",
       "      <td>Compound 11</td>\n",
       "      <td>440</td>\n",
       "      <td>-3</td>\n",
       "      <td>O=[N+]([O-])C=1C=CC(O)=C(C=1)[N+](=O)[O-]</td>\n",
       "      <td>NaN</td>\n",
       "    </tr>\n",
       "    <tr>\n",
       "      <th>4</th>\n",
       "      <td>Compound 12</td>\n",
       "      <td>224</td>\n",
       "      <td>3</td>\n",
       "      <td>O=C(OCC)N</td>\n",
       "      <td>NaN</td>\n",
       "    </tr>\n",
       "  </tbody>\n",
       "</table>\n",
       "</div>"
      ],
      "text/plain": [
       "  Chemical Identifier  Molecular Weight  Log P   \\\n",
       "0          Compound 1               257       3   \n",
       "1          Compound 4               318      -1   \n",
       "2          Compound 5               298      -1   \n",
       "3         Compound 11               440      -3   \n",
       "4         Compound 12               224       3   \n",
       "\n",
       "                                 Chemical SMILES  Chemical InChI  \n",
       "0            O=C2NC(=O)C(C1=CC=CC=C1)(C(=O)N2)CC             NaN  \n",
       "1  C=1C=C(C=CC=1C(C2=CC=C(C=C2)Cl)C(Cl)(Cl)Cl)Cl             NaN  \n",
       "2                    O=C(O)C1=C(C=CC(=C1Cl)Cl)Cl             NaN  \n",
       "3      O=[N+]([O-])C=1C=CC(O)=C(C=1)[N+](=O)[O-]             NaN  \n",
       "4                                      O=C(OCC)N             NaN  "
      ]
     },
     "execution_count": 5,
     "metadata": {},
     "output_type": "execute_result"
    }
   ],
   "source": [
    "inner_join = pd.merge(ds_one, ds_two, on='Chemical Identifier', how='inner')\n",
    "\n",
    "print(inner_join.shape)\n",
    "inner_join.head()"
   ]
  },
  {
   "cell_type": "markdown",
   "id": "15320d1f-e261-4449-90e2-f84099ef50b8",
   "metadata": {},
   "source": [
    "### Outer Join\n",
    "\n",
    "An outer join will match all common elements on the column, but include all the remaining data from the left and the right datasets. "
   ]
  },
  {
   "cell_type": "code",
   "execution_count": 9,
   "id": "d46a07d8-affd-4eaf-9101-ac337852a28b",
   "metadata": {},
   "outputs": [
    {
     "name": "stdout",
     "output_type": "stream",
     "text": [
      "(26, 5)\n"
     ]
    },
    {
     "data": {
      "text/html": [
       "<div>\n",
       "<style scoped>\n",
       "    .dataframe tbody tr th:only-of-type {\n",
       "        vertical-align: middle;\n",
       "    }\n",
       "\n",
       "    .dataframe tbody tr th {\n",
       "        vertical-align: top;\n",
       "    }\n",
       "\n",
       "    .dataframe thead th {\n",
       "        text-align: right;\n",
       "    }\n",
       "</style>\n",
       "<table border=\"1\" class=\"dataframe\">\n",
       "  <thead>\n",
       "    <tr style=\"text-align: right;\">\n",
       "      <th></th>\n",
       "      <th>Chemical Identifier</th>\n",
       "      <th>Molecular Weight</th>\n",
       "      <th>Log P</th>\n",
       "      <th>Chemical SMILES</th>\n",
       "      <th>Chemical InChI</th>\n",
       "    </tr>\n",
       "  </thead>\n",
       "  <tbody>\n",
       "    <tr>\n",
       "      <th>0</th>\n",
       "      <td>Compound 1</td>\n",
       "      <td>257.0</td>\n",
       "      <td>3.0</td>\n",
       "      <td>O=C2NC(=O)C(C1=CC=CC=C1)(C(=O)N2)CC</td>\n",
       "      <td>NaN</td>\n",
       "    </tr>\n",
       "    <tr>\n",
       "      <th>1</th>\n",
       "      <td>Compound 2</td>\n",
       "      <td>437.0</td>\n",
       "      <td>-1.0</td>\n",
       "      <td>NaN</td>\n",
       "      <td>NaN</td>\n",
       "    </tr>\n",
       "    <tr>\n",
       "      <th>2</th>\n",
       "      <td>Compound 3</td>\n",
       "      <td>432.0</td>\n",
       "      <td>-3.0</td>\n",
       "      <td>NaN</td>\n",
       "      <td>NaN</td>\n",
       "    </tr>\n",
       "    <tr>\n",
       "      <th>3</th>\n",
       "      <td>Compound 4</td>\n",
       "      <td>318.0</td>\n",
       "      <td>-1.0</td>\n",
       "      <td>C=1C=C(C=CC=1C(C2=CC=C(C=C2)Cl)C(Cl)(Cl)Cl)Cl</td>\n",
       "      <td>NaN</td>\n",
       "    </tr>\n",
       "    <tr>\n",
       "      <th>4</th>\n",
       "      <td>Compound 5</td>\n",
       "      <td>298.0</td>\n",
       "      <td>-1.0</td>\n",
       "      <td>O=C(O)C1=C(C=CC(=C1Cl)Cl)Cl</td>\n",
       "      <td>NaN</td>\n",
       "    </tr>\n",
       "  </tbody>\n",
       "</table>\n",
       "</div>"
      ],
      "text/plain": [
       "  Chemical Identifier  Molecular Weight  Log P   \\\n",
       "0          Compound 1             257.0     3.0   \n",
       "1          Compound 2             437.0    -1.0   \n",
       "2          Compound 3             432.0    -3.0   \n",
       "3          Compound 4             318.0    -1.0   \n",
       "4          Compound 5             298.0    -1.0   \n",
       "\n",
       "                                 Chemical SMILES  Chemical InChI  \n",
       "0            O=C2NC(=O)C(C1=CC=CC=C1)(C(=O)N2)CC             NaN  \n",
       "1                                            NaN             NaN  \n",
       "2                                            NaN             NaN  \n",
       "3  C=1C=C(C=CC=1C(C2=CC=C(C=C2)Cl)C(Cl)(Cl)Cl)Cl             NaN  \n",
       "4                    O=C(O)C1=C(C=CC(=C1Cl)Cl)Cl             NaN  "
      ]
     },
     "execution_count": 9,
     "metadata": {},
     "output_type": "execute_result"
    }
   ],
   "source": [
    "outer_join = pd.merge(ds_one, ds_two, on='Chemical Identifier', how='outer')\n",
    "\n",
    "print(outer_join.shape)\n",
    "outer_join.head()"
   ]
  },
  {
   "cell_type": "markdown",
   "id": "42fc317f-5d83-41cb-b023-23c83335c289",
   "metadata": {},
   "source": [
    "### Left Join\n",
    "\n",
    "A left join will find the elements from the left dataset that are in the right."
   ]
  },
  {
   "cell_type": "code",
   "execution_count": 11,
   "id": "0eded138-2637-4643-979a-380f1e03f267",
   "metadata": {},
   "outputs": [
    {
     "name": "stdout",
     "output_type": "stream",
     "text": [
      "(19, 5)\n"
     ]
    },
    {
     "data": {
      "text/html": [
       "<div>\n",
       "<style scoped>\n",
       "    .dataframe tbody tr th:only-of-type {\n",
       "        vertical-align: middle;\n",
       "    }\n",
       "\n",
       "    .dataframe tbody tr th {\n",
       "        vertical-align: top;\n",
       "    }\n",
       "\n",
       "    .dataframe thead th {\n",
       "        text-align: right;\n",
       "    }\n",
       "</style>\n",
       "<table border=\"1\" class=\"dataframe\">\n",
       "  <thead>\n",
       "    <tr style=\"text-align: right;\">\n",
       "      <th></th>\n",
       "      <th>Chemical Identifier</th>\n",
       "      <th>Molecular Weight</th>\n",
       "      <th>Log P</th>\n",
       "      <th>Chemical SMILES</th>\n",
       "      <th>Chemical InChI</th>\n",
       "    </tr>\n",
       "  </thead>\n",
       "  <tbody>\n",
       "    <tr>\n",
       "      <th>0</th>\n",
       "      <td>Compound 1</td>\n",
       "      <td>257</td>\n",
       "      <td>3</td>\n",
       "      <td>O=C2NC(=O)C(C1=CC=CC=C1)(C(=O)N2)CC</td>\n",
       "      <td>NaN</td>\n",
       "    </tr>\n",
       "    <tr>\n",
       "      <th>1</th>\n",
       "      <td>Compound 2</td>\n",
       "      <td>437</td>\n",
       "      <td>-1</td>\n",
       "      <td>NaN</td>\n",
       "      <td>NaN</td>\n",
       "    </tr>\n",
       "    <tr>\n",
       "      <th>2</th>\n",
       "      <td>Compound 3</td>\n",
       "      <td>432</td>\n",
       "      <td>-3</td>\n",
       "      <td>NaN</td>\n",
       "      <td>NaN</td>\n",
       "    </tr>\n",
       "    <tr>\n",
       "      <th>3</th>\n",
       "      <td>Compound 4</td>\n",
       "      <td>318</td>\n",
       "      <td>-1</td>\n",
       "      <td>C=1C=C(C=CC=1C(C2=CC=C(C=C2)Cl)C(Cl)(Cl)Cl)Cl</td>\n",
       "      <td>NaN</td>\n",
       "    </tr>\n",
       "    <tr>\n",
       "      <th>4</th>\n",
       "      <td>Compound 5</td>\n",
       "      <td>298</td>\n",
       "      <td>-1</td>\n",
       "      <td>O=C(O)C1=C(C=CC(=C1Cl)Cl)Cl</td>\n",
       "      <td>NaN</td>\n",
       "    </tr>\n",
       "  </tbody>\n",
       "</table>\n",
       "</div>"
      ],
      "text/plain": [
       "  Chemical Identifier  Molecular Weight  Log P   \\\n",
       "0          Compound 1               257       3   \n",
       "1          Compound 2               437      -1   \n",
       "2          Compound 3               432      -3   \n",
       "3          Compound 4               318      -1   \n",
       "4          Compound 5               298      -1   \n",
       "\n",
       "                                 Chemical SMILES  Chemical InChI  \n",
       "0            O=C2NC(=O)C(C1=CC=CC=C1)(C(=O)N2)CC             NaN  \n",
       "1                                            NaN             NaN  \n",
       "2                                            NaN             NaN  \n",
       "3  C=1C=C(C=CC=1C(C2=CC=C(C=C2)Cl)C(Cl)(Cl)Cl)Cl             NaN  \n",
       "4                    O=C(O)C1=C(C=CC(=C1Cl)Cl)Cl             NaN  "
      ]
     },
     "execution_count": 11,
     "metadata": {},
     "output_type": "execute_result"
    }
   ],
   "source": [
    "left_join = pd.merge(ds_one, ds_two, on='Chemical Identifier', how='left')\n",
    "\n",
    "print(left_join.shape)\n",
    "left_join.head()"
   ]
  },
  {
   "cell_type": "markdown",
   "id": "81a54728-372f-466a-b9d8-b2bc5dac98e2",
   "metadata": {},
   "source": [
    "### Right Join\n",
    "\n",
    "A right join does the same as the left, except for the other dataset.  "
   ]
  },
  {
   "cell_type": "code",
   "execution_count": 12,
   "id": "b047e8a6-52c0-4ffd-92db-a3cb0c5cfd32",
   "metadata": {},
   "outputs": [
    {
     "name": "stdout",
     "output_type": "stream",
     "text": [
      "(19, 5)\n"
     ]
    },
    {
     "data": {
      "text/html": [
       "<div>\n",
       "<style scoped>\n",
       "    .dataframe tbody tr th:only-of-type {\n",
       "        vertical-align: middle;\n",
       "    }\n",
       "\n",
       "    .dataframe tbody tr th {\n",
       "        vertical-align: top;\n",
       "    }\n",
       "\n",
       "    .dataframe thead th {\n",
       "        text-align: right;\n",
       "    }\n",
       "</style>\n",
       "<table border=\"1\" class=\"dataframe\">\n",
       "  <thead>\n",
       "    <tr style=\"text-align: right;\">\n",
       "      <th></th>\n",
       "      <th>Chemical Identifier</th>\n",
       "      <th>Molecular Weight</th>\n",
       "      <th>Log P</th>\n",
       "      <th>Chemical SMILES</th>\n",
       "      <th>Chemical InChI</th>\n",
       "    </tr>\n",
       "  </thead>\n",
       "  <tbody>\n",
       "    <tr>\n",
       "      <th>0</th>\n",
       "      <td>Compound 1</td>\n",
       "      <td>257.0</td>\n",
       "      <td>3.0</td>\n",
       "      <td>O=C2NC(=O)C(C1=CC=CC=C1)(C(=O)N2)CC</td>\n",
       "      <td>NaN</td>\n",
       "    </tr>\n",
       "    <tr>\n",
       "      <th>1</th>\n",
       "      <td>Compound 4</td>\n",
       "      <td>318.0</td>\n",
       "      <td>-1.0</td>\n",
       "      <td>C=1C=C(C=CC=1C(C2=CC=C(C=C2)Cl)C(Cl)(Cl)Cl)Cl</td>\n",
       "      <td>NaN</td>\n",
       "    </tr>\n",
       "    <tr>\n",
       "      <th>2</th>\n",
       "      <td>Compound 5</td>\n",
       "      <td>298.0</td>\n",
       "      <td>-1.0</td>\n",
       "      <td>O=C(O)C1=C(C=CC(=C1Cl)Cl)Cl</td>\n",
       "      <td>NaN</td>\n",
       "    </tr>\n",
       "    <tr>\n",
       "      <th>3</th>\n",
       "      <td>Compound 11</td>\n",
       "      <td>440.0</td>\n",
       "      <td>-3.0</td>\n",
       "      <td>O=[N+]([O-])C=1C=CC(O)=C(C=1)[N+](=O)[O-]</td>\n",
       "      <td>NaN</td>\n",
       "    </tr>\n",
       "    <tr>\n",
       "      <th>4</th>\n",
       "      <td>Compound 12</td>\n",
       "      <td>224.0</td>\n",
       "      <td>3.0</td>\n",
       "      <td>O=C(OCC)N</td>\n",
       "      <td>NaN</td>\n",
       "    </tr>\n",
       "  </tbody>\n",
       "</table>\n",
       "</div>"
      ],
      "text/plain": [
       "  Chemical Identifier  Molecular Weight  Log P   \\\n",
       "0          Compound 1             257.0     3.0   \n",
       "1          Compound 4             318.0    -1.0   \n",
       "2          Compound 5             298.0    -1.0   \n",
       "3         Compound 11             440.0    -3.0   \n",
       "4         Compound 12             224.0     3.0   \n",
       "\n",
       "                                 Chemical SMILES  Chemical InChI  \n",
       "0            O=C2NC(=O)C(C1=CC=CC=C1)(C(=O)N2)CC             NaN  \n",
       "1  C=1C=C(C=CC=1C(C2=CC=C(C=C2)Cl)C(Cl)(Cl)Cl)Cl             NaN  \n",
       "2                    O=C(O)C1=C(C=CC(=C1Cl)Cl)Cl             NaN  \n",
       "3      O=[N+]([O-])C=1C=CC(O)=C(C=1)[N+](=O)[O-]             NaN  \n",
       "4                                      O=C(OCC)N             NaN  "
      ]
     },
     "execution_count": 12,
     "metadata": {},
     "output_type": "execute_result"
    }
   ],
   "source": [
    "right_join = pd.merge(ds_one, ds_two, on='Chemical Identifier', how='right')\n",
    "\n",
    "print(right_join.shape)\n",
    "right_join.head()"
   ]
  },
  {
   "cell_type": "code",
   "execution_count": null,
   "id": "60a68bf0-f106-4427-a427-713a93d0aca3",
   "metadata": {},
   "outputs": [],
   "source": []
  }
 ],
 "metadata": {
  "kernelspec": {
   "display_name": "Python 3 (ipykernel)",
   "language": "python",
   "name": "python3"
  },
  "language_info": {
   "codemirror_mode": {
    "name": "ipython",
    "version": 3
   },
   "file_extension": ".py",
   "mimetype": "text/x-python",
   "name": "python",
   "nbconvert_exporter": "python",
   "pygments_lexer": "ipython3",
   "version": "3.7.11"
  }
 },
 "nbformat": 4,
 "nbformat_minor": 5
}
