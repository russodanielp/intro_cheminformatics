{
  "cells": [
    {
      "cell_type": "markdown",
      "metadata": {
        "id": "view-in-github",
        "colab_type": "text"
      },
      "source": [
        "<a href=\"https://colab.research.google.com/github/russodanielp/intro_cheminformatics/blob/google_colab/Lab%2008%20-%20Machine%20Learning%20-%20Supervised%2C%20QSAR/colab.ipynb\" target=\"_parent\"><img src=\"https://colab.research.google.com/assets/colab-badge.svg\" alt=\"Open In Colab\"/></a>"
      ]
    },
    {
      "cell_type": "markdown",
      "metadata": {
        "id": "4QB-Z_R08i4B"
      },
      "source": [
        "# QSAR"
      ]
    },
    {
      "cell_type": "markdown",
      "metadata": {
        "id": "5UpyCDuz8i4D"
      },
      "source": [
        "## Aim of this lab\n",
        "\n",
        "To use different machine learning alogorithms for Quantitative Structure Activity Relationship Modeling. "
      ]
    },
    {
      "cell_type": "markdown",
      "metadata": {
        "tags": [],
        "id": "LGkMEKqr8i4E"
      },
      "source": [
        "### Objectives\n",
        "\n",
        "* Use a variety of machine learning algorithms to develop QSAR models\n"
      ]
    },
    {
      "cell_type": "markdown",
      "metadata": {
        "id": "Lur74vQX8i4E"
      },
      "source": [
        "## Background\n",
        "\n",
        "\n",
        "Quantitative Structure-Activity Relationahsip (QSAR) modeling is one of the most common and useful methodologies in cheminformatics.  QSAR seeks to use machine learning algorithms to map chemical information to a biological activity.  The models can then be used for predictive purposes."
      ]
    },
    {
      "cell_type": "markdown",
      "source": [
        "## Data:\n",
        "\n",
        "__You'll have to do similar procedures for data__\n",
        "\n",
        "Took from PubChem AID [743079](https://pubchem.ncbi.nlm.nih.gov/bioassay/743079#section=Result-Definitions)\n",
        "\n",
        "Go to download data table.\n",
        "\n",
        "You'll need to find the end points of interest (Activity Outcome, AC50, etc.).  They vary by assay.  \n",
        "\n",
        "### Classification:\n",
        "\n",
        "-Used PubChem `PUBCHEM_ACTIVITY_OUTCOME`. \n",
        "-Removed Records with no SMILES/CID.\n",
        "-Removed Records with Inconclusive.  \n",
        "-Balance Active Responses with Inactive response (more on this next lecture).  \n",
        "-Made a new columns with a 1 if the chemical was Active 0 if it was Inactive \n",
        "\n",
        "### Regression:\n",
        "-Used Column `Fit_LogAC50-Replicate_2` (you would ideally do all replicates and average results).   \n",
        "-Only Used `Active` Chemicals.   "
      ],
      "metadata": {
        "id": "8Jw967arEEyx"
      }
    },
    {
      "cell_type": "code",
      "source": [],
      "metadata": {
        "id": "CtesMZh-PZMT"
      },
      "execution_count": null,
      "outputs": []
    },
    {
      "cell_type": "code",
      "source": [],
      "metadata": {
        "id": "-5aV-CPbRBbm"
      },
      "execution_count": null,
      "outputs": []
    },
    {
      "cell_type": "code",
      "source": [],
      "metadata": {
        "id": "HnzPns4nTSUG"
      },
      "execution_count": null,
      "outputs": []
    },
    {
      "cell_type": "code",
      "execution_count": null,
      "metadata": {
        "id": "u_rDlsqH8i4F"
      },
      "outputs": [],
      "source": [
        "from rdkit.ML.Descriptors import MoleculeDescriptors\n",
        "from rdkit.Chem import AllChem\n",
        "from rdkit.Chem import MACCSkeys\n",
        "from rdkit.Chem import Descriptors\n",
        "\n",
        "\n",
        "def calc_fp_from_mol(mol, method=\"maccs\", n_bits=2048):\n",
        "    \"\"\"\n",
        "    Encode a molecule from a RDKit Mol into a fingerprint.\n",
        "\n",
        "    Parameters\n",
        "    ----------\n",
        "    mol : RDKit Mol\n",
        "        The RDKit molecule.\n",
        "\n",
        "    method : str\n",
        "        The type of fingerprint to use. Default is MACCS keys.\n",
        "\n",
        "    n_bits : int\n",
        "        The length of the fingerprint.\n",
        "\n",
        "    Returns\n",
        "    -------\n",
        "    array\n",
        "        The fingerprint array.\n",
        "\n",
        "    \"\"\"\n",
        "\n",
        "    if method == \"maccs\":\n",
        "        return list(MACCSkeys.GenMACCSKeys(mol))\n",
        "    elif method == \"ecfp4\":\n",
        "        return list(AllChem.GetMorganFingerprintAsBitVect(mol, 2, nBits=n_bits))\n",
        "    elif method == \"ecfp6\":\n",
        "        return list(AllChem.GetMorganFingerprintAsBitVect(mol, 3, nBits=n_bits))\n",
        "    else:\n",
        "        print(f\"Warning: Wrong method specified: {method}. Default will be used instead.\")\n",
        "        return list(MACCSkeys.GenMACCSKeys(mol))"
      ]
    },
    {
      "cell_type": "code",
      "execution_count": null,
      "metadata": {
        "id": "mLMobc-X8i4G"
      },
      "outputs": [],
      "source": []
    },
    {
      "cell_type": "markdown",
      "metadata": {
        "id": "VjishHvy8i4H"
      },
      "source": [
        "#### QSAR Modeling\n",
        "\n",
        "Machine learning (ML)\n",
        "ML text is adapted from the `sckit-learn` documentation [here](https://scikit-learn.org/stable/).  More information about the algorithms can be found on thier respective documentation pages. \n",
        "\n",
        "Classification: Identify which category an object belongs to (e.g. Active/Inactive bioassay respones, Toxic/non-toxic in humans)  \n",
        "Regression: Prediction of a continuous-values attribute associated with an object (e.g., $\\mu$m, AC$_50$ respones in bioassays)\n",
        "\n",
        "A learning algorithm creates rules by finding patterns in the training data.\n",
        "\n",
        "* Random Forest (RF): Ensemble of decision trees. A single decision tree splits the features of the input vector in a way that maximizes an objective function. In the random forest algorithm, the trees that are grown are de-correlated because the choice of features for the splits are chosen randomly.\n",
        "* k-Nearest Neighbors (kNNs): A kNN predicts from a simple majority vote of the nearest neighbors of each point: a query point is assigned the data class which has the most representatives within the nearest neighbors found in the training set.\n",
        "\n",
        "Most algorithms can be used as both classiers and regressors, however, there are certain algorithms that are not.  The two mentioned above that we will use in this lab are applicable for both.  Scikit-learn has seperate modules for classification and regression.  Therefore, if we want to use RF for classification, we have to import it a seperate object from RF for regression. \n",
        "\n",
        "To simulate \"real-world\" scenarios and to ensures your models are not overfit it is best practice to seperate the compounds being used for QSAR into __training__, and __test__ sets.  Training sets are used for tuning the model parameters and finding patterns usually through cross validation, which we will go over next lab and will ignore this time.  The test set is then used to evaluate the model's accuracy at predicting \"new\" or \"unseen\" data. __Test Set Data is the MOST important model validation data__"
      ]
    },
    {
      "cell_type": "markdown",
      "source": [
        "## Clasification"
      ],
      "metadata": {
        "id": "tP4t3QoWNHz9"
      }
    },
    {
      "cell_type": "markdown",
      "metadata": {
        "id": "h4HbOml48i4H"
      },
      "source": [
        "#### Data Preperation\n",
        "\n",
        "First we split the data into training and set sets (a portain of the training set will be used as a validation set later).  Typically the QSAR table will consists of an `X` matrix consisting of predictor variables, which in our cases are molecular descriptors and is of the shape (N, M), where N is the number of compounds and M is the number of descriptors.  The second matix `y`,  consits of the values to be predicted, e.g., the classifications of bioassay calls or AC$_{50}$ values, in the case of classification and regression, respectively.  \n",
        "\n",
        "First we prepare these two matrices.  "
      ]
    },
    {
      "cell_type": "code",
      "execution_count": null,
      "metadata": {
        "id": "u7BmhnxU8i4I"
      },
      "outputs": [],
      "source": []
    },
    {
      "cell_type": "markdown",
      "metadata": {
        "id": "dwJ7gj748i4I"
      },
      "source": [
        "It is usually good practice to summarize/check/visualize the data in which you are trying to learn. "
      ]
    },
    {
      "cell_type": "code",
      "execution_count": null,
      "metadata": {
        "id": "QKur92uT8i4I"
      },
      "outputs": [],
      "source": []
    },
    {
      "cell_type": "markdown",
      "metadata": {
        "id": "cCgZEQbF8i4I"
      },
      "source": [
        "#### Classification"
      ]
    },
    {
      "cell_type": "markdown",
      "metadata": {
        "id": "JJk9-rU08i4J"
      },
      "source": [
        "The `train_test_split` function from `scikitlearn` splits our data to a provide test set size.  Here, we'll leave out 20% of our compounds as a test set.  "
      ]
    },
    {
      "cell_type": "code",
      "execution_count": null,
      "metadata": {
        "id": "V6zECwFe8i4J"
      },
      "outputs": [],
      "source": []
    },
    {
      "cell_type": "markdown",
      "metadata": {
        "id": "nxAhSMdd8i4J"
      },
      "source": [
        "Get the algorithms from `scikit-learn`."
      ]
    },
    {
      "cell_type": "code",
      "execution_count": null,
      "metadata": {
        "id": "jQUPVoQ58i4J"
      },
      "outputs": [],
      "source": []
    },
    {
      "cell_type": "markdown",
      "source": [
        "### Train the models\n",
        "\n",
        "Use the training data to fit the models"
      ],
      "metadata": {
        "id": "VgeBGVjBSxRV"
      }
    },
    {
      "cell_type": "code",
      "execution_count": null,
      "metadata": {
        "id": "Xu0qZPXu8i4J"
      },
      "outputs": [],
      "source": []
    },
    {
      "cell_type": "code",
      "source": [],
      "metadata": {
        "id": "AvnXe-V2SQ9V"
      },
      "execution_count": null,
      "outputs": []
    },
    {
      "cell_type": "code",
      "source": [],
      "metadata": {
        "id": "q1B4R0r_QH7A"
      },
      "execution_count": null,
      "outputs": []
    },
    {
      "cell_type": "code",
      "source": [],
      "metadata": {
        "id": "0mWFv1dMVP1p"
      },
      "execution_count": null,
      "outputs": []
    },
    {
      "cell_type": "markdown",
      "metadata": {
        "id": "w7SJYwgn8i4J"
      },
      "source": [
        "#### Regression\n",
        "\n",
        "For regression, we can use the same approach, but we need to change our `y` training vector to be the true continious values. \n",
        "\n",
        "Most of the algorithms in `sckit-learn` have both a `Classifer` and a `Regressor` interface.  Here we'll import the `Regressors`."
      ]
    },
    {
      "cell_type": "code",
      "source": [],
      "metadata": {
        "id": "ZHQE96RGUdb1"
      },
      "execution_count": null,
      "outputs": []
    },
    {
      "cell_type": "code",
      "source": [],
      "metadata": {
        "id": "gaYvu_R2Udb5"
      },
      "execution_count": null,
      "outputs": []
    },
    {
      "cell_type": "code",
      "execution_count": null,
      "metadata": {
        "id": "TCKRMqiSUdb6"
      },
      "outputs": [],
      "source": []
    },
    {
      "cell_type": "code",
      "execution_count": null,
      "metadata": {
        "id": "-kRps4g9Udb6"
      },
      "outputs": [],
      "source": []
    },
    {
      "cell_type": "markdown",
      "metadata": {
        "id": "7UqBpfJFUdb6"
      },
      "source": [
        "It is usually good practice to visualize the data in which you are trying to learn. "
      ]
    },
    {
      "cell_type": "code",
      "execution_count": null,
      "metadata": {
        "id": "wsmme6NLUdb6"
      },
      "outputs": [],
      "source": []
    },
    {
      "cell_type": "code",
      "execution_count": null,
      "metadata": {
        "id": "nfiZgip-8i4J"
      },
      "outputs": [],
      "source": []
    },
    {
      "cell_type": "code",
      "execution_count": null,
      "metadata": {
        "id": "SNAA9K3A8i4J"
      },
      "outputs": [],
      "source": []
    },
    {
      "cell_type": "markdown",
      "metadata": {
        "id": "nQYPDR7E8i4J"
      },
      "source": [
        "The metrics used to evaluate classication models are not the same as those used for evaluating regression models.  Typically, there are two metrics __r$^2$__ and the __mean absolute error (MAE)__."
      ]
    },
    {
      "cell_type": "code",
      "execution_count": null,
      "metadata": {
        "id": "aQiOvjBq8i4K"
      },
      "outputs": [],
      "source": []
    },
    {
      "cell_type": "code",
      "source": [],
      "metadata": {
        "id": "evPUK1GoUaLW"
      },
      "execution_count": null,
      "outputs": []
    }
  ],
  "metadata": {
    "kernelspec": {
      "display_name": "Python 3 (ipykernel)",
      "language": "python",
      "name": "python3"
    },
    "language_info": {
      "codemirror_mode": {
        "name": "ipython",
        "version": 3
      },
      "file_extension": ".py",
      "mimetype": "text/x-python",
      "name": "python",
      "nbconvert_exporter": "python",
      "pygments_lexer": "ipython3",
      "version": "3.7.11"
    },
    "colab": {
      "provenance": [],
      "include_colab_link": true
    }
  },
  "nbformat": 4,
  "nbformat_minor": 0
}