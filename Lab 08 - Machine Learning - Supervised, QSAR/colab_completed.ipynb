{
 "cells": [
  {
   "cell_type": "markdown",
   "metadata": {},
   "source": [
    "# QSAR"
   ]
  },
  {
   "cell_type": "markdown",
   "metadata": {},
   "source": [
    "## Aim of this lab\n",
    "\n",
    "To use different machine learning alogorithms for Quantitative Structure Activity Relationship Modeling. "
   ]
  },
  {
   "cell_type": "markdown",
   "metadata": {
    "tags": []
   },
   "source": [
    "### Objectives\n",
    "\n",
    "* Use a variety of machine learning algorithms to develop QSAR models\n"
   ]
  },
  {
   "cell_type": "markdown",
   "metadata": {},
   "source": [
    "## Background\n",
    "\n",
    "\n",
    "Quantitative Structure-Activity Relationahsip (QSAR) modeling is one of the most common and useful methodologies in cheminformatics.  QSAR seeks to use machine learning algorithms to map chemical information to a biological activity.  The models can then be used for predictive purposes."
   ]
  },
  {
   "cell_type": "code",
   "execution_count": 2,
   "metadata": {},
   "outputs": [],
   "source": [
    "from rdkit.Chem import PandasTools\n",
    "import pandas as pd"
   ]
  },
  {
   "cell_type": "code",
   "execution_count": 3,
   "metadata": {},
   "outputs": [
    {
     "ename": "AttributeError",
     "evalue": "module 'pandas.io.formats.format' has no attribute '_get_adjustment'",
     "output_type": "error",
     "traceback": [
      "\u001B[0;31m---------------------------------------------------------------------------\u001B[0m",
      "\u001B[0;31mAttributeError\u001B[0m                            Traceback (most recent call last)",
      "\u001B[0;32m~/opt/anaconda3/envs/intro-chem/lib/python3.7/site-packages/IPython/core/formatters.py\u001B[0m in \u001B[0;36m__call__\u001B[0;34m(self, obj)\u001B[0m\n\u001B[1;32m    343\u001B[0m             \u001B[0mmethod\u001B[0m \u001B[0;34m=\u001B[0m \u001B[0mget_real_method\u001B[0m\u001B[0;34m(\u001B[0m\u001B[0mobj\u001B[0m\u001B[0;34m,\u001B[0m \u001B[0mself\u001B[0m\u001B[0;34m.\u001B[0m\u001B[0mprint_method\u001B[0m\u001B[0;34m)\u001B[0m\u001B[0;34m\u001B[0m\u001B[0;34m\u001B[0m\u001B[0m\n\u001B[1;32m    344\u001B[0m             \u001B[0;32mif\u001B[0m \u001B[0mmethod\u001B[0m \u001B[0;32mis\u001B[0m \u001B[0;32mnot\u001B[0m \u001B[0;32mNone\u001B[0m\u001B[0;34m:\u001B[0m\u001B[0;34m\u001B[0m\u001B[0;34m\u001B[0m\u001B[0m\n\u001B[0;32m--> 345\u001B[0;31m                 \u001B[0;32mreturn\u001B[0m \u001B[0mmethod\u001B[0m\u001B[0;34m(\u001B[0m\u001B[0;34m)\u001B[0m\u001B[0;34m\u001B[0m\u001B[0;34m\u001B[0m\u001B[0m\n\u001B[0m\u001B[1;32m    346\u001B[0m             \u001B[0;32mreturn\u001B[0m \u001B[0;32mNone\u001B[0m\u001B[0;34m\u001B[0m\u001B[0;34m\u001B[0m\u001B[0m\n\u001B[1;32m    347\u001B[0m         \u001B[0;32melse\u001B[0m\u001B[0;34m:\u001B[0m\u001B[0;34m\u001B[0m\u001B[0;34m\u001B[0m\u001B[0m\n",
      "\u001B[0;32m~/opt/anaconda3/envs/intro-chem/lib/python3.7/site-packages/rdkit/Chem/PandasTools.py\u001B[0m in \u001B[0;36mpatchPandasrepr\u001B[0;34m(self, **kwargs)\u001B[0m\n\u001B[1;32m    199\u001B[0m   \u001B[0mdefHTMLFormatter_write_cell\u001B[0m \u001B[0;34m=\u001B[0m \u001B[0mpandas\u001B[0m\u001B[0;34m.\u001B[0m\u001B[0mio\u001B[0m\u001B[0;34m.\u001B[0m\u001B[0mformats\u001B[0m\u001B[0;34m.\u001B[0m\u001B[0mhtml\u001B[0m\u001B[0;34m.\u001B[0m\u001B[0mHTMLFormatter\u001B[0m\u001B[0;34m.\u001B[0m\u001B[0m_write_cell\u001B[0m\u001B[0;34m\u001B[0m\u001B[0;34m\u001B[0m\u001B[0m\n\u001B[1;32m    200\u001B[0m   \u001B[0mpandas\u001B[0m\u001B[0;34m.\u001B[0m\u001B[0mio\u001B[0m\u001B[0;34m.\u001B[0m\u001B[0mformats\u001B[0m\u001B[0;34m.\u001B[0m\u001B[0mhtml\u001B[0m\u001B[0;34m.\u001B[0m\u001B[0mHTMLFormatter\u001B[0m\u001B[0;34m.\u001B[0m\u001B[0m_write_cell\u001B[0m \u001B[0;34m=\u001B[0m \u001B[0m_patched_HTMLFormatter_write_cell\u001B[0m\u001B[0;34m\u001B[0m\u001B[0;34m\u001B[0m\u001B[0m\n\u001B[0;32m--> 201\u001B[0;31m   \u001B[0mdefPandasGetAdjustment\u001B[0m \u001B[0;34m=\u001B[0m \u001B[0mpandas\u001B[0m\u001B[0;34m.\u001B[0m\u001B[0mio\u001B[0m\u001B[0;34m.\u001B[0m\u001B[0mformats\u001B[0m\u001B[0;34m.\u001B[0m\u001B[0mformat\u001B[0m\u001B[0;34m.\u001B[0m\u001B[0m_get_adjustment\u001B[0m\u001B[0;34m\u001B[0m\u001B[0;34m\u001B[0m\u001B[0m\n\u001B[0m\u001B[1;32m    202\u001B[0m   \u001B[0mpandas\u001B[0m\u001B[0;34m.\u001B[0m\u001B[0mio\u001B[0m\u001B[0;34m.\u001B[0m\u001B[0mformats\u001B[0m\u001B[0;34m.\u001B[0m\u001B[0mformat\u001B[0m\u001B[0;34m.\u001B[0m\u001B[0m_get_adjustment\u001B[0m \u001B[0;34m=\u001B[0m \u001B[0m_patched_get_adjustment\u001B[0m\u001B[0;34m\u001B[0m\u001B[0;34m\u001B[0m\u001B[0m\n\u001B[1;32m    203\u001B[0m   \u001B[0mres\u001B[0m \u001B[0;34m=\u001B[0m \u001B[0mdefPandasRepr\u001B[0m\u001B[0;34m(\u001B[0m\u001B[0mself\u001B[0m\u001B[0;34m,\u001B[0m \u001B[0;34m**\u001B[0m\u001B[0mkwargs\u001B[0m\u001B[0;34m)\u001B[0m\u001B[0;34m\u001B[0m\u001B[0;34m\u001B[0m\u001B[0m\n",
      "\u001B[0;31mAttributeError\u001B[0m: module 'pandas.io.formats.format' has no attribute '_get_adjustment'"
     ]
    },
    {
     "data": {
      "text/plain": "    Name                                     MolSmiles Bio_Activity ID  \\\n0  Mol_0  CC(C)(C)OC(=O)c1c2n(cn1)-c3ccccc3C(=O)N(C2)C        -1.28      \n1  Mol_1         CN1Cc2c(ncn2-c3ccc(cc3C1=O)Cl)C(=O)OC        -0.62      \n2  Mol_2   CCCOC(=O)c1c2n(cn1)-c3ccc(cc3C(=O)N(C2)C)Cl        -0.13      \n\n                                               ROMol  \n0  <img data-content=\"rdkit/molecule\" src=\"data:i...  \n1  <img data-content=\"rdkit/molecule\" src=\"data:i...  \n2  <img data-content=\"rdkit/molecule\" src=\"data:i...  "
     },
     "execution_count": 3,
     "metadata": {},
     "output_type": "execute_result"
    }
   ],
   "source": [
    "df = PandasTools.LoadSDF('data/DIAZEPAM_w_name.sdf')\n",
    "df.head(3)"
   ]
  },
  {
   "cell_type": "code",
   "execution_count": 4,
   "metadata": {},
   "outputs": [],
   "source": [
    "from rdkit.ML.Descriptors import MoleculeDescriptors\n",
    "from rdkit.Chem import AllChem\n",
    "from rdkit.Chem import MACCSkeys\n",
    "from rdkit.Chem import Descriptors\n",
    "\n",
    "def calc_descriptors_from_mol(mol):\n",
    "    \"\"\"\n",
    "    Encode a molecule from a RDKit Mol into a set of descriptors.\n",
    "\n",
    "    Parameters\n",
    "    ----------\n",
    "    mol : RDKit Mol\n",
    "        The RDKit molecule.\n",
    "\n",
    "    Returns\n",
    "    -------\n",
    "    list\n",
    "        The set of chemical descriptors as a list.\n",
    "\n",
    "    \"\"\"\n",
    "    calc = MoleculeDescriptors.MolecularDescriptorCalculator([desc[0] for desc in Descriptors.descList])\n",
    "    return list(calc.CalcDescriptors(mol))"
   ]
  },
  {
   "cell_type": "code",
   "execution_count": 5,
   "metadata": {},
   "outputs": [],
   "source": [
    "desc_list = []\n",
    "\n",
    "\n",
    "for mol in df.ROMol.tolist():\n",
    "    desc = calc_descriptors_from_mol(mol)\n",
    "    desc_list.append(desc)\n",
    "\n",
    "    \n",
    "desc_frame = pd.DataFrame(desc_list)"
   ]
  },
  {
   "cell_type": "markdown",
   "metadata": {},
   "source": [
    "#### Standardizing Descriptors"
   ]
  },
  {
   "cell_type": "code",
   "execution_count": 6,
   "metadata": {},
   "outputs": [
    {
     "ename": "AttributeError",
     "evalue": "module 'pandas.io.formats.format' has no attribute '_get_adjustment'",
     "output_type": "error",
     "traceback": [
      "\u001B[0;31m---------------------------------------------------------------------------\u001B[0m",
      "\u001B[0;31mAttributeError\u001B[0m                            Traceback (most recent call last)",
      "\u001B[0;32m~/opt/anaconda3/envs/intro-chem/lib/python3.7/site-packages/IPython/core/formatters.py\u001B[0m in \u001B[0;36m__call__\u001B[0;34m(self, obj)\u001B[0m\n\u001B[1;32m    343\u001B[0m             \u001B[0mmethod\u001B[0m \u001B[0;34m=\u001B[0m \u001B[0mget_real_method\u001B[0m\u001B[0;34m(\u001B[0m\u001B[0mobj\u001B[0m\u001B[0;34m,\u001B[0m \u001B[0mself\u001B[0m\u001B[0;34m.\u001B[0m\u001B[0mprint_method\u001B[0m\u001B[0;34m)\u001B[0m\u001B[0;34m\u001B[0m\u001B[0;34m\u001B[0m\u001B[0m\n\u001B[1;32m    344\u001B[0m             \u001B[0;32mif\u001B[0m \u001B[0mmethod\u001B[0m \u001B[0;32mis\u001B[0m \u001B[0;32mnot\u001B[0m \u001B[0;32mNone\u001B[0m\u001B[0;34m:\u001B[0m\u001B[0;34m\u001B[0m\u001B[0;34m\u001B[0m\u001B[0m\n\u001B[0;32m--> 345\u001B[0;31m                 \u001B[0;32mreturn\u001B[0m \u001B[0mmethod\u001B[0m\u001B[0;34m(\u001B[0m\u001B[0;34m)\u001B[0m\u001B[0;34m\u001B[0m\u001B[0;34m\u001B[0m\u001B[0m\n\u001B[0m\u001B[1;32m    346\u001B[0m             \u001B[0;32mreturn\u001B[0m \u001B[0;32mNone\u001B[0m\u001B[0;34m\u001B[0m\u001B[0;34m\u001B[0m\u001B[0m\n\u001B[1;32m    347\u001B[0m         \u001B[0;32melse\u001B[0m\u001B[0;34m:\u001B[0m\u001B[0;34m\u001B[0m\u001B[0;34m\u001B[0m\u001B[0m\n",
      "\u001B[0;32m~/opt/anaconda3/envs/intro-chem/lib/python3.7/site-packages/rdkit/Chem/PandasTools.py\u001B[0m in \u001B[0;36mpatchPandasrepr\u001B[0;34m(self, **kwargs)\u001B[0m\n\u001B[1;32m    199\u001B[0m   \u001B[0mdefHTMLFormatter_write_cell\u001B[0m \u001B[0;34m=\u001B[0m \u001B[0mpandas\u001B[0m\u001B[0;34m.\u001B[0m\u001B[0mio\u001B[0m\u001B[0;34m.\u001B[0m\u001B[0mformats\u001B[0m\u001B[0;34m.\u001B[0m\u001B[0mhtml\u001B[0m\u001B[0;34m.\u001B[0m\u001B[0mHTMLFormatter\u001B[0m\u001B[0;34m.\u001B[0m\u001B[0m_write_cell\u001B[0m\u001B[0;34m\u001B[0m\u001B[0;34m\u001B[0m\u001B[0m\n\u001B[1;32m    200\u001B[0m   \u001B[0mpandas\u001B[0m\u001B[0;34m.\u001B[0m\u001B[0mio\u001B[0m\u001B[0;34m.\u001B[0m\u001B[0mformats\u001B[0m\u001B[0;34m.\u001B[0m\u001B[0mhtml\u001B[0m\u001B[0;34m.\u001B[0m\u001B[0mHTMLFormatter\u001B[0m\u001B[0;34m.\u001B[0m\u001B[0m_write_cell\u001B[0m \u001B[0;34m=\u001B[0m \u001B[0m_patched_HTMLFormatter_write_cell\u001B[0m\u001B[0;34m\u001B[0m\u001B[0;34m\u001B[0m\u001B[0m\n\u001B[0;32m--> 201\u001B[0;31m   \u001B[0mdefPandasGetAdjustment\u001B[0m \u001B[0;34m=\u001B[0m \u001B[0mpandas\u001B[0m\u001B[0;34m.\u001B[0m\u001B[0mio\u001B[0m\u001B[0;34m.\u001B[0m\u001B[0mformats\u001B[0m\u001B[0;34m.\u001B[0m\u001B[0mformat\u001B[0m\u001B[0;34m.\u001B[0m\u001B[0m_get_adjustment\u001B[0m\u001B[0;34m\u001B[0m\u001B[0;34m\u001B[0m\u001B[0m\n\u001B[0m\u001B[1;32m    202\u001B[0m   \u001B[0mpandas\u001B[0m\u001B[0;34m.\u001B[0m\u001B[0mio\u001B[0m\u001B[0;34m.\u001B[0m\u001B[0mformats\u001B[0m\u001B[0;34m.\u001B[0m\u001B[0mformat\u001B[0m\u001B[0;34m.\u001B[0m\u001B[0m_get_adjustment\u001B[0m \u001B[0;34m=\u001B[0m \u001B[0m_patched_get_adjustment\u001B[0m\u001B[0;34m\u001B[0m\u001B[0;34m\u001B[0m\u001B[0m\n\u001B[1;32m    203\u001B[0m   \u001B[0mres\u001B[0m \u001B[0;34m=\u001B[0m \u001B[0mdefPandasRepr\u001B[0m\u001B[0;34m(\u001B[0m\u001B[0mself\u001B[0m\u001B[0;34m,\u001B[0m \u001B[0;34m**\u001B[0m\u001B[0mkwargs\u001B[0m\u001B[0;34m)\u001B[0m\u001B[0;34m\u001B[0m\u001B[0;34m\u001B[0m\u001B[0m\n",
      "\u001B[0;31mAttributeError\u001B[0m: module 'pandas.io.formats.format' has no attribute '_get_adjustment'"
     ]
    },
    {
     "data": {
      "text/plain": "        0         1         2         3         4         5         6    \\\n0 -0.229804 -0.700378 -0.229804 -0.490113  0.400245 -0.844430 -0.945733   \n1 -0.289638 -0.294427 -0.289638  0.485646  0.362171 -1.039932 -0.961257   \n2 -0.196264 -0.003103 -0.196264  0.402070  0.944074 -0.321673 -0.318295   \n3 -0.191039 -0.115072 -0.191039  0.457694  0.759743 -0.321673 -0.318295   \n4 -0.149571  0.202131 -0.149571  0.290525  0.861595 -0.014158  0.003185   \n\n        7         8    9    ...  198  199  200  201  202  203  204      205  \\\n0 -0.839924 -0.427852  0.0  ...  0.0  0.0  0.0  0.0  0.0  0.0  0.0 -0.27735   \n1 -1.048096 -1.365407  0.0  ...  0.0  0.0  0.0  0.0  0.0  0.0  0.0 -0.27735   \n2 -0.326432 -0.427852  0.0  ...  0.0  0.0  0.0  0.0  0.0  0.0  0.0 -0.27735   \n3 -0.326432 -0.427852  0.0  ...  0.0  0.0  0.0  0.0  0.0  0.0  0.0 -0.27735   \n4 -0.017492 -0.115334  0.0  ...  0.0  0.0  0.0  0.0  0.0  0.0  0.0 -0.27735   \n\n   206  207  \n0  0.0  0.0  \n1  0.0  0.0  \n2  0.0  0.0  \n3  0.0  0.0  \n4  0.0  0.0  \n\n[5 rows x 208 columns]"
     },
     "execution_count": 6,
     "metadata": {},
     "output_type": "execute_result"
    }
   ],
   "source": [
    "from sklearn.preprocessing import StandardScaler\n",
    "\n",
    "scaler = StandardScaler()\n",
    "\n",
    "desc_frame_std = pd.DataFrame(scaler.fit_transform(desc_frame))\n",
    "\n",
    "desc_frame_std.head()"
   ]
  },
  {
   "cell_type": "markdown",
   "metadata": {},
   "source": [
    "#### QSAR Modeling\n",
    "\n",
    "Machine learning (ML)\n",
    "ML text is adapted from the `sckit-learn` documentation [here](https://scikit-learn.org/stable/).  More information about the algorithms can be found on thier respective documentation pages. \n",
    "\n",
    "Classification: Identify which category an object belongs to (e.g. Active/Inactive bioassay respones, Toxic/non-toxic in humans)  \n",
    "Regression: Prediction of a continuous-values attribute associated with an object (e.g., $\\mu$m, AC$_50$ respones in bioassays)\n",
    "\n",
    "A learning algorithm creates rules by finding patterns in the training data.\n",
    "\n",
    "* Random Forest (RF): Ensemble of decision trees. A single decision tree splits the features of the input vector in a way that maximizes an objective function. In the random forest algorithm, the trees that are grown are de-correlated because the choice of features for the splits are chosen randomly.\n",
    "* Support Vector Machines (SVMs): SVMs can efficiently perform a non-linear classification using what is called the kernel trick, implicitly mapping their inputs into high-dimensional feature spaces. The classifier is based on the idea of maximizing the margin as the objective function.\n",
    "* Artificial neural networks (ANNs): An ANN is based on a collection of connected units or nodes called artificial neurons which loosely model the neurons in a biological brain. Each connection, like the synapses in a biological brain, can transmit a signal from one artificial neuron to another. An artificial neuron that receives a signal can process it and then signal additional artificial neurons connected to it.\n",
    "* k-Nearest Neighbors (kNNs): A kNN predicts from a simple majority vote of the nearest neighbors of each point: a query point is assigned the data class which has the most representatives within the nearest neighbors found in the training set.\n",
    "\n",
    "Most algorithms can be used as bother classiers and regressors, however, there are certain algorithms that are not.  The four mentioned above that we will use in this lab are applicable for both.  Scikit-learn has seperate modules for classification and regression.  Therefore, if we want to use SVM for classification, we have to import it a seperate object from SVM for regression. \n",
    "\n",
    "To simulate \"real-world\" scenarios and to ensures your models are not overfit it is best practice to seperate the compounds being used for QSAR into __training__, __validation__, and __test__ sets.  Training and validation sets are used for tuning the model parameters and finding patterns.  The test set is then used to evaluate the model's accuracy at predicting \"new\" or \"unseen\" data. "
   ]
  },
  {
   "cell_type": "markdown",
   "metadata": {},
   "source": [
    "#### Data Preperation\n",
    "\n",
    "First we split the data into training and set sets (a portain of the training set will be used as a validation set later).  Typically the QSAR table will consists of an `X` matrix consisting of predictor variables, which in our cases are molecular descriptors and is of the shape (N, M), where N is the number of compounds and M is the number of descriptors.  The second matix `y`,  consits of the values to be predicted, e.g., the classifications of bioassay calls or AC$_{50}$ values, in the case of classification and regression, respectively.  \n",
    "\n",
    "First we prepare these two matrices.  "
   ]
  },
  {
   "cell_type": "code",
   "execution_count": 9,
   "metadata": {},
   "outputs": [
    {
     "name": "stdout",
     "output_type": "stream",
     "text": [
      "(42, 208)\n",
      "(42,)\n"
     ]
    }
   ],
   "source": [
    "X = desc_frame_std.copy()\n",
    "y = df['Bio_Activity'].astype(float)\n",
    "\n",
    "print(X.shape)\n",
    "print(y.shape)"
   ]
  },
  {
   "cell_type": "markdown",
   "metadata": {},
   "source": [
    "It is usually good practice to visualize the data in which you are trying to learn. "
   ]
  },
  {
   "cell_type": "code",
   "execution_count": 10,
   "metadata": {},
   "outputs": [],
   "source": [
    "%matplotlib inline"
   ]
  },
  {
   "cell_type": "code",
   "execution_count": 11,
   "metadata": {},
   "outputs": [
    {
     "data": {
      "text/plain": "<AxesSubplot:>"
     },
     "execution_count": 11,
     "metadata": {},
     "output_type": "execute_result"
    },
    {
     "data": {
      "text/plain": "<Figure size 1000x500 with 1 Axes>",
      "image/png": "[encoded data removed]"
     },
     "metadata": {},
     "output_type": "display_data"
    }
   ],
   "source": [
    "ax = y.hist(bins=10, edgecolor='k', lw=4, facecolor=(1, 0, 0, 1), figsize=(10,5), xrot=90, density=True, label='distribution')\n",
    "y.hist(cumulative=True, density=1, bins=10, label='cumulative', zorder=0, facecolor=(0.8, 0.8, 0.8, 0.4), edgecolor='k', lw=2, figsize=(10,5))\n",
    "ax.axhline(0.5, ls='--', c='k')\n",
    "ax.legend()\n",
    "ax"
   ]
  },
  {
   "cell_type": "markdown",
   "metadata": {},
   "source": [
    "The data is somehwat uniformly distribution  from around -3.5 log to around 0.5.  At around -1.5 marks about half of the dataset.  So we can called compounds < -1.5 active and those greater inacitve.  \n",
    "\n",
    "Typically we encode these are 0 and 1."
   ]
  },
  {
   "cell_type": "markdown",
   "metadata": {},
   "source": [
    "#### Classification"
   ]
  },
  {
   "cell_type": "code",
   "execution_count": 12,
   "metadata": {},
   "outputs": [
    {
     "name": "stdout",
     "output_type": "stream",
     "text": [
      "There are 45.24% active molecules in the dataset now.\n"
     ]
    }
   ],
   "source": [
    "y_binary = y.copy()\n",
    "y_binary[y < -1.5] = 1\n",
    "y_binary[y >= -1.5] = 0\n",
    "\n",
    "print(\"There are {:.2f}% active molecules in the dataset now.\".format(y_binary.sum() / y.shape[0] * 100))"
   ]
  },
  {
   "cell_type": "markdown",
   "metadata": {},
   "source": [
    "The `train_test_split` function from `scikitlearn` splits our data to a provide test set size.  Here, we'll leave out 20% of our compounds as a test set.  "
   ]
  },
  {
   "cell_type": "code",
   "execution_count": 13,
   "metadata": {},
   "outputs": [],
   "source": [
    "from sklearn.model_selection import KFold, train_test_split\n",
    "SEED = 2008\n",
    "\n",
    "#X_train, X_test, y_train, y_test = train_test_split(X, y_binary, test_size=0, random_state=SEED)\n",
    "X_train, y_train = X.copy(), y_binary.copy()"
   ]
  },
  {
   "cell_type": "markdown",
   "metadata": {},
   "source": [
    "Get the algorithms from `scikit-learn`."
   ]
  },
  {
   "cell_type": "code",
   "execution_count": 14,
   "metadata": {},
   "outputs": [],
   "source": [
    "from sklearn.neighbors import KNeighborsClassifier\n",
    "from sklearn.ensemble import RandomForestClassifier\n",
    "\n",
    "# RF\n",
    "model_RF = RandomForestClassifier(n_estimators=100)\n",
    "\n",
    "#knn\n",
    "model_KNN = KNeighborsClassifier(n_neighbors=3, metric='jaccard')\n",
    "\n",
    "models = {\n",
    "    \"rf\": model_RF,\n",
    "    \"knn\": model_KNN\n",
    "}\n"
   ]
  },
  {
   "cell_type": "code",
   "execution_count": 15,
   "metadata": {},
   "outputs": [
    {
     "name": "stdout",
     "output_type": "stream",
     "text": [
      "Training on rf\n",
      "Mean accuracy: 0.64 \tand std : 0.06 \n",
      "Mean sensitivity: 0.64 \tand std : 0.22 \n",
      "Mean specificity: 0.74 \tand std : 0.19 \n",
      "Mean AUC: 0.77 \tand std : 0.04 \n",
      "Time taken : 0.28s\n",
      "\n",
      "Training on knn\n",
      "Mean accuracy: 0.55 \tand std : 0.13 \n",
      "Mean sensitivity: 0.00 \tand std : 0.00 \n",
      "Mean specificity: 1.00 \tand std : 0.00 \n",
      "Mean AUC: 0.50 \tand std : 0.00 \n",
      "Time taken : 0.03s\n",
      "\n"
     ]
    },
    {
     "name": "stderr",
     "output_type": "stream",
     "text": [
      "/Users/russod/opt/anaconda3/envs/intro-chem/lib/python3.7/site-packages/sklearn/metrics/pairwise.py:1870: DataConversionWarning: Data was converted to boolean for metric jaccard\n",
      "  warnings.warn(msg, DataConversionWarning)\n",
      "/Users/russod/opt/anaconda3/envs/intro-chem/lib/python3.7/site-packages/sklearn/metrics/pairwise.py:1870: DataConversionWarning: Data was converted to boolean for metric jaccard\n",
      "  warnings.warn(msg, DataConversionWarning)\n",
      "/Users/russod/opt/anaconda3/envs/intro-chem/lib/python3.7/site-packages/sklearn/metrics/pairwise.py:1870: DataConversionWarning: Data was converted to boolean for metric jaccard\n",
      "  warnings.warn(msg, DataConversionWarning)\n",
      "/Users/russod/opt/anaconda3/envs/intro-chem/lib/python3.7/site-packages/sklearn/metrics/pairwise.py:1870: DataConversionWarning: Data was converted to boolean for metric jaccard\n",
      "  warnings.warn(msg, DataConversionWarning)\n",
      "/Users/russod/opt/anaconda3/envs/intro-chem/lib/python3.7/site-packages/sklearn/metrics/pairwise.py:1870: DataConversionWarning: Data was converted to boolean for metric jaccard\n",
      "  warnings.warn(msg, DataConversionWarning)\n",
      "/Users/russod/opt/anaconda3/envs/intro-chem/lib/python3.7/site-packages/sklearn/metrics/pairwise.py:1870: DataConversionWarning: Data was converted to boolean for metric jaccard\n",
      "  warnings.warn(msg, DataConversionWarning)\n"
     ]
    }
   ],
   "source": [
    "import time\n",
    "from sklearn.metrics import accuracy_score, recall_score, roc_auc_score\n",
    "from sklearn import clone\n",
    "import numpy as np\n",
    "\n",
    "N_FOLDS = 3\n",
    "\n",
    "for name, ml_model in models.items():\n",
    "    print(\"Training on\", name)\n",
    "    t0 = time.time()\n",
    "    # Shuffle the indices for the k-fold cross-validation\n",
    "    kf = KFold(n_splits=N_FOLDS, shuffle=True, random_state=SEED)\n",
    "\n",
    "    # Results for each of the cross-validation folds\n",
    "    acc_per_fold = []\n",
    "    sens_per_fold = []\n",
    "    spec_per_fold = []\n",
    "    auc_per_fold = []\n",
    "\n",
    "    # Loop over the folds\n",
    "    for train_index, test_index in kf.split(X_train):\n",
    "        # clone model -- we want a fresh copy per fold!\n",
    "        fold_model = clone(ml_model)\n",
    "        # Training\n",
    "\n",
    "        # Convert the fingerprint and the label to a list\n",
    "        train_x = X_train.iloc[train_index]\n",
    "        train_y = y_train.iloc[train_index]\n",
    "\n",
    "        # Fit the model\n",
    "        fold_model.fit(train_x, train_y)\n",
    "\n",
    "        # Testing\n",
    "\n",
    "        test_x = X_train.iloc[test_index]\n",
    "        test_y = y_train.iloc[test_index]\n",
    "        \n",
    "        predicted_y = fold_model.predict(test_x)\n",
    "        prob_y = fold_model.predict_proba(test_x)[:, 1]\n",
    "        \n",
    "        accuracy = accuracy_score(test_y, predicted_y)\n",
    "        sens = recall_score(test_y, predicted_y)\n",
    "        spec = recall_score(test_y, predicted_y, pos_label=0)\n",
    "        auc = roc_auc_score(test_y, prob_y)\n",
    "\n",
    "        # Save results\n",
    "        acc_per_fold.append(accuracy)\n",
    "        sens_per_fold.append(sens)\n",
    "        spec_per_fold.append(spec)\n",
    "        auc_per_fold.append(auc)\n",
    "\n",
    "    # Print statistics of results\n",
    "    print(\n",
    "        f\"Mean accuracy: {np.mean(acc_per_fold):.2f} \\t\"\n",
    "        f\"and std : {np.std(acc_per_fold):.2f} \\n\"\n",
    "        f\"Mean sensitivity: {np.mean(sens_per_fold):.2f} \\t\"\n",
    "        f\"and std : {np.std(sens_per_fold):.2f} \\n\"\n",
    "        f\"Mean specificity: {np.mean(spec_per_fold):.2f} \\t\"\n",
    "        f\"and std : {np.std(spec_per_fold):.2f} \\n\"\n",
    "        f\"Mean AUC: {np.mean(auc_per_fold):.2f} \\t\"\n",
    "        f\"and std : {np.std(auc_per_fold):.2f} \\n\"\n",
    "        f\"Time taken : {time.time() - t0:.2f}s\\n\"\n",
    "    )\n"
   ]
  },
  {
   "cell_type": "markdown",
   "metadata": {},
   "source": [
    "#### Regression\n",
    "\n",
    "For regression, we can use the same approach, but we need to change our `y` training vector to be the true continious values. \n",
    "\n",
    "Most of the algorithms in `sckit-learn` have both a `Classifer` and a `Regressor` interface.  Here we'll import the `Regressors`."
   ]
  },
  {
   "cell_type": "code",
   "execution_count": 14,
   "metadata": {},
   "outputs": [],
   "source": [
    "X_train, y_train = X.copy(), y.copy()"
   ]
  },
  {
   "cell_type": "code",
   "execution_count": 15,
   "metadata": {},
   "outputs": [],
   "source": [
    "from sklearn.neighbors import KNeighborsRegressor\n",
    "from sklearn.svm import SVR\n",
    "from sklearn.neural_network import MLPRegressor\n",
    "from sklearn.ensemble import RandomForestRegressor\n",
    "\n",
    "# ANN\n",
    "model_ANN = MLPRegressor(hidden_layer_sizes=(5, 3), random_state=SEED)\n",
    "\n",
    "# SVM\n",
    "model_SVM = SVR(kernel=\"rbf\", C=1, gamma=0.1)\n",
    "\n",
    "# RF\n",
    "model_RF = RandomForestRegressor(n_estimators=100)\n",
    "\n",
    "#knn\n",
    "model_KNN = KNeighborsRegressor(n_neighbors=3, metric='jaccard')\n",
    "\n",
    "\n",
    "models = {\n",
    "    \"rf\": model_RF,\n",
    "    \"svm\": model_SVM,\n",
    "    \"ann\": model_ANN,\n",
    "    \"knn\": model_KNN\n",
    "}\n"
   ]
  },
  {
   "cell_type": "markdown",
   "metadata": {},
   "source": [
    "The metrics used to evaluate classication models are not the same as those used for evaluating regression models.  Typically, there are two metrics __r$^2$__ and the __mean absolute error (MAE)__."
   ]
  },
  {
   "cell_type": "code",
   "execution_count": 16,
   "metadata": {},
   "outputs": [
    {
     "name": "stdout",
     "output_type": "stream",
     "text": [
      "Training on rf\n",
      "Mean r2: 0.42 \tand std : 0.04 \n",
      "Mean mae: 0.63 \tand std : 0.06 \n",
      "Time taken : 0.64s\n",
      "\n",
      "Training on svm\n",
      "Mean r2: -0.36 \tand std : 0.26 \n",
      "Mean mae: 1.04 \tand std : 0.10 \n",
      "Time taken : 0.03s\n",
      "\n",
      "Training on ann\n"
     ]
    },
    {
     "name": "stderr",
     "output_type": "stream",
     "text": [
      "/opt/anaconda3/envs/intro-chem/lib/python3.7/site-packages/sklearn/neural_network/_multilayer_perceptron.py:696: ConvergenceWarning: Stochastic Optimizer: Maximum iterations (200) reached and the optimization hasn't converged yet.\n",
      "  ConvergenceWarning,\n",
      "/opt/anaconda3/envs/intro-chem/lib/python3.7/site-packages/sklearn/neural_network/_multilayer_perceptron.py:696: ConvergenceWarning: Stochastic Optimizer: Maximum iterations (200) reached and the optimization hasn't converged yet.\n",
      "  ConvergenceWarning,\n"
     ]
    },
    {
     "name": "stdout",
     "output_type": "stream",
     "text": [
      "Mean r2: 0.14 \tand std : 0.24 \n",
      "Mean mae: 0.82 \tand std : 0.09 \n",
      "Time taken : 0.51s\n",
      "\n",
      "Training on knn\n",
      "Mean r2: -0.76 \tand std : 0.83 \n",
      "Mean mae: 1.16 \tand std : 0.31 \n",
      "Time taken : 0.08s\n",
      "\n"
     ]
    },
    {
     "name": "stderr",
     "output_type": "stream",
     "text": [
      "/opt/anaconda3/envs/intro-chem/lib/python3.7/site-packages/sklearn/neural_network/_multilayer_perceptron.py:696: ConvergenceWarning: Stochastic Optimizer: Maximum iterations (200) reached and the optimization hasn't converged yet.\n",
      "  ConvergenceWarning,\n",
      "/opt/anaconda3/envs/intro-chem/lib/python3.7/site-packages/sklearn/metrics/pairwise.py:1870: DataConversionWarning: Data was converted to boolean for metric jaccard\n",
      "  warnings.warn(msg, DataConversionWarning)\n",
      "/opt/anaconda3/envs/intro-chem/lib/python3.7/site-packages/sklearn/metrics/pairwise.py:1870: DataConversionWarning: Data was converted to boolean for metric jaccard\n",
      "  warnings.warn(msg, DataConversionWarning)\n",
      "/opt/anaconda3/envs/intro-chem/lib/python3.7/site-packages/sklearn/metrics/pairwise.py:1870: DataConversionWarning: Data was converted to boolean for metric jaccard\n",
      "  warnings.warn(msg, DataConversionWarning)\n"
     ]
    }
   ],
   "source": [
    "import time\n",
    "from sklearn.metrics import mean_absolute_error, r2_score\n",
    "from sklearn import clone\n",
    "import numpy as np\n",
    "\n",
    "N_FOLDS = 3\n",
    "\n",
    "for name, ml_model in models.items():\n",
    "    print(\"Training on\", name)\n",
    "    t0 = time.time()\n",
    "    # Shuffle the indices for the k-fold cross-validation\n",
    "    kf = KFold(n_splits=N_FOLDS, shuffle=True, random_state=SEED)\n",
    "\n",
    "    # Results for each of the cross-validation folds\n",
    "    r2_per_fold = []\n",
    "    mae_per_fold = []\n",
    "\n",
    "    # Loop over the folds\n",
    "    for train_index, test_index in kf.split(X_train):\n",
    "        # clone model -- we want a fresh copy per fold!\n",
    "        fold_model = clone(ml_model)\n",
    "        # Training\n",
    "\n",
    "        # Convert the fingerprint and the label to a list\n",
    "        train_x = X_train.iloc[train_index]\n",
    "        train_y = y_train.iloc[train_index]\n",
    "\n",
    "        # Fit the model\n",
    "        fold_model.fit(train_x, train_y)\n",
    "\n",
    "        # Testing\n",
    "\n",
    "        test_x = X_train.iloc[test_index]\n",
    "        test_y = y_train.iloc[test_index]\n",
    "        \n",
    "        predicted_y = fold_model.predict(test_x)\n",
    "\n",
    "        \n",
    "        r2 = r2_score(test_y, predicted_y)\n",
    "        mae = mean_absolute_error(test_y, predicted_y)\n",
    "\n",
    "        r2_per_fold.append(r2)\n",
    "        mae_per_fold.append(mae)\n",
    "\n",
    "    # Print statistics of results\n",
    "    print(\n",
    "        f\"Mean r2: {np.mean(r2_per_fold):.2f} \\t\"\n",
    "        f\"and std : {np.std(r2_per_fold):.2f} \\n\"\n",
    "        f\"Mean mae: {np.mean(mae_per_fold):.2f} \\t\"\n",
    "        f\"and std : {np.std(mae_per_fold):.2f} \\n\"\n",
    "        f\"Time taken : {time.time() - t0:.2f}s\\n\"\n",
    "    )\n"
   ]
  },
  {
   "cell_type": "code",
   "execution_count": null,
   "metadata": {},
   "outputs": [],
   "source": []
  },
  {
   "cell_type": "code",
   "execution_count": null,
   "metadata": {},
   "outputs": [],
   "source": []
  }
 ],
 "metadata": {
  "kernelspec": {
   "display_name": "Python 3 (ipykernel)",
   "language": "python",
   "name": "python3"
  },
  "language_info": {
   "codemirror_mode": {
    "name": "ipython",
    "version": 3
   },
   "file_extension": ".py",
   "mimetype": "text/x-python",
   "name": "python",
   "nbconvert_exporter": "python",
   "pygments_lexer": "ipython3",
   "version": "3.7.11"
  },
  "widgets": {
   "application/vnd.jupyter.widget-state+json": {
    "state": {},
    "version_major": 2,
    "version_minor": 0
   }
  }
 },
 "nbformat": 4,
 "nbformat_minor": 4
}
