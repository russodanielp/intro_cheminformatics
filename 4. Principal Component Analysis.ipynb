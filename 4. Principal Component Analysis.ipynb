{
 "cells": [
  {
   "cell_type": "code",
   "execution_count": 1,
   "metadata": {
    "collapsed": true
   },
   "outputs": [],
   "source": [
    "import os \n",
    "\n",
    "acute_tox_dir = os.getenv('NICEATM_ACUTE_ORAL')"
   ]
  },
  {
   "cell_type": "code",
   "execution_count": 3,
   "metadata": {},
   "outputs": [],
   "source": [
    "from rdkit import Chem"
   ]
  },
  {
   "cell_type": "code",
   "execution_count": 5,
   "metadata": {
    "collapsed": true
   },
   "outputs": [],
   "source": [
    "training_set = Chem.SDMolSupplier(acute_tox_dir + '/trainingset.sdf')"
   ]
  },
  {
   "cell_type": "code",
   "execution_count": 19,
   "metadata": {},
   "outputs": [],
   "source": [
    "training_set = [mol for mol in training_set if mol is not None]"
   ]
  },
  {
   "cell_type": "code",
   "execution_count": 23,
   "metadata": {},
   "outputs": [],
   "source": [
    "properties = list(training_set[0].GetPropNames())"
   ]
  },
  {
   "cell_type": "code",
   "execution_count": 35,
   "metadata": {},
   "outputs": [
    {
     "data": {
      "text/plain": [
       "['CASRN',\n",
       " 'DTXSID',\n",
       " 'Name',\n",
       " 'Structure_Source',\n",
       " 'Canonical_QSARr',\n",
       " 'Salt_Solvent',\n",
       " 'InChI_Code_QSARr',\n",
       " 'InChI Key_QSARr',\n",
       " 'LD50_mgkg',\n",
       " 'EPA_category',\n",
       " 'GHS_category',\n",
       " 'very_toxic',\n",
       " 'nontoxic']"
      ]
     },
     "execution_count": 35,
     "metadata": {},
     "output_type": "execute_result"
    }
   ],
   "source": [
    "properties"
   ]
  },
  {
   "cell_type": "code",
   "execution_count": 26,
   "metadata": {
    "collapsed": true
   },
   "outputs": [],
   "source": [
    "from rdkit.ML.Descriptors import MoleculeDescriptors\n",
    "from rdkit.Chem import Descriptors"
   ]
  },
  {
   "cell_type": "code",
   "execution_count": 28,
   "metadata": {
    "collapsed": true
   },
   "outputs": [],
   "source": [
    "calc = MoleculeDescriptors.MolecularDescriptorCalculator([desc[0] for desc in Descriptors.descList])"
   ]
  },
  {
   "cell_type": "code",
   "execution_count": 31,
   "metadata": {},
   "outputs": [],
   "source": [
    "import pandas as pd"
   ]
  },
  {
   "cell_type": "code",
   "execution_count": 32,
   "metadata": {},
   "outputs": [],
   "source": [
    "desc_matrix = [list(calc.CalcDescriptors(mol)) for mol in training_set]"
   ]
  },
  {
   "cell_type": "code",
   "execution_count": 37,
   "metadata": {
    "scrolled": false
   },
   "outputs": [],
   "source": [
    "descriptors = pd.DataFrame(desc_matrix, \n",
    "                           index=[mol.GetProp('CASRN') for mol in training_set],\n",
    "                           columns=[desc[0] for desc in Descriptors.descList])"
   ]
  },
  {
   "cell_type": "code",
   "execution_count": 41,
   "metadata": {},
   "outputs": [
    {
     "data": {
      "text/html": [
       "<div>\n",
       "<style>\n",
       "    .dataframe thead tr:only-child th {\n",
       "        text-align: right;\n",
       "    }\n",
       "\n",
       "    .dataframe thead th {\n",
       "        text-align: left;\n",
       "    }\n",
       "\n",
       "    .dataframe tbody tr th {\n",
       "        vertical-align: top;\n",
       "    }\n",
       "</style>\n",
       "<table border=\"1\" class=\"dataframe\">\n",
       "  <thead>\n",
       "    <tr style=\"text-align: right;\">\n",
       "      <th></th>\n",
       "      <th>MaxEStateIndex</th>\n",
       "      <th>MinEStateIndex</th>\n",
       "      <th>MaxAbsEStateIndex</th>\n",
       "      <th>MinAbsEStateIndex</th>\n",
       "      <th>qed</th>\n",
       "      <th>MolWt</th>\n",
       "      <th>HeavyAtomMolWt</th>\n",
       "      <th>ExactMolWt</th>\n",
       "      <th>NumValenceElectrons</th>\n",
       "      <th>NumRadicalElectrons</th>\n",
       "      <th>...</th>\n",
       "      <th>fr_sulfide</th>\n",
       "      <th>fr_sulfonamd</th>\n",
       "      <th>fr_sulfone</th>\n",
       "      <th>fr_term_acetylene</th>\n",
       "      <th>fr_tetrazole</th>\n",
       "      <th>fr_thiazole</th>\n",
       "      <th>fr_thiocyan</th>\n",
       "      <th>fr_thiophene</th>\n",
       "      <th>fr_unbrch_alkane</th>\n",
       "      <th>fr_urea</th>\n",
       "    </tr>\n",
       "  </thead>\n",
       "  <tbody>\n",
       "    <tr>\n",
       "      <th>5894-60-0</th>\n",
       "      <td>5.853844</td>\n",
       "      <td>-2.343297</td>\n",
       "      <td>5.853844</td>\n",
       "      <td>0.829065</td>\n",
       "      <td>0.157160</td>\n",
       "      <td>359.885</td>\n",
       "      <td>326.621</td>\n",
       "      <td>358.141711</td>\n",
       "      <td>122</td>\n",
       "      <td>0</td>\n",
       "      <td>...</td>\n",
       "      <td>0</td>\n",
       "      <td>0</td>\n",
       "      <td>0</td>\n",
       "      <td>0</td>\n",
       "      <td>0</td>\n",
       "      <td>0</td>\n",
       "      <td>0</td>\n",
       "      <td>0</td>\n",
       "      <td>12</td>\n",
       "      <td>0</td>\n",
       "    </tr>\n",
       "    <tr>\n",
       "      <th>101-20-2</th>\n",
       "      <td>11.731737</td>\n",
       "      <td>-0.374341</td>\n",
       "      <td>11.731737</td>\n",
       "      <td>0.374341</td>\n",
       "      <td>0.776346</td>\n",
       "      <td>315.587</td>\n",
       "      <td>306.515</td>\n",
       "      <td>313.978046</td>\n",
       "      <td>98</td>\n",
       "      <td>0</td>\n",
       "      <td>...</td>\n",
       "      <td>0</td>\n",
       "      <td>0</td>\n",
       "      <td>0</td>\n",
       "      <td>0</td>\n",
       "      <td>0</td>\n",
       "      <td>0</td>\n",
       "      <td>0</td>\n",
       "      <td>0</td>\n",
       "      <td>0</td>\n",
       "      <td>1</td>\n",
       "    </tr>\n",
       "    <tr>\n",
       "      <th>112-05-0</th>\n",
       "      <td>10.088167</td>\n",
       "      <td>-0.666212</td>\n",
       "      <td>10.088167</td>\n",
       "      <td>0.339410</td>\n",
       "      <td>0.578320</td>\n",
       "      <td>158.241</td>\n",
       "      <td>140.097</td>\n",
       "      <td>158.130680</td>\n",
       "      <td>66</td>\n",
       "      <td>0</td>\n",
       "      <td>...</td>\n",
       "      <td>0</td>\n",
       "      <td>0</td>\n",
       "      <td>0</td>\n",
       "      <td>0</td>\n",
       "      <td>0</td>\n",
       "      <td>0</td>\n",
       "      <td>0</td>\n",
       "      <td>0</td>\n",
       "      <td>4</td>\n",
       "      <td>0</td>\n",
       "    </tr>\n",
       "    <tr>\n",
       "      <th>11077-03-5</th>\n",
       "      <td>12.767929</td>\n",
       "      <td>-2.654885</td>\n",
       "      <td>12.767929</td>\n",
       "      <td>0.030319</td>\n",
       "      <td>0.011637</td>\n",
       "      <td>2680.170</td>\n",
       "      <td>2455.386</td>\n",
       "      <td>2678.479594</td>\n",
       "      <td>1078</td>\n",
       "      <td>0</td>\n",
       "      <td>...</td>\n",
       "      <td>0</td>\n",
       "      <td>0</td>\n",
       "      <td>0</td>\n",
       "      <td>0</td>\n",
       "      <td>0</td>\n",
       "      <td>0</td>\n",
       "      <td>0</td>\n",
       "      <td>0</td>\n",
       "      <td>7</td>\n",
       "      <td>0</td>\n",
       "    </tr>\n",
       "    <tr>\n",
       "      <th>3385-03-3</th>\n",
       "      <td>15.445723</td>\n",
       "      <td>-1.371957</td>\n",
       "      <td>15.445723</td>\n",
       "      <td>0.124858</td>\n",
       "      <td>0.692771</td>\n",
       "      <td>434.504</td>\n",
       "      <td>403.256</td>\n",
       "      <td>434.210467</td>\n",
       "      <td>170</td>\n",
       "      <td>0</td>\n",
       "      <td>...</td>\n",
       "      <td>0</td>\n",
       "      <td>0</td>\n",
       "      <td>0</td>\n",
       "      <td>0</td>\n",
       "      <td>0</td>\n",
       "      <td>0</td>\n",
       "      <td>0</td>\n",
       "      <td>0</td>\n",
       "      <td>0</td>\n",
       "      <td>0</td>\n",
       "    </tr>\n",
       "  </tbody>\n",
       "</table>\n",
       "<p>5 rows × 200 columns</p>\n",
       "</div>"
      ],
      "text/plain": [
       "            MaxEStateIndex  MinEStateIndex  MaxAbsEStateIndex  \\\n",
       "5894-60-0         5.853844       -2.343297           5.853844   \n",
       "101-20-2         11.731737       -0.374341          11.731737   \n",
       "112-05-0         10.088167       -0.666212          10.088167   \n",
       "11077-03-5       12.767929       -2.654885          12.767929   \n",
       "3385-03-3        15.445723       -1.371957          15.445723   \n",
       "\n",
       "            MinAbsEStateIndex       qed     MolWt  HeavyAtomMolWt  \\\n",
       "5894-60-0            0.829065  0.157160   359.885         326.621   \n",
       "101-20-2             0.374341  0.776346   315.587         306.515   \n",
       "112-05-0             0.339410  0.578320   158.241         140.097   \n",
       "11077-03-5           0.030319  0.011637  2680.170        2455.386   \n",
       "3385-03-3            0.124858  0.692771   434.504         403.256   \n",
       "\n",
       "             ExactMolWt  NumValenceElectrons  NumRadicalElectrons   ...     \\\n",
       "5894-60-0    358.141711                  122                    0   ...      \n",
       "101-20-2     313.978046                   98                    0   ...      \n",
       "112-05-0     158.130680                   66                    0   ...      \n",
       "11077-03-5  2678.479594                 1078                    0   ...      \n",
       "3385-03-3    434.210467                  170                    0   ...      \n",
       "\n",
       "            fr_sulfide  fr_sulfonamd  fr_sulfone  fr_term_acetylene  \\\n",
       "5894-60-0            0             0           0                  0   \n",
       "101-20-2             0             0           0                  0   \n",
       "112-05-0             0             0           0                  0   \n",
       "11077-03-5           0             0           0                  0   \n",
       "3385-03-3            0             0           0                  0   \n",
       "\n",
       "            fr_tetrazole  fr_thiazole  fr_thiocyan  fr_thiophene  \\\n",
       "5894-60-0              0            0            0             0   \n",
       "101-20-2               0            0            0             0   \n",
       "112-05-0               0            0            0             0   \n",
       "11077-03-5             0            0            0             0   \n",
       "3385-03-3              0            0            0             0   \n",
       "\n",
       "            fr_unbrch_alkane  fr_urea  \n",
       "5894-60-0                 12        0  \n",
       "101-20-2                   0        1  \n",
       "112-05-0                   4        0  \n",
       "11077-03-5                 7        0  \n",
       "3385-03-3                  0        0  \n",
       "\n",
       "[5 rows x 200 columns]"
      ]
     },
     "execution_count": 41,
     "metadata": {},
     "output_type": "execute_result"
    }
   ],
   "source": [
    "descriptors.head()"
   ]
  },
  {
   "cell_type": "code",
   "execution_count": 45,
   "metadata": {
    "collapsed": true
   },
   "outputs": [],
   "source": [
    "from sklearn.preprocessing import scale"
   ]
  },
  {
   "cell_type": "code",
   "execution_count": 59,
   "metadata": {},
   "outputs": [],
   "source": [
    "descriptors = descriptors.loc[:, ~descriptors.isnull().any()]"
   ]
  },
  {
   "cell_type": "code",
   "execution_count": 69,
   "metadata": {},
   "outputs": [
    {
     "name": "stderr",
     "output_type": "stream",
     "text": [
      "C:\\Users\\Daniel\\Anaconda3\\envs\\cheminf\\lib\\site-packages\\numpy\\core\\_methods.py:116: RuntimeWarning: overflow encountered in multiply\n",
      "  x = um.multiply(x, x, out=x)\n",
      "C:\\Users\\Daniel\\Anaconda3\\envs\\cheminf\\lib\\site-packages\\sklearn\\preprocessing\\data.py:164: UserWarning: Numerical issues were encountered when centering the data and might not be solved. Dataset may contain too large values. You may need to prescale your features.\n",
      "  warnings.warn(\"Numerical issues were encountered \"\n"
     ]
    }
   ],
   "source": [
    "descriptors_std = pd.DataFrame(scale(descriptors), index=descriptors.index, columns=descriptors.columns)"
   ]
  },
  {
   "cell_type": "code",
   "execution_count": 73,
   "metadata": {},
   "outputs": [
    {
     "data": {
      "text/plain": [
       "MaxEStateIndex       1.000056\n",
       "MinEStateIndex       1.000056\n",
       "MaxAbsEStateIndex    1.000056\n",
       "MinAbsEStateIndex    1.000056\n",
       "qed                  1.000056\n",
       "dtype: float64"
      ]
     },
     "execution_count": 73,
     "metadata": {},
     "output_type": "execute_result"
    }
   ],
   "source": [
    "descriptors_std.std().head()"
   ]
  },
  {
   "cell_type": "code",
   "execution_count": 74,
   "metadata": {
    "collapsed": true
   },
   "outputs": [],
   "source": [
    "from sklearn.decomposition import PCA"
   ]
  },
  {
   "cell_type": "code",
   "execution_count": 75,
   "metadata": {
    "collapsed": true
   },
   "outputs": [],
   "source": [
    "pca_doer = PCA(3)"
   ]
  },
  {
   "cell_type": "code",
   "execution_count": 79,
   "metadata": {},
   "outputs": [],
   "source": [
    "principal_components = pca_doer.fit_transform(descriptors_std)"
   ]
  },
  {
   "cell_type": "code",
   "execution_count": 80,
   "metadata": {},
   "outputs": [
    {
     "data": {
      "text/plain": [
       "(8987, 3)"
      ]
     },
     "execution_count": 80,
     "metadata": {},
     "output_type": "execute_result"
    }
   ],
   "source": [
    "principal_components.shape"
   ]
  },
  {
   "cell_type": "code",
   "execution_count": 110,
   "metadata": {},
   "outputs": [
    {
     "data": {
      "image/png": "[encoded data removed]",
      "text/plain": [
       "<matplotlib.figure.Figure at 0x3bba9940>"
      ]
     },
     "metadata": {},
     "output_type": "display_data"
    }
   ],
   "source": [
    "import matplotlib.pyplot as plt\n",
    "from mpl_toolkits.mplot3d import Axes3D\n",
    "fig = plt.figure()\n",
    "ax = fig.add_subplot(111, projection='3d')\n",
    "\n",
    "for pts, mol in zip(principal_components, training_set):\n",
    "    \n",
    "    toxic = mol.GetProp('very_toxic').lower()\n",
    "\n",
    "    if toxic == 'true':\n",
    "        color = 'r'\n",
    "    else:\n",
    "        color = 'g'\n",
    "    \n",
    "    ax.scatter(pts[0], pts[1], pts[2], color=color, alpha=0.4)\n",
    "    \n",
    "plt.show()"
   ]
  },
  {
   "cell_type": "code",
   "execution_count": null,
   "metadata": {
    "collapsed": true
   },
   "outputs": [],
   "source": []
  }
 ],
 "metadata": {
  "kernelspec": {
   "display_name": "Python 3",
   "language": "python",
   "name": "python3"
  },
  "language_info": {
   "codemirror_mode": {
    "name": "ipython",
    "version": 3
   },
   "file_extension": ".py",
   "mimetype": "text/x-python",
   "name": "python",
   "nbconvert_exporter": "python",
   "pygments_lexer": "ipython3",
   "version": "3.6.2"
  }
 },
 "nbformat": 4,
 "nbformat_minor": 2
}
