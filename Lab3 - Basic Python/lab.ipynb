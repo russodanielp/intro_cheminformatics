{
 "cells": [
  {
   "cell_type": "markdown",
   "metadata": {},
   "source": [
    "# Basic Python"
   ]
  },
  {
   "cell_type": "markdown",
   "metadata": {},
   "source": [
    "## Aim of this lab\n",
    "\n",
    "To learn the basics of Python Programming.  "
   ]
  },
  {
   "cell_type": "markdown",
   "metadata": {},
   "source": [
    "### Objectives\n",
    "\n",
    "* Learn the fundamentals of Programming and Python\n",
    "* Learn what a library is and what you can use them for..\n",
    "* Learn how to \"import\" a Python library and use the things it contains.\n",
    "* Learn to read tabular data from a file into a Python program.\n",
    "* Learn how to assign data values to variables.\n",
    "* Learn how to select individual values and subsections from data.\n",
    "* Learn how to perform operations on \"arrays\" of data.\n",
    "* Learn how to display simple graphs from data."
   ]
  },
  {
   "cell_type": "markdown",
   "metadata": {},
   "source": [
    "### Python programming"
   ]
  },
  {
   "cell_type": "markdown",
   "metadata": {},
   "source": [
    "## What is a Python Library? ##\n",
    "\n",
    "* Code is resuable -- Many times simple progammatic tasks have been done before\n",
    "    - No need to reinvent the wheel!\n",
    "    \n",
    "* Python libraries are organized code for reusability\n",
    "    \n",
    "Code (words) ** --> **  Functions/Methods ** --> ** Objects ** --> ** Modules ** --> ** libraries\n",
    "\n",
    "## NumPy ##\n",
    "\n",
    "* Importation is easy!"
   ]
  },
  {
   "cell_type": "code",
   "execution_count": null,
   "metadata": {},
   "outputs": [],
   "source": []
  },
  {
   "cell_type": "markdown",
   "metadata": {},
   "source": [
    "Viola!  Now we have access to all the functions `numpy` has to offer.  "
   ]
  },
  {
   "cell_type": "code",
   "execution_count": null,
   "metadata": {},
   "outputs": [],
   "source": []
  },
  {
   "cell_type": "markdown",
   "metadata": {},
   "source": [
    "1) `.loadtxt(...)` -> function call  \n",
    "2) `fname='../data/inflammation-01.csv'` -> parameter  \n",
    "3) `delimiter=','` -> parameter\n",
    "\n",
    "## Why did it print to the screen?  ##\n",
    "\n",
    "* Cause we didn't tell it what else to do with!\n",
    "* We can store data in _variables_\n",
    "* We do that by _assignment_"
   ]
  },
  {
   "cell_type": "code",
   "execution_count": null,
   "metadata": {},
   "outputs": [],
   "source": []
  },
  {
   "cell_type": "markdown",
   "metadata": {},
   "source": [
    "## Variables ##\n",
    "\n",
    "* Information stored in variables is not static \n",
    "* It can be changed, manipulated, or updated to contain new information.  \n",
    "* Does not have to be expicitly declared.  Can be the resuls of a Python expression."
   ]
  },
  {
   "cell_type": "code",
   "execution_count": null,
   "metadata": {},
   "outputs": [],
   "source": []
  },
  {
   "cell_type": "code",
   "execution_count": null,
   "metadata": {},
   "outputs": [],
   "source": []
  },
  {
   "cell_type": "markdown",
   "metadata": {},
   "source": [
    "![Variables as Sticky Notes](img/python-sticky-note-variables-01.svg)"
   ]
  },
  {
   "cell_type": "code",
   "execution_count": null,
   "metadata": {},
   "outputs": [],
   "source": []
  },
  {
   "cell_type": "markdown",
   "metadata": {},
   "source": [
    "![Variables as Sticky Notes](img/python-sticky-note-variables-02.svg)"
   ]
  },
  {
   "cell_type": "code",
   "execution_count": null,
   "metadata": {},
   "outputs": [],
   "source": []
  },
  {
   "cell_type": "code",
   "execution_count": null,
   "metadata": {},
   "outputs": [],
   "source": []
  },
  {
   "cell_type": "markdown",
   "metadata": {},
   "source": [
    "![Variables as Sticky Notes](img/python-sticky-note-variables-03.svg)\n",
    "\n",
    "* Changing variables created from old variables doesn't change the variable it was created from"
   ]
  },
  {
   "cell_type": "markdown",
   "metadata": {},
   "source": [
    "## Who's who in memory?\n",
    "\n",
    "* IPython ** --> ** Interactive + Python\n",
    "* Has builit-in functions that add more interaction that a typical Python environment\n",
    "* start with `%`"
   ]
  },
  {
   "cell_type": "code",
   "execution_count": null,
   "metadata": {},
   "outputs": [],
   "source": []
  },
  {
   "cell_type": "markdown",
   "metadata": {},
   "source": [
    "Let's save our old data."
   ]
  },
  {
   "cell_type": "code",
   "execution_count": null,
   "metadata": {},
   "outputs": [],
   "source": []
  },
  {
   "cell_type": "code",
   "execution_count": null,
   "metadata": {},
   "outputs": [],
   "source": []
  },
  {
   "cell_type": "markdown",
   "metadata": {},
   "source": [
    "## Data Type ##\n",
    "\n",
    "* variables can store different 'types' of data\n",
    "* Strings, integers, floats are some common data types\n",
    "* `type()`"
   ]
  },
  {
   "cell_type": "code",
   "execution_count": null,
   "metadata": {},
   "outputs": [],
   "source": []
  },
  {
   "cell_type": "markdown",
   "metadata": {},
   "source": [
    "## NumPy arrays ##\n",
    "\n",
    "* N-dimensional array.\n",
    "* Rows are the individual patients.\n",
    "* Columns are their daily inflammation measurements.\n",
    "* Arrays can store information about our `data` variable through `attributes`. \n",
    "* We can see how many rows and columns we have using `shape`.\n",
    "* We can see what type of data is stored in our rows and columns using `dtype`."
   ]
  },
  {
   "cell_type": "code",
   "execution_count": null,
   "metadata": {
    "scrolled": true
   },
   "outputs": [],
   "source": []
  },
  {
   "cell_type": "code",
   "execution_count": null,
   "metadata": {},
   "outputs": [],
   "source": []
  },
  {
   "cell_type": "markdown",
   "metadata": {},
   "source": [
    "## Accessing data in arrays ##\n",
    "\n",
    "* We can find the value of certain elements in our data by _slicing_.\n",
    "* Any element in `data` is available by providing the information `[row, column]`."
   ]
  },
  {
   "cell_type": "code",
   "execution_count": null,
   "metadata": {},
   "outputs": [],
   "source": []
  },
  {
   "cell_type": "code",
   "execution_count": null,
   "metadata": {},
   "outputs": [],
   "source": []
  },
  {
   "cell_type": "markdown",
   "metadata": {},
   "source": [
    "## Retrieving entire rows and or columns ##\n",
    "\n",
    "* Can be done by _slicing_.\n",
    "* A slice is of the form `start:end+1`.\n",
    "* The default values for `start` and `end` are the beginning and end of the array, respectively.\n",
    "* We can store the results in a new variable."
   ]
  },
  {
   "cell_type": "code",
   "execution_count": null,
   "metadata": {},
   "outputs": [],
   "source": []
  },
  {
   "cell_type": "code",
   "execution_count": null,
   "metadata": {},
   "outputs": [],
   "source": []
  },
  {
   "cell_type": "code",
   "execution_count": null,
   "metadata": {},
   "outputs": [],
   "source": []
  },
  {
   "cell_type": "markdown",
   "metadata": {},
   "source": [
    "## Mathematical operations on Numpy arrays ##\n",
    "\n",
    "* Operators (+, -, \\*, /) used on an array and a scalar perform on each value of the array\n",
    "* Operators used on arrays with other arrays of the same shape perform the operation element-wise"
   ]
  },
  {
   "cell_type": "code",
   "execution_count": null,
   "metadata": {
    "collapsed": true,
    "jupyter": {
     "outputs_hidden": true
    }
   },
   "outputs": [],
   "source": []
  },
  {
   "cell_type": "code",
   "execution_count": null,
   "metadata": {},
   "outputs": [],
   "source": []
  },
  {
   "cell_type": "code",
   "execution_count": null,
   "metadata": {
    "collapsed": true,
    "jupyter": {
     "outputs_hidden": true
    }
   },
   "outputs": [],
   "source": []
  },
  {
   "cell_type": "code",
   "execution_count": null,
   "metadata": {},
   "outputs": [],
   "source": []
  },
  {
   "cell_type": "markdown",
   "metadata": {},
   "source": [
    "## Numpy math operators ##\n",
    "\n",
    "* Numpy offers extended math operations in the form of _functions_\n",
    "* We provide functions function input through _arguments_\n",
    "* Not all functions have arguments\n",
    "* All functions have `()` after the function name"
   ]
  },
  {
   "cell_type": "code",
   "execution_count": null,
   "metadata": {},
   "outputs": [],
   "source": []
  },
  {
   "cell_type": "code",
   "execution_count": null,
   "metadata": {},
   "outputs": [],
   "source": []
  },
  {
   "cell_type": "markdown",
   "metadata": {},
   "source": [
    "Let's explore some common Numpy functions (`max()`, `min()`, `mean()`) using multiple assignment.  \n"
   ]
  },
  {
   "cell_type": "code",
   "execution_count": null,
   "metadata": {},
   "outputs": [],
   "source": []
  },
  {
   "cell_type": "markdown",
   "metadata": {},
   "source": [
    "## Mystery functions in IPython ##\n",
    "\n",
    "* Tab completion allows us to see which functions are available in a module\n",
    "* The `?` gives us information about a particular product\n",
    "* The features are only available in IPython (Use the function help(function) for Python"
   ]
  },
  {
   "cell_type": "code",
   "execution_count": null,
   "metadata": {
    "collapsed": true,
    "jupyter": {
     "outputs_hidden": true
    }
   },
   "outputs": [],
   "source": []
  },
  {
   "cell_type": "markdown",
   "metadata": {},
   "source": [
    "## Exploring our patient data ##\n",
    "\n",
    "* Often times we are only concerned with subsets of data.\n",
    "* We can store these data in a new variable, or, we could not."
   ]
  },
  {
   "cell_type": "code",
   "execution_count": null,
   "metadata": {},
   "outputs": [],
   "source": []
  },
  {
   "cell_type": "code",
   "execution_count": null,
   "metadata": {},
   "outputs": [],
   "source": []
  },
  {
   "cell_type": "markdown",
   "metadata": {},
   "source": [
    "## Commenting ##\n",
    "\n",
    "* Sometimes it's useful to explain what or why we doing in a piece of code\n",
    "* _Comments_ allow us to annotate our program \n",
    "* Everyting after `#` is ignored by Python"
   ]
  },
  {
   "cell_type": "markdown",
   "metadata": {},
   "source": [
    "## Performing row or column-wise operations ##"
   ]
  },
  {
   "cell_type": "markdown",
   "metadata": {},
   "source": [
    "* Specifying an axis (1=row-wise, 0=column-wise) allows us to perform operations for entire rows or columns"
   ]
  },
  {
   "cell_type": "markdown",
   "metadata": {},
   "source": [
    "<img src=\"img/python-operations-across-axes.svg\">"
   ]
  },
  {
   "cell_type": "markdown",
   "metadata": {},
   "source": [
    "What's the average across the rows?  "
   ]
  },
  {
   "cell_type": "code",
   "execution_count": null,
   "metadata": {},
   "outputs": [],
   "source": []
  },
  {
   "cell_type": "markdown",
   "metadata": {},
   "source": [
    "Are you sure?"
   ]
  },
  {
   "cell_type": "code",
   "execution_count": null,
   "metadata": {},
   "outputs": [],
   "source": []
  },
  {
   "cell_type": "markdown",
   "metadata": {},
   "source": [
    "The result `(40,)` tells us that this is an $Nx1$ dimensional array, with $N = 40$. Similarly, we can perform operations on the other axis (columns).  Let's find the mean of the columns."
   ]
  },
  {
   "cell_type": "code",
   "execution_count": null,
   "metadata": {},
   "outputs": [],
   "source": []
  },
  {
   "cell_type": "markdown",
   "metadata": {},
   "source": [
    "## Plotting with matplotlib ##\n",
    "\n",
    "* Data visualization is the first step of data exploration\n",
    "* Provides a lot of 'out-of-the-box' visualation tools\n",
    "* Has support for rendering in the Juypter Notebook"
   ]
  },
  {
   "cell_type": "code",
   "execution_count": null,
   "metadata": {
    "collapsed": true,
    "jupyter": {
     "outputs_hidden": true
    }
   },
   "outputs": [],
   "source": []
  },
  {
   "cell_type": "code",
   "execution_count": null,
   "metadata": {},
   "outputs": [],
   "source": []
  },
  {
   "cell_type": "markdown",
   "metadata": {},
   "source": [
    "## Average Inflamation over time ##"
   ]
  },
  {
   "cell_type": "code",
   "execution_count": null,
   "metadata": {},
   "outputs": [],
   "source": []
  },
  {
   "cell_type": "markdown",
   "metadata": {},
   "source": [
    "## Max Inflammation Over Time ##"
   ]
  },
  {
   "cell_type": "code",
   "execution_count": null,
   "metadata": {},
   "outputs": [],
   "source": []
  },
  {
   "cell_type": "markdown",
   "metadata": {},
   "source": [
    "## Min Inflammation Over Time ##"
   ]
  },
  {
   "cell_type": "code",
   "execution_count": null,
   "metadata": {},
   "outputs": [],
   "source": []
  },
  {
   "cell_type": "markdown",
   "metadata": {},
   "source": [
    "## Bringing it all together ##\n",
    "\n",
    "* Let's create a script from start to finish that will read our data then plot it\n",
    "* We can group all of our plots into a single figure\n",
    "    * `figure()` creates a space and the argument parameter `figsize=` tells us how big to make it\n",
    "    * We can add plots by using the `add_subplot()` function\n",
    "    * We can set labels on different plots using `set_ylabel()` or `set_xlabel()` function"
   ]
  },
  {
   "cell_type": "code",
   "execution_count": null,
   "metadata": {},
   "outputs": [],
   "source": []
  },
  {
   "cell_type": "markdown",
   "metadata": {},
   "source": [
    "Viola!  There it is from start to finish, our plotted data.\n",
    "\n",
    "__Note__: For long library names you can shorten what you have to type by using the following syntax:\n",
    "\n",
    "```python\n",
    "import numpy as np\n",
    "\n",
    "np.loadtxt(...)\n",
    "```"
   ]
  },
  {
   "cell_type": "markdown",
   "metadata": {},
   "source": [
    "### Excercises ###"
   ]
  },
  {
   "cell_type": "markdown",
   "metadata": {},
   "source": [
    "### Key Points ###\n",
    "\n",
    "* Import a library into a program using import libraryname.\n",
    "* Use the numpy library to work with arrays in Python.\n",
    "* Use variable = value to assign a value to a variable in order to record it in memory.\n",
    "* Variables are created on demand whenever a value is assigned to them.\n",
    "* Use print(something) to display the value of something.\n",
    "* The expression array.shape gives the shape of an array.\n",
    "* Use array[x, y] to select a single element from an array.\n",
    "* Array indices start at 0, not 1.\n",
    "* Use low:high to specify a slice that includes the indices from low to high-1.\n",
    "* All the indexing and slicing that works on arrays also works on strings.\n",
    "* Use # some kind of explanation to add comments to programs.\n",
    "* Use numpy.mean(array), numpy.max(array), and numpy.min(array) to calculate simple statistics.\n",
    "* Use numpy.mean(array, axis=0) or numpy.mean(array, axis=1) to calculate statistics across the specified axis.\n",
    "* Use the pyplot library from matplotlib for creating simple visualizations."
   ]
  }
 ],
 "metadata": {
  "kernelspec": {
   "display_name": "Python 3 (ipykernel)",
   "language": "python",
   "name": "python3"
  },
  "language_info": {
   "codemirror_mode": {
    "name": "ipython",
    "version": 3
   },
   "file_extension": ".py",
   "mimetype": "text/x-python",
   "name": "python",
   "nbconvert_exporter": "python",
   "pygments_lexer": "ipython3",
   "version": "3.9.7"
  },
  "widgets": {
   "application/vnd.jupyter.widget-state+json": {
    "state": {},
    "version_major": 2,
    "version_minor": 0
   }
  }
 },
 "nbformat": 4,
 "nbformat_minor": 4
}
