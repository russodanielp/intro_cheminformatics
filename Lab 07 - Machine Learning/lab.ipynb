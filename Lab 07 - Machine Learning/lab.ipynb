{
 "cells": [
  {
   "cell_type": "markdown",
   "metadata": {},
   "source": [
    "# Machine Learning"
   ]
  },
  {
   "cell_type": "markdown",
   "metadata": {},
   "source": [
    "## Aim of this lab\n",
    "\n",
    "To use different the purposes of machine learning and its uses in cheminformatics and drug discovery. "
   ]
  },
  {
   "cell_type": "markdown",
   "metadata": {
    "tags": []
   },
   "source": [
    "### Objectives\n",
    "\n",
    "* Understand unsupervised learning and Principal Component Analysis\n"
   ]
  },
  {
   "cell_type": "markdown",
   "metadata": {},
   "source": [
    "## Background\n",
    "\n",
    "\n",
    "Principal Component Analysis (PCA) is a diminsionality reduction technique popular for visualizing high dimensional data.  Chemical space, created by chemical descritpors, is often in the hundreds or thousands of dimensions making visualization (in 2 or 3D) impossible.  Often, to get an idea of chemical space, we need to reduce this high-dimensional space to 2 or 3 dimensions, which allows us to plot and vizualize as a scatterplot for example.  \n",
    "\n",
    "PCA works by transforming a raw dataset (i.e., the chemical descrptors) into `n` components, such that the first component, captures the most variance in the dataset, the second captures the second-most under the constraint it is orthogonal to the first, and so on.  The orthoganlity is often kept as it is a more desirable to have non-correlated variables when doing things such as linear regression.  [Here](https://learnche.org/pid/latent-variable-modelling/principal-component-analysis/index) is a good reference for PCA.  "
   ]
  },
  {
   "cell_type": "markdown",
   "metadata": {
    "id": "TZwGVDXfVZW7",
    "tags": []
   },
   "source": [
    "### Descriptors\n",
    "\n",
    "Similar to calculating chemical similiarity, PCA can be done on any set of descriptors or fingerprints.  However, just like we saw before its important to standardize if your descriptors are not already on the same range.  "
   ]
  },
  {
   "cell_type": "code",
   "execution_count": 1,
   "metadata": {},
   "outputs": [],
   "source": [
    "from rdkit import Chem \n",
    "from rdkit.Chem import PandasTools\n",
    "import pandas as pd"
   ]
  },
  {
   "cell_type": "code",
   "execution_count": 3,
   "metadata": {},
   "outputs": [
    {
     "data": {
      "text/html": [
       "<div>\n",
       "<style scoped>\n",
       "    .dataframe tbody tr th:only-of-type {\n",
       "        vertical-align: middle;\n",
       "    }\n",
       "\n",
       "    .dataframe tbody tr th {\n",
       "        vertical-align: top;\n",
       "    }\n",
       "\n",
       "    .dataframe thead th {\n",
       "        text-align: right;\n",
       "    }\n",
       "</style>\n",
       "<table border=\"1\" class=\"dataframe\">\n",
       "  <thead>\n",
       "    <tr style=\"text-align: right;\">\n",
       "      <th></th>\n",
       "      <th>Name</th>\n",
       "      <th>MolSmiles</th>\n",
       "      <th>Bio_Activity</th>\n",
       "      <th>ID</th>\n",
       "      <th>ROMol</th>\n",
       "    </tr>\n",
       "  </thead>\n",
       "  <tbody>\n",
       "    <tr>\n",
       "      <th>0</th>\n",
       "      <td>Mol_0</td>\n",
       "      <td>CC(C)(C)OC(=O)c1c2n(cn1)-c3ccccc3C(=O)N(C2)C</td>\n",
       "      <td>-1.28</td>\n",
       "      <td></td>\n",
       "      <td><img data-content=\"rdkit/molecule\" src=\"data:image/png;base64,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\" alt=\"Mol\"/></td>\n",
       "    </tr>\n",
       "    <tr>\n",
       "      <th>1</th>\n",
       "      <td>Mol_1</td>\n",
       "      <td>CN1Cc2c(ncn2-c3ccc(cc3C1=O)Cl)C(=O)OC</td>\n",
       "      <td>-0.62</td>\n",
       "      <td></td>\n",
       "      <td><img data-content=\"rdkit/molecule\" src=\"data:image/png;base64,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\" alt=\"Mol\"/></td>\n",
       "    </tr>\n",
       "    <tr>\n",
       "      <th>2</th>\n",
       "      <td>Mol_2</td>\n",
       "      <td>CCCOC(=O)c1c2n(cn1)-c3ccc(cc3C(=O)N(C2)C)Cl</td>\n",
       "      <td>-0.13</td>\n",
       "      <td></td>\n",
       "      <td><img data-content=\"rdkit/molecule\" src=\"data:image/png;base64,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\" alt=\"Mol\"/></td>\n",
       "    </tr>\n",
       "  </tbody>\n",
       "</table>\n",
       "</div>"
      ],
      "text/plain": [
       "    Name                                     MolSmiles Bio_Activity ID  \\\n",
       "0  Mol_0  CC(C)(C)OC(=O)c1c2n(cn1)-c3ccccc3C(=O)N(C2)C        -1.28      \n",
       "1  Mol_1         CN1Cc2c(ncn2-c3ccc(cc3C1=O)Cl)C(=O)OC        -0.62      \n",
       "2  Mol_2   CCCOC(=O)c1c2n(cn1)-c3ccc(cc3C(=O)N(C2)C)Cl        -0.13      \n",
       "\n",
       "                                               ROMol  \n",
       "0  <img data-content=\"rdkit/molecule\" src=\"data:i...  \n",
       "1  <img data-content=\"rdkit/molecule\" src=\"data:i...  \n",
       "2  <img data-content=\"rdkit/molecule\" src=\"data:i...  "
      ]
     },
     "execution_count": 3,
     "metadata": {},
     "output_type": "execute_result"
    }
   ],
   "source": [
    "df = PandasTools.LoadSDF('data/DIAZEPAM_w_name.sdf')\n",
    "df.head(3)"
   ]
  },
  {
   "cell_type": "code",
   "execution_count": 4,
   "metadata": {},
   "outputs": [],
   "source": [
    "from rdkit.ML.Descriptors import MoleculeDescriptors\n",
    "from rdkit.Chem import AllChem\n",
    "from rdkit.Chem import MACCSkeys\n",
    "from rdkit.Chem import Descriptors\n",
    "\n",
    "def calc_descriptors_from_mol(mol):\n",
    "    \"\"\"\n",
    "    Encode a molecule from a RDKit Mol into a set of descriptors.\n",
    "\n",
    "    Parameters\n",
    "    ----------\n",
    "    mol : RDKit Mol\n",
    "        The RDKit molecule.\n",
    "\n",
    "    Returns\n",
    "    -------\n",
    "    list\n",
    "        The set of chemical descriptors as a list.\n",
    "\n",
    "    \"\"\"\n",
    "    calc = MoleculeDescriptors.MolecularDescriptorCalculator([desc[0] for desc in Descriptors.descList])\n",
    "    return list(calc.CalcDescriptors(mol))"
   ]
  },
  {
   "cell_type": "code",
   "execution_count": 5,
   "metadata": {},
   "outputs": [],
   "source": [
    "desc_list = []\n",
    "\n",
    "\n",
    "for mol in df.ROMol.tolist():\n",
    "    desc = calc_descriptors_from_mol(mol)\n",
    "    desc_list.append(desc)\n",
    "\n",
    "    \n",
    "desc_frame = pd.DataFrame(desc_list)"
   ]
  },
  {
   "cell_type": "markdown",
   "metadata": {},
   "source": [
    "#### Standardizing Descriptors"
   ]
  },
  {
   "cell_type": "code",
   "execution_count": 6,
   "metadata": {},
   "outputs": [
    {
     "data": {
      "text/html": [
       "<div>\n",
       "<style scoped>\n",
       "    .dataframe tbody tr th:only-of-type {\n",
       "        vertical-align: middle;\n",
       "    }\n",
       "\n",
       "    .dataframe tbody tr th {\n",
       "        vertical-align: top;\n",
       "    }\n",
       "\n",
       "    .dataframe thead th {\n",
       "        text-align: right;\n",
       "    }\n",
       "</style>\n",
       "<table border=\"1\" class=\"dataframe\">\n",
       "  <thead>\n",
       "    <tr style=\"text-align: right;\">\n",
       "      <th></th>\n",
       "      <th>0</th>\n",
       "      <th>1</th>\n",
       "      <th>2</th>\n",
       "      <th>3</th>\n",
       "      <th>4</th>\n",
       "      <th>5</th>\n",
       "      <th>6</th>\n",
       "      <th>7</th>\n",
       "      <th>8</th>\n",
       "      <th>9</th>\n",
       "      <th>...</th>\n",
       "      <th>198</th>\n",
       "      <th>199</th>\n",
       "      <th>200</th>\n",
       "      <th>201</th>\n",
       "      <th>202</th>\n",
       "      <th>203</th>\n",
       "      <th>204</th>\n",
       "      <th>205</th>\n",
       "      <th>206</th>\n",
       "      <th>207</th>\n",
       "    </tr>\n",
       "  </thead>\n",
       "  <tbody>\n",
       "    <tr>\n",
       "      <th>0</th>\n",
       "      <td>-0.229804</td>\n",
       "      <td>-0.700378</td>\n",
       "      <td>-0.229804</td>\n",
       "      <td>-0.490113</td>\n",
       "      <td>0.400245</td>\n",
       "      <td>-0.844430</td>\n",
       "      <td>-0.945733</td>\n",
       "      <td>-0.839924</td>\n",
       "      <td>-0.427852</td>\n",
       "      <td>0.0</td>\n",
       "      <td>...</td>\n",
       "      <td>0.0</td>\n",
       "      <td>0.0</td>\n",
       "      <td>0.0</td>\n",
       "      <td>0.0</td>\n",
       "      <td>0.0</td>\n",
       "      <td>0.0</td>\n",
       "      <td>0.0</td>\n",
       "      <td>-0.27735</td>\n",
       "      <td>0.0</td>\n",
       "      <td>0.0</td>\n",
       "    </tr>\n",
       "    <tr>\n",
       "      <th>1</th>\n",
       "      <td>-0.289638</td>\n",
       "      <td>-0.294427</td>\n",
       "      <td>-0.289638</td>\n",
       "      <td>0.485646</td>\n",
       "      <td>0.362171</td>\n",
       "      <td>-1.039932</td>\n",
       "      <td>-0.961257</td>\n",
       "      <td>-1.048096</td>\n",
       "      <td>-1.365407</td>\n",
       "      <td>0.0</td>\n",
       "      <td>...</td>\n",
       "      <td>0.0</td>\n",
       "      <td>0.0</td>\n",
       "      <td>0.0</td>\n",
       "      <td>0.0</td>\n",
       "      <td>0.0</td>\n",
       "      <td>0.0</td>\n",
       "      <td>0.0</td>\n",
       "      <td>-0.27735</td>\n",
       "      <td>0.0</td>\n",
       "      <td>0.0</td>\n",
       "    </tr>\n",
       "    <tr>\n",
       "      <th>2</th>\n",
       "      <td>-0.196264</td>\n",
       "      <td>-0.003103</td>\n",
       "      <td>-0.196264</td>\n",
       "      <td>0.402070</td>\n",
       "      <td>0.944074</td>\n",
       "      <td>-0.321673</td>\n",
       "      <td>-0.318295</td>\n",
       "      <td>-0.326432</td>\n",
       "      <td>-0.427852</td>\n",
       "      <td>0.0</td>\n",
       "      <td>...</td>\n",
       "      <td>0.0</td>\n",
       "      <td>0.0</td>\n",
       "      <td>0.0</td>\n",
       "      <td>0.0</td>\n",
       "      <td>0.0</td>\n",
       "      <td>0.0</td>\n",
       "      <td>0.0</td>\n",
       "      <td>-0.27735</td>\n",
       "      <td>0.0</td>\n",
       "      <td>0.0</td>\n",
       "    </tr>\n",
       "    <tr>\n",
       "      <th>3</th>\n",
       "      <td>-0.191039</td>\n",
       "      <td>-0.115072</td>\n",
       "      <td>-0.191039</td>\n",
       "      <td>0.457694</td>\n",
       "      <td>0.759743</td>\n",
       "      <td>-0.321673</td>\n",
       "      <td>-0.318295</td>\n",
       "      <td>-0.326432</td>\n",
       "      <td>-0.427852</td>\n",
       "      <td>0.0</td>\n",
       "      <td>...</td>\n",
       "      <td>0.0</td>\n",
       "      <td>0.0</td>\n",
       "      <td>0.0</td>\n",
       "      <td>0.0</td>\n",
       "      <td>0.0</td>\n",
       "      <td>0.0</td>\n",
       "      <td>0.0</td>\n",
       "      <td>-0.27735</td>\n",
       "      <td>0.0</td>\n",
       "      <td>0.0</td>\n",
       "    </tr>\n",
       "    <tr>\n",
       "      <th>4</th>\n",
       "      <td>-0.149571</td>\n",
       "      <td>0.202131</td>\n",
       "      <td>-0.149571</td>\n",
       "      <td>0.290525</td>\n",
       "      <td>0.861595</td>\n",
       "      <td>-0.014158</td>\n",
       "      <td>0.003185</td>\n",
       "      <td>-0.017492</td>\n",
       "      <td>-0.115334</td>\n",
       "      <td>0.0</td>\n",
       "      <td>...</td>\n",
       "      <td>0.0</td>\n",
       "      <td>0.0</td>\n",
       "      <td>0.0</td>\n",
       "      <td>0.0</td>\n",
       "      <td>0.0</td>\n",
       "      <td>0.0</td>\n",
       "      <td>0.0</td>\n",
       "      <td>-0.27735</td>\n",
       "      <td>0.0</td>\n",
       "      <td>0.0</td>\n",
       "    </tr>\n",
       "  </tbody>\n",
       "</table>\n",
       "<p>5 rows × 208 columns</p>\n",
       "</div>"
      ],
      "text/plain": [
       "        0         1         2         3         4         5         6    \\\n",
       "0 -0.229804 -0.700378 -0.229804 -0.490113  0.400245 -0.844430 -0.945733   \n",
       "1 -0.289638 -0.294427 -0.289638  0.485646  0.362171 -1.039932 -0.961257   \n",
       "2 -0.196264 -0.003103 -0.196264  0.402070  0.944074 -0.321673 -0.318295   \n",
       "3 -0.191039 -0.115072 -0.191039  0.457694  0.759743 -0.321673 -0.318295   \n",
       "4 -0.149571  0.202131 -0.149571  0.290525  0.861595 -0.014158  0.003185   \n",
       "\n",
       "        7         8    9    ...  198  199  200  201  202  203  204      205  \\\n",
       "0 -0.839924 -0.427852  0.0  ...  0.0  0.0  0.0  0.0  0.0  0.0  0.0 -0.27735   \n",
       "1 -1.048096 -1.365407  0.0  ...  0.0  0.0  0.0  0.0  0.0  0.0  0.0 -0.27735   \n",
       "2 -0.326432 -0.427852  0.0  ...  0.0  0.0  0.0  0.0  0.0  0.0  0.0 -0.27735   \n",
       "3 -0.326432 -0.427852  0.0  ...  0.0  0.0  0.0  0.0  0.0  0.0  0.0 -0.27735   \n",
       "4 -0.017492 -0.115334  0.0  ...  0.0  0.0  0.0  0.0  0.0  0.0  0.0 -0.27735   \n",
       "\n",
       "   206  207  \n",
       "0  0.0  0.0  \n",
       "1  0.0  0.0  \n",
       "2  0.0  0.0  \n",
       "3  0.0  0.0  \n",
       "4  0.0  0.0  \n",
       "\n",
       "[5 rows x 208 columns]"
      ]
     },
     "execution_count": 6,
     "metadata": {},
     "output_type": "execute_result"
    }
   ],
   "source": [
    "from sklearn.preprocessing import StandardScaler\n",
    "\n",
    "scaler = StandardScaler()\n",
    "\n",
    "desc_frame_std = pd.DataFrame(scaler.fit_transform(desc_frame))\n",
    "\n",
    "desc_frame_std.head()"
   ]
  },
  {
   "cell_type": "code",
   "execution_count": 7,
   "metadata": {},
   "outputs": [],
   "source": [
    "from sklearn.decomposition import PCA\n",
    "\n",
    "pca = PCA()\n",
    "\n",
    "latent_space = pca.fit_transform(desc_frame_std)"
   ]
  },
  {
   "cell_type": "code",
   "execution_count": 9,
   "metadata": {},
   "outputs": [
    {
     "data": {
      "text/plain": [
       "(42, 42)"
      ]
     },
     "execution_count": 9,
     "metadata": {},
     "output_type": "execute_result"
    }
   ],
   "source": [
    "latent_space.shape"
   ]
  },
  {
   "cell_type": "code",
   "execution_count": 12,
   "metadata": {},
   "outputs": [
    {
     "data": {
      "text/plain": [
       "1.0"
      ]
     },
     "execution_count": 12,
     "metadata": {},
     "output_type": "execute_result"
    }
   ],
   "source": [
    "pca.explained_variance_ratio_.sum()"
   ]
  },
  {
   "cell_type": "code",
   "execution_count": 20,
   "metadata": {},
   "outputs": [],
   "source": [
    "%matplotlib inline"
   ]
  },
  {
   "cell_type": "code",
   "execution_count": 40,
   "metadata": {},
   "outputs": [
    {
     "data": {
      "image/png": "[encoded data removed]",
      "text/plain": [
       "<Figure size 576x576 with 2 Axes>"
      ]
     },
     "metadata": {
      "needs_background": "light"
     },
     "output_type": "display_data"
    }
   ],
   "source": [
    "import matplotlib.pyplot as plt\n",
    "import matplotlib as mpl\n",
    "import seaborn as sns \n",
    "\n",
    "sns.set_context('poster')\n",
    "fig, ax = plt.subplots(figsize=(8,8))\n",
    "\n",
    "df['Bio_Activity'] = df.Bio_Activity.astype(float)\n",
    "\n",
    "cm = plt.cm.RdYlBu_r\n",
    "norm = mpl.colors.Normalize(vmin=df.Bio_Activity.min(), vmax=df.Bio_Activity.max())\n",
    "colors = cm(norm(df.Bio_Activity))\n",
    "\n",
    "scatter = sns.scatterplot(x=latent_space[:, 0], y=latent_space[:, 1], c=[c for c in colors], edgecolor='k')\n",
    "\n",
    "ax.set_xlabel('PC1 - Explained Variance = {:.2f}%'.format(pca.explained_variance_ratio_[0]*100))\n",
    "ax.set_ylabel('PC2 - Explained Variance = {:.2f}%'.format(pca.explained_variance_ratio_[1]*100))\n",
    "\n",
    "sm = plt.cm.ScalarMappable(cmap=cm, norm=norm)\n",
    "sm.set_array([])\n",
    "\n",
    "fig.colorbar(sm)\n",
    "plt.show()"
   ]
  },
  {
   "cell_type": "code",
   "execution_count": null,
   "metadata": {},
   "outputs": [],
   "source": []
  }
 ],
 "metadata": {
  "kernelspec": {
   "display_name": "Python 3",
   "language": "python",
   "name": "python3"
  },
  "language_info": {
   "codemirror_mode": {
    "name": "ipython",
    "version": 3
   },
   "file_extension": ".py",
   "mimetype": "text/x-python",
   "name": "python",
   "nbconvert_exporter": "python",
   "pygments_lexer": "ipython3",
   "version": "3.7.11"
  },
  "widgets": {
   "application/vnd.jupyter.widget-state+json": {
    "state": {},
    "version_major": 2,
    "version_minor": 0
   }
  }
 },
 "nbformat": 4,
 "nbformat_minor": 4
}
