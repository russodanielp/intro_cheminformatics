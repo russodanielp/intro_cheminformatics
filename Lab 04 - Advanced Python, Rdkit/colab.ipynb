{
  "cells": [
    {
      "cell_type": "markdown",
      "metadata": {
        "id": "3mJv3rySd8Vz"
      },
      "source": [
        "# Advanced Python and the RDKit"
      ]
    },
    {
      "cell_type": "markdown",
      "metadata": {
        "id": "b2LV-Zykd8V1"
      },
      "source": [
        "## Aim of this lab\n",
        "\n",
        "To learn some more advanced Python Programming.  "
      ]
    },
    {
      "cell_type": "markdown",
      "metadata": {
        "tags": [],
        "id": "Z2Ksj16od8V1"
      },
      "source": [
        "### Objectives\n",
        "\n",
        "* Understand the basics of object oriented programing\n",
        "* Learn about RDKit\n",
        "* Learn the how to make plots in matplotlib\n"
      ]
    },
    {
      "cell_type": "markdown",
      "metadata": {
        "id": "6KC1gNSHd8V2"
      },
      "source": [
        "### RDKit \n",
        "\n",
        "The [RDKit](https://www.rdkit.org/docs/Overview.html#) is a open-source Python library for doing chemistry in Python.\n",
        "\n",
        "It's not necessary to understand fully understand object-oriented programming in order to use the RDKit, but its necessary to understand that chemicals (more often referred to as molecules) are objects.  Objects in Python are things that share common features in order to save code.  What that means for RDKit is that mostly all the functionality of rdkit is written around the `Mol` object, short for molecule. \n",
        "\n",
        "Once we create a `Mol` object, we know we'll be able to do perform certain functionalities on that object.  For example, every molecule has atoms, therefore every `Mol` object has the ability to retrieve the number of atoms in the underlying chemical through the `GetNumAtoms()` function that every `Mol` object has.  \n",
        "\n",
        "Therefore, once we create a `Mol` object from the chemical we are interested in, we'll have the entire functionality of RDKit at out fingertips.  \n",
        "\n",
        "So, how do we create a `Mol` object?  There are tons of ways.  We can create them from strings of chemical structure annotations as we learned in Lab 2.  The most common are SMILES and InChI.\n",
        "\n",
        "Let's create benzene and asprin from SMILES and InChI, respectively. "
      ]
    },
    {
      "cell_type": "code",
      "execution_count": null,
      "metadata": {
        "id": "4m-awOeHd8V2"
      },
      "outputs": [],
      "source": []
    },
    {
      "cell_type": "markdown",
      "metadata": {
        "id": "xrRfWDiAd8V3"
      },
      "source": [
        "Because we are working in a Jupyter notebook, the molecules will be drawn for us..."
      ]
    },
    {
      "cell_type": "code",
      "execution_count": null,
      "metadata": {
        "id": "U7LYcX_bd8V3"
      },
      "outputs": [],
      "source": []
    },
    {
      "cell_type": "code",
      "execution_count": null,
      "metadata": {
        "id": "p3XXS68Gd8V3"
      },
      "outputs": [],
      "source": []
    },
    {
      "cell_type": "markdown",
      "metadata": {
        "id": "hAi7EPUVd8V3"
      },
      "source": [
        "But if we print it out we can see that we created an rdkit `Mol` object"
      ]
    },
    {
      "cell_type": "code",
      "execution_count": null,
      "metadata": {
        "id": "8khjfipUd8V3"
      },
      "outputs": [],
      "source": []
    },
    {
      "cell_type": "markdown",
      "metadata": {
        "id": "ZDIDwwG5d8V4"
      },
      "source": [
        "Of course for any molecule object, we can get any annotation we want from the `Mol`.."
      ]
    },
    {
      "cell_type": "code",
      "execution_count": null,
      "metadata": {
        "id": "iXIu6Viwd8V4"
      },
      "outputs": [],
      "source": []
    },
    {
      "cell_type": "markdown",
      "metadata": {
        "id": "jf3S2cNfd8V4"
      },
      "source": [
        "There is a wide array of functionality possible on a single molecule.  Every molecule is represented as a graph, and as such, we can access the individual bonds and atoms individually...."
      ]
    },
    {
      "cell_type": "code",
      "execution_count": null,
      "metadata": {
        "id": "DxYO6Kf2d8V4"
      },
      "outputs": [],
      "source": []
    },
    {
      "cell_type": "markdown",
      "metadata": {
        "id": "ChguWpYEd8V4"
      },
      "source": [
        "### Substructure searching\n",
        "\n",
        "You can make queries on molecules and search for certain structures.  One way of doing this is by using [SMARTS](https://www.daylight.com/dayhtml/doc/theory/theory.smarts.html). SMARTS are a chemical text language similar to SMILES except for generalizing more abstract chemical concepts.  They are similar to [regular expressions](https://en.wikipedia.org/wiki/Regular_expression), which are used to match text patterns.  In SMARTS, you can search for things like \"any aromatic atom\" or \"sp2 hybridized carbons not bonded to nitrogen\".  They range very coplex to simple. "
      ]
    },
    {
      "cell_type": "code",
      "execution_count": null,
      "metadata": {
        "id": "AM4Sfxcld8V5"
      },
      "outputs": [],
      "source": []
    },
    {
      "cell_type": "markdown",
      "metadata": {
        "id": "yC5eGnHod8V5"
      },
      "source": [
        "By default information about stereochemistry is not used in substructure searches. But this can be changed via the useChirality argument."
      ]
    },
    {
      "cell_type": "code",
      "execution_count": null,
      "metadata": {
        "id": "K8ZtNtr3d8V5"
      },
      "outputs": [],
      "source": []
    },
    {
      "cell_type": "markdown",
      "metadata": {
        "id": "PEkaXkyWd8V5"
      },
      "source": [
        "### Reading sets of molecules\n",
        "\n",
        "It is possible to read to sets of molecules from an SDFile.  For example, in this labs we will use a dataset of compounds with activity against the benzodiazipine receptor takein from [this](https://pubs.acs.org/doi/10.1021/ci900117m) publication.  \n",
        "\n",
        "It is in the `data` folder for this lab stored in `sdf` format.  We will use the `SDMolSupplier` function, which will an interable object, containing all the molecules in the dataset as `Mol` objects.  We just need to provide the path to the SDFile.  "
      ]
    },
    {
      "cell_type": "code",
      "execution_count": null,
      "metadata": {
        "id": "aJWEJebad8V5"
      },
      "outputs": [],
      "source": []
    },
    {
      "cell_type": "markdown",
      "metadata": {
        "id": "b5w2q0YCd8V5"
      },
      "source": [
        "The `SDMolSupplier` object is similiar to a python list and therefore each element can be accessed via a an index."
      ]
    },
    {
      "cell_type": "code",
      "execution_count": null,
      "metadata": {
        "id": "6nhGAt8wd8V6"
      },
      "outputs": [],
      "source": []
    },
    {
      "cell_type": "markdown",
      "metadata": {
        "id": "Xz6TOxOGd8V6"
      },
      "source": [
        "### Pandas\n",
        "\n",
        "The rdkit has some functionality for working directly with Pandas dataframes, which can be pretty useful for working with compounds that have bioactivity data and their structure information in smiles format.  It is necessary to import this module seperately.  Note: make sure the environment is running Pandas version 1.1.3 as noted [here](https://gist.github.com/greglandrum/3b9da87a20e9b0d4827bbf1e64f68056)."
      ]
    },
    {
      "cell_type": "code",
      "execution_count": null,
      "metadata": {
        "id": "jRzXw06zd8V6"
      },
      "outputs": [],
      "source": []
    },
    {
      "cell_type": "code",
      "execution_count": null,
      "metadata": {
        "id": "qtz_BoB_d8V6"
      },
      "outputs": [],
      "source": []
    },
    {
      "cell_type": "markdown",
      "metadata": {
        "id": "TxrzCelmd8V6"
      },
      "source": [
        "We need to tell rdkit which column has our smiles string. "
      ]
    },
    {
      "cell_type": "code",
      "execution_count": null,
      "metadata": {
        "id": "VcAQMtPFd8V6"
      },
      "outputs": [],
      "source": []
    },
    {
      "cell_type": "code",
      "execution_count": null,
      "metadata": {
        "id": "WnquFPEGd8V6"
      },
      "outputs": [],
      "source": []
    },
    {
      "cell_type": "markdown",
      "metadata": {
        "id": "ur8B_JTQd8V6"
      },
      "source": [
        "You can even read an `sdf` file directly to a pandas dataframe. "
      ]
    },
    {
      "cell_type": "code",
      "execution_count": null,
      "metadata": {
        "id": "VEOSAt71d8V6"
      },
      "outputs": [],
      "source": []
    },
    {
      "cell_type": "markdown",
      "metadata": {
        "id": "XX9X9igzd8V7"
      },
      "source": [
        "This makes writing to files after doing some sort of processing on the database easy.  \n",
        "\n",
        "We can add a column consiting of names for our molecules and write that to a new sdf. "
      ]
    },
    {
      "cell_type": "code",
      "execution_count": null,
      "metadata": {
        "id": "DxyHs33_d8V7"
      },
      "outputs": [],
      "source": []
    },
    {
      "cell_type": "code",
      "execution_count": null,
      "metadata": {
        "id": "3uIw0VSud8V7"
      },
      "outputs": [],
      "source": []
    },
    {
      "cell_type": "code",
      "execution_count": null,
      "metadata": {
        "id": "EYnUxDUud8V7"
      },
      "outputs": [],
      "source": []
    }
  ],
  "metadata": {
    "kernelspec": {
      "display_name": "Python 3 (ipykernel)",
      "language": "python",
      "name": "python3"
    },
    "language_info": {
      "codemirror_mode": {
        "name": "ipython",
        "version": 3
      },
      "file_extension": ".py",
      "mimetype": "text/x-python",
      "name": "python",
      "nbconvert_exporter": "python",
      "pygments_lexer": "ipython3",
      "version": "3.7.11"
    },
    "colab": {
      "provenance": []
    }
  },
  "nbformat": 4,
  "nbformat_minor": 0
}