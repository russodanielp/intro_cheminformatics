{
 "cells": [
  {
   "cell_type": "markdown",
   "metadata": {},
   "source": [
    "# Advanced Python and the RDKit"
   ]
  },
  {
   "cell_type": "markdown",
   "metadata": {},
   "source": [
    "## Aim of this lab\n",
    "\n",
    "To learn some more advanced Python Programming.  "
   ]
  },
  {
   "cell_type": "markdown",
   "metadata": {
    "tags": []
   },
   "source": [
    "### Objectives\n",
    "\n",
    "* Understand the basics of object oriented programing\n",
    "* Learn about RDKit\n",
    "* Learn the how to make plots in matplotlib\n"
   ]
  },
  {
   "cell_type": "markdown",
   "metadata": {},
   "source": [
    "### RDKit \n",
    "\n",
    "The [RDKit](https://www.rdkit.org/docs/Overview.html#) is a open-source Python library for doing chemistry in Python.\n",
    "\n",
    "It's not necessary to understand fully understand object-oriented programming in order to use the RDKit, but its necessary to understand that chemicals (more often referred to as molecules) are objects.  Objects in Python are things that share common features in order to save code.  What that means for RDKit is that mostly all the functionality of rdkit is written around the `Mol` object, short for molecule. \n",
    "\n",
    "Once we create a `Mol` object, we know we'll be able to do perform certain functionalities on that object.  For example, every molecule has atoms, therefore every `Mol` object has the ability to retrieve the number of atoms in the underlying chemical through the `GetNumAtoms()` function that every `Mol` object has.  \n",
    "\n",
    "Therefore, once we create a `Mol` object from the chemical we are interested in, we'll have the entire functionality of RDKit at out fingertips.  \n",
    "\n",
    "So, how do we create a `Mol` object?  There are tons of ways.  We can create them from strings of chemical structure annotations as we learned in Lab 2.  The most common are SMILES and InChI.\n",
    "\n",
    "Let's create benzene and asprin from SMILES and InChI, respectively. "
   ]
  },
  {
   "cell_type": "code",
   "execution_count": 1,
   "metadata": {},
   "outputs": [],
   "source": []
  },
  {
   "cell_type": "markdown",
   "metadata": {},
   "source": [
    "Because we are working in a Jupyter notebook, the molecules will be drawn for us..."
   ]
  },
  {
   "cell_type": "code",
   "execution_count": null,
   "metadata": {},
   "outputs": [],
   "source": []
  },
  {
   "cell_type": "code",
   "execution_count": null,
   "metadata": {},
   "outputs": [],
   "source": []
  },
  {
   "cell_type": "markdown",
   "metadata": {},
   "source": [
    "But if we print it out we can see that we created an rdkit `Mol` object"
   ]
  },
  {
   "cell_type": "code",
   "execution_count": null,
   "metadata": {},
   "outputs": [],
   "source": []
  },
  {
   "cell_type": "markdown",
   "metadata": {},
   "source": [
    "Of course for any molecule object, we can get any annotation we want from the `Mol`.."
   ]
  },
  {
   "cell_type": "code",
   "execution_count": null,
   "metadata": {},
   "outputs": [],
   "source": []
  },
  {
   "cell_type": "markdown",
   "metadata": {},
   "source": [
    "There is a wide array of functionality possible on a single molecule.  Every molecule is represented as a graph, and as such, we can access the individual bonds and atoms individually...."
   ]
  },
  {
   "cell_type": "code",
   "execution_count": null,
   "metadata": {},
   "outputs": [],
   "source": []
  },
  {
   "cell_type": "markdown",
   "metadata": {},
   "source": [
    "### Substructure searching\n",
    "\n",
    "You can make queries on molecules and search for certain structures.  One way of doing this is by using [SMARTS](https://www.daylight.com/dayhtml/doc/theory/theory.smarts.html). SMARTS are a chemical text language similar to SMILES except for generalizing more abstract chemical concepts.  They are similar to [regular expressions](https://en.wikipedia.org/wiki/Regular_expression), which are used to match text patterns.  In SMARTS, you can search for things like \"any aromatic atom\" or \"sp2 hybridized carbons not bonded to nitrogen\".  They range very coplex to simple. "
   ]
  },
  {
   "cell_type": "code",
   "execution_count": null,
   "metadata": {},
   "outputs": [],
   "source": []
  },
  {
   "cell_type": "markdown",
   "metadata": {},
   "source": [
    "By default information about stereochemistry is not used in substructure searches. But this can be changed via the useChirality argument."
   ]
  },
  {
   "cell_type": "code",
   "execution_count": null,
   "metadata": {},
   "outputs": [],
   "source": []
  },
  {
   "cell_type": "markdown",
   "metadata": {},
   "source": [
    "### Reading sets of molecules\n",
    "\n",
    "It is possible to read to sets of molecules from an SDFile.  For example, in this labs we will use a dataset of compounds with activity against the benzodiazipine receptor takein from [this](https://pubs.acs.org/doi/10.1021/ci900117m) publication.  \n",
    "\n",
    "It is in the `data` folder for this lab stored in `sdf` format.  We will use the `SDMolSupplier` function, which will an interable object, containing all the molecules in the dataset as `Mol` objects.  We just need to provide the path to the SDFile.  "
   ]
  },
  {
   "cell_type": "code",
   "execution_count": null,
   "metadata": {},
   "outputs": [],
   "source": []
  },
  {
   "cell_type": "markdown",
   "metadata": {},
   "source": [
    "The `SDMolSupplier` object is similiar to a python list and therefore each element can be accessed via a an index."
   ]
  },
  {
   "cell_type": "code",
   "execution_count": null,
   "metadata": {},
   "outputs": [],
   "source": []
  },
  {
   "cell_type": "markdown",
   "metadata": {},
   "source": [
    "### Pandas\n",
    "\n",
    "The rdkit has some functionality for working directly with Pandas dataframes, which can be pretty useful for working with compounds that have bioactivity data and their structure information in smiles format.  It is necessary to import this module seperately.  Note: make sure the environment is running Pandas version 1.1.3 as noted [here](https://gist.github.com/greglandrum/3b9da87a20e9b0d4827bbf1e64f68056)."
   ]
  },
  {
   "cell_type": "code",
   "execution_count": null,
   "metadata": {},
   "outputs": [],
   "source": []
  },
  {
   "cell_type": "code",
   "execution_count": null,
   "metadata": {},
   "outputs": [],
   "source": []
  },
  {
   "cell_type": "markdown",
   "metadata": {},
   "source": [
    "We need to tell rdkit which column has our smiles string. "
   ]
  },
  {
   "cell_type": "code",
   "execution_count": null,
   "metadata": {},
   "outputs": [],
   "source": []
  },
  {
   "cell_type": "code",
   "execution_count": null,
   "metadata": {},
   "outputs": [],
   "source": []
  },
  {
   "cell_type": "markdown",
   "metadata": {},
   "source": [
    "You can even read an `sdf` file directly to a pandas dataframe. "
   ]
  },
  {
   "cell_type": "code",
   "execution_count": null,
   "metadata": {},
   "outputs": [],
   "source": []
  },
  {
   "cell_type": "markdown",
   "metadata": {},
   "source": [
    "This makes writing to files after doing some sort of processing on the database easy.  \n",
    "\n",
    "We can add a column consiting of names for our molecules and write that to a new sdf. "
   ]
  },
  {
   "cell_type": "code",
   "execution_count": null,
   "metadata": {},
   "outputs": [],
   "source": []
  },
  {
   "cell_type": "code",
   "execution_count": null,
   "metadata": {},
   "outputs": [],
   "source": []
  },
  {
   "cell_type": "code",
   "execution_count": null,
   "metadata": {},
   "outputs": [],
   "source": []
  }
 ],
 "metadata": {
  "kernelspec": {
   "display_name": "Python 3",
   "language": "python",
   "name": "python3"
  },
  "language_info": {
   "codemirror_mode": {
    "name": "ipython",
    "version": 3
   },
   "file_extension": ".py",
   "mimetype": "text/x-python",
   "name": "python",
   "nbconvert_exporter": "python",
   "pygments_lexer": "ipython3",
   "version": "3.7.11"
  },
  "widgets": {
   "application/vnd.jupyter.widget-state+json": {
    "state": {},
    "version_major": 2,
    "version_minor": 0
   }
  }
 },
 "nbformat": 4,
 "nbformat_minor": 4
}
