{
  "cells": [
    {
      "cell_type": "markdown",
      "metadata": {
        "id": "r8-A8k75_cqh"
      },
      "source": [
        "# Advanced Python and the RDKit"
      ]
    },
    {
      "cell_type": "markdown",
      "metadata": {
        "id": "ZYCeRLwN_cqm"
      },
      "source": [
        "## Aim of this lab\n",
        "\n",
        "To learn some more advanced Python Programming.  "
      ]
    },
    {
      "cell_type": "markdown",
      "metadata": {
        "tags": [],
        "id": "e-NJjrmn_cqn"
      },
      "source": [
        "### Objectives\n",
        "\n",
        "* Understand the basics of object oriented programing\n",
        "* Learn about RDKit\n",
        "* Learn the how to make plots in matplotlib\n"
      ]
    },
    {
      "cell_type": "markdown",
      "metadata": {
        "id": "j8Eh56oU_cqo"
      },
      "source": [
        "### RDKit \n",
        "\n",
        "The [RDKit](https://www.rdkit.org/docs/Overview.html#) is a open-source Python library for doing chemistry in Python.\n",
        "\n",
        "It's not necessary to understand fully understand object-oriented programming in order to use the RDKit, but its necessary to understand that chemicals (more often referred to as molecules) are objects.  Objects in Python are things that share common features in order to save code.  What that means for RDKit is that mostly all the functionality of rdkit is written around the `Mol` object, short for molecule. \n",
        "\n",
        "Once we create a `Mol` object, we know we'll be able to do perform certain functionalities on that object.  For example, every molecule has atoms, therefore every `Mol` object has the ability to retrieve the number of atoms in the underlying chemical through the `GetNumAtoms()` function that every `Mol` object has.  \n",
        "\n",
        "Therefore, once we create a `Mol` object from the chemical we are interested in, we'll have the entire functionality of RDKit at out fingertips.  \n",
        "\n",
        "So, how do we create a `Mol` object?  There are tons of ways.  We can create them from strings of chemical structure annotations as we learned in Lab 2.  The most common are SMILES and InChI.\n",
        "\n",
        "Let's create benzene and asprin from SMILES and InChI, respectively. "
      ]
    },
    {
      "cell_type": "markdown",
      "source": [
        "#### Installation\n",
        "\n",
        "We first install RDKit on the Google Colab servers by using the terminal and pip"
      ],
      "metadata": {
        "id": "VawO0FQ4_1TA"
      }
    },
    {
      "cell_type": "code",
      "source": [
        "!pip install rdkit"
      ],
      "metadata": {
        "id": "FD2rupHK__iy",
        "outputId": "ddbd1553-f3d1-45a0-a971-1aa6b9949eaf",
        "colab": {
          "base_uri": "https://localhost:8080/"
        }
      },
      "execution_count": 1,
      "outputs": [
        {
          "output_type": "stream",
          "name": "stdout",
          "text": [
            "Looking in indexes: https://pypi.org/simple, https://us-python.pkg.dev/colab-wheels/public/simple/\n",
            "Collecting rdkit\n",
            "  Downloading rdkit-2022.9.4-cp38-cp38-manylinux_2_17_x86_64.manylinux2014_x86_64.whl (29.3 MB)\n",
            "\u001b[2K     \u001b[90m━━━━━━━━━━━━━━━━━━━━━━━━━━━━━━━━━━━━━━━━\u001b[0m \u001b[32m29.3/29.3 MB\u001b[0m \u001b[31m21.5 MB/s\u001b[0m eta \u001b[36m0:00:00\u001b[0m\n",
            "\u001b[?25hRequirement already satisfied: Pillow in /usr/local/lib/python3.8/dist-packages (from rdkit) (7.1.2)\n",
            "Requirement already satisfied: numpy in /usr/local/lib/python3.8/dist-packages (from rdkit) (1.21.6)\n",
            "Installing collected packages: rdkit\n",
            "Successfully installed rdkit-2022.9.4\n"
          ]
        }
      ]
    },
    {
      "cell_type": "code",
      "execution_count": 2,
      "metadata": {
        "id": "CvwXR9-B_cqp"
      },
      "outputs": [],
      "source": [
        "from rdkit import Chem\n",
        "\n",
        "# benzene_smiles \n",
        "benzene_smiles = 'c1ccccc1'\n",
        "\n",
        "# aspirin inchi\n",
        "aspirin_inchi = 'InChI=1S/C9H8O4/c1-6(10)13-8-5-3-2-4-7(8)9(11)12/h2-5H,1H3,(H,11,12)'\n",
        "\n",
        "benzene = Chem.MolFromSmiles(benzene_smiles)\n",
        "aspirin = Chem.MolFromInchi(aspirin_inchi)"
      ]
    },
    {
      "cell_type": "markdown",
      "metadata": {
        "id": "TdsiVILJ_cqq"
      },
      "source": [
        "Because we are working in a Jupyter notebook, the molecules will be drawn for us..."
      ]
    },
    {
      "cell_type": "code",
      "execution_count": 3,
      "metadata": {
        "id": "J7lw83m2_cqq",
        "outputId": "7d56630d-db4d-40c9-c8d6-d7cc0f317649",
        "colab": {
          "base_uri": "https://localhost:8080/"
        }
      },
      "outputs": [
        {
          "output_type": "execute_result",
          "data": {
            "text/plain": [
              "<rdkit.Chem.rdchem.Mol at 0x7fe238a537b0>"
            ]
          },
          "metadata": {},
          "execution_count": 3
        }
      ],
      "source": [
        "benzene"
      ]
    },
    {
      "cell_type": "code",
      "execution_count": 4,
      "metadata": {
        "id": "RKZDYflA_cqr",
        "outputId": "9b0b075e-c6de-495b-8604-64dc58bc9456",
        "colab": {
          "base_uri": "https://localhost:8080/"
        }
      },
      "outputs": [
        {
          "output_type": "execute_result",
          "data": {
            "text/plain": [
              "<rdkit.Chem.rdchem.Mol at 0x7fe236953cf0>"
            ]
          },
          "metadata": {},
          "execution_count": 4
        }
      ],
      "source": [
        "aspirin"
      ]
    },
    {
      "cell_type": "markdown",
      "metadata": {
        "id": "CUjqAtpS_cqs"
      },
      "source": [
        "But if we print it out we can see that we created an rdkit `Mol` object"
      ]
    },
    {
      "cell_type": "code",
      "execution_count": 5,
      "metadata": {
        "id": "ddhrAFhO_cqs",
        "outputId": "123ee1e5-c5ee-4e89-cbc9-27a64ccfcf29",
        "colab": {
          "base_uri": "https://localhost:8080/"
        }
      },
      "outputs": [
        {
          "output_type": "stream",
          "name": "stdout",
          "text": [
            "<rdkit.Chem.rdchem.Mol object at 0x7fe238a537b0>\n"
          ]
        }
      ],
      "source": [
        "print(benzene)"
      ]
    },
    {
      "cell_type": "markdown",
      "metadata": {
        "id": "P8HEaH5h_cqt"
      },
      "source": [
        "Of course for any molecule object, we can get any annotation we want from the `Mol`.."
      ]
    },
    {
      "cell_type": "code",
      "execution_count": 6,
      "metadata": {
        "id": "ush3TgQg_cqt",
        "outputId": "9e0ca063-02d7-4e22-8b56-145bd5c830ee",
        "colab": {
          "base_uri": "https://localhost:8080/"
        }
      },
      "outputs": [
        {
          "output_type": "stream",
          "name": "stdout",
          "text": [
            "The SMILES for Benzene is  c1ccccc1\n",
            "The InChI for Benzene is  InChI=1S/C6H6/c1-2-4-6-5-3-1/h1-6H\n",
            "The Mol Block for Benzene is  \n",
            "     RDKit          2D\n",
            "\n",
            "  6  6  0  0  0  0  0  0  0  0999 V2000\n",
            "    1.5000    0.0000    0.0000 C   0  0  0  0  0  0  0  0  0  0  0  0\n",
            "    0.7500   -1.2990    0.0000 C   0  0  0  0  0  0  0  0  0  0  0  0\n",
            "   -0.7500   -1.2990    0.0000 C   0  0  0  0  0  0  0  0  0  0  0  0\n",
            "   -1.5000    0.0000    0.0000 C   0  0  0  0  0  0  0  0  0  0  0  0\n",
            "   -0.7500    1.2990    0.0000 C   0  0  0  0  0  0  0  0  0  0  0  0\n",
            "    0.7500    1.2990    0.0000 C   0  0  0  0  0  0  0  0  0  0  0  0\n",
            "  1  2  2  0\n",
            "  2  3  1  0\n",
            "  3  4  2  0\n",
            "  4  5  1  0\n",
            "  5  6  2  0\n",
            "  6  1  1  0\n",
            "M  END\n",
            "\n"
          ]
        }
      ],
      "source": [
        "print(\"The SMILES for Benzene is \", Chem.MolToSmiles(benzene))\n",
        "print(\"The InChI for Benzene is \", Chem.MolToInchi(benzene))\n",
        "print(\"The Mol Block for Benzene is \", Chem.MolToMolBlock(benzene))"
      ]
    },
    {
      "cell_type": "markdown",
      "metadata": {
        "id": "jLu_NtAY_cqt"
      },
      "source": [
        "There is a wide array of functionality possible on a single molecule.  Every molecule is represented as a graph, and as such, we can access the individual bonds and atoms individually...."
      ]
    },
    {
      "cell_type": "code",
      "execution_count": 7,
      "metadata": {
        "id": "Jy7KOolj_cqt",
        "outputId": "52a8e493-429c-4e67-aa5b-95868b6d28ef",
        "colab": {
          "base_uri": "https://localhost:8080/"
        }
      },
      "outputs": [
        {
          "output_type": "stream",
          "name": "stdout",
          "text": [
            "Number of atoms\t\t 13\n",
            "Bond type\t\t SINGLE\n",
            "Symbol\t\t\t C\n",
            "Explicit valence\t 4\n",
            "Bond begin atom id\t 0\n",
            "Bond end atom id\t 5\n",
            "Atom at the begining:\t C\n",
            "Atom's neighbors\t ['C']\n"
          ]
        }
      ],
      "source": [
        "print('Number of atoms\\t\\t', aspirin.GetNumAtoms())\n",
        "print('Bond type\\t\\t', aspirin.GetBonds()[0].GetBondType())\n",
        "print('Symbol\\t\\t\\t', aspirin.GetAtomWithIdx(0).GetSymbol())\n",
        "print('Explicit valence\\t', aspirin.GetAtomWithIdx(0).GetExplicitValence())\n",
        "print('Bond begin atom id\\t', aspirin.GetBondWithIdx(0).GetBeginAtomIdx())\n",
        "print('Bond end atom id\\t', aspirin.GetBondWithIdx(0).GetEndAtomIdx())\n",
        "\n",
        "atom = aspirin.GetAtomWithIdx(0)\n",
        "print('Atom at the begining:\\t', atom.GetSymbol())\n",
        "print('Atom\\'s neighbors\\t', [x.GetSymbol() for x in atom.GetNeighbors()])"
      ]
    },
    {
      "cell_type": "markdown",
      "metadata": {
        "id": "qwn1QxYY_cqu"
      },
      "source": [
        "### Substructure searching\n",
        "\n",
        "You can make queries on molecules and search for certain structures.  One way of doing this is by using [SMARTS](https://www.daylight.com/dayhtml/doc/theory/theory.smarts.html). SMARTS are a chemical text language similar to SMILES except for generalizing more abstract chemical concepts.  They are similar to [regular expressions](https://en.wikipedia.org/wiki/Regular_expression), which are used to match text patterns.  In SMARTS, you can search for things like \"any aromatic atom\" or \"sp2 hybridized carbons not bonded to nitrogen\".  They range very coplex to simple. "
      ]
    },
    {
      "cell_type": "code",
      "execution_count": 8,
      "metadata": {
        "id": "V87JqArT_cqu",
        "outputId": "d5bd5db2-65b8-4469-f10e-3b33a16aec7c",
        "colab": {
          "base_uri": "https://localhost:8080/"
        }
      },
      "outputs": [
        {
          "output_type": "stream",
          "name": "stdout",
          "text": [
            "Match ccO ?\t\t True\n",
            "Where ?\t\t ((0, 5, 6), (4, 5, 6))\n",
            "Match with COC ?\t False\n"
          ]
        }
      ],
      "source": [
        "m = Chem.MolFromSmiles('c1ccccc1O')\n",
        "patt = Chem.MolFromSmarts('ccO')\n",
        "print('Match ccO ?\\t\\t', m.HasSubstructMatch(patt))\n",
        "print('Where ?\\t\\t', m.GetSubstructMatches(patt))\n",
        "print('Match with COC ?\\t', m.HasSubstructMatch(Chem.MolFromSmiles('COC')))"
      ]
    },
    {
      "cell_type": "markdown",
      "metadata": {
        "id": "_Pkpxs5Y_cqu"
      },
      "source": [
        "By default information about stereochemistry is not used in substructure searches. But this can be changed via the useChirality argument."
      ]
    },
    {
      "cell_type": "code",
      "execution_count": 9,
      "metadata": {
        "id": "u_mPDWOz_cqv",
        "outputId": "2a273349-6710-4919-a1c6-e1aaed27f447",
        "colab": {
          "base_uri": "https://localhost:8080/"
        }
      },
      "outputs": [
        {
          "output_type": "stream",
          "name": "stdout",
          "text": [
            "True\n",
            "False\n"
          ]
        }
      ],
      "source": [
        "m = Chem.MolFromSmiles('CC[C@H](F)Cl')\n",
        "print(m.HasSubstructMatch(Chem.MolFromSmiles('C[C@H](F)Cl')))\n",
        "print(m.HasSubstructMatch(Chem.MolFromSmiles('C[C@@H](F)Cl'), useChirality=True))"
      ]
    },
    {
      "cell_type": "markdown",
      "metadata": {
        "id": "e5h5Ptkv_cqv"
      },
      "source": [
        "### Reading sets of molecules\n",
        "\n",
        "It is possible to read to sets of molecules from an SDFile.  For example, in this labs we will use a dataset of compounds with activity against the benzodiazipine receptor takein from [this](https://pubs.acs.org/doi/10.1021/ci900117m) publication.  \n",
        "\n",
        "It is in the `data` folder for this lab stored in `sdf` format.  We will use the `SDMolSupplier` function, which will an interable object, containing all the molecules in the dataset as `Mol` objects.  We just need to provide the path to the SDFile.  "
      ]
    },
    {
      "cell_type": "code",
      "execution_count": 11,
      "metadata": {
        "id": "QRxzbzVy_cqv",
        "outputId": "9e01447c-e16d-4b48-b2ce-298287762304",
        "colab": {
          "base_uri": "https://localhost:8080/",
          "height": 235
        }
      },
      "outputs": [
        {
          "output_type": "error",
          "ename": "OSError",
          "evalue": "ignored",
          "traceback": [
            "\u001b[0;31m---------------------------------------------------------------------------\u001b[0m",
            "\u001b[0;31mOSError\u001b[0m                                   Traceback (most recent call last)",
            "\u001b[0;32m<ipython-input-11-da3b156c3b4d>\u001b[0m in \u001b[0;36m<module>\u001b[0;34m\u001b[0m\n\u001b[1;32m      1\u001b[0m \u001b[0mbenzo_sdf\u001b[0m \u001b[0;34m=\u001b[0m \u001b[0;34m'https://raw.githubusercontent.com/russodanielp/intro_cheminformatics/master/Lab%2004%20-%20Advanced%20Python%2C%20Rdkit/data/DIAZEPAM.sdf'\u001b[0m\u001b[0;34m\u001b[0m\u001b[0;34m\u001b[0m\u001b[0m\n\u001b[1;32m      2\u001b[0m \u001b[0;34m\u001b[0m\u001b[0m\n\u001b[0;32m----> 3\u001b[0;31m \u001b[0mbenzos\u001b[0m \u001b[0;34m=\u001b[0m \u001b[0mChem\u001b[0m\u001b[0;34m.\u001b[0m\u001b[0mSDMolSupplier\u001b[0m\u001b[0;34m(\u001b[0m\u001b[0mbenzo_sdf\u001b[0m\u001b[0;34m)\u001b[0m\u001b[0;34m\u001b[0m\u001b[0;34m\u001b[0m\u001b[0m\n\u001b[0m\u001b[1;32m      4\u001b[0m \u001b[0mprint\u001b[0m\u001b[0;34m(\u001b[0m\u001b[0;34m\"There are\"\u001b[0m\u001b[0;34m,\u001b[0m \u001b[0mlen\u001b[0m\u001b[0;34m(\u001b[0m\u001b[0mbenzos\u001b[0m\u001b[0;34m)\u001b[0m\u001b[0;34m,\u001b[0m \u001b[0;34m\"diazepam compounds.\"\u001b[0m\u001b[0;34m)\u001b[0m\u001b[0;34m\u001b[0m\u001b[0;34m\u001b[0m\u001b[0m\n\u001b[1;32m      5\u001b[0m \u001b[0mprint\u001b[0m\u001b[0;34m(\u001b[0m\u001b[0mbenzos\u001b[0m\u001b[0;34m)\u001b[0m\u001b[0;34m\u001b[0m\u001b[0;34m\u001b[0m\u001b[0m\n",
            "\u001b[0;31mOSError\u001b[0m: File error: Bad input file https://raw.githubusercontent.com/russodanielp/intro_cheminformatics/master/Lab%2004%20-%20Advanced%20Python%2C%20Rdkit/data/DIAZEPAM.sdf"
          ]
        }
      ],
      "source": [
        "benzo_sdf = 'https://raw.githubusercontent.com/russodanielp/intro_cheminformatics/master/Lab%2004%20-%20Advanced%20Python%2C%20Rdkit/data/DIAZEPAM.sdf'\n",
        "\n",
        "benzos = Chem.SDMolSupplier(benzo_sdf)\n",
        "print(\"There are\", len(benzos), \"diazepam compounds.\")\n",
        "print(benzos)"
      ]
    },
    {
      "cell_type": "markdown",
      "metadata": {
        "id": "Ht_p5fGk_cqv"
      },
      "source": [
        "The `SDMolSupplier` object is similiar to a python list and therefore each element can be accessed via a an index."
      ]
    },
    {
      "cell_type": "code",
      "execution_count": null,
      "metadata": {
        "id": "ZHnMJAq6_cqv",
        "outputId": "e145bee1-8331-45d4-a063-9f4893d606ce"
      },
      "outputs": [
        {
          "data": {
            "image/png": "[encoded data removed]",
            "text/plain": [
              "<rdkit.Chem.rdchem.Mol at 0x7fd12bfab8f0>"
            ]
          },
          "execution_count": 12,
          "metadata": {},
          "output_type": "execute_result"
        }
      ],
      "source": [
        "benzos[0]"
      ]
    },
    {
      "cell_type": "markdown",
      "metadata": {
        "id": "T4fb-FQG_cqw"
      },
      "source": [
        "### Pandas\n",
        "\n",
        "The rdkit has some functionality for working directly with Pandas dataframes, which can be pretty useful for working with compounds that have bioactivity data and their structure information in smiles format.  It is necessary to import this module seperately.  Note: make sure the environment is running Pandas version 1.1.3 as noted [here](https://gist.github.com/greglandrum/3b9da87a20e9b0d4827bbf1e64f68056)."
      ]
    },
    {
      "cell_type": "code",
      "execution_count": null,
      "metadata": {
        "id": "DD1Qa7VO_cqw"
      },
      "outputs": [],
      "source": [
        "import pandas as pd\n",
        "from rdkit.Chem import PandasTools"
      ]
    },
    {
      "cell_type": "code",
      "execution_count": null,
      "metadata": {
        "id": "J5fL7HQP_cqw",
        "outputId": "186a6c07-8bb3-4c46-d0a9-19a8216139ff"
      },
      "outputs": [
        {
          "data": {
            "text/html": [
              "<div>\n",
              "<style scoped>\n",
              "    .dataframe tbody tr th:only-of-type {\n",
              "        vertical-align: middle;\n",
              "    }\n",
              "\n",
              "    .dataframe tbody tr th {\n",
              "        vertical-align: top;\n",
              "    }\n",
              "\n",
              "    .dataframe thead th {\n",
              "        text-align: right;\n",
              "    }\n",
              "</style>\n",
              "<table border=\"1\" class=\"dataframe\">\n",
              "  <thead>\n",
              "    <tr style=\"text-align: right;\">\n",
              "      <th></th>\n",
              "      <th>MolSmiles</th>\n",
              "      <th>Bio_Activity</th>\n",
              "    </tr>\n",
              "  </thead>\n",
              "  <tbody>\n",
              "    <tr>\n",
              "      <th>0</th>\n",
              "      <td>CC(C)(C)OC(=O)c1c2n(cn1)-c3ccccc3C(=O)N(C2)C</td>\n",
              "      <td>-1.28</td>\n",
              "    </tr>\n",
              "    <tr>\n",
              "      <th>1</th>\n",
              "      <td>CN1Cc2c(ncn2-c3ccc(cc3C1=O)Cl)C(=O)OC</td>\n",
              "      <td>-0.62</td>\n",
              "    </tr>\n",
              "    <tr>\n",
              "      <th>2</th>\n",
              "      <td>CCCOC(=O)c1c2n(cn1)-c3ccc(cc3C(=O)N(C2)C)Cl</td>\n",
              "      <td>-0.13</td>\n",
              "    </tr>\n",
              "    <tr>\n",
              "      <th>3</th>\n",
              "      <td>CC(C)OC(=O)c1c2n(cn1)-c3ccc(cc3C(=O)N(C2)C)Cl</td>\n",
              "      <td>0.08</td>\n",
              "    </tr>\n",
              "    <tr>\n",
              "      <th>4</th>\n",
              "      <td>CN1Cc2c(ncn2-c3ccc(cc3C1=O)Cl)C(=O)OCC4CC4</td>\n",
              "      <td>-0.61</td>\n",
              "    </tr>\n",
              "  </tbody>\n",
              "</table>\n",
              "</div>"
            ],
            "text/plain": [
              "                                       MolSmiles  Bio_Activity\n",
              "0   CC(C)(C)OC(=O)c1c2n(cn1)-c3ccccc3C(=O)N(C2)C         -1.28\n",
              "1          CN1Cc2c(ncn2-c3ccc(cc3C1=O)Cl)C(=O)OC         -0.62\n",
              "2    CCCOC(=O)c1c2n(cn1)-c3ccc(cc3C(=O)N(C2)C)Cl         -0.13\n",
              "3  CC(C)OC(=O)c1c2n(cn1)-c3ccc(cc3C(=O)N(C2)C)Cl          0.08\n",
              "4     CN1Cc2c(ncn2-c3ccc(cc3C1=O)Cl)C(=O)OCC4CC4         -0.61"
            ]
          },
          "execution_count": 14,
          "metadata": {},
          "output_type": "execute_result"
        }
      ],
      "source": [
        "df = pd.read_table('data/DIAZEPAM.txt')\n",
        "df.head()"
      ]
    },
    {
      "cell_type": "markdown",
      "metadata": {
        "id": "e6qaJBIi_cqw"
      },
      "source": [
        "We need to tell rdkit which column has our smiles string. "
      ]
    },
    {
      "cell_type": "code",
      "execution_count": null,
      "metadata": {
        "id": "Rn9-Vckt_cqw"
      },
      "outputs": [],
      "source": [
        "PandasTools.AddMoleculeColumnToFrame(df, smilesCol='MolSmiles')"
      ]
    },
    {
      "cell_type": "code",
      "execution_count": null,
      "metadata": {
        "id": "fIVw5azA_cqx",
        "outputId": "5b3f39e1-438c-4bba-bb63-d3ea6cd109f6"
      },
      "outputs": [
        {
          "data": {
            "text/html": [
              "<div>\n",
              "<style scoped>\n",
              "    .dataframe tbody tr th:only-of-type {\n",
              "        vertical-align: middle;\n",
              "    }\n",
              "\n",
              "    .dataframe tbody tr th {\n",
              "        vertical-align: top;\n",
              "    }\n",
              "\n",
              "    .dataframe thead th {\n",
              "        text-align: right;\n",
              "    }\n",
              "</style>\n",
              "<table border=\"1\" class=\"dataframe\">\n",
              "  <thead>\n",
              "    <tr style=\"text-align: right;\">\n",
              "      <th></th>\n",
              "      <th>MolSmiles</th>\n",
              "      <th>Bio_Activity</th>\n",
              "      <th>ROMol</th>\n",
              "    </tr>\n",
              "  </thead>\n",
              "  <tbody>\n",
              "    <tr>\n",
              "      <th>0</th>\n",
              "      <td>CC(C)(C)OC(=O)c1c2n(cn1)-c3ccccc3C(=O)N(C2)C</td>\n",
              "      <td>-1.28</td>\n",
              "      <td><img data-content=\"rdkit/molecule\" src=\"data:image/png;base64,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\" alt=\"Mol\"/></td>\n",
              "    </tr>\n",
              "    <tr>\n",
              "      <th>1</th>\n",
              "      <td>CN1Cc2c(ncn2-c3ccc(cc3C1=O)Cl)C(=O)OC</td>\n",
              "      <td>-0.62</td>\n",
              "      <td><img data-content=\"rdkit/molecule\" src=\"data:image/png;base64,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\" alt=\"Mol\"/></td>\n",
              "    </tr>\n",
              "    <tr>\n",
              "      <th>2</th>\n",
              "      <td>CCCOC(=O)c1c2n(cn1)-c3ccc(cc3C(=O)N(C2)C)Cl</td>\n",
              "      <td>-0.13</td>\n",
              "      <td><img data-content=\"rdkit/molecule\" src=\"data:image/png;base64,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\" alt=\"Mol\"/></td>\n",
              "    </tr>\n",
              "  </tbody>\n",
              "</table>\n",
              "</div>"
            ],
            "text/plain": [
              "                                      MolSmiles  Bio_Activity  \\\n",
              "0  CC(C)(C)OC(=O)c1c2n(cn1)-c3ccccc3C(=O)N(C2)C         -1.28   \n",
              "1         CN1Cc2c(ncn2-c3ccc(cc3C1=O)Cl)C(=O)OC         -0.62   \n",
              "2   CCCOC(=O)c1c2n(cn1)-c3ccc(cc3C(=O)N(C2)C)Cl         -0.13   \n",
              "\n",
              "                                               ROMol  \n",
              "0  <img data-content=\"rdkit/molecule\" src=\"data:i...  \n",
              "1  <img data-content=\"rdkit/molecule\" src=\"data:i...  \n",
              "2  <img data-content=\"rdkit/molecule\" src=\"data:i...  "
            ]
          },
          "execution_count": 16,
          "metadata": {},
          "output_type": "execute_result"
        }
      ],
      "source": [
        "df.head(3)"
      ]
    },
    {
      "cell_type": "markdown",
      "metadata": {
        "id": "pRYBh2l2_cqx"
      },
      "source": [
        "You can even read an `sdf` file directly to a pandas dataframe. "
      ]
    },
    {
      "cell_type": "code",
      "execution_count": null,
      "metadata": {
        "id": "jHBIoJdc_cqx",
        "outputId": "25b19a99-2362-4e8a-c4ff-1ca0c98cab11"
      },
      "outputs": [
        {
          "data": {
            "text/html": [
              "<div>\n",
              "<style scoped>\n",
              "    .dataframe tbody tr th:only-of-type {\n",
              "        vertical-align: middle;\n",
              "    }\n",
              "\n",
              "    .dataframe tbody tr th {\n",
              "        vertical-align: top;\n",
              "    }\n",
              "\n",
              "    .dataframe thead th {\n",
              "        text-align: right;\n",
              "    }\n",
              "</style>\n",
              "<table border=\"1\" class=\"dataframe\">\n",
              "  <thead>\n",
              "    <tr style=\"text-align: right;\">\n",
              "      <th></th>\n",
              "      <th>ID</th>\n",
              "      <th>ROMol</th>\n",
              "    </tr>\n",
              "  </thead>\n",
              "  <tbody>\n",
              "    <tr>\n",
              "      <th>0</th>\n",
              "      <td></td>\n",
              "      <td><img data-content=\"rdkit/molecule\" src=\"data:image/png;base64,iVBORw0KGgoAAAANSUhEUgAAAMgAAADICAIAAAAiOjnJAAAABmJLR0QA/wD/AP+gvaeTAAAgAElEQVR4nO2deVxUZdvHfzOxC7KIA8MSrii4JbhgqRWSryZSuWUqkGaUmdNT+maWb1hPGtaToj4u2KIDaUqpSa4sj+Vu+KC4EKKIwsCAKG7s2/X+cWgcthFmzplzRs/3w8ePnuW+L5nfXPd+XRIigogI20j5NkDk0UQUlggniMIS4QRRWCKcIApLhBNEYYlwgigsEU4QhSXCCaKwRDhBFJYIJ4jCEuEEUVginCAKS4QTRGGJcIIoLBFOEIUlwglmfBsAANXV1WfPnq2pqRk0aJClpSXf5oiwAP8e69ChQ35+fqNGjRo9enTPnj1jY2PFTa2PAsQf169fnzhxImNGly5devTowfw9ICDg2LFjPBomYjj8CKu6ujo6OtrOzg6AjY1NZGRkZWVlXV2dUqmUy+WMvIKDg69cucKLeSKGw4OwUlJSfHx8NOq5fv269t3S0tKoqChGc+bm5hERETdu3DC+kSIGYlRh5eXlhYaGMpLy9vY+cOBAa0+qVKqIiIgnnngCgKOjY1RUVGVlpTFNFTEQIwmrqqoqOjra1tYWQIcOHSIjI6uqqh761sWLF1988UVGiF5eXkqlsr6+3gjWihiOMYSVlJTUu3dvTduXm5vb2pMHDx5MTk5u/nq/fv2Y14cOHXr06FGO7RVhAW6FlZ2dPXnyZEYTvXr1SkxM1PFwVVVV9+7dAQQFBZ07d077Vk1NTUxMjIuLCwCJRDJ58uTs7GxOLRcxEK6EVV5eHhkZaWVl1fa2r7KyctmyZR07dgRgZmY2Z86coqIi7Qfu378fGRlpbW0NwMLCQqFQ3L59myP7RQyEE2ElJCR07dqV8S6hoaFqtbrt7968eVOhUJiZmWkUWV5erv1AXl5eRESEVCoF4OTkFBUV1ZbumoiRYVlYV65cGTduHNP2DRgw4MiRI/qVk5mZqWlDPTw8YmJi6urqtB9ITU199tlnNQPM+Ph4NswXYQ3WhKXd9jk4OERHR9fU1BhYZkpKysCBAxn1+Pv7//77700eSEpK6tOnD/PAsGHDjh8/bmCNImzBjrASEhK6dOmiafsKCwtZKZaI6urq4uPjvby8GPUEBQVduHBB+4Hq6uqYmBiZTKbp1+fk5LBVu4jeGCqsy5cva6aannrqKY7W+MrKyqKioph+PTMd36RfX1JSMn/+fGZnhI2NzSeffFJWVsaFJSJtxCBhffXVVxYWFkwnet26dbW1tWyZ1SLFxcUKhYKZjndwcIiKiqqoqNB+IDc3NzQ0VCKRyGSy1NRUTo0R0Y3+wsrIyJg8eTLT9jXxH5ySkZERHBzM+EhPT8/m0/EbNmwA8MwzzxjNJJHm6C+s+Ph4AKNHj2bRmrazf//+vn37MvL6xz/+oX3r5MmTzBw9L4aJMOi/0U8z1aR3CYYwZsyY9PR0pVLp5uamWdjWNqy2tpYXw0QYDBUWj5+fVCoNCwvLycnx8/PTvs67YSJgV1i5ublXr14l424sZkYPug0TMT76H6Zo/vn5+vqWlZWVlpby1T4yMMNGUVj8or/HYj6/uro6zRWBuArGDG3DRIwPm01hc6nxgkD0/ZjDprAE8okKxIzHHFFYIpwgCkuEEwztvAtQWOKoUAgY6rG0u+oC+UTFUaEQYL8p5P0TFYjjfMwR+1ginCAKS4QTHkFhSSQSqVRKRLw3yo8zj+CoEILp7T3OPIKjQghJ4o8tj+CoEKKwBMAj2McSlCWPLWzuxxLOxykcS5qQm5tbWVmpUqkCAwP5toVbHk2PJZANPE3YtWvXwIEDn3vuuVGjRoWFhZWWlvJtEYc8yqNCIVjCUFFR8fbbb0+YMKGkpMTV1dXa2jouLs7f3z8tLY1v07hCf2FJJJImjkE4fkJQwsrIyAgICIiJibGysoqOjv7vf/+blpY2cODArKysgICAJUuW1NfX820jBxhydow50q6JDrply5aFCxemp6cbfirNQHr27AkgKyuLb0NIqVTa2NgA6N2799mzZzXXKysrFy5cyARjCgoKKigo4NFILjBIWMyhidLSUrasaS9VVVXLly+Pi4trcp2JypyRkcGLVQy3b9+eMmUK8+0NDQ1t8bd08OBBV1dXADKZbO/evcY3kjsMEpa9vT2AO3fusGVNu0hMTGRCm8pksiYhQJiYpU3iTRqTQ4cOeXh4ALC3t//pp5+0b1VWVmoHeCosLBwzZgwAiUSiUCgemSByBgnLyckJwM2bN9mypo2oVCrN6eeePXvu27dP+251dTUT9mjVqlWGx+hqLzU19Omn9b6+gwAMHz68SRR7Ipo7d+6QIUO0Y6jW1dUtW7bMzMxMKjWbMqXg0ciaYJCwmKhUmzZtYsmYh9NiSgvtBw4dOsSEYnN0dATg5OQUERGRlpZmHPOuXaNnniGAevTIjIz8rHn4ndu3b3t6egJwcHD4+eeftW+dOHHilVcOAWRnR83adtPDIGGdOnWKGQmOGDHizz//ZMum1khJSfH19WUcVXBw8LVr17Tv5ubmaqJLent7R0REaPJfABg0aNCaNWtu3brFnXk7dpCTEwHk6Ul//NHqY3fu3Hn11Vdb7HvdvUvTpxNAAE2eTCYdudcgYTWPks0csWcd3SktdLix06dPKxQKZ2dn5l0LC4vg4OD4+Pjq6moWzSsvJ4WiQRAvv0xt6RpojxbPnDnT+BbZ2hJAXbqQ6ca+ZCFUZPMo2Sx25xnR6EhpoduNMVRUVGzbtm3s2LGMfwXg6uq6dOm28+dZsPDiRerXjwCysqLoaGp76ozz588zkZisrKy++65A+8XMTBo4kAAyM6PISGoc19c0YC24rXaU7E6dOrESJVt3SgvtLrzuzDwaCgoKoqOjBwwYAOCppw4B5OtLUVHUWhqoDz6giAjKzGx08f59ioigLVuIiJRKsrEhgHx8SI/5u4qKCoVCMWLEZoBGjybtsOXV1RQZSVIpATRqFOXnk0pFERE0bx41ySp0+jRFRNDp0+2unVNYDsetHSW7V69eekfJ1m77mqe0aO7G2pvC6eTJP+fMqXdwaGi/LC1p0iTas4eaDCKdnQmgkSMb+aHiYgJo9mwKCWl4/e23qXEs+vaxc2c90zlzc6OUlEa39uyhzp0JIBcX+u67huqWLGn0THw8AbR9u/4GcAFXCQQ0WS0DAwPbNSh7aEqL5ORkHVnp2kVlJSUk0OTJZGbW8Jm5upJCQZo+j7Mz2dkRQJs3P3iLEdbbb9PTT5O9PW3bpnf9D8jNpZEjCSCJhBQK0u4BFhXR2LFkZkaxscSMGa2sSHtN4TESFukbJfv48eM6Ulo0cWMHDx5ky1qVir78knr3bpAXQIMH0+7d5OxML75IAQHUuTNpBpSMsN55h65do9bzTbWb2lqKiiJz84batWez6uro2DE6d44A+t//JTs7Cgp6cPfxEhZDSUnJwoULGfdjY2OzcOHCu3fv6ng+OzvbysqqeUqL8vLyqKgoZgWp7Vnp9OD0aVIoGlrATZvI2ZnGjaMTJ0giodmzG57RCIsLDh8mT08C6JNPmt5ihPX11/TllwQ0dPLo8RQWw/Xr15ko2QCcnZ11J604efJkk3nFhISEbt26tdaF54KKCtq6le7fbxAWEYWFkURCjNo5FRYR3bpFixZR8/kQjbAqK6lHD3JxoZISosdZWAynTp0aPnw4o4/evXu3pV9/5coVTeTtAQMGHD582Ah2aqMRVmEhOThQnz5UXc25sFpDIywiOniwoZ9HorAYEhISmKSEzHYR7Z0k2nCRmUcPNMIiojVrCKBvvhGEsIhowgSSSunPP0Vh/Q0zWeDg4ABAKpWGhoY22Y3UJCsdi5l52ou2sGpryc+PHBwoI0MQwsrNJVtbGj5cFFZjbt26tXDhQk32m4ULF967d69JZh7es/RqC4uIUlNJKqWpUwUhLCJavpwAevVVUVjNuHTp0ssvv8woycnJiYmt7ejouHbtWq4z87SFJsIioogIkkiEIqzqavL1bbBHaMLSf887K3h7e+/atevEiRP+/v51dXVM25eZmfnOO+9o1vUExZdf4u8Vbf4xN8eGDXwb0Qo8C4shICDg888/v3v37tChQ2NjY5lpVSHg4ABb20ZXnJzw1VdwdISNjbGNeeIJODrCyqrRxREjMHMmHB3RLI8Cz+h/YJVdrl69CkB7B5UQuHy56ZUrV1BUhPPn4e5ubGN8fVFSgrVrkZiI55+HuXnD9e+/x/ffG9uYhyIsYWkmQgXLxx/j559hbQ2FgofaS0uxYAGqq5GfD1dXHgxoO4JoCgFkZ2cD0ExxCZaJEwFgxw5+at+zB5WVGDFC6KqC0IQlfI81bhysrXH0KNRqHmpnBM2IW+AIQlhElJOTA1MQlq0tXngB9fXYvdvYVZeXY/9+SCT4e35G0AhCWIWFheXl5c7OzsxBRYHDV2t44ADKyhAQAE9PY1etB4IQlql0sBhCQmBhgd9/x82bRq3XhNpBCEpYwm8HGRwcEBiI2lr89pvxKq2qwt69APDKK8ar1BAEISxmrsFUPBb4aA2TknD3Lvz8YCLfPmEIy7SaQgAvvwwzMyQm4vZtI9VoWu0gBCIsU5kd1eDsjJEjUVODAweMEYKrpqZu3z4AmDDBCLWxgyCEZXIeC0BoaGbv3tN//nmKEer6449DtbW9pkzZ+fchSxOAf2GVlpbeuHHDyspKLpfzbUs7GDPGIStr24EDB8rKyriu65dffikpyfLxOcd1RSzCv7A0Q0LmFLWp4OrqOmzYsIqKin1MK8UZ9fX1CQkJACaaUA9LCMIyuQ6WBuaT3sHx4PDIkSNqtbpnz55MNDlTgf/dDabYwWKYNGnS/Pnz9+7dW1FRwcREYYiNjT1+/Ljexa5Zs8Zcsyfmb+FOmjTJEFN5gO8trDRnzhwAq1at4tsQfRg8eDCA3bt3a198/fXXDflEyrXiQNTX1zOB2k4LLejHwxA9lkFMnDgxNTV1x44dISEhmovh4eFDhw7Vu0wLrc2gp06dysvL69Kli5+fn0GGGh++lU2MpP766y++DdEH5lvh4ODA0ZH/BQsWAPjggw+4KJxTeO6819XV5ebmSiSSLl268GuJfnTr1q1///537tz5z3/+w0X5O3fuhKmNBxl4bgpzc3Nramo8PDysmhwSMB0mTpx47ty5VatWsV7ylStXrl696urqGhAQwHrhXMOzsEy6g8UwePDgjh07Hjhw4MCBA6wXLpfLu3TpYlozfAyisAyivr4+Kirq3r17Xl5evdlecKmoqDh27FhRUVFSUtILL7zAbuFcw7OwTHd2lGHt2rWHDx92dXVNS0tj0imwy9KlSxcvXjxjxoz09HRX4Z+g0IaXIUNRUVFMTMz06dOZbmmTpCCmQk5ODhMHdceOHRxVUVdXN2rUKABjxoypb3tAZgFgVGHduHFDqVQGBwdrZpa9vb0BnDp1yphmsEJ9fT3TPE2dOpXTilQqFROnfsWKFZxWxC7GEFZOTs4333zz9NNPazqhlpaW48eP37x5MxP13/jZeAxn/fr1AJydnYuKiriua9++fRKJxNzc3IS+gVwKKyvrX1FR/v7+mmbXxsZm4sSJW7duZSKRVlVVzZgxw8nJKTU1lUMzOEClUjHxvfSON95e5s2bB6BHjx737t0zTo0GwoGwLlygqCgmWdH8gQMZPQUHByuVyua/lPnz5wPo1KnTeVayRBgLJhFcSEiI0WqsrKx86qmnAMycOdNolRoCe8I6fZoWLaJevR6EtHZ0vPjRRwkJCRUVFS2+ceXKlWXLljG/L5lMxm/eyrbz3XffMV8GI4cazMrKYsYKP/74ozHr1Y+2Ceuvv2jNGvroI/r0U4qLI+0cWhcuUGQkeXs/0FOnThQaSgkJ1MryWXZ2dnR09DPPPMPEUfb29h47diwADw8PjnI8sUh+fj6TsG6LJhy2Edm4cSMAW1tbIWQl1s3DhFVeTjNmkERCTzxBHh4NEdDt7Gj9eiKi8PAHenJ3p3ffpUOHqJVIfGfOnFm8eLF2oCIHB4cZM2bs2rWrtLSUSZTSvXv3/Px8tv+PbMLEHwwODubLgNdeew3A4MGDBZ6L9WHCevllAmjePCoubrhy5gwNGtSQBkSppCefJIWCjhxpOUVVfX3h6dMffvih9ty6s7PzG2+8sW/fPu1fzd27d4cMGcI4sCYJKYRDbGwsAHt7+7y8PL5suH37NrNgv2jRIr5saAs6hZWYSACFhTW9XlJCrq7k7EytpRmvq6MjR2jhQurRo9bNTfp36oDQ0NCEhITWcgXevn2b2XXUv39/TjNW6odarWbm1jdrJ9bhg1OnTpmbm0ul0qSkJH4t0YFOYb3+OgHUYij2//s/AqjxzkmqraXkZJozh1xdHzSRTz65fvHiI0eO1LUh615RURGz4jZs2PB794SVpW/ChAkAxo4dy7chRESff/45ABcXFx5jletGp7D69yeptOU++P79BFBkJBFRbS0dOUIKRSM9eXk1NJHtXIhQqVTe3n2GDct7+ulWHaLx+emnnwB07NjRCAlX2kJdXV1gYCAjdGEu9egUlocHyeUt30pLI4DefZfKyhp69MyPjw8tXkyNc9G2l5ycGg8PAuh//qdp0kdeKC4uZuLtfvvtt3zb8gDNUk90dDS3Nf32G4WGUkAA+ftTSAitWUNlZQ99SaewunYle/uWb508SQDNn09EFBhIvr4UGUkXL+phdotkZZFcTgC99FIL6YqMDJPDPDAwUGi+Ye/evRKJxNLSsl0ZIdtBRQW98kpD/vRp02jmzIZxW9eudOmS7ld1Cmv4cAKoxURw27cTQMyyqCHZRVvn3Dnq1IkAmjSptRkMY7B7924AHTp0yM7O5s2I1pk7dy6HSz1MCvUPPmj05d65kywtyceHWpn3ZtAprI8+IoD27Wvh1qxZBBDHa3xnzpCjIwEUHs5Pwu2bN2+6uLgAWLduHQ/VtwHNUs+sWbMMLev+fcrIoJQUUiopO5sKCsjcnIYObaGX/OmnDQkdW0ensLKyyNyc/P2b+qS0NLKwoEGD9DK/fRw/Tra2Dd054zNt2jQAzz33nNAaQW0uXrxoY2PTlsWA2tra/Pz8C6mp9OuvtGYNffwxhYXRqFHk49OQoljz88MPtGkTAbR6dQsFXbtGAE2YoKOuh02Qfv01AeTnRzt20OXLdOECffMNOTpSx44tT0NwQHIyWVkRQO+/b5wKG/jtt9+YFfTLly8bteL2ExMTw8zcXr16tbS0NCMjIzk5WalULl269N13333ppZeGDBni5ubGZJHpzrQCzX+sralnTxo5kqZPp+Rk+vBDAmjPnpardHAgHx8dJrVhrVCpbMgmq/l57jky7maEhISGZMmbN1NSUguDhIwMSkpqmoPeEO7cuePh4QHTOaI9depUZqln0aJFre0Wlkgkrq6ufn5+dS+9RG+/TZ99Rj/8QPv30/nz1HxGes4cAqi1E9heXuTursOeNux5DwtDaCgyMnD9Oqyt0asX3Nwe/harjB+PuDikpaG4GK+/Dicn/PUXtDPurFyJb7/FnTtgK+zye++9p1Kphg0bxvSOhc/69etPnjyZmpoqk8m8vb3lcrmnp6dcLnd3d3d3d3dzc/Pw8HB1dbVoe86dDh0AoLi45bulpejcWdfrLH1hjMS//kUASSRN15nefJMAunOHnVqYyESWlpamspOHgbWlnspKKiigDRsIoA0bWnigsJAA0rkdjf/YDXowYQLi4hAejsBAQ4uqra0tLi6+ceNGQUEB85f8/Py4uDgAX3zxhdCSRulmyJAhYWFhe/fu1Q5W0yoVFVCrcfUqCgqgVjf689o1yGQ4ehRSKX79FW+91fTd+HgAGD1aR/EmKawPPsCJE5g7F2fPwtJS15PV1SguRmEhCgsb/lJTcyYz819qtfrGjRuMkpq/NWzYsO7du7///vvtsmrTpk3btm178803eQw5dOPGjcLCwj/++OPZZ5+trKzMz88vKChQqVRqtTovL0+tVufn5+fn5//StaufjpgA5uawsEDXrpg0CfHx+OEHzJr14G5GBj77DG5uCA3VYYlJCsvWFsuXIzQUX3+NxYsfXM/OhlKJoiKo1SguRlERSkqavjtgwL309K2af0qlUplM1rlzZ7lcLpPJZDKZXC739fXVZBBuOzk5OYmJiQEBAXwJ6/Lly3v37rW0tPzll1/WrFlzs/UEB7lPPunn6Ag3N3h4QC6Hpyfkcnh4wM0Nbm5wcQFz7GXtWmRm4o038MsvGD0alpZIT0dsLMzNsWsXOnbUYYxJCgvA9On4/nt88QUmT0avXg0X793D6tWNHjM3R+fOkMkgl6NzZ7i4wMurr719nIuLi6urKyMptg6wu7u7A8jPz2elND2Ijo6ur68PDw/fv3//zZs3LSwsOnXq5ObmJpfLNX9269ZNLpd7eHi0aZjj7Izjx7FyJbZvx4cfoqYGnp6YPh0ff4yuXR/yrkG9PKPDdN7T04mIzp0jMzMaM4bo78779esUHU1bttChQ3ThAt24YVTbmHmvMYxBRqekpKRDhw4SieTixYuXLl1Sq9XsT+q2Z/XDVD0WgH79oFBgxQrs2dNwxd4e773Hmz38eqz169eXlZW9+OKLvr6+XNXRHtduemFMtFmyBO7uWLAANTV8m8KrsGpqapgDtO0dcHCHaQvLzg4rVuDSJezaxbcpQOfOnS0tLUtKSioqKoxc9datW1UqVd++fZlAD0LAtIUFYMoUjB2Lu3f5tuPvBRMABQUFRq46OjoawPz585kTdULA5IUFYPVqCCQeIC+tYUpKytmzZ2UyGbNcKBBMrPM+aRI8PGBn1+hijx44dgwlJQ2rWzzCCMvIHqt7bOw7I0d2GztWUOE2TcxjeXnh8GH06oXvvmt03c8PQUEw4/trwoPHysrq8uOPa1NT58+ebbxK24CJCau6Gtu3o6YGgwfzbUpL8CCsFStQX4/wcDg7G6/SNmBiwvr1V9y6BT8/DBjAtykt4ebmBmMKq6QEP/4IiQQKhZFqbDMmJiylEgDCw/m2oxWM7bHWrkVZGcaNg/B2YZiSsIqKkJgICwu89hrfprSCUYVVVYX16wFAMJOi2piSsJRK1NZi/PiHbF3kEc2okIg4r2zrVqjV6NcPzz/PeV3tx5SE9eOPADftYFlZ2Z07dwwvx9ra2tHRsbq6WseWFdZgcmEsWADBTIpqYzLC+vNPnD8PmQxjxrBfeExMjKen51tvvZWZmWlgUUZqDZOTkZ4ONzcIaVJUG5MR1ubNABAairZsu20vGRkZZWVlGzdu7NOnz4QJE44ePap3UUYS1sqVADB3Ltp+OMLIsLxlhxsqKuqZw3DnznFVxaVLlxQKhSZRqp+fn1KpbC2Ulw5mzZoFICYmhgsjH5CURCEhJOAw5qbhsRISfnZx8Zs27Wfu0iJ7e3uvWrXq2rVrUVFRbm5uaWlp4eHhXl5eS5YsKWm+wbl1OFnVqazExo2YMgUjRiAoCPPmwdoau3ejUyc2a2EXvpXdJpjot6tbPO7NAZWVlUqlsk+fPsyvyNbWNiIiIjMzsy3vbtiwAcDs2bNZs+bSJerWjQDq149efZVCQsjJiQB6800+g6U8DBMQllqtNjMzs7CwKNbEQTUWR44cCQ4OZvaiSKXS4ODghx7ZYzYosxb4r6yMvL3J2pp+/fXBxfv36bXXCKDPP2enFg4wAWFFRUUBmDhxIl8GpKenR0RENOl+1bRynj8tLQ1A//792al73ToCaPnyptcrK6lnT7KzY+2QLtuYgLD69u0LICEhgV8zioqKIiMjnf9e65XL5ZGRkSUlJU0eKywsBNCpUyd2ah0zhgBqMV3PF18QQDt3slMR2whdWCdPngQgk8n0GKBxQZPul52dXURExCWt8HZ1dXVMfIRyVuLReXqSnV3Lt/bsIYD++U8WauEAoY8KlUolgNDQ0DYdG+ceS0vLsLCw8+fPJyUlBQcHl5aWbty40cfHZ/z48cnJyQCkUimzQVmtVrej3Hv3kJGB5GTExmLpUsybh5deQno67t+HXN7yKw4ODS8KEr63xumkuro6Pj4eQFhYGN+2NEIikQQFBQUFBaWnp69bty42NnbPnj179uzx9/dXKBRubm65ubn5+fnamWNramqKioqYc+4qlcr+3r3wrCyoVFCrkZeHsrIWqpk2DTY2uHWrZSOYV2xtufgPGo6EjLBcqi/bt2+fOnWqv7//6dOn+bZFF2q1+t///ndMTMytW7cAdOjQoaysbPLkyZ07d87LyysoKCgoKCgqKqqvr9e8Mlgu/1PbpdnYNDrn7u4Od3cEBGDqVBw9ivv3WxDQ6tV47z1s2YJp04zxn2wvfLfFujDy9JWBMN0v5ryoXZNt+YBUKpXL5YMGDQoJCZk7d+7ypUtp82ZKTKSLF3WN7JYsIYBaTG08ciSZmZFQUw8JWlgrVqwYOHCg8aevDOHmzZtWVlYSiWT27NmrV6/euXPniRMnVCpVa9MTD6GggOztycuLmmTviYlpCPorVAQtLFNk2bJlYDczyq5dZGFBTk704YcUF0cbNlBICAE0cCA1m+wQDqKw2KS6upqJXJqYmMhmuWlpNHHig8DGPXvSkiUCSgjTEoLuvJsccXFxYWFhffv2PXfuHCeHku/fh6WlcLfKaCHo6QaTY82aNQDef/99ro66NxsTCBbRY7HGoUOHAgMDZTLZ9evXBXUomReEPvNuQqxcuRLA3LlzRVVB9Fhscfny5d69e5ubm1+/fp1Jv/OYI3osdli5ciUT/1NUFYPosVigpKTkySefLC8vv3DhAoeRGk0K0WOxABP/c+zYsaKqNIgey1Bqamq6deumUqmSkpKCgoL4NkcoiB7LUAQY/1MIiMIyFAHG/xQCYlNoECkpKUFBQeKkaHNEj2UQzKTovHnzRFU1QfRY+pOVleXj42NpaZmbm+sssEiNvCN6LP1ZsWIFMykqqqo5osfSE82k6MWLF00rX6ZxEPeg3WwAAADtSURBVD2Wnqxdu7asrGzcuHGiqlpE9Fj6UFVV1bVrV7VanZKSEmh4/uBHEdFj6cPWrVvVanW/fv2eF2T8TyEgCksfVq1aBWDBggXipGhriE1hu0lKSho9erSbm1tOTo6FKWw/5wXRY7UbzU5RUVU6ED1W+7h06ZKvr6+VlVVubm4nIUdq5BvxlE77sLS0nDlzpp2dnagq3YgeS4QTxD6WCCeIwhLhBFFYIpwgCkuEE0RhiXCCKCwRThCFJcIJorBEOEEUlggniMIS4QRRWCKcIApLhBNEYYlwgigsEU4QhSXCCaKwRDhBFJYIJ/w/zJ7it2LvOoUAAAGtelRYdHJka2l0UEtMIHJka2l0IDIwMjAuMDkuMQAAeJx7v2/tPQYg4AFiRgYIEAdiSSBuYGRjSACJM7MxKABpFgQXQnMwaABpZiY2CM0C5ztA+DCaHUIzszlkgGlGhABMIVQCLwOqFs0ydgaoWWBHMTHBHMcN9A8jE5DBwMjCwMKqwMqmwcTKrsDOncDOkcHEIcrAwZnAyZXAyaPAxZ3BxCMIxLwJvHwZTHz8CfwCGUwCggmCQgpCwhpMQiIKIqIMImIMIsys7NxcnBxsvHz8AoI87EKCPJwcoiLisIBjEG8OXGkn9vvzfhDH/piNfbVIHZi9h1XJPl+I2RrE7g822ff3myhY/Nm6u/Y/gpPB7LIHHA7i2y/agNiRbR4O7y1Y7UDsJ83H7CNWhNqD2CfYeeHsRVvK7br6nthD1LTZn3wq7gBimwi+s4eJGx8x3D/nCAdYfP0U0/0/DnmA2a+mntr/6206mD3fRubAAil3MPuOm/QBZxl2MFv90LH9TY/Og82Z9/76/lRJJTB74TWNA/kfloLddvtn3X6Thu17GdBASMma/RsDmsH+EgMAmh9td13IUzAAAAGHelRYdE1PTCByZGtpdCAyMDIwLjA5LjEAAHicrVRJTgMxELzPK/oDjHrx0n0mnBBB4sAfuPN/0R57nIkUpKTBGkVVXirVi71AGx+n169vmINPywIswBkAb35mBp+MiEvbj6sIVgdPtBoW6nO+ivAMv0kcv6FSpaamgqtZ+++YShG2/SxjSMUdUN3icJQ1a8wLeURkXUVVj17e71fhlUTrOMu5xLyIqwj3syRIMS+05owjuyop6AX/SYXTlt2WZ73Ky/mRiHB44VWqpGilNdtfvXiXFEtpr3kN925Fk73mxWIqXmnl2lUKS1CF15SIhxeiYESuwoVHXnyEI8qsvUbFWyeqUnSvTJk36vGIiuhwINde7r+N2ztZsCNUC96AceIWeigvkqp05K9UqF88Dbz9NuJIjiQdSZ7EUZnEUd3WB9G5okB8IGBzmwFfVgxaj3biqLXahUw7Pt3UuoBPkx7JNOqI8lzJQNOoI5pGHdE06qi9aYO4N5zbnEw7ji6uG9m9vQG8nE/LD7oDNTnSLi8KAAAA9HpUWHRTTUlMRVMgcmRraXQgMjAyMC4wOS4xAAB4nFWQSY7DIBBFr9JLW8KoBqhBUVbs40N4nxPk8P3LWbQaIUqvhs+H9eJ1ybWt7Xnu59rWjr329/WWo/IXluyLn+fPZzu463BtiCQz2+OgnmkNgQLxQY1w9DkpG/XQgRz/R+ms4UAoABWoAmQlrmZXzhKMiJJy9dHua2QWq5LX/UnGxaZS2kRyu2FHGnHGjFKLmdkgGvN2QuVEurqOGpbBf1VMWY7RyqADy7cEyoY2sPQhJlXG+vJgadq/iPYQB5ro92ecUquslnfd7mdbPbemTYPBWur75xdEU0/4prTnpAAAAABJRU5ErkJggg==\" alt=\"Mol\"/></td>\n",
              "    </tr>\n",
              "    <tr>\n",
              "      <th>1</th>\n",
              "      <td></td>\n",
              "      <td><img data-content=\"rdkit/molecule\" src=\"data:image/png;base64,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\" alt=\"Mol\"/></td>\n",
              "    </tr>\n",
              "    <tr>\n",
              "      <th>2</th>\n",
              "      <td></td>\n",
              "      <td><img data-content=\"rdkit/molecule\" src=\"data:image/png;base64,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\" alt=\"Mol\"/></td>\n",
              "    </tr>\n",
              "  </tbody>\n",
              "</table>\n",
              "</div>"
            ],
            "text/plain": [
              "  ID                                              ROMol\n",
              "0     <img data-content=\"rdkit/molecule\" src=\"data:i...\n",
              "1     <img data-content=\"rdkit/molecule\" src=\"data:i...\n",
              "2     <img data-content=\"rdkit/molecule\" src=\"data:i..."
            ]
          },
          "execution_count": 20,
          "metadata": {},
          "output_type": "execute_result"
        }
      ],
      "source": [
        "PandasTools.LoadSDF('data/DIAZEPAM.sdf').head(3)"
      ]
    },
    {
      "cell_type": "markdown",
      "metadata": {
        "id": "gjEhLsM9_cqx"
      },
      "source": [
        "This makes writing to files after doing some sort of processing on the database easy.  \n",
        "\n",
        "We can add a column consiting of names for our molecules and write that to a new sdf. "
      ]
    },
    {
      "cell_type": "code",
      "execution_count": null,
      "metadata": {
        "id": "7wrqGkP0_cqx",
        "outputId": "f503235a-82a2-4927-e02c-ff7929f85003"
      },
      "outputs": [
        {
          "data": {
            "text/html": [
              "<div>\n",
              "<style scoped>\n",
              "    .dataframe tbody tr th:only-of-type {\n",
              "        vertical-align: middle;\n",
              "    }\n",
              "\n",
              "    .dataframe tbody tr th {\n",
              "        vertical-align: top;\n",
              "    }\n",
              "\n",
              "    .dataframe thead th {\n",
              "        text-align: right;\n",
              "    }\n",
              "</style>\n",
              "<table border=\"1\" class=\"dataframe\">\n",
              "  <thead>\n",
              "    <tr style=\"text-align: right;\">\n",
              "      <th></th>\n",
              "      <th>MolSmiles</th>\n",
              "      <th>Bio_Activity</th>\n",
              "      <th>ROMol</th>\n",
              "      <th>Name</th>\n",
              "    </tr>\n",
              "  </thead>\n",
              "  <tbody>\n",
              "    <tr>\n",
              "      <th>0</th>\n",
              "      <td>CC(C)(C)OC(=O)c1c2n(cn1)-c3ccccc3C(=O)N(C2)C</td>\n",
              "      <td>-1.28</td>\n",
              "      <td><img data-content=\"rdkit/molecule\" src=\"data:image/png;base64,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\" alt=\"Mol\"/></td>\n",
              "      <td>Mol_0</td>\n",
              "    </tr>\n",
              "    <tr>\n",
              "      <th>1</th>\n",
              "      <td>CN1Cc2c(ncn2-c3ccc(cc3C1=O)Cl)C(=O)OC</td>\n",
              "      <td>-0.62</td>\n",
              "      <td><img data-content=\"rdkit/molecule\" src=\"data:image/png;base64,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\" alt=\"Mol\"/></td>\n",
              "      <td>Mol_1</td>\n",
              "    </tr>\n",
              "    <tr>\n",
              "      <th>2</th>\n",
              "      <td>CCCOC(=O)c1c2n(cn1)-c3ccc(cc3C(=O)N(C2)C)Cl</td>\n",
              "      <td>-0.13</td>\n",
              "      <td><img data-content=\"rdkit/molecule\" src=\"data:image/png;base64,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\" alt=\"Mol\"/></td>\n",
              "      <td>Mol_2</td>\n",
              "    </tr>\n",
              "    <tr>\n",
              "      <th>3</th>\n",
              "      <td>CC(C)OC(=O)c1c2n(cn1)-c3ccc(cc3C(=O)N(C2)C)Cl</td>\n",
              "      <td>0.08</td>\n",
              "      <td><img data-content=\"rdkit/molecule\" src=\"data:image/png;base64,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\" alt=\"Mol\"/></td>\n",
              "      <td>Mol_3</td>\n",
              "    </tr>\n",
              "    <tr>\n",
              "      <th>4</th>\n",
              "      <td>CN1Cc2c(ncn2-c3ccc(cc3C1=O)Cl)C(=O)OCC4CC4</td>\n",
              "      <td>-0.61</td>\n",
              "      <td><img data-content=\"rdkit/molecule\" src=\"data:image/png;base64,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\" alt=\"Mol\"/></td>\n",
              "      <td>Mol_4</td>\n",
              "    </tr>\n",
              "  </tbody>\n",
              "</table>\n",
              "</div>"
            ],
            "text/plain": [
              "                                       MolSmiles  Bio_Activity  \\\n",
              "0   CC(C)(C)OC(=O)c1c2n(cn1)-c3ccccc3C(=O)N(C2)C         -1.28   \n",
              "1          CN1Cc2c(ncn2-c3ccc(cc3C1=O)Cl)C(=O)OC         -0.62   \n",
              "2    CCCOC(=O)c1c2n(cn1)-c3ccc(cc3C(=O)N(C2)C)Cl         -0.13   \n",
              "3  CC(C)OC(=O)c1c2n(cn1)-c3ccc(cc3C(=O)N(C2)C)Cl          0.08   \n",
              "4     CN1Cc2c(ncn2-c3ccc(cc3C1=O)Cl)C(=O)OCC4CC4         -0.61   \n",
              "\n",
              "                                               ROMol   Name  \n",
              "0  <img data-content=\"rdkit/molecule\" src=\"data:i...  Mol_0  \n",
              "1  <img data-content=\"rdkit/molecule\" src=\"data:i...  Mol_1  \n",
              "2  <img data-content=\"rdkit/molecule\" src=\"data:i...  Mol_2  \n",
              "3  <img data-content=\"rdkit/molecule\" src=\"data:i...  Mol_3  \n",
              "4  <img data-content=\"rdkit/molecule\" src=\"data:i...  Mol_4  "
            ]
          },
          "execution_count": 22,
          "metadata": {},
          "output_type": "execute_result"
        }
      ],
      "source": [
        "df['Name'] = ['Mol_{}'.format(i) for i in range(df.shape[0])]\n",
        "df.head()"
      ]
    },
    {
      "cell_type": "code",
      "execution_count": null,
      "metadata": {
        "id": "Dm2LXcID_cqx"
      },
      "outputs": [],
      "source": [
        "PandasTools.WriteSDF(df, 'data/DIAZEPAM_w_name.sdf', properties=['Name', 'MolSmiles', 'Bio_Activity'])"
      ]
    }
  ],
  "metadata": {
    "kernelspec": {
      "display_name": "Python 3 (ipykernel)",
      "language": "python",
      "name": "python3"
    },
    "language_info": {
      "codemirror_mode": {
        "name": "ipython",
        "version": 3
      },
      "file_extension": ".py",
      "mimetype": "text/x-python",
      "name": "python",
      "nbconvert_exporter": "python",
      "pygments_lexer": "ipython3",
      "version": "3.7.11"
    },
    "colab": {
      "provenance": []
    }
  },
  "nbformat": 4,
  "nbformat_minor": 0
}