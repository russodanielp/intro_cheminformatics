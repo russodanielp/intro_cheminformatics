{
  "nbformat": 4,
  "nbformat_minor": 0,
  "metadata": {
    "colab": {
      "name": "DeepLearning.ipynb",
      "provenance": [],
      "authorship_tag": "ABX9TyMr3z3w8nWO6sX/rYNwn4QT",
      "include_colab_link": true
    },
    "kernelspec": {
      "name": "python3",
      "display_name": "Python 3"
    },
    "language_info": {
      "name": "python"
    }
  },
  "cells": [
    {
      "cell_type": "markdown",
      "metadata": {
        "id": "view-in-github",
        "colab_type": "text"
      },
      "source": [
        "<a href=\"https://colab.research.google.com/github/russodanielp/intro_cheminformatics/blob/master/DeepLearning.ipynb\" target=\"_parent\"><img src=\"https://colab.research.google.com/assets/colab-badge.svg\" alt=\"Open In Colab\"/></a>"
      ]
    },
    {
      "cell_type": "markdown",
      "source": [
        "# Deep Learning"
      ],
      "metadata": {
        "id": "NKSWxf8ZVMZj"
      }
    },
    {
      "cell_type": "markdown",
      "source": [
        "## Aim\n",
        "\n",
        "To understand the basics of a neural network and to create a simple deep learning neural network using PyTorch.\n",
        "\n",
        "## Objectives \n",
        "\n",
        "* Create a simple deep learning model using PyTorch\n",
        "\n",
        "## Background\n",
        "\n",
        "The explosion of the amounts of accessible, publically available data couples with hardware advances such as graphical processing units (GPUs) has lead to the resurgances of deep learning methods.  Deep learning is a catch-all term for various types of artificial neural networks, which have seen in the QSAR lab.  A simple neural network generally consists of one input later, a hidden layer, and an output layer.  However, this framework can be extended to include any number of hidden layers.  When an artificial neural network contains more than 1 hidden layer, it is called a deep neural network.  \n",
        "\n",
        "Part of Python's popularity is the number of deep learning libraries.  The [PyTorch](https://pytorch.org/)"
      ],
      "metadata": {
        "id": "Pofcn1V6VT85"
      }
    },
    {
      "cell_type": "markdown",
      "source": [
        ""
      ],
      "metadata": {
        "id": "_IRkR6OoaibV"
      }
    },
    {
      "cell_type": "code",
      "execution_count": null,
      "metadata": {
        "id": "u7N93U7QVJ9y"
      },
      "outputs": [],
      "source": [
        ""
      ]
    }
  ]
}