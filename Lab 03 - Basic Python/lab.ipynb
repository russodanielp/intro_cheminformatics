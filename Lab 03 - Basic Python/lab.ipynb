{
  "cells": [
    {
      "cell_type": "markdown",
      "metadata": {
        "id": "B1XrbCrHRLdz"
      },
      "source": [
        "# Basic Python"
      ]
    },
    {
      "cell_type": "markdown",
      "metadata": {
        "id": "l-m3tuUZRLd6"
      },
      "source": [
        "## Aim of this lab\n",
        "\n",
        "To learn the basics of Python Programming.  "
      ]
    },
    {
      "cell_type": "markdown",
      "metadata": {
        "jp-MarkdownHeadingCollapsed": true,
        "tags": [],
        "id": "QHD7sPEqRLd7"
      },
      "source": [
        "### Objectives\n",
        "\n",
        "* Learn the fundamentals of Programming and Python\n",
        "* Learn how to assign data values to variables.\n",
        "* Learn how to select individual values and subsections from data.\n",
        "* Learn how to perform operations on \"arrays\" of data.\n",
        "* Learn how to display simple graphs from data.\n",
        "* Learn what a `for` loop does.  \n",
        "* Learn how to write `for` loops to repeat simple calculations.  \n",
        "* Learn how to trace changes to a loop variable as the loop runs.\n",
        "* Learn how to trace changes to other variables as they are updated by a `for` loop. \n",
        "* Learn what a library is and what you can use them for..\n",
        "* Learn how to \"import\" a Python library and use the things it contains.\n",
        "* Learn to read tabular data from a file into a Python program."
      ]
    },
    {
      "cell_type": "markdown",
      "metadata": {
        "id": "7lF1BH7ARLd9"
      },
      "source": [
        "\n",
        "## The Python Programming Language\n",
        "\n",
        "Python is one of the most popular programming languages.  Additionally, it is arguably the preferred languages for doing data science, bioinformatics, and cheminformatics.  The other language in that argument, the R statistical programming language is also quite popular and has many of the same benefits that makes Python great for data science.  However, Python's growth in the last decade or so, coupled with it's open-source community and many open-source libraries particular for the life sciences, has potentially given it the lead.  \n",
        "\n",
        "Python, and R, are interpretted languages, rather than compiled languages like (C, C++, etc.).  In both circumstances, progamming lanuages are used to instruct the computer what to do by getting converted to machine code.  In compiled code however, they must be first compiled in one step and interpretted in ther other.  Interpretted languages on the other hand do this at run time, allowing you to immeidately see the results (at the cost of some other performance factors, not necessarily of concern to data scienctists, bioinformaticians and cheminformaticians).  This means you can quickly do computational tasks and see the results immediately.  It also allows for things like [Jupyter Notebooks](https://jupyter.org/) which is what we will use for this course.  \n",
        "\n",
        "Jupyter Notebooks have been referred to as [\"The Scientific Paper of the Future\"](https://www.theatlantic.com/science/archive/2018/04/the-scientific-paper-is-obsolete/556676/).  They are widely used by data scientists and the like and allow for interspclices text, photos and other media with programming code (Jupyter stands for Julia, Python and R, the three languages it has support for).  They are great for tutorials which is why we will use them in this course.  \n",
        "\n",
        "One of the core fundamentals of Python as a data science languages are its strong libraries for data science, visualizaition and cheminforamtics.  After exploring the basics of programming, we will overview four libraries. \n",
        "\n",
        "### Pandas\n",
        "\n",
        "[Pandas](https://pandas.pydata.org/) is a data analytics library that allows for fast computational on data matricies, a core component of statstics and data science.  \n",
        "\n",
        "### Matplotlib\n",
        "\n",
        "[Matplotlib](https://matplotlib.org/) is a data visualization library for creating complex, scientific paper-quality graphs, figures and charts.  \n",
        "\n",
        "### RDKit\n",
        "[RDKit](https://www.rdkit.org/) is a excellent cheminformatics and computational chemistry library.  It will be explored in depth in a later lab. \n",
        "\n",
        "### Scikit-learn\n",
        "[Scikit-learn](https://scikit-learn.org/stable/) is a library for building machine learning models and will be used in the module on QSAR. \n",
        "\n"
      ]
    },
    {
      "cell_type": "markdown",
      "metadata": {
        "id": "i4l3BR4TRLd9"
      },
      "source": [
        "#### The basics of Python programming\n",
        "\n",
        "#### Variables\n",
        "\n",
        "* Information stored in variables is not static \n",
        "* It can be changed, manipulated, or updated to contain new information.  \n",
        "* Does not have to be expicitly declared.  Can be the resuls of a Python expression."
      ]
    },
    {
      "cell_type": "code",
      "execution_count": null,
      "metadata": {
        "id": "6U_wYZL-RLd-"
      },
      "outputs": [],
      "source": [
        ""
      ]
    },
    {
      "cell_type": "code",
      "execution_count": null,
      "metadata": {
        "id": "0cBnQqgmRLd_"
      },
      "outputs": [],
      "source": [
        ""
      ]
    },
    {
      "cell_type": "markdown",
      "metadata": {
        "id": "R54zhvviRLd_"
      },
      "source": [
        "![Variables as Sticky Notes](https://github.com/russodanielp/intro_cheminformatics/blob/master/Lab%2003%20-%20Basic%20Python/img/python-sticky-note-variables-01.svg?raw=1)"
      ]
    },
    {
      "cell_type": "code",
      "execution_count": null,
      "metadata": {
        "id": "x18NInnjRLeA"
      },
      "outputs": [],
      "source": [
        ""
      ]
    },
    {
      "cell_type": "markdown",
      "metadata": {
        "id": "llie6kGiRLeB"
      },
      "source": [
        "![Variables as Sticky Notes](https://github.com/russodanielp/intro_cheminformatics/blob/master/Lab%2003%20-%20Basic%20Python/img/python-sticky-note-variables-02.svg?raw=1)"
      ]
    },
    {
      "cell_type": "code",
      "execution_count": null,
      "metadata": {
        "id": "KokN0f1URLeB"
      },
      "outputs": [],
      "source": [
        ""
      ]
    },
    {
      "cell_type": "code",
      "execution_count": null,
      "metadata": {
        "id": "oEmygOTSRLeB"
      },
      "outputs": [],
      "source": [
        ""
      ]
    },
    {
      "cell_type": "markdown",
      "metadata": {
        "id": "sfMDuShMRLeC"
      },
      "source": [
        "![Variables as Sticky Notes](https://github.com/russodanielp/intro_cheminformatics/blob/master/Lab%2003%20-%20Basic%20Python/img/python-sticky-note-variables-03.svg?raw=1)\n",
        "\n",
        "* Changing variables created from old variables doesn't change the variable it was created from"
      ]
    },
    {
      "cell_type": "markdown",
      "metadata": {
        "id": "fag14EFJRLeC"
      },
      "source": [
        "## Who's who in memory?\n",
        "\n",
        "* IPython ** --> ** Interactive + Python\n",
        "* Has builit-in functions that add more interaction that a typical Python environment\n",
        "* start with `%`"
      ]
    },
    {
      "cell_type": "code",
      "execution_count": null,
      "metadata": {
        "id": "qJi4t7ESRLeD"
      },
      "outputs": [],
      "source": [
        ""
      ]
    },
    {
      "cell_type": "markdown",
      "metadata": {
        "id": "2X-Z8cI9RLeD"
      },
      "source": [
        "Let's save our old data."
      ]
    },
    {
      "cell_type": "code",
      "execution_count": null,
      "metadata": {
        "id": "j2sdOqSrRLeD"
      },
      "outputs": [],
      "source": [
        ""
      ]
    },
    {
      "cell_type": "code",
      "execution_count": null,
      "metadata": {
        "id": "4GRhxuPnRLeE"
      },
      "outputs": [],
      "source": [
        ""
      ]
    },
    {
      "cell_type": "markdown",
      "metadata": {
        "id": "p2Sb7L1CRLeE"
      },
      "source": [
        "## Data Type ##\n",
        "\n",
        "* variables can store different 'types' of data\n",
        "* Strings, integers, floats are some common data types\n",
        "* `type()`"
      ]
    },
    {
      "cell_type": "code",
      "execution_count": null,
      "metadata": {
        "id": "aJm06FOlRLeF"
      },
      "outputs": [],
      "source": [
        ""
      ]
    },
    {
      "cell_type": "markdown",
      "metadata": {
        "tags": [],
        "id": "KYed7ZILRLeF"
      },
      "source": [
        "# Repeating actions with loops #\n"
      ]
    },
    {
      "cell_type": "code",
      "execution_count": null,
      "metadata": {
        "id": "CcDbdWS6RLeG"
      },
      "outputs": [],
      "source": [
        ""
      ]
    },
    {
      "cell_type": "code",
      "execution_count": null,
      "metadata": {
        "id": "SUdc2SSARLeG"
      },
      "outputs": [],
      "source": [
        ""
      ]
    },
    {
      "cell_type": "markdown",
      "metadata": {
        "id": "XOBS1gGnRLeG"
      },
      "source": [
        "## That worked, what's wrong with that? ##\n",
        "\n",
        "1. It doesn't scale.  \n",
        "2. We may not know how many characters in our variable `word`."
      ]
    },
    {
      "cell_type": "code",
      "execution_count": null,
      "metadata": {
        "id": "90rF8WrCRLeH"
      },
      "outputs": [],
      "source": [
        ""
      ]
    },
    {
      "cell_type": "markdown",
      "metadata": {
        "id": "zmjL8DeDRLeH"
      },
      "source": [
        "## The `for` Loop ##\n",
        "\n",
        "* Allows us to iterate over.....iterables.\n",
        "* Items that have elements that we can \"loop\" over are called iterables. \n",
        "  * Strings, Lists, and ranges of numbers are iterables.\n",
        "  * Strings have characters to loop over\n",
        "  \n",
        "What if we wanted to print every letter in the word \"oxygen\" stored in a variable `word`?"
      ]
    },
    {
      "cell_type": "code",
      "execution_count": null,
      "metadata": {
        "id": "DotEt04VRLeH"
      },
      "outputs": [],
      "source": [
        ""
      ]
    },
    {
      "cell_type": "markdown",
      "metadata": {
        "id": "sWmoIhcWRLeH"
      },
      "source": [
        "<img src=\"https://github.com/russodanielp/intro_cheminformatics/blob/master/Lab%2003%20-%20Basic%20Python/img/loops_image.svg?raw=1\">"
      ]
    },
    {
      "cell_type": "markdown",
      "metadata": {
        "id": "KCAVsKjeRLeH"
      },
      "source": [
        "## `for` Loops Can Do More Than Just Print ##\n",
        "\n",
        "* What if we wanted to count the length of the contents of a string?"
      ]
    },
    {
      "cell_type": "code",
      "execution_count": null,
      "metadata": {
        "id": "fTiYWN4bRLeI"
      },
      "outputs": [],
      "source": [
        ""
      ]
    },
    {
      "cell_type": "markdown",
      "metadata": {
        "id": "M2wq_oQmRLeI"
      },
      "source": [
        "* How many times does the `for` loop execute? \n",
        "* Why is the value of `length` `6`?\n",
        "* What would be the value of `letter` after the code is executed?"
      ]
    },
    {
      "cell_type": "code",
      "execution_count": null,
      "metadata": {
        "id": "aDgI1XM8RLeI"
      },
      "outputs": [],
      "source": [
        ""
      ]
    },
    {
      "cell_type": "markdown",
      "metadata": {
        "id": "Gb82oGa6RLeI"
      },
      "source": [
        "__Note__: Finding the length of iterables is a common task in Python, so much that it has a reserved function called `len()` that does just that.  "
      ]
    },
    {
      "cell_type": "code",
      "execution_count": null,
      "metadata": {
        "id": "OIOl-CqaRLeI"
      },
      "outputs": [],
      "source": [
        ""
      ]
    },
    {
      "cell_type": "markdown",
      "metadata": {
        "id": "rDaXVEnbRLeI"
      },
      "source": [
        "### From 1 to N ###\n",
        "\n",
        "Python has a built-in function called range that creates a sequence of numbers. Range can accept 1-3 parameters. If one parameter is input, range creates an array of that length, starting at zero and incrementing by 1. If 2 parameters are input, range starts at the first and ends just before the second, incrementing by one. If range is passed 3 parameters, it starts at the first one, ends just before the second one, and increments by the third one. For example, range(3) produces the numbers 0, 1, 2, while range(2, 5) produces 2, 3, 4, and range(3, 10, 3) produces 3, 6, 9. Using range, write a loop that uses range to print the first 3 natural numbers:\n",
        ">1  \n",
        ">2  \n",
        ">3  "
      ]
    },
    {
      "cell_type": "markdown",
      "metadata": {
        "tags": [],
        "id": "GTEzYvloRLeJ"
      },
      "source": [
        "## What is a Python Library? ##\n",
        "\n",
        "* Code is resuable -- Many times simple progammatic tasks have been done before\n",
        "    - No need to reinvent the wheel!\n",
        "    \n",
        "* Python libraries are organized code for reusability\n",
        "    \n",
        "Code (words) ** --> **  Functions/Methods ** --> ** Objects ** --> ** Modules ** --> ** libraries\n",
        "\n",
        "## Pandas\n",
        "\n",
        "In order to use libraries we need to import them.  This is done through an import statement using the library name.  \n",
        "\n",
        "Pandas uses what are called data frames.  Dataframes are a pretty simple concept.  They are simply matrices consisting of rows and columns and very convient way to store tabular data (such as that found in excel).  \n",
        "\n",
        "For example, we can look at the famous iris dataset. "
      ]
    },
    {
      "cell_type": "code",
      "execution_count": 3,
      "metadata": {
        "id": "I0STUpixRLeJ",
        "outputId": "381eb258-d324-48ba-d4d6-e864d16f83dd",
        "colab": {
          "base_uri": "https://localhost:8080/",
          "height": 206
        }
      },
      "outputs": [
        {
          "output_type": "execute_result",
          "data": {
            "text/html": [
              "\n",
              "  <div id=\"df-8da7ed11-0634-4c7b-bfbf-617648e2a4ce\">\n",
              "    <div class=\"colab-df-container\">\n",
              "      <div>\n",
              "<style scoped>\n",
              "    .dataframe tbody tr th:only-of-type {\n",
              "        vertical-align: middle;\n",
              "    }\n",
              "\n",
              "    .dataframe tbody tr th {\n",
              "        vertical-align: top;\n",
              "    }\n",
              "\n",
              "    .dataframe thead th {\n",
              "        text-align: right;\n",
              "    }\n",
              "</style>\n",
              "<table border=\"1\" class=\"dataframe\">\n",
              "  <thead>\n",
              "    <tr style=\"text-align: right;\">\n",
              "      <th></th>\n",
              "      <th>sepal_length</th>\n",
              "      <th>sepal_width</th>\n",
              "      <th>petal_length</th>\n",
              "      <th>petal_width</th>\n",
              "      <th>species</th>\n",
              "    </tr>\n",
              "  </thead>\n",
              "  <tbody>\n",
              "    <tr>\n",
              "      <th>0</th>\n",
              "      <td>5.1</td>\n",
              "      <td>3.5</td>\n",
              "      <td>1.4</td>\n",
              "      <td>0.2</td>\n",
              "      <td>setosa</td>\n",
              "    </tr>\n",
              "    <tr>\n",
              "      <th>1</th>\n",
              "      <td>4.9</td>\n",
              "      <td>3.0</td>\n",
              "      <td>1.4</td>\n",
              "      <td>0.2</td>\n",
              "      <td>setosa</td>\n",
              "    </tr>\n",
              "    <tr>\n",
              "      <th>2</th>\n",
              "      <td>4.7</td>\n",
              "      <td>3.2</td>\n",
              "      <td>1.3</td>\n",
              "      <td>0.2</td>\n",
              "      <td>setosa</td>\n",
              "    </tr>\n",
              "    <tr>\n",
              "      <th>3</th>\n",
              "      <td>4.6</td>\n",
              "      <td>3.1</td>\n",
              "      <td>1.5</td>\n",
              "      <td>0.2</td>\n",
              "      <td>setosa</td>\n",
              "    </tr>\n",
              "    <tr>\n",
              "      <th>4</th>\n",
              "      <td>5.0</td>\n",
              "      <td>3.6</td>\n",
              "      <td>1.4</td>\n",
              "      <td>0.2</td>\n",
              "      <td>setosa</td>\n",
              "    </tr>\n",
              "  </tbody>\n",
              "</table>\n",
              "</div>\n",
              "      <button class=\"colab-df-convert\" onclick=\"convertToInteractive('df-8da7ed11-0634-4c7b-bfbf-617648e2a4ce')\"\n",
              "              title=\"Convert this dataframe to an interactive table.\"\n",
              "              style=\"display:none;\">\n",
              "        \n",
              "  <svg xmlns=\"http://www.w3.org/2000/svg\" height=\"24px\"viewBox=\"0 0 24 24\"\n",
              "       width=\"24px\">\n",
              "    <path d=\"M0 0h24v24H0V0z\" fill=\"none\"/>\n",
              "    <path d=\"M18.56 5.44l.94 2.06.94-2.06 2.06-.94-2.06-.94-.94-2.06-.94 2.06-2.06.94zm-11 1L8.5 8.5l.94-2.06 2.06-.94-2.06-.94L8.5 2.5l-.94 2.06-2.06.94zm10 10l.94 2.06.94-2.06 2.06-.94-2.06-.94-.94-2.06-.94 2.06-2.06.94z\"/><path d=\"M17.41 7.96l-1.37-1.37c-.4-.4-.92-.59-1.43-.59-.52 0-1.04.2-1.43.59L10.3 9.45l-7.72 7.72c-.78.78-.78 2.05 0 2.83L4 21.41c.39.39.9.59 1.41.59.51 0 1.02-.2 1.41-.59l7.78-7.78 2.81-2.81c.8-.78.8-2.07 0-2.86zM5.41 20L4 18.59l7.72-7.72 1.47 1.35L5.41 20z\"/>\n",
              "  </svg>\n",
              "      </button>\n",
              "      \n",
              "  <style>\n",
              "    .colab-df-container {\n",
              "      display:flex;\n",
              "      flex-wrap:wrap;\n",
              "      gap: 12px;\n",
              "    }\n",
              "\n",
              "    .colab-df-convert {\n",
              "      background-color: #E8F0FE;\n",
              "      border: none;\n",
              "      border-radius: 50%;\n",
              "      cursor: pointer;\n",
              "      display: none;\n",
              "      fill: #1967D2;\n",
              "      height: 32px;\n",
              "      padding: 0 0 0 0;\n",
              "      width: 32px;\n",
              "    }\n",
              "\n",
              "    .colab-df-convert:hover {\n",
              "      background-color: #E2EBFA;\n",
              "      box-shadow: 0px 1px 2px rgba(60, 64, 67, 0.3), 0px 1px 3px 1px rgba(60, 64, 67, 0.15);\n",
              "      fill: #174EA6;\n",
              "    }\n",
              "\n",
              "    [theme=dark] .colab-df-convert {\n",
              "      background-color: #3B4455;\n",
              "      fill: #D2E3FC;\n",
              "    }\n",
              "\n",
              "    [theme=dark] .colab-df-convert:hover {\n",
              "      background-color: #434B5C;\n",
              "      box-shadow: 0px 1px 3px 1px rgba(0, 0, 0, 0.15);\n",
              "      filter: drop-shadow(0px 1px 2px rgba(0, 0, 0, 0.3));\n",
              "      fill: #FFFFFF;\n",
              "    }\n",
              "  </style>\n",
              "\n",
              "      <script>\n",
              "        const buttonEl =\n",
              "          document.querySelector('#df-8da7ed11-0634-4c7b-bfbf-617648e2a4ce button.colab-df-convert');\n",
              "        buttonEl.style.display =\n",
              "          google.colab.kernel.accessAllowed ? 'block' : 'none';\n",
              "\n",
              "        async function convertToInteractive(key) {\n",
              "          const element = document.querySelector('#df-8da7ed11-0634-4c7b-bfbf-617648e2a4ce');\n",
              "          const dataTable =\n",
              "            await google.colab.kernel.invokeFunction('convertToInteractive',\n",
              "                                                     [key], {});\n",
              "          if (!dataTable) return;\n",
              "\n",
              "          const docLinkHtml = 'Like what you see? Visit the ' +\n",
              "            '<a target=\"_blank\" href=https://colab.research.google.com/notebooks/data_table.ipynb>data table notebook</a>'\n",
              "            + ' to learn more about interactive tables.';\n",
              "          element.innerHTML = '';\n",
              "          dataTable['output_type'] = 'display_data';\n",
              "          await google.colab.output.renderOutput(dataTable, element);\n",
              "          const docLink = document.createElement('div');\n",
              "          docLink.innerHTML = docLinkHtml;\n",
              "          element.appendChild(docLink);\n",
              "        }\n",
              "      </script>\n",
              "    </div>\n",
              "  </div>\n",
              "  "
            ],
            "text/plain": [
              "   sepal_length  sepal_width  petal_length  petal_width species\n",
              "0           5.1          3.5           1.4          0.2  setosa\n",
              "1           4.9          3.0           1.4          0.2  setosa\n",
              "2           4.7          3.2           1.3          0.2  setosa\n",
              "3           4.6          3.1           1.5          0.2  setosa\n",
              "4           5.0          3.6           1.4          0.2  setosa"
            ]
          },
          "metadata": {},
          "execution_count": 3
        }
      ],
      "source": [
        "\n",
        "import pandas as pd\n",
        "iris = pd.read_csv('https://raw.githubusercontent.com/mwaskom/seaborn-data/master/iris.csv')\n",
        "iris.head()"
      ]
    },
    {
      "cell_type": "markdown",
      "metadata": {
        "id": "77xgwxSsRLeJ"
      },
      "source": [
        "Viola!  Now we have access to all the functions `numpy` has to offer.  "
      ]
    },
    {
      "cell_type": "code",
      "execution_count": null,
      "metadata": {
        "id": "_rUJiNd5RLeJ"
      },
      "outputs": [],
      "source": [
        ""
      ]
    },
    {
      "cell_type": "markdown",
      "metadata": {
        "id": "RgWvIITQRLeJ"
      },
      "source": [
        "1) `.loadtxt(...)` -> function call  \n",
        "2) `fname='../data/inflammation-01.csv'` -> parameter  \n",
        "3) `delimiter=','` -> parameter\n",
        "\n",
        "## Why did it print to the screen?  ##\n",
        "\n",
        "* Cause we didn't tell it what else to do with!\n",
        "* We can store data in _variables_\n",
        "* We do that by _assignment_"
      ]
    },
    {
      "cell_type": "code",
      "execution_count": null,
      "metadata": {
        "id": "-1LV6aN5RLeK"
      },
      "outputs": [],
      "source": [
        ""
      ]
    },
    {
      "cell_type": "markdown",
      "metadata": {
        "jp-MarkdownHeadingCollapsed": true,
        "tags": [],
        "id": "5i3agjMeRLeK"
      },
      "source": [
        "## Pandas\n",
        "\n",
        "* N-dimensional array.\n",
        "* Rows are the individual patients.\n",
        "* Columns are their daily inflammation measurements.\n",
        "* Arrays can store information about our `data` variable through `attributes`. \n",
        "* We can see how many rows and columns we have using `shape`.\n",
        "* We can see what type of data is stored in our rows and columns using `dtype`."
      ]
    },
    {
      "cell_type": "code",
      "execution_count": null,
      "metadata": {
        "scrolled": true,
        "id": "gNOLmHUTRLeK"
      },
      "outputs": [],
      "source": [
        ""
      ]
    },
    {
      "cell_type": "code",
      "execution_count": null,
      "metadata": {
        "id": "-nA_2PbYRLeK"
      },
      "outputs": [],
      "source": [
        ""
      ]
    },
    {
      "cell_type": "markdown",
      "metadata": {
        "id": "QdyJyDiURLeK"
      },
      "source": [
        "## Accessing data in arrays ##\n",
        "\n",
        "* We can find the value of certain elements in our data by _slicing_.\n",
        "* Any element in `data` is available by providing the information `[row, column]`."
      ]
    },
    {
      "cell_type": "code",
      "execution_count": null,
      "metadata": {
        "id": "uPcVYRyiRLeL"
      },
      "outputs": [],
      "source": [
        ""
      ]
    },
    {
      "cell_type": "code",
      "execution_count": null,
      "metadata": {
        "id": "JWX_x-qIRLeL"
      },
      "outputs": [],
      "source": [
        ""
      ]
    },
    {
      "cell_type": "markdown",
      "metadata": {
        "id": "_K8I0DD9RLeL"
      },
      "source": [
        "## Retrieving entire rows and or columns ##\n",
        "\n",
        "* Can be done by _slicing_.\n",
        "* A slice is of the form `start:end+1`.\n",
        "* The default values for `start` and `end` are the beginning and end of the array, respectively.\n",
        "* We can store the results in a new variable."
      ]
    },
    {
      "cell_type": "code",
      "execution_count": null,
      "metadata": {
        "id": "TY4o4m7nRLeL"
      },
      "outputs": [],
      "source": [
        ""
      ]
    },
    {
      "cell_type": "code",
      "execution_count": null,
      "metadata": {
        "id": "foLs4KqtRLeL"
      },
      "outputs": [],
      "source": [
        ""
      ]
    },
    {
      "cell_type": "code",
      "execution_count": null,
      "metadata": {
        "id": "nHumKgEURLeL"
      },
      "outputs": [],
      "source": [
        ""
      ]
    },
    {
      "cell_type": "markdown",
      "metadata": {
        "id": "wFc_UFG2RLeL"
      },
      "source": [
        "## Mathematical operations on Numpy arrays ##\n",
        "\n",
        "* Operators (+, -, \\*, /) used on an array and a scalar perform on each value of the array\n",
        "* Operators used on arrays with other arrays of the same shape perform the operation element-wise"
      ]
    },
    {
      "cell_type": "code",
      "execution_count": null,
      "metadata": {
        "collapsed": true,
        "jupyter": {
          "outputs_hidden": true
        },
        "id": "fFW6SLmIRLeL"
      },
      "outputs": [],
      "source": [
        ""
      ]
    },
    {
      "cell_type": "code",
      "execution_count": null,
      "metadata": {
        "id": "sT-eL0sMRLeM"
      },
      "outputs": [],
      "source": [
        ""
      ]
    },
    {
      "cell_type": "code",
      "execution_count": null,
      "metadata": {
        "collapsed": true,
        "jupyter": {
          "outputs_hidden": true
        },
        "id": "Uu64Yy-mRLeM"
      },
      "outputs": [],
      "source": [
        ""
      ]
    },
    {
      "cell_type": "code",
      "execution_count": null,
      "metadata": {
        "id": "12mxK3YuRLeM"
      },
      "outputs": [],
      "source": [
        ""
      ]
    },
    {
      "cell_type": "markdown",
      "metadata": {
        "id": "tRMRxRwQRLeM"
      },
      "source": [
        "## Numpy math operators ##\n",
        "\n",
        "* Numpy offers extended math operations in the form of _functions_\n",
        "* We provide functions function input through _arguments_\n",
        "* Not all functions have arguments\n",
        "* All functions have `()` after the function name"
      ]
    },
    {
      "cell_type": "code",
      "execution_count": null,
      "metadata": {
        "id": "DAod10UeRLeM"
      },
      "outputs": [],
      "source": [
        ""
      ]
    },
    {
      "cell_type": "code",
      "execution_count": null,
      "metadata": {
        "id": "F3SLKI_NRLeM"
      },
      "outputs": [],
      "source": [
        ""
      ]
    },
    {
      "cell_type": "markdown",
      "metadata": {
        "id": "wczKySMuRLeM"
      },
      "source": [
        "Let's explore some common Numpy functions (`max()`, `min()`, `mean()`) using multiple assignment.  \n"
      ]
    },
    {
      "cell_type": "code",
      "execution_count": null,
      "metadata": {
        "id": "47sgtIdoRLeM"
      },
      "outputs": [],
      "source": [
        ""
      ]
    },
    {
      "cell_type": "markdown",
      "metadata": {
        "id": "_OBLVSxBRLeN"
      },
      "source": [
        "## Mystery functions in IPython ##\n",
        "\n",
        "* Tab completion allows us to see which functions are available in a module\n",
        "* The `?` gives us information about a particular product\n",
        "* The features are only available in IPython (Use the function help(function) for Python"
      ]
    },
    {
      "cell_type": "code",
      "execution_count": null,
      "metadata": {
        "collapsed": true,
        "jupyter": {
          "outputs_hidden": true
        },
        "id": "4ZBJ_gRMRLeN"
      },
      "outputs": [],
      "source": [
        ""
      ]
    },
    {
      "cell_type": "markdown",
      "metadata": {
        "id": "XdJXhW4uRLeN"
      },
      "source": [
        "## Exploring our patient data ##\n",
        "\n",
        "* Often times we are only concerned with subsets of data.\n",
        "* We can store these data in a new variable, or, we could not."
      ]
    },
    {
      "cell_type": "code",
      "execution_count": null,
      "metadata": {
        "id": "RvfojatNRLeN"
      },
      "outputs": [],
      "source": [
        ""
      ]
    },
    {
      "cell_type": "code",
      "execution_count": null,
      "metadata": {
        "id": "AanoImL7RLeN"
      },
      "outputs": [],
      "source": [
        ""
      ]
    },
    {
      "cell_type": "markdown",
      "metadata": {
        "id": "orwgkjcxRLeN"
      },
      "source": [
        "## Commenting ##\n",
        "\n",
        "* Sometimes it's useful to explain what or why we doing in a piece of code\n",
        "* _Comments_ allow us to annotate our program \n",
        "* Everyting after `#` is ignored by Python"
      ]
    },
    {
      "cell_type": "markdown",
      "metadata": {
        "id": "oXincuKnRLeN"
      },
      "source": [
        "## Performing row or column-wise operations ##"
      ]
    },
    {
      "cell_type": "markdown",
      "metadata": {
        "id": "uH-hsBBKRLeO"
      },
      "source": [
        "* Specifying an axis (1=row-wise, 0=column-wise) allows us to perform operations for entire rows or columns"
      ]
    },
    {
      "cell_type": "markdown",
      "metadata": {
        "id": "DI_hnd7rRLeO"
      },
      "source": [
        "<img src=\"https://github.com/russodanielp/intro_cheminformatics/blob/master/Lab%2003%20-%20Basic%20Python/img/python-operations-across-axes.svg?raw=1\">"
      ]
    },
    {
      "cell_type": "markdown",
      "metadata": {
        "id": "o0fwhhnWRLeO"
      },
      "source": [
        "What's the average across the rows?  "
      ]
    },
    {
      "cell_type": "code",
      "execution_count": null,
      "metadata": {
        "id": "74rK72B0RLeO"
      },
      "outputs": [],
      "source": [
        ""
      ]
    },
    {
      "cell_type": "markdown",
      "metadata": {
        "id": "6BMNdkZHRLeO"
      },
      "source": [
        "Are you sure?"
      ]
    },
    {
      "cell_type": "code",
      "execution_count": null,
      "metadata": {
        "id": "QsE_fyaCRLeO"
      },
      "outputs": [],
      "source": [
        ""
      ]
    },
    {
      "cell_type": "markdown",
      "metadata": {
        "id": "Suh-LFlCRLeO"
      },
      "source": [
        "The result `(40,)` tells us that this is an $Nx1$ dimensional array, with $N = 40$. Similarly, we can perform operations on the other axis (columns).  Let's find the mean of the columns."
      ]
    },
    {
      "cell_type": "code",
      "execution_count": null,
      "metadata": {
        "id": "ctJCPx3sRLeO"
      },
      "outputs": [],
      "source": [
        ""
      ]
    },
    {
      "cell_type": "markdown",
      "metadata": {
        "id": "9jg7UrvERLeP"
      },
      "source": [
        "## Plotting with matplotlib ##\n",
        "\n",
        "* Data visualization is the first step of data exploration\n",
        "* Provides a lot of 'out-of-the-box' visualation tools\n",
        "* Has support for rendering in the Juypter Notebook"
      ]
    },
    {
      "cell_type": "code",
      "execution_count": null,
      "metadata": {
        "collapsed": true,
        "jupyter": {
          "outputs_hidden": true
        },
        "id": "vCkEVxirRLeP"
      },
      "outputs": [],
      "source": [
        ""
      ]
    },
    {
      "cell_type": "code",
      "execution_count": null,
      "metadata": {
        "id": "2eiDvKLzRLeP"
      },
      "outputs": [],
      "source": [
        ""
      ]
    },
    {
      "cell_type": "markdown",
      "metadata": {
        "id": "tqDL6GWsRLeP"
      },
      "source": [
        "## Average Inflamation over time ##"
      ]
    },
    {
      "cell_type": "code",
      "execution_count": null,
      "metadata": {
        "id": "gj5BU75HRLeP"
      },
      "outputs": [],
      "source": [
        ""
      ]
    },
    {
      "cell_type": "markdown",
      "metadata": {
        "id": "OUXmfwfORLeP"
      },
      "source": [
        "## Max Inflammation Over Time ##"
      ]
    },
    {
      "cell_type": "code",
      "execution_count": null,
      "metadata": {
        "id": "_tdOW371RLeP"
      },
      "outputs": [],
      "source": [
        ""
      ]
    },
    {
      "cell_type": "markdown",
      "metadata": {
        "id": "r2gG_zsaRLeQ"
      },
      "source": [
        "## Min Inflammation Over Time ##"
      ]
    },
    {
      "cell_type": "code",
      "execution_count": null,
      "metadata": {
        "id": "wBXLBJ1_RLeQ"
      },
      "outputs": [],
      "source": [
        ""
      ]
    },
    {
      "cell_type": "markdown",
      "metadata": {
        "id": "0LY_8up4RLeQ"
      },
      "source": [
        "## Bringing it all together ##\n",
        "\n",
        "* Let's create a script from start to finish that will read our data then plot it\n",
        "* We can group all of our plots into a single figure\n",
        "    * `figure()` creates a space and the argument parameter `figsize=` tells us how big to make it\n",
        "    * We can add plots by using the `add_subplot()` function\n",
        "    * We can set labels on different plots using `set_ylabel()` or `set_xlabel()` function"
      ]
    },
    {
      "cell_type": "code",
      "execution_count": null,
      "metadata": {
        "id": "Gaqt0OV9RLeQ"
      },
      "outputs": [],
      "source": [
        ""
      ]
    },
    {
      "cell_type": "markdown",
      "metadata": {
        "id": "gP8KgH0vRLeQ"
      },
      "source": [
        "Viola!  There it is from start to finish, our plotted data.\n",
        "\n",
        "__Note__: For long library names you can shorten what you have to type by using the following syntax:\n",
        "\n",
        "```python\n",
        "import numpy as np\n",
        "\n",
        "np.loadtxt(...)\n",
        "```"
      ]
    },
    {
      "cell_type": "markdown",
      "metadata": {
        "id": "bQnFIZ3XRLeR"
      },
      "source": [
        "### Excercises ###"
      ]
    },
    {
      "cell_type": "markdown",
      "metadata": {
        "id": "fZ6XMlqyRLeR"
      },
      "source": [
        "### Key Points ###\n",
        "\n",
        "* Import a library into a program using import libraryname.\n",
        "* Use the numpy library to work with arrays in Python.\n",
        "* Use variable = value to assign a value to a variable in order to record it in memory.\n",
        "* Variables are created on demand whenever a value is assigned to them.\n",
        "* Use print(something) to display the value of something.\n",
        "* The expression array.shape gives the shape of an array.\n",
        "* Use array[x, y] to select a single element from an array.\n",
        "* Array indices start at 0, not 1.\n",
        "* Use low:high to specify a slice that includes the indices from low to high-1.\n",
        "* All the indexing and slicing that works on arrays also works on strings.\n",
        "* Use # some kind of explanation to add comments to programs.\n",
        "* Use numpy.mean(array), numpy.max(array), and numpy.min(array) to calculate simple statistics.\n",
        "* Use numpy.mean(array, axis=0) or numpy.mean(array, axis=1) to calculate statistics across the specified axis.\n",
        "* Use the pyplot library from matplotlib for creating simple visualizations."
      ]
    }
  ],
  "metadata": {
    "kernelspec": {
      "display_name": "Python 3",
      "language": "python",
      "name": "python3"
    },
    "language_info": {
      "codemirror_mode": {
        "name": "ipython",
        "version": 3
      },
      "file_extension": ".py",
      "mimetype": "text/x-python",
      "name": "python",
      "nbconvert_exporter": "python",
      "pygments_lexer": "ipython3",
      "version": "3.7.11"
    },
    "colab": {
      "name": "lab.ipynb",
      "provenance": [],
      "toc_visible": true
    }
  },
  "nbformat": 4,
  "nbformat_minor": 0
}