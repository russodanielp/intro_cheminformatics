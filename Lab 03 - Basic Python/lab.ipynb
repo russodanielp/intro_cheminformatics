{
 "cells": [
  {
   "cell_type": "markdown",
   "metadata": {
    "id": "B1XrbCrHRLdz"
   },
   "source": [
    "# Basic Python"
   ]
  },
  {
   "cell_type": "markdown",
   "metadata": {
    "id": "l-m3tuUZRLd6"
   },
   "source": [
    "## Aim of this lab\n",
    "\n",
    "To learn the basics of Python Programming.  "
   ]
  },
  {
   "cell_type": "markdown",
   "metadata": {
    "id": "QHD7sPEqRLd7",
    "jp-MarkdownHeadingCollapsed": true,
    "tags": []
   },
   "source": [
    "### Objectives\n",
    "\n",
    "* Learn the fundamentals of Programming and Python\n",
    "* Learn basic programming fundamentals like variables and `for` loops\n",
    "* Learn important data sciences packages like `pandas` and `matplotlib`"
   ]
  },
  {
   "cell_type": "markdown",
   "metadata": {
    "id": "7lF1BH7ARLd9"
   },
   "source": [
    "\n",
    "## The Python Programming Language\n",
    "\n",
    "Python is one of the most popular programming languages.  Additionally, it is arguably the preferred languages for doing data science, bioinformatics, and cheminformatics.  The other language in that argument, the R statistical programming language is also quite popular and has many of the same benefits that makes Python great for data science.  However, Python's growth in the last decade or so, coupled with it's open-source community and many open-source libraries particular for the life sciences, has potentially given it the lead.  \n",
    "\n",
    "Python, and R, are interpretted languages, rather than compiled languages like (C, C++, etc.).  In both circumstances, progamming lanuages are used to instruct the computer what to do by getting converted to machine code.  In compiled code however, they must be first compiled in one step and interpretted in ther other.  Interpretted languages on the other hand do this at run time, allowing you to immeidately see the results (at the cost of some other performance factors, not necessarily of concern to data scienctists, bioinformaticians and cheminformaticians).  This means you can quickly do computational tasks and see the results immediately.  It also allows for things like [Jupyter Notebooks](https://jupyter.org/) which is what we will use for this course.  \n",
    "\n",
    "Jupyter Notebooks have been referred to as [\"The Scientific Paper of the Future\"](https://www.theatlantic.com/science/archive/2018/04/the-scientific-paper-is-obsolete/556676/).  They are widely used by data scientists and the like and allow for a combination of text, photos, plots, and other media with programming code (Jupyter stands for Julia, Python and R, the three languages it has support for).  They are great for tutorials which is why we will use them in this course.  \n",
    "\n",
    "One of the core fundamentals of Python as a data science languages are its strong libraries for data science, visualizaition and cheminforamtics.  After exploring the basics of programming, we will overview four libraries. \n",
    "\n",
    "### Pandas\n",
    "\n",
    "[Pandas](https://pandas.pydata.org/) is a data analytics library that allows for fast computational on data matricies, a core component of statstics and data science.  \n",
    "\n",
    "### Matplotlib\n",
    "\n",
    "[Matplotlib](https://matplotlib.org/) is a data visualization library for creating complex, scientific paper-quality graphs, figures and charts.  \n",
    "\n",
    "### RDKit\n",
    "[RDKit](https://www.rdkit.org/) is a excellent cheminformatics and computational chemistry library.  It will be explored in depth in a later lab. \n",
    "\n",
    "### Scikit-learn\n",
    "[Scikit-learn](https://scikit-learn.org/stable/) is a library for building machine learning models and will be used in the module on QSAR. \n",
    "\n"
   ]
  },
  {
   "cell_type": "markdown",
   "metadata": {
    "id": "i4l3BR4TRLd9"
   },
   "source": [
    "## The basics of Python programming\n",
    "\n",
    "### Variables\n",
    "\n",
    "* Information stored in variables is not static \n",
    "* It can be changed, manipulated, or updated to contain new information.  \n",
    "* Does not have to be expicitly declared.  Can be the resuls of a Python expression.\n",
    "\n",
    "#### Naming Variables\n",
    "* Must start with a letter or the underscore character\n",
    "* Cannot start with a number\n",
    "* Can only contain alpha-numeric characters and underscores (A-z, 0-9, and _ )\n",
    "* Variable names are case-sensitive (weight_kg, Weight_kg and WEIGHT_KG are three different variables)"
   ]
  },
  {
   "cell_type": "code",
   "execution_count": null,
   "metadata": {},
   "outputs": [],
   "source": []
  },
  {
   "cell_type": "markdown",
   "metadata": {},
   "source": [
    "* Changing variables created from old variables doesn't change the variable it was created from"
   ]
  },
  {
   "cell_type": "markdown",
   "metadata": {
    "id": "p2Sb7L1CRLeE"
   },
   "source": [
    "### Data Types\n",
    "\n",
    "#### Basic Data Types \n",
    "\n",
    "* variables can store different 'types' of data\n",
    "* Strings, integers, floats are some common data types\n",
    "* `type()` allows you see which is the high order of types\n",
    "\n",
    "#### Strings\n",
    "\n",
    "Characters, basically.  Use either ' or \" to enclose."
   ]
  },
  {
   "cell_type": "code",
   "execution_count": null,
   "metadata": {
    "colab": {
     "base_uri": "https://localhost:8080/"
    },
    "id": "aJm06FOlRLeF",
    "outputId": "72fd9b68-4a2f-4c2f-db72-0b734d2400c9"
   },
   "outputs": [],
   "source": []
  },
  {
   "cell_type": "markdown",
   "metadata": {
    "id": "QqGiyswlLpDJ"
   },
   "source": [
    "#### Integers\n",
    "\n",
    "Whole numbers: 1, 2, 3...535."
   ]
  },
  {
   "cell_type": "code",
   "execution_count": null,
   "metadata": {
    "colab": {
     "base_uri": "https://localhost:8080/"
    },
    "id": "9lhdGslzMAF6",
    "outputId": "24d1dbe5-7602-482f-9391-5108e68aea48"
   },
   "outputs": [],
   "source": []
  },
  {
   "cell_type": "markdown",
   "metadata": {
    "id": "iLET9JAWMMzV"
   },
   "source": [
    "#### Floats\n",
    "\n",
    "Real values.  Need to have a decimal place."
   ]
  },
  {
   "cell_type": "code",
   "execution_count": null,
   "metadata": {
    "colab": {
     "base_uri": "https://localhost:8080/"
    },
    "id": "HbI_EsliMfsn",
    "outputId": "0f47744c-9940-4916-9be4-9ff460833809"
   },
   "outputs": [],
   "source": []
  },
  {
   "cell_type": "markdown",
   "metadata": {
    "id": "W181jj1YMxDd"
   },
   "source": [
    "### Operators\n",
    "\n",
    "Operators depend on the type.  Basically, floats and integers can have operations performed on them interchangeably.  Strings can have operators on other strings.\n",
    "\n",
    "+, -, *, / behave as you would expect."
   ]
  },
  {
   "cell_type": "code",
   "execution_count": null,
   "metadata": {
    "colab": {
     "base_uri": "https://localhost:8080/"
    },
    "id": "f7kytGNCNHTV",
    "outputId": "e7707e8c-3ade-45c1-f7b0-2c75541be39f"
   },
   "outputs": [],
   "source": []
  },
  {
   "cell_type": "markdown",
   "metadata": {
    "id": "SC2z9_KRv36i"
   },
   "source": [
    "#### Other Data Types\n",
    "\n",
    "Two other data types are often used for storing information: lists and dictionaries. \n",
    "\n",
    "* Lists (also called arrays) can store multiple items - they are static and information stored in them will always be in the same spot.  \n",
    "* Dictionaries store items through a key-> value structure.  Values are accessed via their respective keys - there is no order. "
   ]
  },
  {
   "cell_type": "markdown",
   "metadata": {
    "id": "dCKQMuqUNjrD"
   },
   "source": [
    "### Lists\n",
    "\n",
    "Lists are a helpful way to store information.  Lists can contain as many elements as we want and whatever data type we want, even multiple.  They can even store lists.\n",
    "\n",
    "Elements in the list are ordered and can be accessed via their position or \"index\", which starts counting at zero. "
   ]
  },
  {
   "cell_type": "code",
   "execution_count": null,
   "metadata": {
    "colab": {
     "base_uri": "https://localhost:8080/"
    },
    "id": "CcDbdWS6RLeG",
    "outputId": "4eebd956-d2a2-466e-f2b2-2aae058fecee"
   },
   "outputs": [],
   "source": []
  },
  {
   "cell_type": "markdown",
   "metadata": {
    "id": "kYlD2n0UZJzP"
   },
   "source": [
    "### Dictionaries \n",
    "\n",
    "Dictionaries are unordered an store items via a key: value pair syntax"
   ]
  },
  {
   "cell_type": "code",
   "execution_count": null,
   "metadata": {},
   "outputs": [],
   "source": []
  },
  {
   "cell_type": "markdown",
   "metadata": {
    "id": "KCAVsKjeRLeH"
   },
   "source": [
    "### `for` Loops \n",
    "\n",
    "Allow for iterating over elemtns or repeating things.  "
   ]
  },
  {
   "cell_type": "code",
   "execution_count": null,
   "metadata": {
    "colab": {
     "base_uri": "https://localhost:8080/"
    },
    "id": "fTiYWN4bRLeI",
    "outputId": "34554a22-1ba5-43b4-da92-cd62df70257a"
   },
   "outputs": [],
   "source": []
  },
  {
   "cell_type": "markdown",
   "metadata": {
    "id": "cfI8W1oGaPCa"
   },
   "source": [
    "### Range \n",
    "\n",
    "The range function allows us to create ranges to iterate over."
   ]
  },
  {
   "cell_type": "code",
   "execution_count": null,
   "metadata": {
    "colab": {
     "base_uri": "https://localhost:8080/"
    },
    "id": "t4fubkBMaNur",
    "outputId": "8b69b0ed-1b3d-481c-98b1-09f67d7e527b"
   },
   "outputs": [],
   "source": []
  },
  {
   "cell_type": "markdown",
   "metadata": {
    "id": "Gb82oGa6RLeI"
   },
   "source": [
    "__Note__: Finding the length of iterables is a common task in Python, so much that it has a reserved function called `len()` that does just that.  "
   ]
  },
  {
   "cell_type": "code",
   "execution_count": 28,
   "metadata": {
    "colab": {
     "base_uri": "https://localhost:8080/"
    },
    "id": "UfDDDiqnaoEy",
    "outputId": "2e9aaf5c-a92c-4aad-b146-6c6dfc1af805"
   },
   "outputs": [],
   "source": []
  },
  {
   "cell_type": "markdown",
   "metadata": {
    "id": "GTEzYvloRLeJ",
    "tags": []
   },
   "source": [
    "## Using External Libraries\n",
    "\n",
    "* Code is resuable -- Many times simple progammatic tasks have been done before\n",
    "    - No need to reinvent the wheel!\n",
    "    \n",
    "* Python libraries are organized code for reusability\n",
    "    \n",
    "Code (words) ** --> **  Functions/Methods ** --> ** Objects ** --> ** Modules ** --> ** libraries\n",
    "\n",
    "## Pandas\n",
    "\n",
    "In order to use libraries we need to import them.  This is done through an import statement using the library name.  \n",
    "\n",
    "Pandas uses what are called data frames.  Dataframes are a pretty simple concept.  They are simply matrices consisting of rows and columns and very convient way to store tabular data (such as that found in excel).  \n",
    "\n",
    "For example, we can look at the famous [iris dataset](https://en.wikipedia.org/wiki/Iris_flower_data_set).  The data set consists of 50 samples from each of three species of Iris (_Iris setosa_, _Iris virginica_ and _Iris versicolor_). Four features were measured from each sample: the length and the width of the sepals and petals, in centimeters. Based on the combination of these four features.  In the original collection, Dr. Ronald Fisher developed a linear discriminant model to distinguish the species from each other and thus it became a widely used dataset for tutorials.  In this dataset, every row is a datapoint (the four measurements and the species). \n",
    "\n",
    "Pandas has a very helpful function called `read_csv`.  To access functions from other libraries, we call the library after we import it and then write the name of the function we want to use.  We just need to tell it where the `csv` file we want to read is. \n",
    "\n",
    "__Note__: Instead of having to write `pandas` everytime we need to `import` something from the `pandas` library, we can use the `as` statement to apply a shorthand.  Most people call `pandas` by the shortened `pd`. "
   ]
  },
  {
   "cell_type": "code",
   "execution_count": null,
   "metadata": {
    "colab": {
     "base_uri": "https://localhost:8080/",
     "height": 206
    },
    "id": "I0STUpixRLeJ",
    "outputId": "da192a69-d323-40a7-aac1-d5071c0c41c7"
   },
   "outputs": [],
   "source": []
  },
  {
   "cell_type": "markdown",
   "metadata": {},
   "source": [
    "Pandas imports the text as a `dataframe`.  Dataframes are like a new data type.  They are like a matrix but with labeled columns and rows (called `index`).  We can acess both.  "
   ]
  },
  {
   "cell_type": "code",
   "execution_count": null,
   "metadata": {},
   "outputs": [],
   "source": []
  },
  {
   "cell_type": "markdown",
   "metadata": {},
   "source": [
    "You can access each row or column by the name using the `loc` method.  Rows are first, columns are second.  The colon is used to get everything from that row/column.\n",
    "\n",
    "There is label based indexing using `.loc`.  And there is positional labeling using `.iloc`."
   ]
  },
  {
   "cell_type": "code",
   "execution_count": null,
   "metadata": {},
   "outputs": [],
   "source": []
  },
  {
   "cell_type": "markdown",
   "metadata": {},
   "source": [
    "Of course we can use both to get a value from a cell.  For example, the second datapoints species."
   ]
  },
  {
   "cell_type": "code",
   "execution_count": null,
   "metadata": {},
   "outputs": [],
   "source": []
  },
  {
   "cell_type": "markdown",
   "metadata": {
    "id": "SRDbjIef7iEu"
   },
   "source": [
    "You can access the same information via their indicies using the `iloc` method.  Which is very useful for whats known as slicing."
   ]
  },
  {
   "cell_type": "code",
   "execution_count": null,
   "metadata": {
    "colab": {
     "base_uri": "https://localhost:8080/",
     "height": 35
    },
    "id": "jfi_RsW27ela",
    "outputId": "1e878026-3c63-433e-9e83-c6fe9d503472"
   },
   "outputs": [],
   "source": []
  },
  {
   "cell_type": "markdown",
   "metadata": {
    "id": "CR6skK8c9GT6"
   },
   "source": [
    "There are very helpful methods that data frames have which could require a full course.  Most of the time, whatever you're trying to do has already been done and searching the internet is very helful.  We could average by the column.  "
   ]
  },
  {
   "cell_type": "markdown",
   "metadata": {},
   "source": [
    "### Lists as indexers\n",
    "\n",
    "You can also pass lists as indexers"
   ]
  },
  {
   "cell_type": "code",
   "execution_count": null,
   "metadata": {},
   "outputs": [],
   "source": []
  },
  {
   "cell_type": "markdown",
   "metadata": {},
   "source": [
    "### Masking\n",
    "\n",
    "One of the most important and cool things about Pandas is the ability to mask.  \n",
    "\n",
    "Let's say we wanted to get just the virginica data points from our dataframe."
   ]
  },
  {
   "cell_type": "code",
   "execution_count": null,
   "metadata": {},
   "outputs": [],
   "source": []
  },
  {
   "cell_type": "markdown",
   "metadata": {},
   "source": [
    "The same would be the case if we wanted to get all flowers with a `petal_length` greater than some number.   "
   ]
  },
  {
   "cell_type": "code",
   "execution_count": null,
   "metadata": {},
   "outputs": [],
   "source": []
  },
  {
   "cell_type": "markdown",
   "metadata": {},
   "source": [
    "### Calculating statistics\n",
    "\n",
    "Dataframes have the ability to calculate statistics.  This can be done column or row-wise.  On the whole dataframe or just a subset.  "
   ]
  },
  {
   "cell_type": "code",
   "execution_count": null,
   "metadata": {
    "colab": {
     "base_uri": "https://localhost:8080/"
    },
    "id": "MCLy2l8u9eid",
    "outputId": "6bb1336f-081f-4728-dada-b6d47e1ee87c"
   },
   "outputs": [],
   "source": []
  },
  {
   "cell_type": "markdown",
   "metadata": {
    "id": "_P3-FkBX9grY"
   },
   "source": [
    "Sum by the row..."
   ]
  },
  {
   "cell_type": "code",
   "execution_count": null,
   "metadata": {
    "colab": {
     "base_uri": "https://localhost:8080/"
    },
    "id": "ws4jw7cC9Xmh",
    "outputId": "44267a0b-3936-435d-c52e-e979adc1c37c"
   },
   "outputs": [],
   "source": []
  },
  {
   "cell_type": "markdown",
   "metadata": {},
   "source": [
    "We can do things on individual columns"
   ]
  },
  {
   "cell_type": "code",
   "execution_count": null,
   "metadata": {},
   "outputs": [],
   "source": []
  },
  {
   "cell_type": "markdown",
   "metadata": {
    "id": "xKuDZCxw9lfO"
   },
   "source": [
    "Or the find the species counts.."
   ]
  },
  {
   "cell_type": "code",
   "execution_count": null,
   "metadata": {
    "colab": {
     "base_uri": "https://localhost:8080/"
    },
    "id": "sxmJ5iuJ67il",
    "outputId": "5639d33b-8ce3-4e2d-c647-11a897780739"
   },
   "outputs": [],
   "source": []
  },
  {
   "cell_type": "code",
   "execution_count": null,
   "metadata": {},
   "outputs": [],
   "source": []
  },
  {
   "cell_type": "markdown",
   "metadata": {
    "id": "a8FEVbis-4tz"
   },
   "source": [
    "### Math\n",
    "\n",
    "You can do math operations on entire columns.  When this is done it is done so element wise if it is another dataframe column (of equal length).  \n"
   ]
  },
  {
   "cell_type": "code",
   "execution_count": null,
   "metadata": {
    "colab": {
     "base_uri": "https://localhost:8080/"
    },
    "id": "M2TTTpDb-3CC",
    "outputId": "1c038d49-b5d7-4b06-d9b8-99920337b07d"
   },
   "outputs": [],
   "source": []
  },
  {
   "cell_type": "markdown",
   "metadata": {},
   "source": [
    "Math using a scaler (a single number) performs the operation on the entire column or dataframe. \n",
    "\n",
    "For example, we can convert the data from cm to inches by multipling by 0.39"
   ]
  },
  {
   "cell_type": "markdown",
   "metadata": {},
   "source": [
    "### Creating new columns"
   ]
  },
  {
   "cell_type": "code",
   "execution_count": null,
   "metadata": {},
   "outputs": [],
   "source": [
    "                                                      "
   ]
  },
  {
   "cell_type": "markdown",
   "metadata": {
    "id": "ikB5Ltmr91Bz"
   },
   "source": [
    "Pandas is a very useful tool for any scientist.  There are several tutorials available online [here](https://pandas.pydata.org/pandas-docs/stable/getting_started/tutorials.html).  "
   ]
  },
  {
   "cell_type": "markdown",
   "metadata": {
    "id": "9jg7UrvERLeP"
   },
   "source": [
    "## Matplotlib \n",
    "\n",
    "Matplotlib is a extremly powerful plotting library in Python.  Another very useful is the [Seaborn](https://seaborn.pydata.org/) library, which is also very powerful.  It is built on top of matplotlib and offers high-level plotting for some common statistical plots. \n",
    "\n",
    "Matplotlib allows more control and is therefore we will demonatrate the basics here.  It has support for rendering in Jupyter Notebooks.  We need to turn this on by running a cell with `% matplotlib inline`."
   ]
  },
  {
   "cell_type": "code",
   "execution_count": null,
   "metadata": {
    "id": "vCkEVxirRLeP",
    "tags": []
   },
   "outputs": [],
   "source": []
  },
  {
   "cell_type": "markdown",
   "metadata": {
    "id": "QVNGFYTRB9nD"
   },
   "source": [
    "Plotting is done by create creating `fig` and `ax` objects.  The `fig` object controls more meta level attributes of the final figure.  The `ax` is what we use to plot elements.  We do that my providing the data and what time of datapoint we want to plot and one what axis (x is first, y is second).  \n",
    "\n",
    "We can add mutiple data and plot types to a single `ax`.  Once we are finished, we call `plt.show()` to visualize.  "
   ]
  },
  {
   "cell_type": "markdown",
   "metadata": {
    "id": "vwhAobWrCfeM"
   },
   "source": [
    "#### Scatter"
   ]
  },
  {
   "cell_type": "code",
   "execution_count": null,
   "metadata": {
    "colab": {
     "base_uri": "https://localhost:8080/",
     "height": 265
    },
    "id": "2eiDvKLzRLeP",
    "outputId": "d1ba7d2e-789a-49d0-f678-eab0cfb78302"
   },
   "outputs": [],
   "source": []
  },
  {
   "cell_type": "markdown",
   "metadata": {
    "id": "BJnVvI6HD9EC"
   },
   "source": [
    "Colors can be provided by providing which each data point should be colored.  We can chose the colors in a dictionary and \"map\" to a series."
   ]
  },
  {
   "cell_type": "code",
   "execution_count": null,
   "metadata": {
    "colab": {
     "base_uri": "https://localhost:8080/",
     "height": 282
    },
    "id": "ERLBT2sLDdLU",
    "outputId": "5c3efa98-d03f-4a94-aaf4-831836070765"
   },
   "outputs": [],
   "source": []
  },
  {
   "cell_type": "markdown",
   "metadata": {
    "id": "006Zk_dxFQJb"
   },
   "source": [
    "### Bar\n",
    "\n",
    "Most of the time, making the right plot is just making sure the data is in the right format.  \n",
    "\n",
    "We can plot a bar graph of petal length in descending order.  "
   ]
  },
  {
   "cell_type": "code",
   "execution_count": null,
   "metadata": {},
   "outputs": [],
   "source": []
  },
  {
   "cell_type": "markdown",
   "metadata": {
    "id": "YBHEiy64Gg5n"
   },
   "source": [
    "## Line\n",
    "\n",
    "Or the same plot as a line graph"
   ]
  },
  {
   "cell_type": "code",
   "execution_count": null,
   "metadata": {
    "colab": {
     "base_uri": "https://localhost:8080/",
     "height": 282
    },
    "id": "83kEnUS5GOx1",
    "outputId": "f58d64a1-8747-4c4f-d15d-aaa556a11571"
   },
   "outputs": [],
   "source": []
  },
  {
   "cell_type": "markdown",
   "metadata": {
    "id": "_vOJUBf8GwA_"
   },
   "source": [
    "### Line+scatter\n",
    "\n",
    "Matplotlib becomes really powerful by building on top of each other.  We can add a scatter plot to the line graph.  "
   ]
  },
  {
   "cell_type": "code",
   "execution_count": null,
   "metadata": {
    "colab": {
     "base_uri": "https://localhost:8080/",
     "height": 282
    },
    "id": "93IZEuvKGq-Y",
    "outputId": "e390577c-fcbd-4925-cdca-13762613c789"
   },
   "outputs": [],
   "source": []
  },
  {
   "cell_type": "markdown",
   "metadata": {
    "id": "wTBpaoDlHHzd"
   },
   "source": [
    "### Wrapping up\n",
    "\n",
    "Matplotlib is complex.  Inspiraton usually happens by exploring the [gallery](https://matplotlib.org/2.0.2/gallery.html) for ideas or having an idea of what you want to do and searching either the [documentation](https://matplotlib.org/2.0.2/index.html) or the internet for someone who has done what you are trying before.  \n",
    "\n",
    "We only briefly introducted matplotlib here.  I suggest looking at the [tutorials](https://matplotlib.org/stable/tutorials/introductory/usage.html#sphx-glr-tutorials-introductory-usage-py) for its full capability.  "
   ]
  }
 ],
 "metadata": {
  "colab": {
   "name": "lab.ipynb",
   "provenance": []
  },
  "kernelspec": {
   "display_name": "Python 3 (ipykernel)",
   "language": "python",
   "name": "python3"
  },
  "language_info": {
   "codemirror_mode": {
    "name": "ipython",
    "version": 3
   },
   "file_extension": ".py",
   "mimetype": "text/x-python",
   "name": "python",
   "nbconvert_exporter": "python",
   "pygments_lexer": "ipython3",
   "version": "3.7.11"
  }
 },
 "nbformat": 4,
 "nbformat_minor": 4
}
