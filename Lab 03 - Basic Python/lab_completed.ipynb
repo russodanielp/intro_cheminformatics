{
 "cells": [
  {
   "cell_type": "markdown",
   "metadata": {
    "id": "B1XrbCrHRLdz"
   },
   "source": [
    "# Basic Python"
   ]
  },
  {
   "cell_type": "markdown",
   "metadata": {
    "id": "l-m3tuUZRLd6"
   },
   "source": [
    "## Aim of this lab\n",
    "\n",
    "To learn the basics of Python Programming.  "
   ]
  },
  {
   "cell_type": "markdown",
   "metadata": {
    "id": "QHD7sPEqRLd7",
    "jp-MarkdownHeadingCollapsed": true,
    "tags": []
   },
   "source": [
    "### Objectives\n",
    "\n",
    "* Learn the fundamentals of Programming and Python\n",
    "* Learn basic programming fundamentals like variables and `for` loops\n",
    "* Learn important data sciences packages like `pandas` and `matplotlib`"
   ]
  },
  {
   "cell_type": "markdown",
   "metadata": {
    "id": "7lF1BH7ARLd9"
   },
   "source": [
    "\n",
    "## The Python Programming Language\n",
    "\n",
    "Python is one of the most popular programming languages.  Additionally, it is arguably the preferred languages for doing data science, bioinformatics, and cheminformatics.  The other language in that argument, the R statistical programming language is also quite popular and has many of the same benefits that makes Python great for data science.  However, Python's growth in the last decade or so, coupled with it's open-source community and many open-source libraries particular for the life sciences, has potentially given it the lead.  \n",
    "\n",
    "Python, and R, are interpretted languages, rather than compiled languages like (C, C++, etc.).  In both circumstances, progamming lanuages are used to instruct the computer what to do by getting converted to machine code.  In compiled code however, they must be first compiled in one step and interpretted in ther other.  Interpretted languages on the other hand do this at run time, allowing you to immeidately see the results (at the cost of some other performance factors, not necessarily of concern to data scienctists, bioinformaticians and cheminformaticians).  This means you can quickly do computational tasks and see the results immediately.  It also allows for things like [Jupyter Notebooks](https://jupyter.org/) which is what we will use for this course.  \n",
    "\n",
    "Jupyter Notebooks have been referred to as [\"The Scientific Paper of the Future\"](https://www.theatlantic.com/science/archive/2018/04/the-scientific-paper-is-obsolete/556676/).  They are widely used by data scientists and the like and allow for a combination of text, photos, plots, and other media with programming code (Jupyter stands for Julia, Python and R, the three languages it has support for).  They are great for tutorials which is why we will use them in this course.  \n",
    "\n",
    "One of the core fundamentals of Python as a data science languages are its strong libraries for data science, visualizaition and cheminforamtics.  After exploring the basics of programming, we will overview four libraries. \n",
    "\n",
    "### Pandas\n",
    "\n",
    "[Pandas](https://pandas.pydata.org/) is a data analytics library that allows for fast computational on data matricies, a core component of statstics and data science.  \n",
    "\n",
    "### Matplotlib\n",
    "\n",
    "[Matplotlib](https://matplotlib.org/) is a data visualization library for creating complex, scientific paper-quality graphs, figures and charts.  \n",
    "\n",
    "### RDKit\n",
    "[RDKit](https://www.rdkit.org/) is a excellent cheminformatics and computational chemistry library.  It will be explored in depth in a later lab. \n",
    "\n",
    "### Scikit-learn\n",
    "[Scikit-learn](https://scikit-learn.org/stable/) is a library for building machine learning models and will be used in the module on QSAR. \n",
    "\n"
   ]
  },
  {
   "cell_type": "markdown",
   "metadata": {
    "id": "i4l3BR4TRLd9"
   },
   "source": [
    "## The basics of Python programming\n",
    "\n",
    "### Variables\n",
    "\n",
    "* Information stored in variables is not static \n",
    "* It can be changed, manipulated, or updated to contain new information.  \n",
    "* Does not have to be expicitly declared.  Can be the resuls of a Python expression.\n",
    "\n",
    "#### Naming Variables\n",
    "* Must start with a letter or the underscore character\n",
    "* Cannot start with a number\n",
    "* Can only contain alpha-numeric characters and underscores (A-z, 0-9, and _ )\n",
    "* Variable names are case-sensitive (weight_kg, Weight_kg and WEIGHT_KG are three different variables)"
   ]
  },
  {
   "cell_type": "code",
   "execution_count": 14,
   "metadata": {
    "id": "6U_wYZL-RLd-"
   },
   "outputs": [],
   "source": [
    "weight_kg = 55.5"
   ]
  },
  {
   "cell_type": "code",
   "execution_count": 15,
   "metadata": {
    "colab": {
     "base_uri": "https://localhost:8080/"
    },
    "id": "0cBnQqgmRLd_",
    "outputId": "955a87a0-d525-48af-c2ce-0b9a652a94f0"
   },
   "outputs": [
    {
     "name": "stdout",
     "output_type": "stream",
     "text": [
      "55.5\n"
     ]
    }
   ],
   "source": [
    "print(weight_kg)"
   ]
  },
  {
   "cell_type": "code",
   "execution_count": 16,
   "metadata": {
    "colab": {
     "base_uri": "https://localhost:8080/"
    },
    "id": "GM8cBf0QKz92",
    "outputId": "093dd109-a332-4df4-9079-6ab4f540abda"
   },
   "outputs": [
    {
     "name": "stdout",
     "output_type": "stream",
     "text": [
      "weight in kilograms is now: 57.5\n"
     ]
    }
   ],
   "source": [
    "weight_kg = 57.5\n",
    "print('weight in kilograms is now:', weight_kg)"
   ]
  },
  {
   "cell_type": "markdown",
   "metadata": {
    "id": "R54zhvviRLd_"
   },
   "source": [
    "![Variables as Sticky Notes](https://github.com/russodanielp/intro_cheminformatics/blob/master/Lab%2003%20-%20Basic%20Python/img/python-sticky-note-variables-01.svg?raw=1)"
   ]
  },
  {
   "cell_type": "code",
   "execution_count": 17,
   "metadata": {
    "colab": {
     "base_uri": "https://localhost:8080/"
    },
    "id": "wY-QozKtKl7f",
    "outputId": "22799a6a-4a53-4ed7-c1a2-a5767524f14a"
   },
   "outputs": [
    {
     "name": "stdout",
     "output_type": "stream",
     "text": [
      "weight in pounds:  126.50000000000001\n"
     ]
    }
   ],
   "source": [
    "print(\"weight in pounds: \", weight_kg * 2.2)"
   ]
  },
  {
   "cell_type": "code",
   "execution_count": 18,
   "metadata": {
    "colab": {
     "base_uri": "https://localhost:8080/"
    },
    "id": "x18NInnjRLeA",
    "outputId": "bb1c50ce-313e-4118-cf74-938f9850a8bb"
   },
   "outputs": [
    {
     "name": "stdout",
     "output_type": "stream",
     "text": [
      "The weight in kilograms: 57.5 The weight in pounds: 126.50000000000001\n"
     ]
    }
   ],
   "source": [
    "weight_lb = weight_kg * 2.2\n",
    "print(\"The weight in kilograms:\", weight_kg, \"The weight in pounds:\", weight_lb)"
   ]
  },
  {
   "cell_type": "markdown",
   "metadata": {
    "id": "llie6kGiRLeB"
   },
   "source": [
    "![Variables as Sticky Notes](https://github.com/russodanielp/intro_cheminformatics/blob/master/Lab%2003%20-%20Basic%20Python/img/python-sticky-note-variables-02.svg?raw=1)"
   ]
  },
  {
   "cell_type": "code",
   "execution_count": 20,
   "metadata": {
    "colab": {
     "base_uri": "https://localhost:8080/"
    },
    "id": "KokN0f1URLeB",
    "outputId": "2c2a5c31-e1f8-4bf8-bb73-a0e83df9d270"
   },
   "outputs": [
    {
     "name": "stdout",
     "output_type": "stream",
     "text": [
      "The new value in kilograms is: 100 while the value in pounds is still: 126.50000000000001\n"
     ]
    }
   ],
   "source": [
    "weight_kg = 100\n",
    "print(\"The new value in kilograms is:\", weight_kg, \"while the value in pounds is still:\", weight_lb)"
   ]
  },
  {
   "cell_type": "markdown",
   "metadata": {
    "id": "sfMDuShMRLeC"
   },
   "source": [
    "![Variables as Sticky Notes](https://github.com/russodanielp/intro_cheminformatics/blob/master/Lab%2003%20-%20Basic%20Python/img/python-sticky-note-variables-03.svg?raw=1)\n",
    "\n",
    "* Changing variables created from old variables doesn't change the variable it was created from"
   ]
  },
  {
   "cell_type": "markdown",
   "metadata": {
    "id": "p2Sb7L1CRLeE"
   },
   "source": [
    "### Data Types\n",
    "\n",
    "#### Basic Data Types \n",
    "\n",
    "* variables can store different 'types' of data\n",
    "* Strings, integers, floats are some common data types\n",
    "* `type()` allows you see which is the high order of types\n",
    "\n",
    "#### Strings\n",
    "\n",
    "Characters, basically.  Use either ' or \" to enclose."
   ]
  },
  {
   "cell_type": "code",
   "execution_count": 21,
   "metadata": {
    "colab": {
     "base_uri": "https://localhost:8080/"
    },
    "id": "aJm06FOlRLeF",
    "outputId": "72fd9b68-4a2f-4c2f-db72-0b734d2400c9"
   },
   "outputs": [
    {
     "name": "stdout",
     "output_type": "stream",
     "text": [
      "I am a string\n",
      "2\n",
      "<class 'str'>\n"
     ]
    }
   ],
   "source": [
    "a_string = 'I am a string'\n",
    "another_string = '2'\n",
    "print(a_string)\n",
    "print(another_string)\n",
    "print(type(a_string))"
   ]
  },
  {
   "cell_type": "markdown",
   "metadata": {
    "id": "QqGiyswlLpDJ"
   },
   "source": [
    "#### Integers\n",
    "\n",
    "Whole numbers: 1, 2, 3...535."
   ]
  },
  {
   "cell_type": "code",
   "execution_count": 22,
   "metadata": {
    "colab": {
     "base_uri": "https://localhost:8080/"
    },
    "id": "9lhdGslzMAF6",
    "outputId": "24d1dbe5-7602-482f-9391-5108e68aea48"
   },
   "outputs": [
    {
     "name": "stdout",
     "output_type": "stream",
     "text": [
      "2\n",
      "42312\n",
      "<class 'int'>\n"
     ]
    }
   ],
   "source": [
    "our_number = 2\n",
    "another_number = 42312\n",
    "print(our_number)\n",
    "print(another_number)\n",
    "print(type(our_number))"
   ]
  },
  {
   "cell_type": "markdown",
   "metadata": {
    "id": "iLET9JAWMMzV"
   },
   "source": [
    "#### Floats\n",
    "\n",
    "Real numbers.  Need to have a decimal place."
   ]
  },
  {
   "cell_type": "code",
   "execution_count": 23,
   "metadata": {
    "colab": {
     "base_uri": "https://localhost:8080/"
    },
    "id": "HbI_EsliMfsn",
    "outputId": "0f47744c-9940-4916-9be4-9ff460833809"
   },
   "outputs": [
    {
     "name": "stdout",
     "output_type": "stream",
     "text": [
      "4.0\n",
      "3.14159\n",
      "<class 'float'>\n"
     ]
    }
   ],
   "source": [
    "a_float = 4.0\n",
    "another_float = 3.14159\n",
    "print(a_float)\n",
    "print(another_float)\n",
    "print(type(a_float))"
   ]
  },
  {
   "cell_type": "markdown",
   "metadata": {
    "id": "W181jj1YMxDd"
   },
   "source": [
    "### Operators\n",
    "\n",
    "Operators depend on the type.  Basically, floats and integers can have operations performed on them interchangeably.  Strings can have operators on other strings.\n",
    "\n",
    "+, -, *, / behave as you would expect."
   ]
  },
  {
   "cell_type": "code",
   "execution_count": 24,
   "metadata": {
    "colab": {
     "base_uri": "https://localhost:8080/"
    },
    "id": "f7kytGNCNHTV",
    "outputId": "e7707e8c-3ade-45c1-f7b0-2c75541be39f"
   },
   "outputs": [
    {
     "name": "stdout",
     "output_type": "stream",
     "text": [
      "6.0\n",
      "I am a string2\n",
      "I am a stringI am a string\n"
     ]
    }
   ],
   "source": [
    "result = a_float + our_number\n",
    "print(result)\n",
    "result = a_string + another_string\n",
    "print(result)\n",
    "result = a_string * our_number\n",
    "print(result)"
   ]
  },
  {
   "cell_type": "code",
   "execution_count": 25,
   "metadata": {
    "colab": {
     "base_uri": "https://localhost:8080/",
     "height": 165
    },
    "id": "UwG18yN_Nclo",
    "outputId": "a41bfc45-aef5-4bee-b121-380b7f2d6eb1"
   },
   "outputs": [
    {
     "ename": "TypeError",
     "evalue": "can only concatenate str (not \"int\") to str",
     "output_type": "error",
     "traceback": [
      "\u001b[0;31m---------------------------------------------------------------------------\u001b[0m",
      "\u001b[0;31mTypeError\u001b[0m                                 Traceback (most recent call last)",
      "\u001b[0;32m/var/folders/tc/54kf6jvj0pg7wj0jj_hq2c8r0000gn/T/ipykernel_94247/2295523471.py\u001b[0m in \u001b[0;36m<module>\u001b[0;34m\u001b[0m\n\u001b[0;32m----> 1\u001b[0;31m \u001b[0ma_string\u001b[0m \u001b[0;34m+\u001b[0m \u001b[0mour_number\u001b[0m\u001b[0;34m\u001b[0m\u001b[0;34m\u001b[0m\u001b[0m\n\u001b[0m",
      "\u001b[0;31mTypeError\u001b[0m: can only concatenate str (not \"int\") to str"
     ]
    }
   ],
   "source": [
    "a_string + our_number"
   ]
  },
  {
   "cell_type": "markdown",
   "metadata": {
    "id": "SC2z9_KRv36i"
   },
   "source": [
    "#### Other Data Types\n",
    "\n",
    "Two other data types are often used for storing information: lists and dictionaries. \n",
    "\n",
    "* Lists (also called arrays) can store multiple items - they are static and information stored in them will always be in the same spot.  \n",
    "* Dictionaries store items through a key-> value structure.  Values are accessed via their respective keys - there is no order. "
   ]
  },
  {
   "cell_type": "markdown",
   "metadata": {
    "id": "dCKQMuqUNjrD"
   },
   "source": [
    "### Lists\n",
    "\n",
    "Lists are a helpful way to store information.  Lists can contain as many elements as we want and whatever data type we want, even multiple.  They can even store lists.\n",
    "\n",
    "Elements in the list are ordered and can be accessed via their position or \"index\", which starts counting at zero. "
   ]
  },
  {
   "cell_type": "code",
   "execution_count": 26,
   "metadata": {
    "colab": {
     "base_uri": "https://localhost:8080/"
    },
    "id": "CcDbdWS6RLeG",
    "outputId": "4eebd956-d2a2-466e-f2b2-2aae058fecee"
   },
   "outputs": [
    {
     "name": "stdout",
     "output_type": "stream",
     "text": [
      "1\n",
      "2\n",
      "a_string\n"
     ]
    }
   ],
   "source": [
    "a_list = [1, 2, 'a_string']\n",
    "print(a_list[0])\n",
    "print(a_list[1])\n",
    "print(a_list[2])"
   ]
  },
  {
   "cell_type": "code",
   "execution_count": 27,
   "metadata": {
    "colab": {
     "base_uri": "https://localhost:8080/"
    },
    "id": "SUdc2SSARLeG",
    "outputId": "99ebc251-50a9-4b21-900a-f652c02f29ea"
   },
   "outputs": [
    {
     "name": "stdout",
     "output_type": "stream",
     "text": [
      "another string\n",
      "[1, 2, 'a_string', 'another string']\n"
     ]
    }
   ],
   "source": [
    "a_list.append('another string')\n",
    "print(a_list[3])\n",
    "print(a_list)"
   ]
  },
  {
   "cell_type": "markdown",
   "metadata": {
    "id": "kYlD2n0UZJzP"
   },
   "source": [
    "### Dictionaries \n",
    "\n",
    "Dictionaries are unordered an store items via a key: value pair syntax"
   ]
  },
  {
   "cell_type": "code",
   "execution_count": 28,
   "metadata": {
    "colab": {
     "base_uri": "https://localhost:8080/"
    },
    "id": "1kCcmafYZS4A",
    "outputId": "7dfaf6f3-0097-4520-85da-d667c643afe9"
   },
   "outputs": [
    {
     "name": "stdout",
     "output_type": "stream",
     "text": [
      "{'a_key': 42, 'another_key': 'some other value', 42: 'the secret of life'}\n",
      "the secret of life\n",
      "42\n",
      "some other value\n"
     ]
    }
   ],
   "source": [
    "a_dictionary = {}\n",
    "a_dictionary['a_key'] = 42\n",
    "a_dictionary['another_key'] = \"some other value\"\n",
    "a_dictionary[42] = 'the secret of life'\n",
    "print(a_dictionary)\n",
    "print(a_dictionary[42])\n",
    "print(a_dictionary['a_key'])\n",
    "print(a_dictionary['another_key'])"
   ]
  },
  {
   "cell_type": "markdown",
   "metadata": {
    "id": "KCAVsKjeRLeH"
   },
   "source": [
    "### `for` Loops \n",
    "\n",
    "Allow for iterating over elemtns or repeating things.  "
   ]
  },
  {
   "cell_type": "code",
   "execution_count": 29,
   "metadata": {
    "colab": {
     "base_uri": "https://localhost:8080/"
    },
    "id": "fTiYWN4bRLeI",
    "outputId": "34554a22-1ba5-43b4-da92-cd62df70257a"
   },
   "outputs": [
    {
     "name": "stdout",
     "output_type": "stream",
     "text": [
      "1\n",
      "2\n",
      "a_string\n",
      "another string\n"
     ]
    }
   ],
   "source": [
    "for element in a_list:\n",
    "    print(element)"
   ]
  },
  {
   "cell_type": "code",
   "execution_count": 30,
   "metadata": {
    "colab": {
     "base_uri": "https://localhost:8080/"
    },
    "id": "EP0wmjtVaCI3",
    "outputId": "0267f2b0-8f16-4eb1-d27a-06cd60149dcc"
   },
   "outputs": [
    {
     "name": "stdout",
     "output_type": "stream",
     "text": [
      "a_key\n",
      "42\n",
      "another_key\n",
      "some other value\n",
      "42\n",
      "the secret of life\n"
     ]
    }
   ],
   "source": [
    "for key in a_dictionary:\n",
    "    print(key)\n",
    "    print(a_dictionary[key])"
   ]
  },
  {
   "cell_type": "markdown",
   "metadata": {
    "id": "cfI8W1oGaPCa"
   },
   "source": [
    "### Range \n",
    "\n",
    "The range function allows us to create ranges to iterate over."
   ]
  },
  {
   "cell_type": "code",
   "execution_count": 31,
   "metadata": {
    "colab": {
     "base_uri": "https://localhost:8080/"
    },
    "id": "t4fubkBMaNur",
    "outputId": "8b69b0ed-1b3d-481c-98b1-09f67d7e527b"
   },
   "outputs": [
    {
     "name": "stdout",
     "output_type": "stream",
     "text": [
      "0\n",
      "1\n",
      "2\n",
      "3\n",
      "4\n",
      "5\n",
      "6\n",
      "7\n",
      "8\n",
      "9\n"
     ]
    }
   ],
   "source": [
    "for i in range(10):\n",
    "    print(i)"
   ]
  },
  {
   "cell_type": "markdown",
   "metadata": {
    "id": "Gb82oGa6RLeI"
   },
   "source": [
    "__Note__: Finding the length of iterables is a common task in Python, so much that it has a reserved function called `len()` that does just that.  "
   ]
  },
  {
   "cell_type": "code",
   "execution_count": 32,
   "metadata": {
    "colab": {
     "base_uri": "https://localhost:8080/"
    },
    "id": "UfDDDiqnaoEy",
    "outputId": "2e9aaf5c-a92c-4aad-b146-6c6dfc1af805"
   },
   "outputs": [
    {
     "data": {
      "text/plain": [
       "4"
      ]
     },
     "execution_count": 32,
     "metadata": {},
     "output_type": "execute_result"
    }
   ],
   "source": [
    "len(a_list)"
   ]
  },
  {
   "cell_type": "markdown",
   "metadata": {
    "id": "GTEzYvloRLeJ",
    "tags": []
   },
   "source": [
    "## Using External Libraries\n",
    "\n",
    "* Code is resuable -- Many times simple progammatic tasks have been done before\n",
    "    - No need to reinvent the wheel!\n",
    "    \n",
    "* Python libraries are organized code for reusability\n",
    "    \n",
    "Code (words) ** --> **  Functions/Methods ** --> ** Objects ** --> ** Modules ** --> ** libraries\n",
    "\n",
    "## Pandas\n",
    "\n",
    "In order to use libraries we need to import them.  This is done through an import statement using the library name.  \n",
    "\n",
    "Pandas uses what are called data frames.  Dataframes are a pretty simple concept.  They are simply matrices consisting of rows and columns and very convient way to store tabular data (such as that found in excel).  \n",
    "\n",
    "For example, we can look at the famous [iris dataset](https://en.wikipedia.org/wiki/Iris_flower_data_set).  The data set consists of 50 samples from each of three species of Iris (_Iris setosa_, _Iris virginica_ and _Iris versicolor_). Four features were measured from each sample: the length and the width of the sepals and petals, in centimeters. Based on the combination of these four features.  In the original collection, Dr. Ronald Fisher developed a linear discriminant model to distinguish the species from each other and thus it became a widely used dataset for tutorials.  In this dataset, every row is a datapoint (the four measurements and the species). \n",
    "\n",
    "Pandas has a very helpful function called `read_csv`.  To access functions from other libraries, we call the library after we import it and then write the name of the function we want to use.  We just need to tell it where the `csv` file we want to read is. \n",
    "\n",
    "__Note__: Instead of having to write `pandas` everytime we need to `import` something from the `pandas` library, we can use the `as` statement to apply a shorthand.  Most people call `pandas` by the shortened `pd`. "
   ]
  },
  {
   "cell_type": "code",
   "execution_count": 33,
   "metadata": {
    "colab": {
     "base_uri": "https://localhost:8080/",
     "height": 206
    },
    "id": "I0STUpixRLeJ",
    "outputId": "da192a69-d323-40a7-aac1-d5071c0c41c7"
   },
   "outputs": [
    {
     "data": {
      "text/html": [
       "<div>\n",
       "<style scoped>\n",
       "    .dataframe tbody tr th:only-of-type {\n",
       "        vertical-align: middle;\n",
       "    }\n",
       "\n",
       "    .dataframe tbody tr th {\n",
       "        vertical-align: top;\n",
       "    }\n",
       "\n",
       "    .dataframe thead th {\n",
       "        text-align: right;\n",
       "    }\n",
       "</style>\n",
       "<table border=\"1\" class=\"dataframe\">\n",
       "  <thead>\n",
       "    <tr style=\"text-align: right;\">\n",
       "      <th></th>\n",
       "      <th>sepal_length</th>\n",
       "      <th>sepal_width</th>\n",
       "      <th>petal_length</th>\n",
       "      <th>petal_width</th>\n",
       "      <th>species</th>\n",
       "    </tr>\n",
       "  </thead>\n",
       "  <tbody>\n",
       "    <tr>\n",
       "      <th>0</th>\n",
       "      <td>5.1</td>\n",
       "      <td>3.5</td>\n",
       "      <td>1.4</td>\n",
       "      <td>0.2</td>\n",
       "      <td>setosa</td>\n",
       "    </tr>\n",
       "    <tr>\n",
       "      <th>1</th>\n",
       "      <td>4.9</td>\n",
       "      <td>3.0</td>\n",
       "      <td>1.4</td>\n",
       "      <td>0.2</td>\n",
       "      <td>setosa</td>\n",
       "    </tr>\n",
       "    <tr>\n",
       "      <th>2</th>\n",
       "      <td>4.7</td>\n",
       "      <td>3.2</td>\n",
       "      <td>1.3</td>\n",
       "      <td>0.2</td>\n",
       "      <td>setosa</td>\n",
       "    </tr>\n",
       "    <tr>\n",
       "      <th>3</th>\n",
       "      <td>4.6</td>\n",
       "      <td>3.1</td>\n",
       "      <td>1.5</td>\n",
       "      <td>0.2</td>\n",
       "      <td>setosa</td>\n",
       "    </tr>\n",
       "    <tr>\n",
       "      <th>4</th>\n",
       "      <td>5.0</td>\n",
       "      <td>3.6</td>\n",
       "      <td>1.4</td>\n",
       "      <td>0.2</td>\n",
       "      <td>setosa</td>\n",
       "    </tr>\n",
       "  </tbody>\n",
       "</table>\n",
       "</div>"
      ],
      "text/plain": [
       "   sepal_length  sepal_width  petal_length  petal_width species\n",
       "0           5.1          3.5           1.4          0.2  setosa\n",
       "1           4.9          3.0           1.4          0.2  setosa\n",
       "2           4.7          3.2           1.3          0.2  setosa\n",
       "3           4.6          3.1           1.5          0.2  setosa\n",
       "4           5.0          3.6           1.4          0.2  setosa"
      ]
     },
     "execution_count": 33,
     "metadata": {},
     "output_type": "execute_result"
    }
   ],
   "source": [
    "import pandas as pd\n",
    "iris = pd.read_csv('data/iris_flower_data.csv', index_col=0)\n",
    "iris.head()"
   ]
  },
  {
   "cell_type": "markdown",
   "metadata": {
    "id": "Km0EiOVB0dNm"
   },
   "source": [
    "Pandas imports the text as a `dataframe`.  Dataframes are like a new data type.  They are like a matrix but with labeled columns and rows (called `index`).  We can acess both.  "
   ]
  },
  {
   "cell_type": "code",
   "execution_count": 34,
   "metadata": {
    "colab": {
     "base_uri": "https://localhost:8080/"
    },
    "id": "5GFitmiU0cA3",
    "outputId": "87271de5-f3f4-4276-b45b-e255761af6e2"
   },
   "outputs": [
    {
     "data": {
      "text/plain": [
       "pandas.core.frame.DataFrame"
      ]
     },
     "execution_count": 34,
     "metadata": {},
     "output_type": "execute_result"
    }
   ],
   "source": [
    "type(iris)"
   ]
  },
  {
   "cell_type": "code",
   "execution_count": 35,
   "metadata": {
    "colab": {
     "base_uri": "https://localhost:8080/"
    },
    "id": "DQ5MHORj1wNQ",
    "outputId": "3f74d842-a445-43fc-d2d0-99d90bc0a3c4"
   },
   "outputs": [
    {
     "data": {
      "text/plain": [
       "Index(['sepal_length', 'sepal_width', 'petal_length', 'petal_width',\n",
       "       'species'],\n",
       "      dtype='object')"
      ]
     },
     "execution_count": 35,
     "metadata": {},
     "output_type": "execute_result"
    }
   ],
   "source": [
    "iris.columns"
   ]
  },
  {
   "cell_type": "code",
   "execution_count": 36,
   "metadata": {
    "colab": {
     "base_uri": "https://localhost:8080/"
    },
    "id": "O4amPbV41wau",
    "outputId": "abafc983-5031-4c97-ca22-faf9c7c0742a"
   },
   "outputs": [
    {
     "data": {
      "text/plain": [
       "Int64Index([  0,   1,   2,   3,   4,   5,   6,   7,   8,   9,\n",
       "            ...\n",
       "            140, 141, 142, 143, 144, 145, 146, 147, 148, 149],\n",
       "           dtype='int64', length=150)"
      ]
     },
     "execution_count": 36,
     "metadata": {},
     "output_type": "execute_result"
    }
   ],
   "source": [
    "iris.index"
   ]
  },
  {
   "cell_type": "markdown",
   "metadata": {
    "id": "sjEQDYtG6rfT"
   },
   "source": [
    "You can access each row or column by the name using the `loc` method.  Rows are first, columns are second.  The colon is used to get everything from that row/column. "
   ]
  },
  {
   "cell_type": "code",
   "execution_count": 37,
   "metadata": {
    "colab": {
     "base_uri": "https://localhost:8080/"
    },
    "id": "ME3NhLzB67YF",
    "outputId": "8577e254-93fc-4f3a-a494-665e04b95d1e"
   },
   "outputs": [
    {
     "data": {
      "text/plain": [
       "sepal_length       5.1\n",
       "sepal_width        3.5\n",
       "petal_length       1.4\n",
       "petal_width        0.2\n",
       "species         setosa\n",
       "Name: 0, dtype: object"
      ]
     },
     "execution_count": 37,
     "metadata": {},
     "output_type": "execute_result"
    }
   ],
   "source": [
    "iris.loc[0, :]"
   ]
  },
  {
   "cell_type": "code",
   "execution_count": 38,
   "metadata": {
    "colab": {
     "base_uri": "https://localhost:8080/"
    },
    "id": "PBvIO_r067ai",
    "outputId": "e4acef71-a8d0-479f-e6b1-af793383db55"
   },
   "outputs": [
    {
     "data": {
      "text/plain": [
       "0      5.1\n",
       "1      4.9\n",
       "2      4.7\n",
       "3      4.6\n",
       "4      5.0\n",
       "      ... \n",
       "145    6.7\n",
       "146    6.3\n",
       "147    6.5\n",
       "148    6.2\n",
       "149    5.9\n",
       "Name: sepal_length, Length: 150, dtype: float64"
      ]
     },
     "execution_count": 38,
     "metadata": {},
     "output_type": "execute_result"
    }
   ],
   "source": [
    "iris.loc[:, 'sepal_length']"
   ]
  },
  {
   "cell_type": "markdown",
   "metadata": {
    "id": "Zx6YbHsM7PA2"
   },
   "source": [
    "Of course we can use both to get a value from a cell.  For example, the second datapoints species."
   ]
  },
  {
   "cell_type": "code",
   "execution_count": 39,
   "metadata": {
    "colab": {
     "base_uri": "https://localhost:8080/",
     "height": 35
    },
    "id": "uPGWmf4X67dF",
    "outputId": "ce2afd4a-f19a-42d3-dbdb-979ae4badccb"
   },
   "outputs": [
    {
     "data": {
      "text/plain": [
       "'setosa'"
      ]
     },
     "execution_count": 39,
     "metadata": {},
     "output_type": "execute_result"
    }
   ],
   "source": [
    "iris.loc[1, 'species']"
   ]
  },
  {
   "cell_type": "markdown",
   "metadata": {
    "id": "SRDbjIef7iEu"
   },
   "source": [
    "You can access the same information via their indicies using the `iloc` method.  "
   ]
  },
  {
   "cell_type": "code",
   "execution_count": 40,
   "metadata": {
    "colab": {
     "base_uri": "https://localhost:8080/",
     "height": 35
    },
    "id": "jfi_RsW27ela",
    "outputId": "1e878026-3c63-433e-9e83-c6fe9d503472"
   },
   "outputs": [
    {
     "data": {
      "text/plain": [
       "'setosa'"
      ]
     },
     "execution_count": 40,
     "metadata": {},
     "output_type": "execute_result"
    }
   ],
   "source": [
    "iris.iloc[1, 4]"
   ]
  },
  {
   "cell_type": "markdown",
   "metadata": {
    "id": "CR6skK8c9GT6"
   },
   "source": [
    "There are very helpful methods that data frames have which could require a full course.  Most of the time, whatever you're trying to do has already been done and searching the internet is very helful.  We could average by the column.  "
   ]
  },
  {
   "cell_type": "code",
   "execution_count": 41,
   "metadata": {
    "colab": {
     "base_uri": "https://localhost:8080/"
    },
    "id": "MCLy2l8u9eid",
    "outputId": "6bb1336f-081f-4728-dada-b6d47e1ee87c"
   },
   "outputs": [
    {
     "data": {
      "text/plain": [
       "sepal_length    5.843333\n",
       "sepal_width     3.057333\n",
       "petal_length    3.758000\n",
       "petal_width     1.199333\n",
       "dtype: float64"
      ]
     },
     "execution_count": 41,
     "metadata": {},
     "output_type": "execute_result"
    }
   ],
   "source": [
    "iris.mean()"
   ]
  },
  {
   "cell_type": "markdown",
   "metadata": {
    "id": "_P3-FkBX9grY"
   },
   "source": [
    "Sum by the row..."
   ]
  },
  {
   "cell_type": "code",
   "execution_count": 42,
   "metadata": {
    "colab": {
     "base_uri": "https://localhost:8080/"
    },
    "id": "ws4jw7cC9Xmh",
    "outputId": "44267a0b-3936-435d-c52e-e979adc1c37c"
   },
   "outputs": [
    {
     "data": {
      "text/plain": [
       "0      10.2\n",
       "1       9.5\n",
       "2       9.4\n",
       "3       9.4\n",
       "4      10.2\n",
       "       ... \n",
       "145    17.2\n",
       "146    15.7\n",
       "147    16.7\n",
       "148    17.3\n",
       "149    15.8\n",
       "Length: 150, dtype: float64"
      ]
     },
     "execution_count": 42,
     "metadata": {},
     "output_type": "execute_result"
    }
   ],
   "source": [
    "iris.sum(1)"
   ]
  },
  {
   "cell_type": "markdown",
   "metadata": {
    "id": "xKuDZCxw9lfO"
   },
   "source": [
    "Or the find the species counts.."
   ]
  },
  {
   "cell_type": "code",
   "execution_count": 43,
   "metadata": {
    "colab": {
     "base_uri": "https://localhost:8080/"
    },
    "id": "sxmJ5iuJ67il",
    "outputId": "5639d33b-8ce3-4e2d-c647-11a897780739"
   },
   "outputs": [
    {
     "data": {
      "text/plain": [
       "virginica     50\n",
       "versicolor    50\n",
       "setosa        50\n",
       "Name: species, dtype: int64"
      ]
     },
     "execution_count": 43,
     "metadata": {},
     "output_type": "execute_result"
    }
   ],
   "source": [
    "iris['species'].value_counts()"
   ]
  },
  {
   "cell_type": "markdown",
   "metadata": {
    "id": "a8FEVbis-4tz"
   },
   "source": [
    "You can do math operations on entire columns."
   ]
  },
  {
   "cell_type": "code",
   "execution_count": 44,
   "metadata": {
    "colab": {
     "base_uri": "https://localhost:8080/"
    },
    "id": "M2TTTpDb-3CC",
    "outputId": "1c038d49-b5d7-4b06-d9b8-99920337b07d"
   },
   "outputs": [
    {
     "data": {
      "text/plain": [
       "0       0.28\n",
       "1       0.28\n",
       "2       0.26\n",
       "3       0.30\n",
       "4       0.28\n",
       "       ...  \n",
       "145    11.96\n",
       "146     9.50\n",
       "147    10.40\n",
       "148    12.42\n",
       "149     9.18\n",
       "Name: petal_surface_area, Length: 150, dtype: float64"
      ]
     },
     "execution_count": 44,
     "metadata": {},
     "output_type": "execute_result"
    }
   ],
   "source": [
    "iris['petal_surface_area'] = iris['petal_length'] * iris['petal_width']\n",
    "iris['petal_surface_area']"
   ]
  },
  {
   "cell_type": "markdown",
   "metadata": {
    "id": "ikB5Ltmr91Bz"
   },
   "source": [
    "Pandas is a very useful tool for any scientist.  There are several tutorials available online [here](https://pandas.pydata.org/pandas-docs/stable/getting_started/tutorials.html).  "
   ]
  },
  {
   "cell_type": "markdown",
   "metadata": {
    "id": "9jg7UrvERLeP"
   },
   "source": [
    "## Matplotlib \n",
    "\n",
    "Matplotlib is a extremly powerful plotting library in Python.  Another very useful is the [Seaborn](https://seaborn.pydata.org/) library, which is also very powerful.  It is built on top of matplotlib and offers high-level plotting for some common statistical plots. \n",
    "\n",
    "Matplotlib allows more control and is therefore we will demonatrate the basics here.  It has support for rendering in Jupyter Notebooks.  We need to turn this on by running a cell with `% matplotlib inline`."
   ]
  },
  {
   "cell_type": "code",
   "execution_count": 45,
   "metadata": {
    "id": "vCkEVxirRLeP",
    "tags": []
   },
   "outputs": [],
   "source": [
    "%matplotlib inline"
   ]
  },
  {
   "cell_type": "markdown",
   "metadata": {
    "id": "QVNGFYTRB9nD"
   },
   "source": [
    "Plotting is done by create creating `fig` and `ax` objects.  The `fig` object controls more meta level attributes of the final figure.  The `ax` is what we use to plot elements.  We do that my providing the data and what time of datapoint we want to plot and one what axis (x is first, y is second).  \n",
    "\n",
    "We can add mutiple data and plot types to a single `ax`.  Once we are finished, we call `plt.show()` to visualize.  "
   ]
  },
  {
   "cell_type": "markdown",
   "metadata": {
    "id": "vwhAobWrCfeM"
   },
   "source": [
    "#### Scatter"
   ]
  },
  {
   "cell_type": "code",
   "execution_count": 46,
   "metadata": {
    "colab": {
     "base_uri": "https://localhost:8080/",
     "height": 265
    },
    "id": "2eiDvKLzRLeP",
    "outputId": "d1ba7d2e-789a-49d0-f678-eab0cfb78302"
   },
   "outputs": [
    {
     "data": {
      "image/png": "[encoded data removed]",
      "text/plain": [
       "<Figure size 432x288 with 1 Axes>"
      ]
     },
     "metadata": {
      "needs_background": "light"
     },
     "output_type": "display_data"
    }
   ],
   "source": [
    "import matplotlib.pyplot as plt\n",
    "\n",
    "fig, ax = plt.subplots()\n",
    "\n",
    "ax.scatter(iris['petal_length'], iris['petal_width'])\n",
    "\n",
    "plt.show()"
   ]
  },
  {
   "cell_type": "markdown",
   "metadata": {
    "id": "BJnVvI6HD9EC"
   },
   "source": [
    "Colors can be provided by providing which each data point should be colored.  We can chose the colors in a dictionary and \"map\" to a series."
   ]
  },
  {
   "cell_type": "code",
   "execution_count": 47,
   "metadata": {
    "colab": {
     "base_uri": "https://localhost:8080/",
     "height": 282
    },
    "id": "ERLBT2sLDdLU",
    "outputId": "5c3efa98-d03f-4a94-aaf4-831836070765"
   },
   "outputs": [
    {
     "data": {
      "image/png": "[encoded data removed]",
      "text/plain": [
       "<Figure size 432x288 with 1 Axes>"
      ]
     },
     "metadata": {
      "needs_background": "light"
     },
     "output_type": "display_data"
    }
   ],
   "source": [
    "fig, ax = plt.subplots()\n",
    "\n",
    "colors = {'versicolor':'blue', \n",
    "          'virginica':'green', \n",
    "          'setosa':'red'}\n",
    "\n",
    "ax.scatter(iris['petal_length'], iris['petal_width'], color=iris['species'].map(colors))\n",
    "\n",
    "ax.set_xlabel('petal length', fontsize=12)\n",
    "ax.set_ylabel('petal width', fontsize=12)\n",
    "\n",
    "plt.show()"
   ]
  },
  {
   "cell_type": "markdown",
   "metadata": {
    "id": "006Zk_dxFQJb"
   },
   "source": [
    "### Bar\n",
    "\n",
    "Most of the time, making the right plot is just making sure the data is in the right format.  \n",
    "\n",
    "We can plot a bar graph of petal length in descending order.  "
   ]
  },
  {
   "cell_type": "code",
   "execution_count": 48,
   "metadata": {
    "colab": {
     "base_uri": "https://localhost:8080/"
    },
    "id": "UhnzuYGPFsRp",
    "outputId": "2cbfb201-f207-410f-e48a-93d93a945698"
   },
   "outputs": [
    {
     "data": {
      "text/plain": [
       "118    6.9\n",
       "122    6.7\n",
       "117    6.7\n",
       "105    6.6\n",
       "131    6.4\n",
       "Name: petal_length, dtype: float64"
      ]
     },
     "execution_count": 48,
     "metadata": {},
     "output_type": "execute_result"
    }
   ],
   "source": [
    "values_sorted = iris['petal_length'].sort_values(ascending=False).iloc[:25]\n",
    "values_sorted.head()"
   ]
  },
  {
   "cell_type": "code",
   "execution_count": 49,
   "metadata": {
    "colab": {
     "base_uri": "https://localhost:8080/",
     "height": 282
    },
    "id": "1hN2V-RdFaA_",
    "outputId": "9427ab15-0e8b-4fd1-a373-39c834339d00"
   },
   "outputs": [
    {
     "data": {
      "image/png": "[encoded data removed]",
      "text/plain": [
       "<Figure size 432x288 with 1 Axes>"
      ]
     },
     "metadata": {
      "needs_background": "light"
     },
     "output_type": "display_data"
    }
   ],
   "source": [
    "fig, ax = plt.subplots()\n",
    "\n",
    "ax.bar(list(range(values_sorted.shape[0])), values_sorted)\n",
    "\n",
    "ax.set_xlabel('Rank', fontsize=12)\n",
    "ax.set_ylabel('Length (cm)', fontsize=12)\n",
    "\n",
    "plt.show()"
   ]
  },
  {
   "cell_type": "markdown",
   "metadata": {
    "id": "YBHEiy64Gg5n"
   },
   "source": [
    "## Line\n",
    "\n",
    "Or the same plot as a line graph"
   ]
  },
  {
   "cell_type": "code",
   "execution_count": 50,
   "metadata": {
    "colab": {
     "base_uri": "https://localhost:8080/",
     "height": 282
    },
    "id": "83kEnUS5GOx1",
    "outputId": "f58d64a1-8747-4c4f-d15d-aaa556a11571"
   },
   "outputs": [
    {
     "data": {
      "image/png": "[encoded data removed]",
      "text/plain": [
       "<Figure size 432x288 with 1 Axes>"
      ]
     },
     "metadata": {
      "needs_background": "light"
     },
     "output_type": "display_data"
    }
   ],
   "source": [
    "fig, ax = plt.subplots()\n",
    "\n",
    "ax.plot(list(range(values_sorted.shape[0])), values_sorted)\n",
    "\n",
    "ax.set_xlabel('Rank', fontsize=12)\n",
    "ax.set_ylabel('Length (cm)', fontsize=12)\n",
    "\n",
    "plt.show()"
   ]
  },
  {
   "cell_type": "markdown",
   "metadata": {
    "id": "_vOJUBf8GwA_"
   },
   "source": [
    "### Line+scatter\n",
    "\n",
    "Matplotlib becomes really powerful by building on top of each other.  We can add a scatter plot to the line graph.  "
   ]
  },
  {
   "cell_type": "code",
   "execution_count": 51,
   "metadata": {
    "colab": {
     "base_uri": "https://localhost:8080/",
     "height": 282
    },
    "id": "93IZEuvKGq-Y",
    "outputId": "e390577c-fcbd-4925-cdca-13762613c789"
   },
   "outputs": [
    {
     "data": {
      "image/png": "[encoded data removed]",
      "text/plain": [
       "<Figure size 432x288 with 1 Axes>"
      ]
     },
     "metadata": {
      "needs_background": "light"
     },
     "output_type": "display_data"
    }
   ],
   "source": [
    "fig, ax = plt.subplots()\n",
    "\n",
    "ax.plot(list(range(values_sorted.shape[0])), values_sorted)\n",
    "ax.scatter(list(range(values_sorted.shape[0])), values_sorted)\n",
    "\n",
    "ax.set_xlabel('Rank', fontsize=12)\n",
    "ax.set_ylabel('Length (cm)', fontsize=12)\n",
    "\n",
    "plt.show()"
   ]
  },
  {
   "cell_type": "markdown",
   "metadata": {
    "id": "wTBpaoDlHHzd"
   },
   "source": [
    "### Wrapping up\n",
    "\n",
    "Matplotlib is complex.  Inspiraton usually happens by exploring the [gallery](https://matplotlib.org/2.0.2/gallery.html) for ideas or having an idea of what you want to do and searching either the [documentation](https://matplotlib.org/2.0.2/index.html) or the internet for someone who has done what you are trying before.  \n",
    "\n",
    "We only briefly introducted matplotlib here.  I suggest looking at the [tutorials](https://matplotlib.org/stable/tutorials/introductory/usage.html#sphx-glr-tutorials-introductory-usage-py) for its full capability.  "
   ]
  }
 ],
 "metadata": {
  "colab": {
   "name": "lab.ipynb",
   "provenance": []
  },
  "kernelspec": {
   "display_name": "Python 3 (ipykernel)",
   "language": "python",
   "name": "python3"
  },
  "language_info": {
   "codemirror_mode": {
    "name": "ipython",
    "version": 3
   },
   "file_extension": ".py",
   "mimetype": "text/x-python",
   "name": "python",
   "nbconvert_exporter": "python",
   "pygments_lexer": "ipython3",
   "version": "3.7.11"
  }
 },
 "nbformat": 4,
 "nbformat_minor": 4
}
