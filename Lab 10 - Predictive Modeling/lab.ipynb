{
 "cells": [
  {
   "cell_type": "markdown",
   "metadata": {
    "id": "Mw6ziAZNSmsb"
   },
   "source": [
    "# Predictive Modeling"
   ]
  },
  {
   "cell_type": "markdown",
   "metadata": {
    "id": "Iz7tw_J4Smsh",
    "tags": []
   },
   "source": [
    "## Aim\n",
    "\n",
    "To develop your own QSAR model for a dataset of interest."
   ]
  },
  {
   "cell_type": "markdown",
   "metadata": {
    "id": "W6HVs5AiSmsi",
    "tags": []
   },
   "source": [
    "### Objectives\n",
    "\n",
    "* To understand the concepts of a REST-Ful Automated Programming Interface.  \n",
    "* Learn how to use PubChem's API\n",
    "* Learn how to use ChEMBl's API\n"
   ]
  },
  {
   "cell_type": "markdown",
   "metadata": {
    "id": "yY51LHLNSmsj"
   },
   "source": [
    "## Background"
   ]
  },
  {
   "cell_type": "code",
   "execution_count": null,
   "metadata": {},
   "outputs": [],
   "source": []
  }
 ],
 "metadata": {
  "colab": {
   "name": "lab.ipynb",
   "provenance": []
  },
  "kernelspec": {
   "display_name": "Python 3",
   "language": "python",
   "name": "python3"
  },
  "language_info": {
   "codemirror_mode": {
    "name": "ipython",
    "version": 3
   },
   "file_extension": ".py",
   "mimetype": "text/x-python",
   "name": "python",
   "nbconvert_exporter": "python",
   "pygments_lexer": "ipython3",
   "version": "3.7.11"
  }
 },
 "nbformat": 4,
 "nbformat_minor": 4
}
