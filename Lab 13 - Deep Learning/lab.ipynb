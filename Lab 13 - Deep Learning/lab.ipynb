{
 "cells": [
  {
   "cell_type": "markdown",
   "metadata": {
    "colab_type": "text",
    "id": "view-in-github"
   },
   "source": [
    "<a href=\"https://colab.research.google.com/github/russodanielp/intro_cheminformatics/blob/master/DeepLearning.ipynb\" target=\"_parent\"><img src=\"https://colab.research.google.com/assets/colab-badge.svg\" alt=\"Open In Colab\"/></a>"
   ]
  },
  {
   "cell_type": "markdown",
   "metadata": {
    "id": "NKSWxf8ZVMZj"
   },
   "source": [
    "# Deep Learning"
   ]
  },
  {
   "cell_type": "markdown",
   "metadata": {
    "id": "Pofcn1V6VT85"
   },
   "source": [
    "## Aim\n",
    "\n",
    "To understand the basics of a neural network and to create a simple deep learning neural network using PyTorch.\n",
    "\n",
    "## Objectives \n",
    "\n",
    "* Create a simple deep learning model using PyTorch\n",
    "\n",
    "## Background\n",
    "\n",
    "The explosion of the amounts of accessible, publically available data couples with hardware advances such as graphical processing units (GPUs) has lead to the resurgances of deep learning methods.  Deep learning is a catch-all term for various types of artificial neural networks, which have seen in the QSAR lab.  A simple neural network generally consists of one input later, a hidden layer, and an output layer.  However, this framework can be extended to include any number of hidden layers.  When an artificial neural network contains more than 1 hidden layer, it is called a deep neural network.  \n",
    "\n",
    "Part of Python's popularity is the number of deep learning libraries.  The [PyTorch](https://pytorch.org/) is one of the most popular and will be used in this tab to create a fairly standard neural network of 3 hidden layers.  \n",
    "\n",
    "\n",
    "In this lab we will use a dataset provided by the dataset provided by [NICEATM Acute Oral Toxicity challenge](https://ehp.niehs.nih.gov/doi/10.1289/EHP8495).  In this challenge, over 11,000 chemicals with acute oral toxicity values LD$_{50}$, which is defined as the median concentraion at which 50% of the tested animal subjects die after substance ingestion.  Of these chemicals a training set what provided to modeling participants (labeled `TrainingSet.sdf` in the `data` folder).  We will use this to create a neural network using PyTorch. "
   ]
  },
  {
   "cell_type": "code",
   "execution_count": 2,
   "metadata": {
    "id": "u7N93U7QVJ9y"
   },
   "outputs": [],
   "source": [
    "import numpy as np\n",
    "import torch\n",
    "from torch import nn\n",
    "from rdkit.ML.Descriptors import MoleculeDescriptors\n",
    "from rdkit.Chem import AllChem\n",
    "from rdkit.Chem import MACCSkeys\n",
    "from rdkit.Chem import Descriptors\n",
    "from rdkit import Chem\n",
    "import pandas as pd\n",
    "from rdkit.Chem import PandasTools"
   ]
  },
  {
   "cell_type": "markdown",
   "metadata": {},
   "source": [
    "## Data Preperation\n",
    "\n",
    "We can prepare the data just as we have for our QSAR methods."
   ]
  },
  {
   "cell_type": "code",
   "execution_count": 3,
   "metadata": {},
   "outputs": [],
   "source": [
    "def calc_fp_from_mol(mol, method=\"maccs\", n_bits=2048):\n",
    "    \"\"\"\n",
    "    Encode a molecule from a RDKit Mol into a fingerprint.\n",
    "\n",
    "    Parameters\n",
    "    ----------\n",
    "    mol : RDKit Mol\n",
    "        The RDKit molecule.\n",
    "\n",
    "    method : str\n",
    "        The type of fingerprint to use. Default is MACCS keys.\n",
    "\n",
    "    n_bits : int\n",
    "        The length of the fingerprint.\n",
    "\n",
    "    Returns\n",
    "    -------\n",
    "    array\n",
    "        The fingerprint array.\n",
    "\n",
    "    \"\"\"\n",
    "\n",
    "    if method == \"maccs\":\n",
    "        return list(MACCSkeys.GenMACCSKeys(mol))\n",
    "    if method == \"morgan4\":\n",
    "        return list(AllChem.GetMorganFingerprintAsBitVect(mol, 2, nBits=n_bits))\n",
    "    if method == \"morgan6\":\n",
    "        return list(AllChem.GetMorganFingerprintAsBitVect(mol, 3, nBits=n_bits))\n",
    "    else:\n",
    "        # NBVAL_CHECK_OUTPUT\n",
    "        print(f\"Warning: Wrong method specified: {method}. Default will be used instead.\")\n",
    "        return list(MACCSkeys.GenMACCSKeys(mol))"
   ]
  },
  {
   "cell_type": "code",
   "execution_count": 4,
   "metadata": {},
   "outputs": [
    {
     "name": "stderr",
     "output_type": "stream",
     "text": [
      "RDKit WARNING: [16:16:49] Warning: molecule is tagged as 3D, but all Z coords are zero\n",
      "RDKit WARNING: [16:16:49] Warning: molecule is tagged as 3D, but all Z coords are zero\n",
      "RDKit WARNING: [16:16:49] Warning: molecule is tagged as 3D, but all Z coords are zero\n",
      "RDKit WARNING: [16:16:49] Warning: molecule is tagged as 3D, but all Z coords are zero\n",
      "RDKit WARNING: [16:16:52] Warning: molecule is tagged as 3D, but all Z coords are zero\n",
      "RDKit WARNING: [16:16:53] Warning: molecule is tagged as 3D, but all Z coords are zero\n",
      "RDKit WARNING: [16:16:53] Warning: molecule is tagged as 3D, but all Z coords are zero\n"
     ]
    },
    {
     "data": {
      "text/html": [
       "<div>\n",
       "<style scoped>\n",
       "    .dataframe tbody tr th:only-of-type {\n",
       "        vertical-align: middle;\n",
       "    }\n",
       "\n",
       "    .dataframe tbody tr th {\n",
       "        vertical-align: top;\n",
       "    }\n",
       "\n",
       "    .dataframe thead th {\n",
       "        text-align: right;\n",
       "    }\n",
       "</style>\n",
       "<table border=\"1\" class=\"dataframe\">\n",
       "  <thead>\n",
       "    <tr style=\"text-align: right;\">\n",
       "      <th></th>\n",
       "      <th>CASRN</th>\n",
       "      <th>DTXSID</th>\n",
       "      <th>Name</th>\n",
       "      <th>Structure_Source</th>\n",
       "      <th>very_toxic</th>\n",
       "      <th>nontoxic</th>\n",
       "      <th>LD50_mgkg</th>\n",
       "      <th>EPA_category</th>\n",
       "      <th>GHS_category</th>\n",
       "      <th>Original_SMILES</th>\n",
       "      <th>Canonical_QSARr</th>\n",
       "      <th>InChI_Code_QSARr</th>\n",
       "      <th>InChI Key_QSARr</th>\n",
       "      <th>Salt_Solvent</th>\n",
       "      <th>Conv_Info</th>\n",
       "      <th>Enrg_Info</th>\n",
       "      <th>ID</th>\n",
       "      <th>ROMol</th>\n",
       "    </tr>\n",
       "  </thead>\n",
       "  <tbody>\n",
       "    <tr>\n",
       "      <th>0</th>\n",
       "      <td>7545-48-4</td>\n",
       "      <td></td>\n",
       "      <td></td>\n",
       "      <td>Public_CrossChecked</td>\n",
       "      <td>FALSE</td>\n",
       "      <td>TRUE</td>\n",
       "      <td>12000.0</td>\n",
       "      <td>4</td>\n",
       "      <td>5</td>\n",
       "      <td>C1=CN(C(=O)NC1=O)C2C(C(C(O2)COP(=O)([O-])[O-])...</td>\n",
       "      <td>OC1C(COP(O)(O)=O)OC(C1O)N1C=CC(=O)NC1=O</td>\n",
       "      <td>InChI=1S/C9H13N2O9P/c12-5-1-2-11(9(15)10-5)8-7...</td>\n",
       "      <td>DJJCXFVJDGTHFX-UHFFFAOYSA-N</td>\n",
       "      <td>[Na+].[Na+]</td>\n",
       "      <td>true</td>\n",
       "      <td>-211.68226084448955</td>\n",
       "      <td>17743</td>\n",
       "      <td><img data-content=\"rdkit/molecule\" src=\"data:image/png;base64,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\" alt=\"Mol\"/></td>\n",
       "    </tr>\n",
       "    <tr>\n",
       "      <th>1</th>\n",
       "      <td>134528-32-8</td>\n",
       "      <td></td>\n",
       "      <td></td>\n",
       "      <td>Public_CrossChecked</td>\n",
       "      <td>FALSE</td>\n",
       "      <td>TRUE</td>\n",
       "      <td></td>\n",
       "      <td>3</td>\n",
       "      <td>5</td>\n",
       "      <td>C1=C(C(=O)NC(=O)N1C2C(C(C(O2)CO)O)O)C=CBr</td>\n",
       "      <td>OCC1OC(C(O)C1O)N1C=C(C=CBr)C(=O)NC1=O</td>\n",
       "      <td>InChI=1S/C11H13BrN2O6/c12-2-1-5-3-14(11(19)13-...</td>\n",
       "      <td>GCQYYIHYQMVWLT-UHFFFAOYSA-N</td>\n",
       "      <td>?</td>\n",
       "      <td>true</td>\n",
       "      <td>2.7756185873526507</td>\n",
       "      <td>10555</td>\n",
       "      <td><img data-content=\"rdkit/molecule\" src=\"data:image/png;base64,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\" alt=\"Mol\"/></td>\n",
       "    </tr>\n",
       "    <tr>\n",
       "      <th>2</th>\n",
       "      <td>17902-23-7</td>\n",
       "      <td></td>\n",
       "      <td></td>\n",
       "      <td>Public_CrossChecked</td>\n",
       "      <td>FALSE</td>\n",
       "      <td>FALSE</td>\n",
       "      <td>930.0</td>\n",
       "      <td>3</td>\n",
       "      <td>4</td>\n",
       "      <td>C1CC(OC1)N2C=C(C(=O)NC2=O)F</td>\n",
       "      <td>O=C1NC(=O)C(F)=CN1C1CCCO1</td>\n",
       "      <td>InChI=1S/C8H9FN2O3/c9-5-4-11(6-2-1-3-14-6)8(13...</td>\n",
       "      <td>WFWLQNSHRPWKFK-UHFFFAOYSA-N</td>\n",
       "      <td>?</td>\n",
       "      <td>true</td>\n",
       "      <td>-70.26435136661355</td>\n",
       "      <td>15003</td>\n",
       "      <td><img data-content=\"rdkit/molecule\" src=\"data:image/png;base64,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\" alt=\"Mol\"/></td>\n",
       "    </tr>\n",
       "  </tbody>\n",
       "</table>\n",
       "</div>"
      ],
      "text/plain": [
       "         CASRN DTXSID Name     Structure_Source very_toxic nontoxic LD50_mgkg  \\\n",
       "0    7545-48-4              Public_CrossChecked      FALSE     TRUE   12000.0   \n",
       "1  134528-32-8              Public_CrossChecked      FALSE     TRUE             \n",
       "2   17902-23-7              Public_CrossChecked      FALSE    FALSE     930.0   \n",
       "\n",
       "  EPA_category GHS_category  \\\n",
       "0            4            5   \n",
       "1            3            5   \n",
       "2            3            4   \n",
       "\n",
       "                                     Original_SMILES  \\\n",
       "0  C1=CN(C(=O)NC1=O)C2C(C(C(O2)COP(=O)([O-])[O-])...   \n",
       "1          C1=C(C(=O)NC(=O)N1C2C(C(C(O2)CO)O)O)C=CBr   \n",
       "2                        C1CC(OC1)N2C=C(C(=O)NC2=O)F   \n",
       "\n",
       "                           Canonical_QSARr  \\\n",
       "0  OC1C(COP(O)(O)=O)OC(C1O)N1C=CC(=O)NC1=O   \n",
       "1    OCC1OC(C(O)C1O)N1C=C(C=CBr)C(=O)NC1=O   \n",
       "2                O=C1NC(=O)C(F)=CN1C1CCCO1   \n",
       "\n",
       "                                    InChI_Code_QSARr  \\\n",
       "0  InChI=1S/C9H13N2O9P/c12-5-1-2-11(9(15)10-5)8-7...   \n",
       "1  InChI=1S/C11H13BrN2O6/c12-2-1-5-3-14(11(19)13-...   \n",
       "2  InChI=1S/C8H9FN2O3/c9-5-4-11(6-2-1-3-14-6)8(13...   \n",
       "\n",
       "               InChI Key_QSARr Salt_Solvent Conv_Info            Enrg_Info  \\\n",
       "0  DJJCXFVJDGTHFX-UHFFFAOYSA-N  [Na+].[Na+]      true  -211.68226084448955   \n",
       "1  GCQYYIHYQMVWLT-UHFFFAOYSA-N            ?      true   2.7756185873526507   \n",
       "2  WFWLQNSHRPWKFK-UHFFFAOYSA-N            ?      true   -70.26435136661355   \n",
       "\n",
       "      ID                                              ROMol  \n",
       "0  17743  <img data-content=\"rdkit/molecule\" src=\"data:i...  \n",
       "1  10555  <img data-content=\"rdkit/molecule\" src=\"data:i...  \n",
       "2  15003  <img data-content=\"rdkit/molecule\" src=\"data:i...  "
      ]
     },
     "execution_count": 4,
     "metadata": {},
     "output_type": "execute_result"
    }
   ],
   "source": [
    "df = PandasTools.LoadSDF('data/TrainingSet.sdf')\n",
    "df.head(3)"
   ]
  },
  {
   "cell_type": "markdown",
   "metadata": {},
   "source": [
    "Let's remove data without LD$_{50}$ data. "
   ]
  },
  {
   "cell_type": "code",
   "execution_count": 5,
   "metadata": {},
   "outputs": [
    {
     "data": {
      "text/html": [
       "<div>\n",
       "<style scoped>\n",
       "    .dataframe tbody tr th:only-of-type {\n",
       "        vertical-align: middle;\n",
       "    }\n",
       "\n",
       "    .dataframe tbody tr th {\n",
       "        vertical-align: top;\n",
       "    }\n",
       "\n",
       "    .dataframe thead th {\n",
       "        text-align: right;\n",
       "    }\n",
       "</style>\n",
       "<table border=\"1\" class=\"dataframe\">\n",
       "  <thead>\n",
       "    <tr style=\"text-align: right;\">\n",
       "      <th></th>\n",
       "      <th>CASRN</th>\n",
       "      <th>DTXSID</th>\n",
       "      <th>Name</th>\n",
       "      <th>Structure_Source</th>\n",
       "      <th>very_toxic</th>\n",
       "      <th>nontoxic</th>\n",
       "      <th>LD50_mgkg</th>\n",
       "      <th>EPA_category</th>\n",
       "      <th>GHS_category</th>\n",
       "      <th>Original_SMILES</th>\n",
       "      <th>Canonical_QSARr</th>\n",
       "      <th>InChI_Code_QSARr</th>\n",
       "      <th>InChI Key_QSARr</th>\n",
       "      <th>Salt_Solvent</th>\n",
       "      <th>Conv_Info</th>\n",
       "      <th>Enrg_Info</th>\n",
       "      <th>ID</th>\n",
       "      <th>ROMol</th>\n",
       "    </tr>\n",
       "  </thead>\n",
       "  <tbody>\n",
       "    <tr>\n",
       "      <th>0</th>\n",
       "      <td>7545-48-4</td>\n",
       "      <td></td>\n",
       "      <td></td>\n",
       "      <td>Public_CrossChecked</td>\n",
       "      <td>FALSE</td>\n",
       "      <td>TRUE</td>\n",
       "      <td>12000.0</td>\n",
       "      <td>4</td>\n",
       "      <td>5</td>\n",
       "      <td>C1=CN(C(=O)NC1=O)C2C(C(C(O2)COP(=O)([O-])[O-])...</td>\n",
       "      <td>OC1C(COP(O)(O)=O)OC(C1O)N1C=CC(=O)NC1=O</td>\n",
       "      <td>InChI=1S/C9H13N2O9P/c12-5-1-2-11(9(15)10-5)8-7...</td>\n",
       "      <td>DJJCXFVJDGTHFX-UHFFFAOYSA-N</td>\n",
       "      <td>[Na+].[Na+]</td>\n",
       "      <td>true</td>\n",
       "      <td>-211.68226084448955</td>\n",
       "      <td>17743</td>\n",
       "      <td><img data-content=\"rdkit/molecule\" src=\"data:image/png;base64,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\" alt=\"Mol\"/></td>\n",
       "    </tr>\n",
       "    <tr>\n",
       "      <th>2</th>\n",
       "      <td>17902-23-7</td>\n",
       "      <td></td>\n",
       "      <td></td>\n",
       "      <td>Public_CrossChecked</td>\n",
       "      <td>FALSE</td>\n",
       "      <td>FALSE</td>\n",
       "      <td>930.0</td>\n",
       "      <td>3</td>\n",
       "      <td>4</td>\n",
       "      <td>C1CC(OC1)N2C=C(C(=O)NC2=O)F</td>\n",
       "      <td>O=C1NC(=O)C(F)=CN1C1CCCO1</td>\n",
       "      <td>InChI=1S/C8H9FN2O3/c9-5-4-11(6-2-1-3-14-6)8(13...</td>\n",
       "      <td>WFWLQNSHRPWKFK-UHFFFAOYSA-N</td>\n",
       "      <td>?</td>\n",
       "      <td>true</td>\n",
       "      <td>-70.26435136661355</td>\n",
       "      <td>15003</td>\n",
       "      <td><img data-content=\"rdkit/molecule\" src=\"data:image/png;base64,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\" alt=\"Mol\"/></td>\n",
       "    </tr>\n",
       "    <tr>\n",
       "      <th>3</th>\n",
       "      <td>27942-00-3</td>\n",
       "      <td></td>\n",
       "      <td></td>\n",
       "      <td>Public_CrossChecked</td>\n",
       "      <td>FALSE</td>\n",
       "      <td>TRUE</td>\n",
       "      <td>8150.0</td>\n",
       "      <td>4</td>\n",
       "      <td>5</td>\n",
       "      <td>CN1C=CC(=O)NC1=O</td>\n",
       "      <td>CN1C=CC(=O)NC1=O</td>\n",
       "      <td>InChI=1S/C5H6N2O2/c1-7-3-2-4(8)6-5(7)9/h2-3H,1...</td>\n",
       "      <td>XBCXJKGHPABGSD-UHFFFAOYSA-N</td>\n",
       "      <td>?</td>\n",
       "      <td>true</td>\n",
       "      <td>-87.22216620737237</td>\n",
       "      <td>17566</td>\n",
       "      <td><img data-content=\"rdkit/molecule\" src=\"data:image/png;base64,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\" alt=\"Mol\"/></td>\n",
       "    </tr>\n",
       "    <tr>\n",
       "      <th>5</th>\n",
       "      <td>80834-51-1</td>\n",
       "      <td></td>\n",
       "      <td></td>\n",
       "      <td>Public_CrossChecked</td>\n",
       "      <td>FALSE</td>\n",
       "      <td>FALSE</td>\n",
       "      <td>500.0</td>\n",
       "      <td>2</td>\n",
       "      <td>4</td>\n",
       "      <td>CCC(C(=O)C1=CC2=C(C=C1)NC(=O)C=C2)N3CCN(CC3)C4...</td>\n",
       "      <td>CCC(C(=O)c1cc2C=CC(=O)Nc2cc1)N1CCN(CC1)c1cc(Cl...</td>\n",
       "      <td>InChI=1S/C23H24ClN3O2/c1-2-21(23(29)17-6-8-20-...</td>\n",
       "      <td>LVCUAMMHDAVDEZ-UHFFFAOYSA-N</td>\n",
       "      <td>?</td>\n",
       "      <td>true</td>\n",
       "      <td>144.6181349380037</td>\n",
       "      <td>14260</td>\n",
       "      <td><img data-content=\"rdkit/molecule\" src=\"data:image/png;base64,iVBORw0KGgoAAAANSUhEUgAAAMgAAADICAIAAAAiOjnJAAAABmJLR0QA/wD/AP+gvaeTAAAXUklEQVR4nO3daVgURxoH8JcBZhAxMKjI4YFKPEDcVTxDELxQkSgaj8gjqHEF40YMEcS4WXGyumLMJhiTPOBBxAtEiQeiq6CL6K54EBVEREARFAWVQ7kGZvrdD2UIURznKpLsvr/HD+PQVV2jf7qrq6p7DBARCNE30a/dAPK/iYJFuKBgES4oWIQLChbhgoJFuKBgES4oWIQLChbhgoJFuKBgES4oWIQLChbhgoJFuKBgES4oWIQLChbhgoJFuKBgES4oWIQLChbhgoJFuKBgES4oWIQLChbhgoJFuKBgES4oWIQLChbhgoJFuKBgES4oWIQLChbhgoJFuKBgES4oWIQLChbhgoJFuKBgES4oWIQLChbhgoJFuKBgES4oWIQLChbhgoJFuKBgES4oWIQLChbhgoJFuKBgES4oWIQLChbhgoJFuKBgES4oWIQLChbhgoJFuKBgES4oWIQLChbhgoJFuKBgES4oWIQLChbhgoJFuKBgES4oWIQLChbhgoJFuKBgES7aOljZ2dk1NTVtvFPS9ozabE/p6enr168/c+ZMfX29jY2Ni4uLk5OTo6Ojk5OTs7OzWCxus5aQNmCAiG2wm5SUlKlTp9bX19vZ2T169KixsbHlT01MTFi8BgwYMHDgQGdnZ2tr6zZoFeGnLYJ18uRJHx+f+vr6RYsWRUVFCYKQl5d3/fr1a9euXb9+PTs7u6io6IUi/fv3z8nJMTAw4N02wgn3YJ04ccLHx6ehoYGlSiRqpVf39OnT/Pz8nJyczMzMGzduXL16tampqVOnTgUFBVzbRjhCno4fP25iYgIAgYGBgiAkJibGxcW9tpQgCObm5gBQWlqqYwMEQSgtLb148aKO9RBNcQzWsWPHWKoWL14sCMKBAweMjY2NjIyuXbv2qiI1NTXXr19HxDFjxgBAUlKSjm2YNm3asGHDAMDFxSU2NraxsVHHComaeAWrOVUfffSRIAj79+83NjYGgNDQ0FcVKSsrMzQ0lEqlgiCsWLECAMLDw3Vpw4kTJwBAIpFYWFiww7Odnd26devKy8t1qZaog0uwkpOTJRIJAAQHByNiQkKCkZERAKxYsUJ1QRsbGwDIz8/ft28fAHh7e2vdBrlc3rdvXwD48ssvGxoaYmNjnZ2dWbwkEsnMmTMzMjK0rpy8lv6DdfToUZaqjz/+GBH37dvHUhUWFvbasu+88w4AxMXFFRYWAkCXLl20bkZERAQA9O/fv/n0JwhCamrqlClTmi8g3N3djx07pvUuiAp6DlZiYiI75S1fvhw1TBUiymQyAAgJCREEoWPHjgBQUlKiRTMePHjwxhtvAMDx48df/mlhYWFYWJilpSUATJs2TcXZmWhNn8Fi3XOWDESMj49nqVqzZo2aNSQnJwOAh4cHInp6egLAwYMHtWhJSMh/bG27TZs2TcU2T58+Xbt2LesIRkREaLEXooLeglVbW8t6SKtWrULEuLg4liqZTKZ+JeXl5QDQoUMHpVK5atUqAPj00081bcm5c2hggJaWNUVFZa/d+NChQ4aGhgYGBtu2bdN0R0QFvQXrwIEDnTp1Gj58OPvr7NmzAWDdunWa1tO9e3cAyM3NTUxMBICJEydqVFypxKFDEQBXr1a3SFRUFAAYGhomJiZq2lryKnoLVmpqKgC4urqyvzY2Nmr3/zR9+nQA2LVr1927dwHA0tJSEAT1i0dFIQB264Y1NRrsNDw8HADatWuXnp6ucYvbSmVlZWVlpUb/Gi9oasKnT5+/fvJEP616Fb0F69GjR+wspssnR8R169YBwLJlyxDRysoKAO7cuaNm2YoK7NQJATAhQeP9BgUFdeli4+Jy9coVjcty9fjx49jYWG9vb7FY7O/vP3bs2KqqKu2qunED//rX56/ffVdvLWyVPjvvrI91+/ZtXSrJyMhYsmRJcnIyInp5eQFAgtoxWbsWAXD0aG32q1AoFi58AIC2tqh2kjkqKiqKjIwcNWqUoaEhGxwxNDRkM12DBg16+PChFnWyYAkCCsLvKlgTJkwAgEOHDumrwokTJ5qamorF4kGDBr333nsymWzfvn1ZWXfq63+x2Y0bePkyImJhIcpkmJ2t5e7kcvT0RAB0cECt/uP0oLCwMDIy0tXVtXllh0QiGTduXGRk5IMHD4qKitiob8+ePfPz8zWt/MYNHDECg4MxOBinTOHR/J/pM1ihoaEA8Nlnn+mltvXr1wMAGw5oycNjvUiEvXrhpEm4fDlu2YIREfjHP+LTp3jkCO7erdNOnz5FFxcEwCFDfu6OtI3i4mJHR8fmj2lmZjZr1qz4+Pinv2zHkydPRowYAQDW1tZXNDxt/15Phbt27QKAGTNm6F4VGzc3NDTcvn17VVXVhQsXvv/++5UrV/r4+EyZkmpsjAA//1m6FDdtwpAQPQQLER8+RAcHBMDx47GpSfePoq7AwEATExOpVOrn55eQkFDz0tWHXC5ftGhRQUHBs2fP2CCfhYXF2bNn1d9FYSF+/fXz18uW6avhrdNnsK5duwYAffr00aUSQRCWL1/OUhUbG9vqNo2NmJuLP/yA69fjvHkYEYFpaRgcjOvW6SFYiHj7NtraYmgonjiBiFhTg+fP66Fa1dq3bw8AKjrm7NLV2tr66tWrcrl81qxZ7ESp/tV3RQUuWYJKJQoCRkbqqd2voM9gNTY2isVikUj08m+bmgRBCAoKAgCxWHzgwAE1S0VHY1oaVlVhnz76CRYiVlXhpUtoa4t5eVhSgiEh+qlWBTYHVV1dffbs2bCwsJeXDNXU1LBerIWFRXp6ukKhCAwMbD6uq7OL+/fR2Rmjo1GpxDlzOHyGFvQ8Vzhw4EAAuHDhAiLW1tbevXtX/bIKheL9999nv4WHDx9Wv+CFC8iuROPi8NQpDVv8apcu4erVOHv282A9fqy3mlsllUoBoKKiIjIysnnA5QVyuZyNPEskEvaLx/oMBgYGn3/+uYrKBQEvXMAzZ3DFCvT1xQcPuAdLz7d/sWBlZWUBQEpKSo8ePczNzYcMGeLv779hw4akpKSHDx+2WlCpVC5YsCAmJsbU1PTo0aNTpkxRf6fDhkHPnvDZZzBnDvznP3r5HM9JpeDpCfHxUFcHVlbg5ARr1kBmJvBYzs2GFZRKZfOLl7cRi8V79uxZvHgxS9i2bdvCwsI2b95sYGCwYsWKlStX4i9bplTCuXOwbBl07w7Dh8PWrQAAMhnIZADA5VP8TL853bBhAwAsXboUEXft2sVGOF9gY2Mzfvz4E6z/goiIcrmcDbibm5ufO3dOu10fOoQA+NPIvx5cuoRffYWCgJMm4YwZaGr68+XCtGkZS5cuTUlJkcvl+tpdly5dAODhw4ffffcdAHzwwQcqNm4+UG3YsAERd+/ezab/582b19TUVFtbe+TIET8/v5Ejlze3uUcPDA1FtiJOJsPZs9HTE2Ni9NX8F+k5WMePH4cWEzuIWFFRcfbs2ejo6KCgoHHjxnXq1InF64cffmAbNDQ0sOOTVCrVZfFdTQ1KJGhoqLfJiu3bMS0NETEnB5OTsa4OU1IwKAjt7NDR0Z99ijfeeMPb2/uxPk6Ttra2AHD//v3o6GgACAgIUL39N998wxaWBQUFCYJw9OhRU1NTAOjRowdbDwcAIpGRm1vj6tWYmYmI2NCAt24hItbX48aNzwMXGopKpe7Nf5Geg3Xq1Kl27doZGRlJpVJXV9eAgIDIyMiUlJRHjx6xDQRBuH37dlJSEnunpqZm3LhxAGBlZXX16lUd9z56tJbzOS87eRIBcMSIVn6kVGJGxoVVq1bZ29sDgEQikUqluk9gd+vWDQCKi4u3bdsGAAsXLnxtkT179rADFVvDfeHCBalU2qlTJ5FI5OLiEh4efvPmTRXFt21DsRgBcNIkrK5Wu6FNTVhYiLW1qrfSZ7CysrI6d+4MAO3atXv5DGhvbz958uSwsLDdu3dfuXJFLpdXVVW99dZbAGBtbZ2t9Xh5Cxs2IAC+/76u9QjC82HSV3WIb926NWnSJPa52IJBY2Pj+Ph4XXbKYnrnzp3vv/8eAObPn69OqdTU1H79+jVPp7q7u7c8G7xWWhp27IgAOHAgqnWhVVqK06fj11+jnx+26My8TG/Bys3NZbcvT5w4sb6+vri4+Pjx459//rm/v//gwYNfHkA3MjJiKezRo0dBQYFe2pCVhQDYvbug40R4fDyyScOWv5b5+fkzZ85cunTp4sWL2ceRSqWbN29WKBRshEn9y/5W9e7dGwAKCgp27twJAH5+fmoWbGoxjMvGI1pdN/sqhYXo6IhWVg8GDBh85syZ1jcqLcVNm3DrVgwPR3YvXWMjTp2qolr9BOuFVLW6zf37948cORIREeHn5+fi4iKRSIYPH+7t7a3RkMRreXlFdehgp8tZVaHAfv0QALdu/cX7/v7+bJ20IAgLFizw8/MrK/t5IWFzbzpS25HHPn36AEBeXt6ePXsAwNfXV4tKWG9Vo8EaRKyqwvnzQwDAxMRkd4uRwEePHp3asQM9PFAkQgDs1QsDA7H5Zk+V0416CNbNmzfZuoYJEya8KlUva2houHfvnu57f8HChQtBt6XGMTGVANi374vzOZMnT25+rWytu/vtt9+ymeO//e1vWuy3f//+AHDjxo34+HgAmD17thaVzJgxAwD279+vaUGFQhEWFsZOJkFBQTExMRMmTDAyMjITiwULCzQxQQ8P9PLCv/wF2cD1w4c4d66KCnUNVnOqPD091U8VP/v374efVs1roa6urmvXriNGTD948MXe7Lx584qLi1UX37JlC7tSU/PmkZYGDBgAANnZ2ZcvX/7www93azWH4OvrCwDalUXELVu2sKsB1nEUi8Vubm6XfH2xR4/n15DLlmFICH70EQYGqu6U6RSs3MJcNvqi0bGKq+rqamNjY2NjY+1Ww7Ez2pAhQ1r20oqKirKzs/Pz82fMmPHhhx+uVrnqee/evWyxv6Y3/7DbHnW8NF6wYAEAxOgwPJWenm5padmlSxc3NzcHBwcA+IRdyHTtisHB+OOPatajfbDyGvK6Z3UfHjZ8/PjxdXV1Wtejd25ubqDV7T2VlZXsNzUlJaX5zSdPnvTv39/CwuLSpUtq1nP48GE2krR48eJWT5otKZXKs2fPBgQEGBsbW1tbq39HU6vY7GFUVJQulXzxxResvwgAXbp0CV66FNPTNR3s0jJYufW5Nlk2kAmTbk36jRyrmrHFzU5OTp9++ukXX3yxffv2xMTE06dPX7ly5c6dOyqOZJ988gkAuLu7N79TX1//9ttvA8CAAQMqKyvVb0NycjIbc5k7d27TKxbf3L17VyaTsVEGABCJROz/UpcHC7Ap/E2bNmldAyImJCQAgLOzc2pqqkKh0K4SbYJ1q+GWbZYtZMKovFE1Si0XMvBz8+ZN9u/7KiKRyNLSsnfv3kOGDBk3btzMmTMDAgKWLFliYmJiYGBw/qclMkql8t133wUAOzu71/auXpaWltahQwfWDW/5MJKGhoaEhARvb292xgSArl27hoWFFRYW7tixg705f/78V8VRtZCQEADYuHGjFmWbHTx4EAB8fHx0qUTjR0Xmy/NH3xpd2lQ6ymzUMYdj7UXtNa2Bt759+65cubJPnz6VlZVVVVXs5paWL6qrqysqKioqKl4o+NZbbzk4OLD1mQDw8ccfJyYmmpubHzt2jA2La4Tdvz958uR9+/bV1tbu37//9u3bO3fujImJYTeeSCSSadOm+fn5eXl5sYnnXr16WVpavvfeezt27KisrIyLi2t1qFkF9sRNuVyuaWtbYv33pqYmXSrR7Ih1q+GWXZYdZIJbntsz5TNdEv0rUiqVT548KSgouHTpUkpKSkJCQnR0dERExL/+9a/mbVgvXiwWn9JtIc7FixdZv409MYBxcXH55ptvKioqWi2SkZHBZlRHjBih6SzkmjVrQE9P6fH09NSlktcE67b89plnZ2qVtclVyRm1Gf8DqVJHXFycSCQSiURaDAi9LDQ0VCqV2traGhsbT58+PZNNCKuUk5PDjpFOTk7qPL2irKxs+/btTU1Nf//73wGArZ/R2qlTpwBgtHZ3O/1E1akw9kns5brLo8xGRT2OeqZ8tr9q//2m+x4dPJJ7J5uKTHU6Tv6GpaWlzZ8/XxCEr776io036ujMmTOVlZV9+vQpLS1lE1yvLeLo6JiRkTFp0qSsrKy33377n//8Z79+/V7erKio6PDhw0ePHk1LS1MoFD179mRXoy88O1hT7FSoUCh0qUTVEWti/kQlPr/IlJXKkquTZ96e+RvsretRdnY2e0qbHh9B4+HhAQBjx44FgL1796pfsKKigl2TWlpa/vvf/25+/8cff1y9ejVbU8mYmJi4u7svWbLEwcHB3Nx86NChuiwUO3/+PACMaHVph9pUBcurwKv5taxUlteQp8uefvvu3bvHTkCzZ89+7fiT+thtt+y+Gk0fPVJbW+vt7Q0A7du3ZzfxNjQ0sNXx7M2RI0d6enq2vLYwMzMDgDFjxmh9w/Tly5cBwMXFRbvijKqlyZ2NOuc25AJAE+p2gfB7UF1d7eXlVVJS4u7uHhsb2+rTnbXDruxYhXV1dRqVNTU1PXTo0KJFi2pra6dOnbp9+3aJRDJ37lxvb28fHx8zM7Pz58+fPHmypKSkc+fOfn5+R44cSU9P79at2+nTp11dXYuLi7VoMBvy4HhVWN5UHlwSvKxkWfSj6L0Ve+816n/O+LejvLx82LBhzs7OWv+iv8qe5cu/HDlyp6/vbje3K999p0UNgiCsXLkSAAwMDAYNGsRWijJsbCUjI6PlHNT9+/f/8Ic/AICNjc2Pak/CNMvJyQEAR0dHLZrajO/juH9fampqHjx4oP96AwMRACdPRgDUYSBg8+bNVlZWbPDC0dExPDz8MnuyQGsqKytZ387MzEyj5VmIeOvWLQB48803tW4qUrDaQnAwAqC39/MV5jqoqqo6deqUmsuN5HI5W+xgZGS09YXFZa9QUVFRVlZ2584dALC3t9elqfS1cvy1OHOBhn2sF5ibm48ZM8bOzk6djcVi8e7du8PDwxUKRUBAABs7bVVDQ0NSUpK/v3/Xrl03btyol5H3tvv2r/9fbFqG3cWnW7A0ZWBgsGbNmq5du37wwQcymaykpCQ6Orp5jlKpVKampu7du/fgwYPPnj0DAENDw/z8fHYPn47jWBQs/iwtQSoFCwt48034Nb7V7E9/+lPnzp19fX1jYmLu3bt34MCBDh065OTkjB07tqysjG0zePBge3v7e/fuHT58GABEIlFmZqYuO22jr5X7f/ftt1BQAIIAy5dD9+6/ShMuXrz4zjvvlJeXDx06NCkpydLS0sbGpmPHjo6OjuXl5ey6EgCkUqm3tzd7dKBO376mSweNqOXECVy7FhGxrIz7Y6lUKiwsZLds2Nvb/+Mf/xg/fnzz94+amprOmTMnKSlJX183RMHiTybD5nEB3g/Se52ysjL2rVVsoY6hoaGrq2t0dPRTfT9mjvpY/FlawuPHz1+39qiPtmRlZXX69OmkpKTMzEx7e/tZs2axuzv1jvpY/D15AgsXgp8fXLkCNjbw5z//2g1qCxSsNlFXB5mZYGsLvXv/2k1pIxQswgWNvBMuKFiECwoW4YKCRbigYBEuKFiECwoW4YKCRbigYBEuKFiECwoW4YKCRbigYBEuKFiECwoW4YKCRbigYBEuKFiECwoW4YKCRbigYBEuKFiECwoW4YKCRbigYBEuKFiECwoW4YKCRbigYBEuKFiECwoW4YKCRbigYBEuKFiECwoW4YKCRbigYBEuKFiECwoW4YKCRbigYBEuKFiECwoW4YKCRbigYBEuKFiECwoW4YKCRbigYBEuKFiECwoW4YKCRbigYBEuKFiECwoW4YKCRbigYBEuKFiECwoW4YKCRbigYBEuKFiECwoW4YKCRbigYBEuKFiECwoW4YKCRbigYBEuKFiECwoW4YKCRbj4LzJF1TJTTWQ8AAACeXpUWHRyZGtpdFBLTCByZGtpdCAyMDIwLjA5LjEAAHice79v7T0GIOABYkYGCJAFYgUgbmBkY0gAiTNDaCYmCM3MyA6WRxNmYmJn0AAJM7M5gGkWNocMMJ8RGwOiRBBsEpI4mpFsDDCjcBsJkWF3sAC7Da/taDIcENOZYDQ3MAwYmRiYmIGKGFhYGVjZGNjYFdg5Mpg4OBM4uTKYuLgTuHkYuHkzmHjZE9j4GPj4GfiZGZgEGAQEFQSFMpiEhBOERTKYREQTRMUSxMQTxCUymCQkEyRFEiSlMpikBBPEpDWYBGQ0mERY2FhY2fj4mdk4OLm4ednZhIRFJKUE2UTFxCUkRcQZYdEhe+NDyX4N/s37NwbEH5CYGmLrHdm2z18u6oDeBAV7/btLbDVPMxx43rNi3yWGfXaXGPL2nwop3M8e77F/UkzdPt1Nsgdu/9TbzzNZ03Z/remBcl1F+5m7xez7nzQcOCcZaN/xZbE9w8SOAyLr/ts/72Fw0G5fd2CdO6+DiL2ewwexcwd+x8y1zz2q57DO/fiBs2d8bFefZ3RQ0Xh3QPPt1P12LxgdLF0XHuDskt+XumqFvVE554Gw2mf20vqxNqvPL92/PWm7/dt5c/bLLb9h/+51wf7fp4/t36Sn5/B4Kff+yDaO/UecdB1U2QztT4Uw2tVn5TjUfGqwj2zrsJ8UM83hyMZ1thJT19j7im5z+FV3yi4tTcihdt01h6lXXu77uUDdYU/JdYdzHY/2H3jzzf7BnJ0ONYlsB6Y5N9tviZzusJhxyv4bjcb2/1LzHQ5f3r1/4Y/CfSoanxwMdqvvm5oa4+Adec9+SjvrAYt0hgNiAMV6xyUiTPnWAAACUnpUWHRNT0wgcmRraXQgMjAyMC4wOS4xAAB4nJWWzY5TMQyF932KvMBE/o3tNWWFGCQWvAMSS95fODe5oQuQxlU1Olbrb05sx7coNODR5uv788vP3+28+Pl4NIrG1Br88x0R7QcBXPlv0EOHT4Wdw2Mq7uLB7VP7H+L1fbmADoqxeDRINgUca5RBRpvnoJNCHTB5H6ekA6bYFDbEfUoKa+8VSgjZUua3IvGSF+oyBFbucNZ9NsEiJVP9rlCMpdTdKyeSDmSxch2vnjfs5BAVL5L9NVu5EXadKHsEPioU7aJXXTKX4KYYUYkyugjwPgeFbAqD1yhEdndGYbsC8soNeLP0suYeOxryTYn08qtQF+DYs4aqu0eMWfHSvKCsTmN3ANtnw5y/AiVrGiqLIrxuwKwzV3qUuSNo3Ddq3UbsqlzaDHM2cFNUVLdiLm2ppMC9X0bg7jnSKFE4c9fsYs697QrBGKW6SFLc712ne4pZSlPXNCmAe9eF7ntEnvP88c3QRtbl8pI1FR22KANzixa8JIUZVn8tD7d3BEWp0zonVvbmj9ibBkgrs5vVNYo9saiDV4UsHyW1TpvAWBQZV6fnM4Br82JdTy4O9kUWYWvfKvfI8mG26+LjrhCklw9TMp2uvzNIxSdIJSdIpSdINU6Qyk6Qyk+QKi7mDKIh3J+kQrw/SYXHQSrk10DO1+QVbQ2PnVR47EwlL0fA4y0VHkAqPN5S0fGWio63VHS8paLjLRWd/5OK9ORoo2Mn1aT9Dex87dXOpPmxY/O32gq+tvb5/fn4A+X/iLY3QWfoAAABkHpUWHRTTUlMRVMgcmRraXQgMjAyMC4wOS4xAAB4nC1SO67YMAy7SscESAzrL8HolKXT6wGKTlmLnuAdvpRfsyikJZpi8jzP8Rzff54vve/Lv/7++P1uCPDS+UHP83HgFc/x/DlfPp+Hvn0e9xxlntdNQyrrumVolqw5phHgHOysm55JoJ2DL5zmtOvmMYl10fBi7+ZSotYyEwIdErS70nXX6bJ4BNPuNjXbVWTTc0t7kaEQo1eA9CIMxi7uvhRc5vZgAlI0ZRnISSCloMmDM2w5JNGJG9Q8wDoVrxgA2iy55IXNVKJ7Rdp6QB2qxUVQzTm/nFdFG2AzGAgGQi+ZC+4MpACrodOb1f/yLNgAVbh6L2RBOyMMr50VR+PIr8qaunCV+p72lI5hKm0WqHd2LkexzFy3wk8UYJK3Z85ZzbJHm4XljmIi/XUbMtAOZm4ymEE6dp+dIXP1YcjMZplj373HGfHegc7+D7BzkGy6slWn1HZPZm1BKKLtksIYdXzRQiS2MMtl/RlVeMfHSOj8/Afy/4432b721wAAAABJRU5ErkJggg==\" alt=\"Mol\"/></td>\n",
       "    </tr>\n",
       "    <tr>\n",
       "      <th>6</th>\n",
       "      <td>80834-80-6</td>\n",
       "      <td></td>\n",
       "      <td></td>\n",
       "      <td>Public_CrossChecked</td>\n",
       "      <td>FALSE</td>\n",
       "      <td>FALSE</td>\n",
       "      <td>500.0</td>\n",
       "      <td>2</td>\n",
       "      <td>4</td>\n",
       "      <td>CCOC1=CC=CC=C1N2CCN(CC2)CCC=CC3=CC4=C(C=C3)NC(...</td>\n",
       "      <td>CCOc1ccccc1N1CCN(CCC=Cc2cc3C=CC(=O)Nc3cc2)CC1</td>\n",
       "      <td>InChI=1S/C25H29N3O2/c1-2-30-24-9-4-3-8-23(24)2...</td>\n",
       "      <td>WTQXWMCWQHOPRX-UHFFFAOYSA-N</td>\n",
       "      <td>?</td>\n",
       "      <td>true</td>\n",
       "      <td>137.79606898256017</td>\n",
       "      <td>14279</td>\n",
       "      <td><img data-content=\"rdkit/molecule\" src=\"data:image/png;base64,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\" alt=\"Mol\"/></td>\n",
       "    </tr>\n",
       "  </tbody>\n",
       "</table>\n",
       "</div>"
      ],
      "text/plain": [
       "        CASRN DTXSID Name     Structure_Source very_toxic nontoxic  LD50_mgkg  \\\n",
       "0   7545-48-4              Public_CrossChecked      FALSE     TRUE    12000.0   \n",
       "2  17902-23-7              Public_CrossChecked      FALSE    FALSE      930.0   \n",
       "3  27942-00-3              Public_CrossChecked      FALSE     TRUE     8150.0   \n",
       "5  80834-51-1              Public_CrossChecked      FALSE    FALSE      500.0   \n",
       "6  80834-80-6              Public_CrossChecked      FALSE    FALSE      500.0   \n",
       "\n",
       "  EPA_category GHS_category  \\\n",
       "0            4            5   \n",
       "2            3            4   \n",
       "3            4            5   \n",
       "5            2            4   \n",
       "6            2            4   \n",
       "\n",
       "                                     Original_SMILES  \\\n",
       "0  C1=CN(C(=O)NC1=O)C2C(C(C(O2)COP(=O)([O-])[O-])...   \n",
       "2                        C1CC(OC1)N2C=C(C(=O)NC2=O)F   \n",
       "3                                   CN1C=CC(=O)NC1=O   \n",
       "5  CCC(C(=O)C1=CC2=C(C=C1)NC(=O)C=C2)N3CCN(CC3)C4...   \n",
       "6  CCOC1=CC=CC=C1N2CCN(CC2)CCC=CC3=CC4=C(C=C3)NC(...   \n",
       "\n",
       "                                     Canonical_QSARr  \\\n",
       "0            OC1C(COP(O)(O)=O)OC(C1O)N1C=CC(=O)NC1=O   \n",
       "2                          O=C1NC(=O)C(F)=CN1C1CCCO1   \n",
       "3                                   CN1C=CC(=O)NC1=O   \n",
       "5  CCC(C(=O)c1cc2C=CC(=O)Nc2cc1)N1CCN(CC1)c1cc(Cl...   \n",
       "6      CCOc1ccccc1N1CCN(CCC=Cc2cc3C=CC(=O)Nc3cc2)CC1   \n",
       "\n",
       "                                    InChI_Code_QSARr  \\\n",
       "0  InChI=1S/C9H13N2O9P/c12-5-1-2-11(9(15)10-5)8-7...   \n",
       "2  InChI=1S/C8H9FN2O3/c9-5-4-11(6-2-1-3-14-6)8(13...   \n",
       "3  InChI=1S/C5H6N2O2/c1-7-3-2-4(8)6-5(7)9/h2-3H,1...   \n",
       "5  InChI=1S/C23H24ClN3O2/c1-2-21(23(29)17-6-8-20-...   \n",
       "6  InChI=1S/C25H29N3O2/c1-2-30-24-9-4-3-8-23(24)2...   \n",
       "\n",
       "               InChI Key_QSARr Salt_Solvent Conv_Info            Enrg_Info  \\\n",
       "0  DJJCXFVJDGTHFX-UHFFFAOYSA-N  [Na+].[Na+]      true  -211.68226084448955   \n",
       "2  WFWLQNSHRPWKFK-UHFFFAOYSA-N            ?      true   -70.26435136661355   \n",
       "3  XBCXJKGHPABGSD-UHFFFAOYSA-N            ?      true   -87.22216620737237   \n",
       "5  LVCUAMMHDAVDEZ-UHFFFAOYSA-N            ?      true    144.6181349380037   \n",
       "6  WTQXWMCWQHOPRX-UHFFFAOYSA-N            ?      true   137.79606898256017   \n",
       "\n",
       "      ID                                              ROMol  \n",
       "0  17743  <img data-content=\"rdkit/molecule\" src=\"data:i...  \n",
       "2  15003  <img data-content=\"rdkit/molecule\" src=\"data:i...  \n",
       "3  17566  <img data-content=\"rdkit/molecule\" src=\"data:i...  \n",
       "5  14260  <img data-content=\"rdkit/molecule\" src=\"data:i...  \n",
       "6  14279  <img data-content=\"rdkit/molecule\" src=\"data:i...  "
      ]
     },
     "execution_count": 5,
     "metadata": {},
     "output_type": "execute_result"
    }
   ],
   "source": [
    "df = df[df.LD50_mgkg != '']\n",
    "df['LD50_mgkg'] = df['LD50_mgkg'].astype(float)\n",
    "df.head()"
   ]
  },
  {
   "cell_type": "code",
   "execution_count": 6,
   "metadata": {},
   "outputs": [],
   "source": [
    "import math"
   ]
  },
  {
   "cell_type": "code",
   "execution_count": 7,
   "metadata": {
    "id": "yFCHFva8ecKE"
   },
   "outputs": [],
   "source": [
    "desc_list = []\n",
    "\n",
    "\n",
    "for mol in df.ROMol.tolist():\n",
    "    desc = calc_fp_from_mol(mol, method='morgan6', n_bits=1024)\n",
    "    desc_list.append(desc)\n",
    "\n",
    "    \n",
    "X = pd.DataFrame(desc_list)\n",
    "y = df['LD50_mgkg'].astype(float).apply(lambda x: math.log10(x))"
   ]
  },
  {
   "cell_type": "code",
   "execution_count": 8,
   "metadata": {},
   "outputs": [],
   "source": [
    "%matplotlib inline"
   ]
  },
  {
   "cell_type": "code",
   "execution_count": 9,
   "metadata": {},
   "outputs": [
    {
     "data": {
      "text/plain": [
       "<AxesSubplot:>"
      ]
     },
     "execution_count": 9,
     "metadata": {},
     "output_type": "execute_result"
    },
    {
     "data": {
      "image/png": "[encoded data removed]",
      "text/plain": [
       "<Figure size 720x360 with 1 Axes>"
      ]
     },
     "metadata": {
      "needs_background": "light"
     },
     "output_type": "display_data"
    }
   ],
   "source": [
    "ax = y.hist(bins=100, edgecolor='k', lw=4, facecolor=(1, 0, 0, 1), figsize=(10,5), xrot=90, density=True, label='distribution')\n",
    "y.hist(cumulative=True, density=1, bins=100, label='cumulative', zorder=0, facecolor=(0.8, 0.8, 0.8, 0.4), edgecolor='k', lw=2, figsize=(10,5))\n",
    "ax.axhline(0.5, ls='--', c='k')\n",
    "ax.legend()\n",
    "ax"
   ]
  },
  {
   "cell_type": "markdown",
   "metadata": {},
   "source": [
    "The above plot shows that about half the LD50 data points lie above a log(3) and half lie below, so we can use that as our activitiy classification cutoffs.  \n",
    "\n",
    "We need to validate our model.  A typical DNN is usually trained on hundreds to thousands of data points and need to optimize millions of parameters.  For this type of scenario, cross validation as we did in the QSAR lab, would require splitting our data into multiple tests sets, which is often not practical without the help of a (or several) GPU(s).  \n",
    "\n",
    "For validation, we will split our data into a validation set consisting of 20% of our compounds.  "
   ]
  },
  {
   "cell_type": "code",
   "execution_count": 124,
   "metadata": {},
   "outputs": [],
   "source": [
    "from sklearn.model_selection import KFold, train_test_split\n",
    "SEED = 2008\n",
    "\n",
    "\n",
    "y_binary = y.copy()\n",
    "y_binary[y < 3] = 1\n",
    "y_binary[y >= 3] = 0\n",
    "\n",
    "# from sklearn.preprocessing import OneHotEncoder\n",
    "\n",
    "# enc = OneHotEncoder(handle_unknown='ignore')\n",
    "\n",
    "# y_binary = enc.fit_transform(y_binary.values.reshape(-1, 1)).toarray()\n",
    "\n",
    "X_train, X_val, y_train, y_val = train_test_split(X, y_binary , test_size=0.2, random_state=SEED)\n",
    "\n",
    "X_train, X_val, y_train, y_val = X_train.values.astype('float32'), X_val.values.astype('float32'), y_train.values.astype('float32'), y_val.values.astype('float32')"
   ]
  },
  {
   "cell_type": "markdown",
   "metadata": {},
   "source": [
    "## Model Building\n",
    "\n",
    "Building a deep learning network requires knowledge of how to create a `class` and objects in Python.  It's beyond the scope of this lab, but in the cell below a simple deep neural network of 2 hidden layers has been created for you.  "
   ]
  },
  {
   "cell_type": "code",
   "execution_count": 157,
   "metadata": {
    "id": "VNpCFc22cfdA"
   },
   "outputs": [],
   "source": [
    "class NeuralNetwork(nn.Module):\n",
    "    \n",
    "    def __init__(self, in_features=1024, \n",
    "                 out_features=1):\n",
    "        super().__init__()\n",
    "        self.input = nn.Linear(in_features=in_features,\n",
    "                             out_features=100)\n",
    "        self.hl_1 = nn.Linear(in_features=100, \n",
    "                             out_features=100)\n",
    "        self.hl_2 = nn.Linear(in_features=100, \n",
    "                             out_features=100)\n",
    "        self.hl_3 = nn.Linear(in_features=100, \n",
    "                             out_features=100)\n",
    "        self.output = nn.Linear(in_features=100,  \n",
    "                             out_features=out_features)\n",
    "        \n",
    "        self.dropout = nn.Dropout(0.25)\n",
    "        \n",
    "    def forward(self, X):\n",
    "        X = nn.functional.relu(self.input(X))\n",
    "        X = self.dropout(X)\n",
    "        X = nn.functional.relu(self.hl_1(X))\n",
    "        X = self.dropout(X)\n",
    "        X = nn.functional.relu(self.hl_2(X))\n",
    "        X = self.dropout(X)\n",
    "        X = nn.functional.relu(self.hl_3(X))\n",
    "        X = self.dropout(X)\n",
    "        return nn.functional.sigmoid(self.output(X))"
   ]
  },
  {
   "cell_type": "code",
   "execution_count": 168,
   "metadata": {
    "colab": {
     "base_uri": "https://localhost:8080/"
    },
    "id": "sEBLXoUCe-TL",
    "outputId": "444598ca-1c35-4499-bc45-d52724aac49b"
   },
   "outputs": [
    {
     "name": "stdout",
     "output_type": "stream",
     "text": [
      "NeuralNetwork(\n",
      "  (input): Linear(in_features=1024, out_features=100, bias=True)\n",
      "  (hl_1): Linear(in_features=100, out_features=100, bias=True)\n",
      "  (hl_2): Linear(in_features=100, out_features=100, bias=True)\n",
      "  (hl_3): Linear(in_features=100, out_features=100, bias=True)\n",
      "  (output): Linear(in_features=100, out_features=1, bias=True)\n",
      "  (dropout): Dropout(p=0.25, inplace=False)\n",
      ")\n"
     ]
    }
   ],
   "source": [
    "model = NeuralNetwork().to('cpu')\n",
    "print(model)"
   ]
  },
  {
   "cell_type": "markdown",
   "metadata": {},
   "source": [
    "After designing the neural network we need to decide which methods we need to train.  For this we will use [stochastic gradient descent](https://en.wikipedia.org/wiki/Stochastic_gradient_descent) and define a [loss function](https://en.wikipedia.org/wiki/Loss_function), which in our case is [binary cross entropy](https://en.wikipedia.org/wiki/Binary_entropy_function).  "
   ]
  },
  {
   "cell_type": "code",
   "execution_count": 169,
   "metadata": {
    "id": "tUthNghafwIK"
   },
   "outputs": [],
   "source": [
    "import torch.optim as optim\n",
    "\n",
    "criterion = nn.BCELoss()\n",
    "optimizer = optim.Adam(model.parameters(), lr=0.01)"
   ]
  },
  {
   "cell_type": "markdown",
   "metadata": {
    "id": "_6hMhPTBmiZp"
   },
   "source": [
    "## Model training\n",
    "\n",
    "Model training a neural network works by taking epochs, also known as steps.  Mathematically, it is an optimization problem where we are trying to find the neural network parameters which minimize the loss function.  In this case our loss function is binary cross entroy, which is how well our model is predicting our classes (0, 1).  After every epoch, the loss is calculated and for each parameters some calculus is applied to figure our which way we should adjust these parameters such that the loss will be lower the next epoch.  This is usually repeated until some specified number of training epochs or some other stopping point.  \n",
    "\n",
    "__NOTE:__  Depending on the your CPU hardware, training the model by running the cell below could take a significant time period.  "
   ]
  },
  {
   "cell_type": "code",
   "execution_count": 170,
   "metadata": {
    "colab": {
     "base_uri": "https://localhost:8080/"
    },
    "id": "XnEHXrZYgoF1",
    "outputId": "b141e515-d932-42ad-ce6d-c2cfe1580d74"
   },
   "outputs": [
    {
     "name": "stderr",
     "output_type": "stream",
     "text": [
      "/opt/anaconda3/envs/intro-chem/lib/python3.7/site-packages/torch/nn/functional.py:1806: UserWarning: nn.functional.sigmoid is deprecated. Use torch.sigmoid instead.\n",
      "  warnings.warn(\"nn.functional.sigmoid is deprecated. Use torch.sigmoid instead.\")\n"
     ]
    },
    {
     "name": "stdout",
     "output_type": "stream",
     "text": [
      "Finished training epoch 0, training loss is at 0.6959757208824158, validation loss is at 0.6933385133743286\n",
      "Finished training epoch 100, training loss is at 0.025788022205233574, validation loss is at 6.280280113220215\n",
      "Finished training epoch 200, training loss is at 0.01797558180987835, validation loss is at 7.286870002746582\n",
      "Finished training epoch 300, training loss is at 0.016952097415924072, validation loss is at 8.706257820129395\n",
      "Finished training epoch 400, training loss is at 0.018198644742369652, validation loss is at 8.472963333129883\n",
      "Finished Training\n"
     ]
    }
   ],
   "source": [
    "EPOCHS = 500\n",
    "losses = []\n",
    "val_losses = []\n",
    "\n",
    "for epoch in range(EPOCHS):  # loop over the dataset multiple times\n",
    "\n",
    "    running_loss = 0.0\n",
    "\n",
    "\n",
    "    # zero the parameter gradients\n",
    "    optimizer.zero_grad()\n",
    "\n",
    "    # forward + backward + optimize\n",
    "    outputs = model(torch.from_numpy(X_train))\n",
    "    loss = criterion(outputs, torch.from_numpy(y_train.reshape(-1, 1)))\n",
    "\n",
    "    loss.backward()\n",
    "    optimizer.step()\n",
    "    with torch.no_grad():\n",
    "        val_outputs =  model(torch.from_numpy(X_val))\n",
    "        val_loss =  criterion(val_outputs, torch.from_numpy(y_val.reshape(-1, 1)))\n",
    "        \n",
    "    # print statistics\n",
    "    running_loss += loss.item()\n",
    "    losses.append(loss.item())\n",
    "    val_losses.append(val_loss.item())\n",
    "    if epoch % 100 == 0:\n",
    "        print(f\"Finished training epoch {epoch}, training loss is at {loss.item()}, validation loss is at {val_loss.item()}\")\n",
    "\n",
    "print('Finished Training')"
   ]
  },
  {
   "cell_type": "markdown",
   "metadata": {
    "id": "EUGihZJ8nVmq"
   },
   "source": [
    "## Training Plots\n",
    "\n",
    "It's often common to monitor the loss function "
   ]
  },
  {
   "cell_type": "code",
   "execution_count": 171,
   "metadata": {
    "id": "PIZdGjxdmUiB"
   },
   "outputs": [],
   "source": [
    "%matplotlib inline"
   ]
  },
  {
   "cell_type": "code",
   "execution_count": 172,
   "metadata": {
    "colab": {
     "base_uri": "https://localhost:8080/",
     "height": 465
    },
    "id": "O-8nPs3UkfxO",
    "outputId": "caf79d67-1887-4a8d-cde4-bdbf2ea9eed4"
   },
   "outputs": [
    {
     "data": {
      "image/png": "[encoded data removed]",
      "text/plain": [
       "<Figure size 432x288 with 1 Axes>"
      ]
     },
     "metadata": {
      "needs_background": "light"
     },
     "output_type": "display_data"
    }
   ],
   "source": [
    "import matplotlib.pyplot as plt\n",
    "\n",
    "fig, ax = plt.subplots()\n",
    "\n",
    "ax.plot(range(EPOCHS), losses, c='k', label='training loss')\n",
    "ax.plot(range(EPOCHS), val_losses, label='validation loss')\n",
    "\n",
    "ax.set_ylabel('loss')\n",
    "ax.set_xlabel('epochs')\n",
    "plt.show()"
   ]
  },
  {
   "cell_type": "markdown",
   "metadata": {},
   "source": [
    "We can calcuate the statistics on the validation set to assess model performance as we did before in the QSAR module.  "
   ]
  },
  {
   "cell_type": "code",
   "execution_count": 173,
   "metadata": {},
   "outputs": [
    {
     "name": "stdout",
     "output_type": "stream",
     "text": [
      "[[0.]\n",
      " [0.]\n",
      " [1.]\n",
      " ...\n",
      " [0.]\n",
      " [1.]\n",
      " [1.]]\n"
     ]
    }
   ],
   "source": [
    "with torch.no_grad():\n",
    "    val_outputs =  model(torch.from_numpy(X_val))\n",
    "    \n",
    "preds = val_outputs.numpy()\n",
    "\n",
    "preds[val_outputs >0.5] = 1\n",
    "preds[val_outputs <= 0.5] = 0\n",
    "print(val_outputs.numpy())"
   ]
  },
  {
   "cell_type": "code",
   "execution_count": 174,
   "metadata": {},
   "outputs": [
    {
     "name": "stdout",
     "output_type": "stream",
     "text": [
      "Accuracy is 0.6956198960653304\n"
     ]
    }
   ],
   "source": [
    "from sklearn.metrics import accuracy_score, recall_score, roc_auc_score\n",
    "\n",
    "accuracy = accuracy_score(y_val, preds)\n",
    "sens = recall_score(y_val, preds)\n",
    "spec = recall_score(y_val, preds, pos_label=0)\n",
    "auc = roc_auc_score(y_val, preds)\n",
    "\n",
    "\n",
    "# Print statistics of results\n",
    "print(f\"Accuracy is {accuracy}\")"
   ]
  },
  {
   "cell_type": "code",
   "execution_count": 175,
   "metadata": {},
   "outputs": [
    {
     "data": {
      "text/plain": [
       "0.7470414201183432"
      ]
     },
     "execution_count": 175,
     "metadata": {},
     "output_type": "execute_result"
    }
   ],
   "source": [
    "sens"
   ]
  },
  {
   "cell_type": "code",
   "execution_count": 176,
   "metadata": {},
   "outputs": [
    {
     "data": {
      "text/plain": [
       "0.6438152011922503"
      ]
     },
     "execution_count": 176,
     "metadata": {},
     "output_type": "execute_result"
    }
   ],
   "source": [
    "spec"
   ]
  },
  {
   "cell_type": "code",
   "execution_count": 177,
   "metadata": {},
   "outputs": [
    {
     "data": {
      "text/plain": [
       "0.6954283106552968"
      ]
     },
     "execution_count": 177,
     "metadata": {},
     "output_type": "execute_result"
    }
   ],
   "source": [
    "auc"
   ]
  },
  {
   "cell_type": "code",
   "execution_count": null,
   "metadata": {},
   "outputs": [],
   "source": []
  }
 ],
 "metadata": {
  "colab": {
   "authorship_tag": "ABX9TyOVN/VpiHHC5CTEMMSPncg8",
   "include_colab_link": true,
   "name": "DeepLearning.ipynb",
   "provenance": []
  },
  "kernelspec": {
   "display_name": "Python 3",
   "language": "python",
   "name": "python3"
  },
  "language_info": {
   "codemirror_mode": {
    "name": "ipython",
    "version": 3
   },
   "file_extension": ".py",
   "mimetype": "text/x-python",
   "name": "python",
   "nbconvert_exporter": "python",
   "pygments_lexer": "ipython3",
   "version": "3.7.11"
  }
 },
 "nbformat": 4,
 "nbformat_minor": 4
}
