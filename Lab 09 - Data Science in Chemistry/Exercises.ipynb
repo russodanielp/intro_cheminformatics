{
 "cells": [
  {
   "cell_type": "markdown",
   "id": "c8343a93-c276-4968-8800-6b045945b48c",
   "metadata": {},
   "source": [
    "# Exercise 1\n",
    "\n",
    "In the data folder `data` there is a file called `cids.txt`.  Using PUG Rest, retrieve the canonical smiles for each of the compounds.  "
   ]
  },
  {
   "cell_type": "code",
   "execution_count": null,
   "id": "e3fb18a5-3450-44cf-8bcb-205aca238d30",
   "metadata": {},
   "outputs": [],
   "source": []
  },
  {
   "cell_type": "markdown",
   "id": "7f6682f2-5fd4-4c1c-9da0-c40f80032f47",
   "metadata": {},
   "source": [
    "# Exercise 2\n",
    "\n",
    "Pick a target of interest find the uniprot ID and download all the ChEMBL assay data for those compounds.  Make a histogram of their distributions using matplotlib.   "
   ]
  },
  {
   "cell_type": "code",
   "execution_count": null,
   "id": "d4c090f1-b26c-4380-8169-1fb082127f0b",
   "metadata": {},
   "outputs": [],
   "source": []
  },
  {
   "cell_type": "markdown",
   "id": "2cf115fa-fd34-46f3-991a-db71d7a7a476",
   "metadata": {},
   "source": [
    "# Excercise 3\n",
    "\n",
    "Download all the data for the GABAa receptor from ChEMBL and get their CIDs using PugREST.  Do the same for the compounds in the `data` folder in the SDFile `DIAZEPAM_w_name.sdf`.  Which compounds were tested in these assays? "
   ]
  },
  {
   "cell_type": "code",
   "execution_count": null,
   "id": "ef7681cb-0cb2-4f82-adee-37f841cc00a0",
   "metadata": {},
   "outputs": [],
   "source": []
  }
 ],
 "metadata": {
  "kernelspec": {
   "display_name": "Python 3 (ipykernel)",
   "language": "python",
   "name": "python3"
  },
  "language_info": {
   "codemirror_mode": {
    "name": "ipython",
    "version": 3
   },
   "file_extension": ".py",
   "mimetype": "text/x-python",
   "name": "python",
   "nbconvert_exporter": "python",
   "pygments_lexer": "ipython3",
   "version": "3.7.11"
  }
 },
 "nbformat": 4,
 "nbformat_minor": 5
}
