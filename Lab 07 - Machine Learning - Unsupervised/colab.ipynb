{
  "cells": [
    {
      "cell_type": "markdown",
      "metadata": {
        "id": "view-in-github",
        "colab_type": "text"
      },
      "source": [
        "<a href=\"https://colab.research.google.com/github/russodanielp/intro_cheminformatics/blob/google_colab/Lab%2007%20-%20Machine%20Learning%20-%20Unsupervised/colab.ipynb\" target=\"_parent\"><img src=\"https://colab.research.google.com/assets/colab-badge.svg\" alt=\"Open In Colab\"/></a>"
      ]
    },
    {
      "cell_type": "markdown",
      "metadata": {
        "id": "_SqJtMXDubjx"
      },
      "source": [
        "# Machine Learning"
      ]
    },
    {
      "cell_type": "markdown",
      "metadata": {
        "id": "hdcnSypDubjz"
      },
      "source": [
        "## Aim of this lab\n",
        "\n",
        "To apply unsupervised machine learning approaches to drug discovery. "
      ]
    },
    {
      "cell_type": "markdown",
      "metadata": {
        "tags": [],
        "id": "Yk5Ewd9yubjz"
      },
      "source": [
        "### Objectives\n",
        "\n",
        "* Understand unsupervised learning and Principal Component Analysis\n",
        "* Cluster chemicals using the Butina clustering method\n"
      ]
    },
    {
      "cell_type": "markdown",
      "metadata": {
        "id": "wX3lpQVEubjz"
      },
      "source": [
        "## Background\n",
        "\n",
        "\n",
        "Principal Component Analysis (PCA) is a diminsionality reduction technique popular for visualizing high dimensional data.  Chemical space, created by chemical descritpors, is often in the hundreds or thousands of dimensions making visualization (in 2 or 3D) impossible.  Often, to get an idea of chemical space, we need to reduce this high-dimensional space to 2 or 3 dimensions, which allows us to plot and vizualize as a scatterplot for example.  \n",
        "\n",
        "PCA works by transforming a raw dataset (i.e., the chemical descrptors) into `n` components, such that the first component, captures the most variance in the dataset, the second captures the second-most under the constraint it is orthogonal to the first, and so on.  The orthoganlity is often kept as it is a more desirable to have non-correlated variables when doing things such as linear regression.  [Here](https://learnche.org/pid/latent-variable-modelling/principal-component-analysis/index) is a good reference for PCA.  \n",
        "\n",
        "We will use the [DrugBank](https://go.drugbank.com/) to visualize chemical space using PCA, then to identify chemical clusters within the dataset. "
      ]
    },
    {
      "cell_type": "markdown",
      "metadata": {
        "id": "TZwGVDXfVZW7",
        "tags": []
      },
      "source": [
        "### Descriptors\n",
        "\n",
        "Similar to calculating chemical similiarity, PCA can be done on any set of descriptors or fingerprints.  However, just like we saw before its important to standardize if your descriptors are not already on the same range.  "
      ]
    },
    {
      "cell_type": "code",
      "source": [],
      "metadata": {
        "id": "BzbG8m82yRIQ"
      },
      "execution_count": 17,
      "outputs": []
    },
    {
      "cell_type": "code",
      "execution_count": null,
      "metadata": {
        "id": "jKtoBNGDubj0"
      },
      "outputs": [],
      "source": [
        "from rdkit import Chem \n",
        "from rdkit.Chem import PandasTools\n",
        "import pandas as pd\n",
        "\n",
        "from rdkit import Chem\n",
        "from rdkit.Chem import AllChem\n",
        "from rdkit.ML.Descriptors import MoleculeDescriptors\n",
        "from rdkit.Chem import Descriptors\n",
        "import pandas as pd\n",
        "from rdkit import DataStructs\n",
        "from rdkit.ML.Cluster import Butina\n",
        "\n",
        "from sklearn.preprocessing import StandardScaler\n",
        "\n",
        "desc_set = ['MolWt', 'TPSA', 'NumRotatableBonds', 'NumHDonors', 'NumHAcceptors', 'MolLogP']\n",
        "\n",
        "def calc_descriptors_from_frame(df: pd.DataFrame, scale=True, desc_set=None, name_col='compound_id') -> pd.DataFrame:\n",
        "    \"\"\" calculates rdkit descriptors from a smiles.txt file \"\"\"\n",
        "\n",
        "    if desc_set:\n",
        "        desc_set = [desc[0] for desc in Descriptors.descList if desc[0] in desc_set]\n",
        "    else:\n",
        "        desc_set = [desc[0] for desc in Descriptors.descList]\n",
        "\n",
        "    calc = MoleculeDescriptors.MolecularDescriptorCalculator(desc_set)\n",
        "\n",
        "    X = pd.DataFrame([list(calc.CalcDescriptors(mol)) for mol in df['ROMol']],\n",
        "                     columns=list(calc.GetDescriptorNames()),\n",
        "                     index=df[name_col])\n",
        "    X = X.loc[X.notnull().all(1), :]\n",
        "\n",
        "    if scale:\n",
        "        X = pd.DataFrame(StandardScaler().fit_transform(X), index=X.index, columns=X.columns)\n",
        "    return X\n",
        "\n",
        "\n",
        "def calc_fingerprints_from_frame(df: pd.DataFrame, kind='ECFP6', name_col='compound_id') -> pd.DataFrame:\n",
        "\n",
        "\n",
        "\n",
        "    data = []\n",
        "\n",
        "    for mol in df['ROMol'].values:\n",
        "        fps = [float(x) for x in AllChem.GetMorganFingerprintAsBitVect(mol,\n",
        "                                                                         3,\n",
        "                                                                         1024,\n",
        "                                                                         useFeatures=True if kind == 'FCFP6' else False)]\n",
        "        data.append(fps)\n",
        "\n",
        "    return pd.DataFrame(data, index=df[name_col])\n",
        "\n",
        "  \n",
        "def calc_rdkit_fps_from_mol(mol):\n",
        "    \"\"\"\n",
        "    Encode a molecule from a RDKit Mol into a set of descriptors.\n",
        "\n",
        "    Parameters\n",
        "    ----------\n",
        "    mol : RDKit Mol\n",
        "        The RDKit molecule.\n",
        "\n",
        "    Returns\n",
        "    -------\n",
        "    list\n",
        "        The set of chemical descriptors as a list.\n",
        "\n",
        "    \"\"\"\n",
        "    return Chem.RDKFingerprint(mol)\n",
        "\n",
        "\n",
        "def cluster_mols_from_frame(df, DIST_CUTOFF=0.3):\n",
        "  fp_list = []\n",
        "\n",
        "  for mol in df.ROMol.tolist():\n",
        "      fp = calc_rdkit_fps_from_mol(mol)\n",
        "      fp_list.append(fp)\n",
        "\n",
        "  dists = []\n",
        "  nfps = len(fp_list)\n",
        "  for i in range(1, nfps):\n",
        "      sims = DataStructs.BulkTanimotoSimilarity(fp_list[i], fp_list[:i])\n",
        "      dists.extend([1-x for x in sims])\n",
        "  mol_clusters = Butina.ClusterData(dists, nfps, DIST_CUTOFF, isDistData=True)\n",
        "  cluster_id_list = [0]*nfps\n",
        "  for idx, cluster in enumerate(mol_clusters, 1):\n",
        "      for member in cluster:\n",
        "          cluster_id_list[member] = idx\n",
        "  return [x-1 for x in cluster_id_list]"
      ]
    },
    {
      "cell_type": "markdown",
      "source": [
        "First load the drugbank dataset..."
      ],
      "metadata": {
        "id": "vI_LeqOo9QMV"
      }
    },
    {
      "cell_type": "code",
      "execution_count": null,
      "metadata": {
        "id": "9CCYJjLGubj1"
      },
      "outputs": [],
      "source": []
    },
    {
      "cell_type": "markdown",
      "source": [
        "Then, we create chemical descriptors.  Here, we will only use 6 descriptors MolWt, TPSA, NumRotatableBonds, NumHDonors, NumHAcceptors, MolLogP."
      ],
      "metadata": {
        "id": "iUVF1UWm9Uk2"
      }
    },
    {
      "cell_type": "code",
      "execution_count": null,
      "metadata": {
        "id": "CLereTgzubj2"
      },
      "outputs": [],
      "source": []
    },
    {
      "cell_type": "markdown",
      "source": [
        "The Machine Learning package `scikit-learn` has functionality for doing Principal Component Analysis (PCA)..."
      ],
      "metadata": {
        "id": "9jvK_oDA9ka-"
      }
    },
    {
      "cell_type": "code",
      "execution_count": null,
      "metadata": {
        "id": "tYstcIHqubj3"
      },
      "outputs": [],
      "source": []
    },
    {
      "cell_type": "code",
      "execution_count": null,
      "metadata": {
        "id": "-kmgJFdkubj3"
      },
      "outputs": [],
      "source": []
    },
    {
      "cell_type": "code",
      "execution_count": null,
      "metadata": {
        "id": "wp_sd2Ctubj3"
      },
      "outputs": [],
      "source": []
    },
    {
      "cell_type": "code",
      "execution_count": null,
      "metadata": {
        "id": "iYtLtq7Tubj3"
      },
      "outputs": [],
      "source": [
        "import matplotlib.pyplot as plt\n",
        "import matplotlib as mpl\n",
        "import seaborn as sns, numpy as np\n",
        "\n",
        "sns.set_context('poster')\n",
        "fig, ax = plt.subplots(figsize=(8,8))\n",
        "\n",
        "df['Activity'] = df.ALOGPS_SOLUBILITY_LOG.astype(float)\n",
        "\n",
        "cm = plt.cm.RdYlBu_r\n",
        "norm = mpl.colors.Normalize(vmin=df['Activity'] .min(), vmax=df['Activity'] .max())\n",
        "colors = cm(norm(df['Activity']))\n",
        "\n",
        "scatter = sns.scatterplot(x=latent_space[:, 0], y=latent_space[:, 1], c=[c for c in colors], edgecolor='k')\n",
        "\n",
        "ax.set_xlabel('PC1 - Explained Variance = {:.2f}%'.format(pca.explained_variance_ratio_[0]*100))\n",
        "ax.set_ylabel('PC2 - Explained Variance = {:.2f}%'.format(pca.explained_variance_ratio_[1]*100))\n",
        "\n",
        "sm = plt.cm.ScalarMappable(cmap=cm, norm=norm)\n",
        "sm.set_array([])\n",
        "\n",
        "fig.colorbar(sm)\n",
        "plt.show()"
      ]
    },
    {
      "cell_type": "markdown",
      "metadata": {
        "id": "nZLkr-VMubj3"
      },
      "source": [
        "## Chemical Clustering\n",
        "\n",
        "Chemical clustering is useful way to identify sets (or clusters) of chemicals from a larger, diverse dataset of chemicals.  Often times coupled with an interesting chemical property, such as toxicity, it can be used to identify classes of chemicals worthy of further investigative action, like searching for a common molecular target invoking there toxicity.  \n",
        "\n",
        "There are several different ways of clusters, both specific to chemistry and not, but a well-known method is by using the [Butina algorithm](https://pubs.acs.org/doi/pdf/10.1021/ci9803381) which is available in the RDKit. The Butina algorithm clusters chemicals into groups where every chemical is of a certain similarity to its cluster bretheren.\n",
        "\n",
        "First we read our chemicals and calcualte chemical descriptors."
      ]
    },
    {
      "cell_type": "markdown",
      "metadata": {
        "id": "4bCB82Ymubj4"
      },
      "source": [
        "In the code below, we cluster our dataset and assign each chemical to a particular cluster number. "
      ]
    },
    {
      "cell_type": "code",
      "source": [],
      "metadata": {
        "id": "tjCLnTXv5nr2"
      },
      "execution_count": null,
      "outputs": []
    },
    {
      "cell_type": "markdown",
      "metadata": {
        "id": "-9kHKjpnubj4"
      },
      "source": [
        "We can also created a frame with one chemical (the \"centroid\") from each cluster.  "
      ]
    },
    {
      "cell_type": "code",
      "execution_count": null,
      "metadata": {
        "id": "JSTqClezubj4"
      },
      "outputs": [],
      "source": []
    },
    {
      "cell_type": "markdown",
      "metadata": {
        "id": "D7PJMjjzubj4"
      },
      "source": [
        "The package `mols2grid` allows for interactive tables that display chemicals in a dataframe.  We can display the cluster number and the number of chemicals in the cluster.  In the cell below, can select a cluster for further viewing. "
      ]
    },
    {
      "cell_type": "code",
      "execution_count": null,
      "metadata": {
        "id": "oXG186Hdubj4"
      },
      "outputs": [],
      "source": []
    },
    {
      "cell_type": "markdown",
      "metadata": {
        "id": "aFBQI1kVubj4"
      },
      "source": [
        "Change the number of the variable `CLUSTER_TO_VIEW` to display a table of chemicals in a specific cluster.  "
      ]
    },
    {
      "cell_type": "code",
      "execution_count": null,
      "metadata": {
        "id": "UMH8HZSVubj4"
      },
      "outputs": [],
      "source": []
    }
  ],
  "metadata": {
    "kernelspec": {
      "display_name": "Python 3 (ipykernel)",
      "language": "python",
      "name": "python3"
    },
    "language_info": {
      "codemirror_mode": {
        "name": "ipython",
        "version": 3
      },
      "file_extension": ".py",
      "mimetype": "text/x-python",
      "name": "python",
      "nbconvert_exporter": "python",
      "pygments_lexer": "ipython3",
      "version": "3.7.11"
    },
    "colab": {
      "provenance": [],
      "include_colab_link": true
    }
  },
  "nbformat": 4,
  "nbformat_minor": 0
}