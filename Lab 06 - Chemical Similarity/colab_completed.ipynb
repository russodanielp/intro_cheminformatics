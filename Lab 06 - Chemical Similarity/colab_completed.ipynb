{
  "cells": [
    {
      "cell_type": "markdown",
      "metadata": {
        "id": "view-in-github",
        "colab_type": "text"
      },
      "source": [
        "<a href=\"https://colab.research.google.com/github/russodanielp/intro_cheminformatics/blob/google_colab/Lab%2006%20-%20Chemical%20Similarity/colab_completed.ipynb\" target=\"_parent\"><img src=\"https://colab.research.google.com/assets/colab-badge.svg\" alt=\"Open In Colab\"/></a>"
      ]
    },
    {
      "cell_type": "markdown",
      "metadata": {
        "id": "prQMj9TPC1Bv"
      },
      "source": [
        "# Chemical Similarity"
      ]
    },
    {
      "cell_type": "markdown",
      "metadata": {
        "id": "Sr777sa7C1Bx"
      },
      "source": [
        "## Aim of this lab\n",
        "\n",
        "To use different similarity metrics and fingerprints to calculate chemical similarity. "
      ]
    },
    {
      "cell_type": "markdown",
      "metadata": {
        "tags": [],
        "id": "T8xFr_NtC1Bx"
      },
      "source": [
        "### Objectives\n",
        "\n",
        "* Calculate chemical similarity\n",
        "* Retrieve the most similar compounds from a chemical dataset for a target chemical.\n",
        "* Observe the effects of metrics and feature spaces on molecular similarity. \n"
      ]
    },
    {
      "cell_type": "markdown",
      "metadata": {
        "id": "khjbD47AC1By"
      },
      "source": [
        "## Background\n",
        "\n",
        "Chemical similarity is a widely used concept in chemistry, drug discovery, and especially cheminformatics.  The chemical similiarity principal states that two molecules that have a similiar structure have similar physicochemical and biological properties.  We know this to be true when we look at the common backbounds or scaffolds that are necessary for binding to a certain receptor or drug target.  Therefore finding similar compounds to a particular chemical of interest is often a widely needed activity in chemistry.  For example, if you had a compound that was a drug and wanted to develop new drugs for that same indication, finding chemicals that look similar to it would be a good place to start. \n",
        "\n",
        "But what is similarity? How we define similarity is not necessarily a trivial excercise and is often context dependent.  In fact, the nature of similarity is wholy dependent on how we choose to view or represent certain objects.  Typically when we define chemical similarity it involves two important processes, the similarity function (i.e., the calculation to derive similarity) and the descriptors (i.e., the numerical representation of chemicals such as fingerprints or descriptors).  Often times the metric depends on the descriptors as some are only valid for integers like fingerprints.   "
      ]
    },
    {
      "cell_type": "markdown",
      "metadata": {
        "id": "oQkP6CUTC1B0"
      },
      "source": [
        "### Metrics\n",
        "\n",
        "#### Tanimoto/Jaccard Similarity"
      ]
    },
    {
      "cell_type": "markdown",
      "metadata": {
        "id": "UImbl6UVVZXJ"
      },
      "source": [
        "In this descriptor frames, we can see that the rows represent an indivual molecules and the columns (0 -> 166) are the fragments, each specifying a unique substructure with a 1 denoting the presence and 0 denoting the absence of a fragment.  The entirity of this would be known as a 'fingerprint'.  \n",
        "\n",
        "Using these fingerprints, we can calculate the similarity between molecules based on the number of shared features.  The most common measure for this is the Tanimoto coeffiecient, also known as the [Jaccard  index](https://en.wikipedia.org/wiki/Jaccard_index).  Mathematicall it is defined as:\n",
        "\n",
        "$$J(A,B) = \\frac{|A \\cap B|}{|A \\cup B|}$$\n",
        "\n",
        "Where $A$ and $B$ are fingerprints.  Let's calculate the similarity between every molecule in the dataset using.  We can write code for this ourselves, but its always easier (and sometimes faster) to use code already written.  The machine learning library scikit-learn has many useful functions.  Here we can calculate the jaccard distance, with the Jaccard index just being 1-distance."
      ]
    },
    {
      "cell_type": "markdown",
      "metadata": {
        "id": "47UPp1_nC1B1"
      },
      "source": [
        "#### Dice Coeffecient\n",
        "\n",
        "$$DICE(A,B) = \\frac{2{|A \\cap B|}}{|A| + |B|}$$\n"
      ]
    },
    {
      "cell_type": "code",
      "source": [
        "!pip install rdkit"
      ],
      "metadata": {
        "id": "yDACSdyLIloa",
        "outputId": "bb586c05-fc68-4649-8763-93c9422c1e1d",
        "colab": {
          "base_uri": "https://localhost:8080/"
        }
      },
      "execution_count": 1,
      "outputs": [
        {
          "output_type": "stream",
          "name": "stdout",
          "text": [
            "Looking in indexes: https://pypi.org/simple, https://us-python.pkg.dev/colab-wheels/public/simple/\n",
            "Collecting rdkit\n",
            "  Downloading rdkit-2022.9.4-cp38-cp38-manylinux_2_17_x86_64.manylinux2014_x86_64.whl (29.3 MB)\n",
            "\u001b[2K     \u001b[90m━━━━━━━━━━━━━━━━━━━━━━━━━━━━━━━━━━━━━━━━\u001b[0m \u001b[32m29.3/29.3 MB\u001b[0m \u001b[31m24.5 MB/s\u001b[0m eta \u001b[36m0:00:00\u001b[0m\n",
            "\u001b[?25hRequirement already satisfied: Pillow in /usr/local/lib/python3.8/dist-packages (from rdkit) (7.1.2)\n",
            "Requirement already satisfied: numpy in /usr/local/lib/python3.8/dist-packages (from rdkit) (1.22.4)\n",
            "Installing collected packages: rdkit\n",
            "Successfully installed rdkit-2022.9.4\n"
          ]
        }
      ]
    },
    {
      "cell_type": "code",
      "execution_count": 2,
      "metadata": {
        "id": "vdm4naiMC1By"
      },
      "outputs": [],
      "source": [
        "from rdkit import Chem \n",
        "from rdkit.Chem import PandasTools\n",
        "from rdkit.Chem.Draw import IPythonConsole \n",
        "import pandas as pd"
      ]
    },
    {
      "cell_type": "code",
      "execution_count": 6,
      "metadata": {
        "id": "5BAOehhwC1Bz",
        "outputId": "6ea247ff-fe50-44e3-e225-248401513a1f",
        "colab": {
          "base_uri": "https://localhost:8080/",
          "height": 240
        }
      },
      "outputs": [
        {
          "output_type": "execute_result",
          "data": {
            "text/plain": [
              "                                        GENERIC_NAME  \\\n",
              "0                    Perfluoro tert-butylcyclohexane   \n",
              "1                                Dibromothymoquinone   \n",
              "2  5-chloro-7-[(1-methylethyl)amino]pyrazolo[1,5-...   \n",
              "\n",
              "                                            SYNONYMS JCHEM_LOGP      FORMULA  \\\n",
              "0                                            Oxycyte   6.403324       C10F20   \n",
              "1  2,5-dibromo-3-isopropyl-6-methyl-1,4-benzoquin...   3.654123  C10H10Br2O2   \n",
              "2                                                nan   1.668743   C10H10ClN5   \n",
              "\n",
              "  ALOGPS_SOLUBILITY JCHEM_BIOAVAILABILITY ID  \\\n",
              "0      4.75e-02 g/l                   0.0      \n",
              "1      1.32e-01 g/l                   1.0      \n",
              "2      1.18e-01 g/l                   1.0      \n",
              "\n",
              "                                              ROMol  \n",
              "0  <rdkit.Chem.rdchem.Mol object at 0x7fd5f9882900>  \n",
              "1  <rdkit.Chem.rdchem.Mol object at 0x7fd5f9882970>  \n",
              "2  <rdkit.Chem.rdchem.Mol object at 0x7fd5f9882ba0>  "
            ],
            "text/html": [
              "\n",
              "  <div id=\"df-b34b1094-f61c-45ac-8cbf-e88f3e4e8546\">\n",
              "    <div class=\"colab-df-container\">\n",
              "      <div>\n",
              "<style scoped>\n",
              "    .dataframe tbody tr th:only-of-type {\n",
              "        vertical-align: middle;\n",
              "    }\n",
              "\n",
              "    .dataframe tbody tr th {\n",
              "        vertical-align: top;\n",
              "    }\n",
              "\n",
              "    .dataframe thead th {\n",
              "        text-align: right;\n",
              "    }\n",
              "</style>\n",
              "<table border=\"1\" class=\"dataframe\">\n",
              "  <thead>\n",
              "    <tr style=\"text-align: right;\">\n",
              "      <th></th>\n",
              "      <th>GENERIC_NAME</th>\n",
              "      <th>SYNONYMS</th>\n",
              "      <th>JCHEM_LOGP</th>\n",
              "      <th>FORMULA</th>\n",
              "      <th>ALOGPS_SOLUBILITY</th>\n",
              "      <th>JCHEM_BIOAVAILABILITY</th>\n",
              "      <th>ID</th>\n",
              "      <th>ROMol</th>\n",
              "    </tr>\n",
              "  </thead>\n",
              "  <tbody>\n",
              "    <tr>\n",
              "      <th>0</th>\n",
              "      <td>Perfluoro tert-butylcyclohexane</td>\n",
              "      <td>Oxycyte</td>\n",
              "      <td>6.403324</td>\n",
              "      <td>C10F20</td>\n",
              "      <td>4.75e-02 g/l</td>\n",
              "      <td>0.0</td>\n",
              "      <td></td>\n",
              "      <td>&lt;rdkit.Chem.rdchem.Mol object at 0x7fd5f9882900&gt;</td>\n",
              "    </tr>\n",
              "    <tr>\n",
              "      <th>1</th>\n",
              "      <td>Dibromothymoquinone</td>\n",
              "      <td>2,5-dibromo-3-isopropyl-6-methyl-1,4-benzoquin...</td>\n",
              "      <td>3.654123</td>\n",
              "      <td>C10H10Br2O2</td>\n",
              "      <td>1.32e-01 g/l</td>\n",
              "      <td>1.0</td>\n",
              "      <td></td>\n",
              "      <td>&lt;rdkit.Chem.rdchem.Mol object at 0x7fd5f9882970&gt;</td>\n",
              "    </tr>\n",
              "    <tr>\n",
              "      <th>2</th>\n",
              "      <td>5-chloro-7-[(1-methylethyl)amino]pyrazolo[1,5-...</td>\n",
              "      <td>nan</td>\n",
              "      <td>1.668743</td>\n",
              "      <td>C10H10ClN5</td>\n",
              "      <td>1.18e-01 g/l</td>\n",
              "      <td>1.0</td>\n",
              "      <td></td>\n",
              "      <td>&lt;rdkit.Chem.rdchem.Mol object at 0x7fd5f9882ba0&gt;</td>\n",
              "    </tr>\n",
              "  </tbody>\n",
              "</table>\n",
              "</div>\n",
              "      <button class=\"colab-df-convert\" onclick=\"convertToInteractive('df-b34b1094-f61c-45ac-8cbf-e88f3e4e8546')\"\n",
              "              title=\"Convert this dataframe to an interactive table.\"\n",
              "              style=\"display:none;\">\n",
              "        \n",
              "  <svg xmlns=\"http://www.w3.org/2000/svg\" height=\"24px\"viewBox=\"0 0 24 24\"\n",
              "       width=\"24px\">\n",
              "    <path d=\"M0 0h24v24H0V0z\" fill=\"none\"/>\n",
              "    <path d=\"M18.56 5.44l.94 2.06.94-2.06 2.06-.94-2.06-.94-.94-2.06-.94 2.06-2.06.94zm-11 1L8.5 8.5l.94-2.06 2.06-.94-2.06-.94L8.5 2.5l-.94 2.06-2.06.94zm10 10l.94 2.06.94-2.06 2.06-.94-2.06-.94-.94-2.06-.94 2.06-2.06.94z\"/><path d=\"M17.41 7.96l-1.37-1.37c-.4-.4-.92-.59-1.43-.59-.52 0-1.04.2-1.43.59L10.3 9.45l-7.72 7.72c-.78.78-.78 2.05 0 2.83L4 21.41c.39.39.9.59 1.41.59.51 0 1.02-.2 1.41-.59l7.78-7.78 2.81-2.81c.8-.78.8-2.07 0-2.86zM5.41 20L4 18.59l7.72-7.72 1.47 1.35L5.41 20z\"/>\n",
              "  </svg>\n",
              "      </button>\n",
              "      \n",
              "  <style>\n",
              "    .colab-df-container {\n",
              "      display:flex;\n",
              "      flex-wrap:wrap;\n",
              "      gap: 12px;\n",
              "    }\n",
              "\n",
              "    .colab-df-convert {\n",
              "      background-color: #E8F0FE;\n",
              "      border: none;\n",
              "      border-radius: 50%;\n",
              "      cursor: pointer;\n",
              "      display: none;\n",
              "      fill: #1967D2;\n",
              "      height: 32px;\n",
              "      padding: 0 0 0 0;\n",
              "      width: 32px;\n",
              "    }\n",
              "\n",
              "    .colab-df-convert:hover {\n",
              "      background-color: #E2EBFA;\n",
              "      box-shadow: 0px 1px 2px rgba(60, 64, 67, 0.3), 0px 1px 3px 1px rgba(60, 64, 67, 0.15);\n",
              "      fill: #174EA6;\n",
              "    }\n",
              "\n",
              "    [theme=dark] .colab-df-convert {\n",
              "      background-color: #3B4455;\n",
              "      fill: #D2E3FC;\n",
              "    }\n",
              "\n",
              "    [theme=dark] .colab-df-convert:hover {\n",
              "      background-color: #434B5C;\n",
              "      box-shadow: 0px 1px 3px 1px rgba(0, 0, 0, 0.15);\n",
              "      filter: drop-shadow(0px 1px 2px rgba(0, 0, 0, 0.3));\n",
              "      fill: #FFFFFF;\n",
              "    }\n",
              "  </style>\n",
              "\n",
              "      <script>\n",
              "        const buttonEl =\n",
              "          document.querySelector('#df-b34b1094-f61c-45ac-8cbf-e88f3e4e8546 button.colab-df-convert');\n",
              "        buttonEl.style.display =\n",
              "          google.colab.kernel.accessAllowed ? 'block' : 'none';\n",
              "\n",
              "        async function convertToInteractive(key) {\n",
              "          const element = document.querySelector('#df-b34b1094-f61c-45ac-8cbf-e88f3e4e8546');\n",
              "          const dataTable =\n",
              "            await google.colab.kernel.invokeFunction('convertToInteractive',\n",
              "                                                     [key], {});\n",
              "          if (!dataTable) return;\n",
              "\n",
              "          const docLinkHtml = 'Like what you see? Visit the ' +\n",
              "            '<a target=\"_blank\" href=https://colab.research.google.com/notebooks/data_table.ipynb>data table notebook</a>'\n",
              "            + ' to learn more about interactive tables.';\n",
              "          element.innerHTML = '';\n",
              "          dataTable['output_type'] = 'display_data';\n",
              "          await google.colab.output.renderOutput(dataTable, element);\n",
              "          const docLink = document.createElement('div');\n",
              "          docLink.innerHTML = docLinkHtml;\n",
              "          element.appendChild(docLink);\n",
              "        }\n",
              "      </script>\n",
              "    </div>\n",
              "  </div>\n",
              "  "
            ]
          },
          "metadata": {},
          "execution_count": 6
        }
      ],
      "source": [
        "drugbank = PandasTools.LoadSDF('drugbank.sdf')\n",
        "drugbank.head(3)"
      ]
    },
    {
      "cell_type": "code",
      "execution_count": 25,
      "metadata": {
        "id": "bPer1QNaC1B0"
      },
      "outputs": [],
      "source": [
        "from rdkit.Chem import AllChem\n",
        "from rdkit.Chem import MACCSkeys\n",
        "\n",
        "\n",
        "def calc_fp_from_mol(mol, method=\"maccs\", n_bits=1024):\n",
        "    \"\"\"\n",
        "    Encode a molecule from a RDKit Mol into a fingerprint.\n",
        "\n",
        "    Parameters\n",
        "    ----------\n",
        "    mol : RDKit Mol\n",
        "        The RDKit molecule.\n",
        "\n",
        "    method : str\n",
        "        The type of fingerprint to use. Default is MACCS keys.\n",
        "\n",
        "    n_bits : int\n",
        "        The length of the fingerprint.\n",
        "\n",
        "    Returns\n",
        "    -------\n",
        "    array\n",
        "        The fingerprint array.\n",
        "\n",
        "    \"\"\"\n",
        "\n",
        "    if method == \"maccs\":\n",
        "        return MACCSkeys.GenMACCSKeys(mol)\n",
        "    if method == \"ecfp4\":\n",
        "        return AllChem.GetMorganFingerprintAsBitVect(mol, 2, nBits=n_bits)\n",
        "    if method == \"ecfp6\":\n",
        "        return AllChem.GetMorganFingerprintAsBitVect(mol, 3, nBits=n_bits)\n",
        "    else:\n",
        "        # NBVAL_CHECK_OUTPUT\n",
        "        print(f\"Warning: Wrong method specified: {method}. Default will be used instead.\")\n",
        "        return MACCSkeys.GenMACCSKeys(mol)"
      ]
    },
    {
      "cell_type": "markdown",
      "source": [
        "How many chemicals are in the drugbank dataset? "
      ],
      "metadata": {
        "id": "Y1cXF-KPg30_"
      }
    },
    {
      "cell_type": "code",
      "source": [
        "print(\"There are\", drugbank.shape[0], \"chemicals\")"
      ],
      "metadata": {
        "id": "S8DOOEYSJE_h",
        "outputId": "728d5444-7d67-47f1-99b8-7795699cbd6c",
        "colab": {
          "base_uri": "https://localhost:8080/"
        }
      },
      "execution_count": 26,
      "outputs": [
        {
          "output_type": "stream",
          "name": "stdout",
          "text": [
            "There are 8357 chemicals\n"
          ]
        }
      ]
    },
    {
      "cell_type": "markdown",
      "source": [
        "Lets calcuate fingerprints for our drugbank dataset"
      ],
      "metadata": {
        "id": "srqcFTSNg9I3"
      }
    },
    {
      "cell_type": "code",
      "source": [
        "drugbank['maccs'] = [calc_fp_from_mol(mol) for mol in drugbank.ROMol]\n",
        "drugbank['ecfp6'] = [calc_fp_from_mol(mol, method='ecfp6') for mol in drugbank.ROMol]"
      ],
      "metadata": {
        "id": "SBHRqFXPJ63Q"
      },
      "execution_count": 27,
      "outputs": []
    },
    {
      "cell_type": "markdown",
      "source": [
        "Let's find the most similar chemicals in drug bank to Lysergic acid diethylamide (LSD).  The chemical isomeric smiles for LSD is `CCN(CC)C(=O)[C@H]1CN([C@@H]2CC3=CNC4=CC=CC(=C34)C2=C1)C`"
      ],
      "metadata": {
        "id": "Na_T2hM6hK0G"
      }
    },
    {
      "cell_type": "code",
      "source": [
        "query_chemical = 'CCN(CC)C(=O)[C@H]1CN([C@@H]2CC3=CNC4=CC=CC(=C34)C2=C1)C'\n",
        "query_mol = Chem.MolFromSmiles(query_chemical)\n",
        "query_maccs = calc_fp_from_mol(query_mol)\n",
        "query_ecfp6 = calc_fp_from_mol(query_mol, method='ecfp6')"
      ],
      "metadata": {
        "id": "jJUrEfNaLmkw"
      },
      "execution_count": 32,
      "outputs": []
    },
    {
      "cell_type": "code",
      "source": [
        "from rdkit import DataStructs\n",
        "\n",
        "drugbank['Tanimoto_maccs'] = DataStructs.BulkTanimotoSimilarity(query_maccs, drugbank['maccs'].values)\n",
        "drugbank['Dice_maccs'] = DataStructs.BulkDiceSimilarity(query_maccs, drugbank['maccs'].values)\n",
        "drugbank['Tanimoto_ecfp6'] = DataStructs.BulkDiceSimilarity(query_ecfp6, drugbank['ecfp6'].values)"
      ],
      "metadata": {
        "id": "mfPINK2kLgDA"
      },
      "execution_count": 33,
      "outputs": []
    },
    {
      "cell_type": "code",
      "source": [
        "import seaborn as sns\n",
        "\n",
        "sns.histplot(x=drugbank.Tanimoto_maccs, color='red', bins=100)\n",
        "sns.histplot(x=drugbank.Dice_maccs, color='blue', bins=100)"
      ],
      "metadata": {
        "id": "Ufh5qiSaMEgY",
        "outputId": "7a31d45d-55ef-45f2-a058-cac3784152b9",
        "colab": {
          "base_uri": "https://localhost:8080/",
          "height": 297
        }
      },
      "execution_count": 34,
      "outputs": [
        {
          "output_type": "execute_result",
          "data": {
            "text/plain": [
              "<matplotlib.axes._subplots.AxesSubplot at 0x7fd5f16eec70>"
            ]
          },
          "metadata": {},
          "execution_count": 34
        },
        {
          "output_type": "display_data",
          "data": {
            "text/plain": [
              "<Figure size 432x288 with 1 Axes>"
            ],
            "image/png": "[encoded data removed]"
          },
          "metadata": {
            "needs_background": "light"
          }
        }
      ]
    },
    {
      "cell_type": "code",
      "source": [
        "sns.histplot(x=drugbank.Tanimoto_maccs, color='red', cumulative=True, stat=\"density\")\n",
        "sns.histplot(x=drugbank.Dice_maccs, color='blue', cumulative=True, stat=\"density\")"
      ],
      "metadata": {
        "id": "M6q-OU7zkKpv",
        "outputId": "4af7f998-695e-451e-bc93-7af6a526efcd",
        "colab": {
          "base_uri": "https://localhost:8080/",
          "height": 297
        }
      },
      "execution_count": 35,
      "outputs": [
        {
          "output_type": "execute_result",
          "data": {
            "text/plain": [
              "<matplotlib.axes._subplots.AxesSubplot at 0x7fd5f14486a0>"
            ]
          },
          "metadata": {},
          "execution_count": 35
        },
        {
          "output_type": "display_data",
          "data": {
            "text/plain": [
              "<Figure size 432x288 with 1 Axes>"
            ],
            "image/png": "[encoded data removed]"
          },
          "metadata": {
            "needs_background": "light"
          }
        }
      ]
    },
    {
      "cell_type": "markdown",
      "source": [
        "Let's compare MACCS vs ECFP6 "
      ],
      "metadata": {
        "id": "-_R6DLKlmZft"
      }
    },
    {
      "cell_type": "code",
      "source": [
        "sns.histplot(x=drugbank.Tanimoto_maccs, color='purple', bins=100)\n",
        "sns.histplot(x=drugbank.Tanimoto_ecfp6, color='green', bins=100)"
      ],
      "metadata": {
        "id": "fLBWbzKwll42",
        "outputId": "21dbff37-7903-4653-fc1e-47d705dae7e3",
        "colab": {
          "base_uri": "https://localhost:8080/",
          "height": 297
        }
      },
      "execution_count": 36,
      "outputs": [
        {
          "output_type": "execute_result",
          "data": {
            "text/plain": [
              "<matplotlib.axes._subplots.AxesSubplot at 0x7fd5f166c760>"
            ]
          },
          "metadata": {},
          "execution_count": 36
        },
        {
          "output_type": "display_data",
          "data": {
            "text/plain": [
              "<Figure size 432x288 with 1 Axes>"
            ],
            "image/png": "[encoded data removed]"
          },
          "metadata": {
            "needs_background": "light"
          }
        }
      ]
    },
    {
      "cell_type": "code",
      "source": [
        "sns.histplot(x=drugbank.Tanimoto_ecfp6, color='green', cumulative=True, stat=\"density\")\n",
        "sns.histplot(x=drugbank.Tanimoto_maccs, color='purple', cumulative=True, stat=\"density\")"
      ],
      "metadata": {
        "id": "GgdEi-0vnHHT",
        "outputId": "7fe01a57-bdd3-4217-e67b-b071945a1b14",
        "colab": {
          "base_uri": "https://localhost:8080/",
          "height": 297
        }
      },
      "execution_count": 38,
      "outputs": [
        {
          "output_type": "execute_result",
          "data": {
            "text/plain": [
              "<matplotlib.axes._subplots.AxesSubplot at 0x7fd5f11de760>"
            ]
          },
          "metadata": {},
          "execution_count": 38
        },
        {
          "output_type": "display_data",
          "data": {
            "text/plain": [
              "<Figure size 432x288 with 1 Axes>"
            ],
            "image/png": "[encoded data removed]"
          },
          "metadata": {
            "needs_background": "light"
          }
        }
      ]
    },
    {
      "cell_type": "code",
      "source": [
        "top10 = drugbank.sort_values('Tanimoto_maccs', ascending=False).head()\n",
        "top10['scaffoldCol'] = Chem.MolToSmiles(query_mol)"
      ],
      "metadata": {
        "id": "TCMEzBCqQLBP"
      },
      "execution_count": 60,
      "outputs": []
    },
    {
      "cell_type": "code",
      "source": [
        "query_mol"
      ],
      "metadata": {
        "id": "UsoXXZ7zQbwm",
        "outputId": "a9ea9dc8-4503-46c4-996d-7ed8f9326cc8",
        "colab": {
          "base_uri": "https://localhost:8080/",
          "height": 167
        }
      },
      "execution_count": 61,
      "outputs": [
        {
          "output_type": "execute_result",
          "data": {
            "text/plain": [
              "<rdkit.Chem.rdchem.Mol at 0x7fd5f15be820>"
            ],
            "image/png": "[encoded data removed]"
          },
          "metadata": {},
          "execution_count": 61
        }
      ]
    },
    {
      "cell_type": "code",
      "source": [
        "PandasTools.FrameToGridImage(top10, legendsCol='GENERIC_NAME')"
      ],
      "metadata": {
        "id": "9tPRpLlQRxvN",
        "outputId": "3ac5729e-4870-4ea8-8622-34b8d9c2269b",
        "colab": {
          "base_uri": "https://localhost:8080/",
          "height": 417
        }
      },
      "execution_count": 65,
      "outputs": [
        {
          "output_type": "execute_result",
          "data": {
            "image/png": "[encoded data removed]",
            "text/plain": [
              "<IPython.core.display.Image object>"
            ]
          },
          "metadata": {},
          "execution_count": 65
        }
      ]
    },
    {
      "cell_type": "code",
      "source": [],
      "metadata": {
        "id": "PWe6QrqSXNZO"
      },
      "execution_count": null,
      "outputs": []
    }
  ],
  "metadata": {
    "kernelspec": {
      "display_name": "Python 3",
      "language": "python",
      "name": "python3"
    },
    "language_info": {
      "codemirror_mode": {
        "name": "ipython",
        "version": 3
      },
      "file_extension": ".py",
      "mimetype": "text/x-python",
      "name": "python",
      "nbconvert_exporter": "python",
      "pygments_lexer": "ipython3",
      "version": "3.7.11"
    },
    "colab": {
      "provenance": [],
      "include_colab_link": true
    }
  },
  "nbformat": 4,
  "nbformat_minor": 0
}