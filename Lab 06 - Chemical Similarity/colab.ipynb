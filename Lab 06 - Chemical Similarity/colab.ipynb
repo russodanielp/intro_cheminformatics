{
  "cells": [
    {
      "cell_type": "markdown",
      "metadata": {
        "id": "view-in-github",
        "colab_type": "text"
      },
      "source": [
        "<a href=\"https://colab.research.google.com/github/russodanielp/intro_cheminformatics/blob/google_colab/Lab%2006%20-%20Chemical%20Similarity/colab.ipynb\" target=\"_parent\"><img src=\"https://colab.research.google.com/assets/colab-badge.svg\" alt=\"Open In Colab\"/></a>"
      ]
    },
    {
      "cell_type": "markdown",
      "metadata": {
        "id": "prQMj9TPC1Bv"
      },
      "source": [
        "# Chemical Similarity"
      ]
    },
    {
      "cell_type": "markdown",
      "metadata": {
        "id": "Sr777sa7C1Bx"
      },
      "source": [
        "## Aim of this lab\n",
        "\n",
        "To use different similarity metrics and fingerprints to calculate chemical similarity. "
      ]
    },
    {
      "cell_type": "markdown",
      "metadata": {
        "tags": [],
        "id": "T8xFr_NtC1Bx"
      },
      "source": [
        "### Objectives\n",
        "\n",
        "* Calculate chemical similarity\n",
        "* Retrieve the most similar compounds from a chemical dataset for a target chemical.\n",
        "* Observe the effects of metrics and feature spaces on molecular similarity. \n"
      ]
    },
    {
      "cell_type": "markdown",
      "metadata": {
        "id": "khjbD47AC1By"
      },
      "source": [
        "## Background\n",
        "\n",
        "Chemical similarity is a widely used concept in chemistry, drug discovery, and especially cheminformatics.  The chemical similiarity principal states that two molecules that have a similiar structure have similar physicochemical and biological properties.  We know this to be true when we look at the common backbounds or scaffolds that are necessary for binding to a certain receptor or drug target.  Therefore finding similar compounds to a particular chemical of interest is often a widely needed activity in chemistry.  For example, if you had a compound that was a drug and wanted to develop new drugs for that same indication, finding chemicals that look similar to it would be a good place to start. \n",
        "\n",
        "But what is similarity? How we define similarity is not necessarily a trivial excercise and is often context dependent.  In fact, the nature of similarity is wholy dependent on how we choose to view or represent certain objects.  Typically when we define chemical similarity it involves two important processes, the similarity function (i.e., the calculation to derive similarity) and the descriptors (i.e., the numerical representation of chemicals such as fingerprints or descriptors).  Often times the metric depends on the descriptors as some are only valid for integers like fingerprints.   "
      ]
    },
    {
      "cell_type": "markdown",
      "metadata": {
        "id": "oQkP6CUTC1B0"
      },
      "source": [
        "### Metrics\n",
        "\n",
        "#### Tanimoto/Jaccard Similarity"
      ]
    },
    {
      "cell_type": "markdown",
      "metadata": {
        "id": "UImbl6UVVZXJ"
      },
      "source": [
        "In this descriptor frames, we can see that the rows represent an indivual molecules and the columns (0 -> 166) are the fragments, each specifying a unique substructure with a 1 denoting the presence and 0 denoting the absence of a fragment.  The entirity of this would be known as a 'fingerprint'.  \n",
        "\n",
        "Using these fingerprints, we can calculate the similarity between molecules based on the number of shared features.  The most common measure for this is the Tanimoto coeffiecient, also known as the [Jaccard  index](https://en.wikipedia.org/wiki/Jaccard_index).  Mathematicall it is defined as:\n",
        "\n",
        "$$J(A,B) = \\frac{|A \\cap B|}{|A \\cup B|}$$\n",
        "\n",
        "Where $A$ and $B$ are fingerprints.  Let's calculate the similarity between every molecule in the dataset using.  We can write code for this ourselves, but its always easier (and sometimes faster) to use code already written.  The machine learning library scikit-learn has many useful functions.  Here we can calculate the jaccard distance, with the Jaccard index just being 1-distance."
      ]
    },
    {
      "cell_type": "markdown",
      "metadata": {
        "id": "47UPp1_nC1B1"
      },
      "source": [
        "#### Dice Coeffecient\n",
        "\n",
        "$$DICE(A,B) = \\frac{2{|A \\cap B|}}{|A| + |B|}$$\n"
      ]
    },
    {
      "cell_type": "markdown",
      "source": [
        "First we need to install rdkit.  "
      ],
      "metadata": {
        "id": "7UlC9sRUpQKd"
      }
    },
    {
      "cell_type": "code",
      "source": [],
      "metadata": {
        "id": "yDACSdyLIloa"
      },
      "execution_count": null,
      "outputs": []
    },
    {
      "cell_type": "code",
      "execution_count": null,
      "metadata": {
        "id": "vdm4naiMC1By"
      },
      "outputs": [],
      "source": []
    },
    {
      "cell_type": "markdown",
      "source": [
        "Next we'll upload the `drugbank.sdf` file.."
      ],
      "metadata": {
        "id": "WohDTBsEpUbc"
      }
    },
    {
      "cell_type": "code",
      "execution_count": null,
      "metadata": {
        "id": "5BAOehhwC1Bz"
      },
      "outputs": [],
      "source": []
    },
    {
      "cell_type": "code",
      "execution_count": null,
      "metadata": {
        "id": "bPer1QNaC1B0"
      },
      "outputs": [],
      "source": [
        "from rdkit.Chem import AllChem\n",
        "from rdkit.Chem import MACCSkeys\n",
        "\n",
        "\n",
        "def calc_fp_from_mol(mol, method=\"maccs\", n_bits=1024):\n",
        "    \"\"\"\n",
        "    Encode a molecule from a RDKit Mol into a fingerprint.\n",
        "\n",
        "    Parameters\n",
        "    ----------\n",
        "    mol : RDKit Mol\n",
        "        The RDKit molecule.\n",
        "\n",
        "    method : str\n",
        "        The type of fingerprint to use. Default is MACCS keys.\n",
        "\n",
        "    n_bits : int\n",
        "        The length of the fingerprint.\n",
        "\n",
        "    Returns\n",
        "    -------\n",
        "    array\n",
        "        The fingerprint array.\n",
        "\n",
        "    \"\"\"\n",
        "\n",
        "    if method == \"maccs\":\n",
        "        return MACCSkeys.GenMACCSKeys(mol)\n",
        "    if method == \"ecfp4\":\n",
        "        return AllChem.GetMorganFingerprintAsBitVect(mol, 2, nBits=n_bits)\n",
        "    if method == \"ecfp6\":\n",
        "        return AllChem.GetMorganFingerprintAsBitVect(mol, 3, nBits=n_bits)\n",
        "    else:\n",
        "        # NBVAL_CHECK_OUTPUT\n",
        "        print(f\"Warning: Wrong method specified: {method}. Default will be used instead.\")\n",
        "        return MACCSkeys.GenMACCSKeys(mol)"
      ]
    },
    {
      "cell_type": "markdown",
      "source": [
        "How many chemicals are in the drugbank dataset? "
      ],
      "metadata": {
        "id": "Y1cXF-KPg30_"
      }
    },
    {
      "cell_type": "code",
      "source": [],
      "metadata": {
        "id": "S8DOOEYSJE_h"
      },
      "execution_count": 80,
      "outputs": []
    },
    {
      "cell_type": "markdown",
      "source": [
        "Lets calcuate fingerprints for our drugbank dataset.  We well need to calculate \"maccs\" and \"ecfp6\".  We'll use list comprehensions to save time, they're just fancy ways to combine populating a list using a for loop.  "
      ],
      "metadata": {
        "id": "srqcFTSNg9I3"
      }
    },
    {
      "cell_type": "code",
      "source": [],
      "metadata": {
        "id": "SBHRqFXPJ63Q"
      },
      "execution_count": null,
      "outputs": []
    },
    {
      "cell_type": "markdown",
      "source": [
        "Let's find the most similar chemicals in drug bank to Lysergic acid diethylamide (LSD).  The chemical isomeric smiles for LSD is `CCN(CC)C(=O)[C@H]1CN([C@@H]2CC3=CNC4=CC=CC(=C34)C2=C1)C`.\n",
        "\n",
        "We'll need to calucate `maccs` and `ecfp6` fingerprints for our query, too.  "
      ],
      "metadata": {
        "id": "Na_T2hM6hK0G"
      }
    },
    {
      "cell_type": "code",
      "source": [],
      "metadata": {
        "id": "jJUrEfNaLmkw"
      },
      "execution_count": null,
      "outputs": []
    },
    {
      "cell_type": "markdown",
      "source": [
        "We can calculate Tanimoto and Dice in bulk using rdkit.  \n",
        "\n",
        "We want to make two comparisons:  \n",
        "1) Tanimoto vs Dice using MACCS  \n",
        "2) MACCS vs ECFP6 usig Tanimoto"
      ],
      "metadata": {
        "id": "xCqTAhtjp7t0"
      }
    },
    {
      "cell_type": "code",
      "source": [],
      "metadata": {
        "id": "mfPINK2kLgDA"
      },
      "execution_count": null,
      "outputs": []
    },
    {
      "cell_type": "markdown",
      "source": [
        "Let's compare distributions of Tanimoto and and Dice from MACCS keys.  "
      ],
      "metadata": {
        "id": "B14wfVn3qUrf"
      }
    },
    {
      "cell_type": "code",
      "source": [],
      "metadata": {
        "id": "Ufh5qiSaMEgY"
      },
      "execution_count": null,
      "outputs": []
    },
    {
      "cell_type": "code",
      "source": [],
      "metadata": {
        "id": "M6q-OU7zkKpv"
      },
      "execution_count": null,
      "outputs": []
    },
    {
      "cell_type": "markdown",
      "source": [
        "Let's compare distributions of MACCS and ECFP6 using Tanimoto "
      ],
      "metadata": {
        "id": "-_R6DLKlmZft"
      }
    },
    {
      "cell_type": "code",
      "source": [],
      "metadata": {
        "id": "fLBWbzKwll42"
      },
      "execution_count": null,
      "outputs": []
    },
    {
      "cell_type": "code",
      "source": [],
      "metadata": {
        "id": "GgdEi-0vnHHT"
      },
      "execution_count": null,
      "outputs": []
    },
    {
      "cell_type": "markdown",
      "source": [
        "Finally, let's just visualize the top 20 chemicals similar to LSD in DrugBank"
      ],
      "metadata": {
        "id": "ySgt4UfXqqEd"
      }
    },
    {
      "cell_type": "code",
      "source": [],
      "metadata": {
        "id": "TCMEzBCqQLBP"
      },
      "execution_count": null,
      "outputs": []
    },
    {
      "cell_type": "code",
      "source": [],
      "metadata": {
        "id": "UsoXXZ7zQbwm"
      },
      "execution_count": null,
      "outputs": []
    },
    {
      "cell_type": "code",
      "source": [],
      "metadata": {
        "id": "9tPRpLlQRxvN"
      },
      "execution_count": null,
      "outputs": []
    }
  ],
  "metadata": {
    "kernelspec": {
      "display_name": "Python 3",
      "language": "python",
      "name": "python3"
    },
    "language_info": {
      "codemirror_mode": {
        "name": "ipython",
        "version": 3
      },
      "file_extension": ".py",
      "mimetype": "text/x-python",
      "name": "python",
      "nbconvert_exporter": "python",
      "pygments_lexer": "ipython3",
      "version": "3.7.11"
    },
    "colab": {
      "provenance": [],
      "include_colab_link": true
    }
  },
  "nbformat": 4,
  "nbformat_minor": 0
}