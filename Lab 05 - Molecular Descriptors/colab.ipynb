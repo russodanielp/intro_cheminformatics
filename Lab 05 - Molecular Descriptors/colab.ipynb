{
  "cells": [
    {
      "cell_type": "markdown",
      "metadata": {
        "id": "view-in-github",
        "colab_type": "text"
      },
      "source": [
        "<a href=\"https://colab.research.google.com/github/russodanielp/intro_cheminformatics/blob/google_colab/Lab%2005%20-%20Molecular%20Descriptors/colab.ipynb\" target=\"_parent\"><img src=\"https://colab.research.google.com/assets/colab-badge.svg\" alt=\"Open In Colab\"/></a>"
      ]
    },
    {
      "cell_type": "markdown",
      "metadata": {
        "id": "Upsh0tkKl-UB"
      },
      "source": [
        "# Molecular Descriptors"
      ]
    },
    {
      "cell_type": "markdown",
      "metadata": {
        "id": "OTgUo1t2l-UC"
      },
      "source": [
        "## Aim of this lab\n",
        "\n",
        "To understand and calculate common types of molecular descriptors, including chemical fingerprints.  "
      ]
    },
    {
      "cell_type": "markdown",
      "metadata": {
        "tags": [],
        "id": "q33d6w-9l-UC"
      },
      "source": [
        "### Objectives\n",
        "\n",
        "* Calculate Mordred Descriptors \n",
        "* Calculate MACCS Keys\n",
        "* Calculate Morgan Fingerprints\n"
      ]
    },
    {
      "cell_type": "markdown",
      "metadata": {
        "id": "HupV-vyTl-UC"
      },
      "source": [
        "### Molecular Descriptors\n",
        "\n",
        "Molecular descriptors are the fundation of any quantitatively structure activity relationship.  Because we have a computational version of molecules (e.g., graphs) we can calculate molecular attributes, called descriptors, which are quantitative measures inherit on their chemical structure.  Depending on the software you use, they can be fairly few descirptors or even thousands.  \n",
        "\n",
        "There are numerous sets of chemical descriptors that exists.  For example, [Molecular Operating Environment](https://www.chemcomp.com/Products.htm) and [Dragon](http://www.talete.mi.it/products/dragon_description.htm) softwares are commercial products that are often used to calculate molecular descriptors for sets of molecules.  However, there are several open-source solutions to this as well.  \n",
        "\n",
        "Chemical descriptors are generally broken up into two categories.  \n",
        "\n",
        "1) Molecular descriptors - usually continious (real valued numbers, floats) values describing inherit molecular attributes.  E.g., molecular weight, logP,  etc.\n",
        "\n",
        "2) Molecular fingerprints - Binary (0, 1) or count-based (integers) values describing the number or presence of substructures in a chemical. "
      ]
    },
    {
      "cell_type": "markdown",
      "metadata": {
        "id": "uVAEWmHNl-UC"
      },
      "source": [
        "### Traditional Molecular Descriptors\n",
        "\n",
        "Here we will calculate traditional molecular descriptors.  Mordred calculates a variety of molecular descriptors (around 2,000 in total)."
      ]
    },
    {
      "cell_type": "code",
      "source": [],
      "metadata": {
        "id": "WQoUKqalmDqe"
      },
      "execution_count": null,
      "outputs": []
    },
    {
      "cell_type": "markdown",
      "source": [
        "First lets import our dataset"
      ],
      "metadata": {
        "id": "uyVeUEvJ9WV6"
      }
    },
    {
      "cell_type": "code",
      "source": [],
      "metadata": {
        "id": "dAvfS91I9POf"
      },
      "execution_count": null,
      "outputs": []
    },
    {
      "cell_type": "code",
      "execution_count": null,
      "metadata": {
        "id": "EdhJ7GZml-UD"
      },
      "outputs": [],
      "source": []
    },
    {
      "cell_type": "markdown",
      "source": [
        "The [Mordred](https://github.com/mordred-descriptor/mordred) software is a molecular descriptors calculator available in Python.  The paper describing the software can be found [here](https://jcheminf.biomedcentral.com/articles/10.1186/s13321-018-0258-y?ref=https://githubhelp.com).\n",
        "\n",
        "The package is broken up into two main classes `Descriptor` and `Calculator`"
      ],
      "metadata": {
        "id": "dd6qF0VA-N8J"
      }
    },
    {
      "cell_type": "code",
      "source": [],
      "metadata": {
        "id": "GEXFahua-MBb"
      },
      "execution_count": null,
      "outputs": []
    },
    {
      "cell_type": "code",
      "source": [],
      "metadata": {
        "id": "Y5jJGNbqP47B"
      },
      "execution_count": null,
      "outputs": []
    },
    {
      "cell_type": "code",
      "source": [],
      "metadata": {
        "id": "M7Vh-WbIQQ6H"
      },
      "execution_count": null,
      "outputs": []
    },
    {
      "cell_type": "code",
      "source": [],
      "metadata": {
        "id": "tyii5lpIbu-9"
      },
      "execution_count": null,
      "outputs": []
    },
    {
      "cell_type": "code",
      "source": [],
      "metadata": {
        "id": "r9A0vQauQT77"
      },
      "execution_count": null,
      "outputs": []
    },
    {
      "cell_type": "code",
      "source": [],
      "metadata": {
        "id": "AM5neLxDR-4b"
      },
      "execution_count": null,
      "outputs": []
    },
    {
      "cell_type": "code",
      "source": [],
      "metadata": {
        "id": "VM4g7ZkdSDup"
      },
      "execution_count": null,
      "outputs": []
    },
    {
      "cell_type": "markdown",
      "metadata": {
        "id": "I0MHyGYYl-UF"
      },
      "source": [
        "### Molecular Fingerprints\n",
        "\n",
        "Molecular fingerints are usually binary and describe the presence of absence of certain chemical substructures.  \n",
        "\n",
        "Generally, they are either key-based, meaning they denote the presence or absence of a predefined chemical fragment or set of atoms or hased fingerprints which do not have a predifined structures set.  Here we will calculate an example of each. \n",
        "\n",
        "* MACCS Keys [Ref.](https://pubs.acs.org/doi/10.1021/ci010132r)\n",
        "\n",
        "Also known as MDL keys are 166 predefined substructures and we developed for substructure and database searching. \n",
        "\n",
        "* Morgan Fingerprints [Ref.](https://pubs.acs.org/doi/10.1021/ci100050t)\n",
        "\n",
        "Morgan fingerprints, also know as extended-connectivity or ECFP fingerprints are a type of fingerprint that considers the atom environment around each atom in a molecule.  It relies on using the [Morgan Algorithm ](https://pubs.acs.org/doi/10.1021/c160017a018) to find all substructures of a an atom up to a certain number of atoms (e.g., all substructures 3 atoms long).  This number is called the diameter.  So, ECFP6 fingerprints calculate all fragments of all molecules from 1-6 atoms in length.  To keep track of unique substructures, a [hashing alogirthm](https://en.wikipedia.org/wiki/Hash_function) is applied to assign them a unique number and keep track of which molecules have which common substructures.  Because these numbers can get pretty large, its often necessary to \"fold\" these into a small predefined length (e.g., 1024, 2048).  \n"
      ]
    },
    {
      "cell_type": "code",
      "execution_count": null,
      "metadata": {
        "id": "ovhpq8R0l-UD"
      },
      "outputs": [],
      "source": []
    },
    {
      "cell_type": "markdown",
      "metadata": {
        "id": "25JPkPKnl-UF"
      },
      "source": [
        "First we write a function to calculate fingperints of each type.  "
      ]
    },
    {
      "cell_type": "code",
      "execution_count": null,
      "metadata": {
        "id": "5l8RF10Ul-UF"
      },
      "outputs": [],
      "source": [
        "def calc_fp_from_mol(mol, method=\"maccs\", n_bits=2048):\n",
        "    \"\"\"\n",
        "    Encode a molecule from a RDKit Mol into a fingerprint.\n",
        "\n",
        "    Parameters\n",
        "    ----------\n",
        "    mol : RDKit Mol\n",
        "        The RDKit molecule.\n",
        "\n",
        "    method : str\n",
        "        The type of fingerprint to use. Default is MACCS keys.\n",
        "\n",
        "    n_bits : int\n",
        "        The length of the fingerprint.\n",
        "\n",
        "    Returns\n",
        "    -------\n",
        "    array\n",
        "        The fingerprint array.\n",
        "\n",
        "    \"\"\"\n",
        "\n",
        "    if method == \"maccs\":\n",
        "        return list(MACCSkeys.GenMACCSKeys(mol))\n",
        "    elif method == \"ecfp4\":\n",
        "        return list(AllChem.GetMorganFingerprintAsBitVect(mol, 2, nBits=n_bits))\n",
        "    elif method == \"ecfp6\":\n",
        "        return list(AllChem.GetMorganFingerprintAsBitVect(mol, 3, nBits=n_bits))\n",
        "    else:\n",
        "        print(f\"Warning: Wrong method specified: {method}. Default will be used instead.\")\n",
        "        return list(MACCSkeys.GenMACCSKeys(mol))"
      ]
    },
    {
      "cell_type": "markdown",
      "metadata": {
        "id": "NggMSDDDl-UF"
      },
      "source": [
        "### MACCS Fingerprints"
      ]
    },
    {
      "cell_type": "code",
      "execution_count": null,
      "metadata": {
        "id": "k-GUxQ-Dl-UF"
      },
      "outputs": [],
      "source": []
    },
    {
      "cell_type": "markdown",
      "metadata": {
        "id": "v9a-cbSil-UF"
      },
      "source": [
        "### Morgan Fingerprints\n",
        "\n",
        "Calculate Morgan Fingerprints at a bond diameter of 6 and folded into 1024 bits.  "
      ]
    },
    {
      "cell_type": "code",
      "execution_count": null,
      "metadata": {
        "id": "PP5d18uhl-UF"
      },
      "outputs": [],
      "source": []
    },
    {
      "cell_type": "markdown",
      "source": [
        "Let's set the indexes as the names of our molecules and save to a CSV file.  "
      ],
      "metadata": {
        "id": "L0ThfSL5ZS8_"
      }
    },
    {
      "cell_type": "code",
      "execution_count": null,
      "metadata": {
        "id": "Lug-nAypl-UG"
      },
      "outputs": [],
      "source": []
    }
  ],
  "metadata": {
    "kernelspec": {
      "display_name": "Python 3 (ipykernel)",
      "language": "python",
      "name": "python3"
    },
    "language_info": {
      "codemirror_mode": {
        "name": "ipython",
        "version": 3
      },
      "file_extension": ".py",
      "mimetype": "text/x-python",
      "name": "python",
      "nbconvert_exporter": "python",
      "pygments_lexer": "ipython3",
      "version": "3.7.11"
    },
    "colab": {
      "provenance": [],
      "toc_visible": true,
      "include_colab_link": true
    }
  },
  "nbformat": 4,
  "nbformat_minor": 0
}