{
  "cells": [
    {
      "cell_type": "markdown",
      "metadata": {
        "id": "view-in-github",
        "colab_type": "text"
      },
      "source": [
        "<a href=\"https://colab.research.google.com/github/russodanielp/intro_cheminformatics/blob/google_colab/Lab%20XX%20-%20Cheminformatics%20Tools/QSAR-Classification.ipynb\" target=\"_parent\"><img src=\"https://colab.research.google.com/assets/colab-badge.svg\" alt=\"Open In Colab\"/></a>"
      ]
    },
    {
      "cell_type": "markdown",
      "metadata": {
        "id": "NKSWxf8ZVMZj"
      },
      "source": [
        "# QSAR - Classification\n",
        "\n",
        "Build either a Random Forest or k-Nearest Neighbor classification model using scikit-learn.  "
      ]
    },
    {
      "cell_type": "markdown",
      "metadata": {
        "id": "mxIrNBMcxanE"
      },
      "source": [
        "## Script variables\n",
        "\n",
        "Script variables that need to be changed are in the script below.  The script requires that you provide four pieces of information.  \n",
        "\n",
        "1) `SDFILE_DIR`: the filepath to the SDFile containing the chemicals to build a ML model  \n",
        "2) `ACTIVITY_COLUMN`: the name of the column/property in the SDFile that contains the activity you would like to perform QSAR on  \n",
        "3) `NAME_COLUMN`: the name of the column/property in the SDFile that contains the name or identifier of the molecule  \n",
        "4) `ALGORITHM`: which machine learning algorithm you would like to use - either random forest (rf) or k-nearest neighbors (knn)  \n",
        "5) `FEATURES`: which set of features to represent chemicals (ECFP6, FCFP6, MACCS)"
      ]
    },
    {
      "cell_type": "code",
      "source": [
        "!pip install rdkit"
      ],
      "metadata": {
        "id": "3Byvvo8HyVRm",
        "outputId": "79628e73-e257-4f4d-838b-b84b7e8d734c",
        "colab": {
          "base_uri": "https://localhost:8080/"
        }
      },
      "execution_count": null,
      "outputs": [
        {
          "output_type": "stream",
          "name": "stdout",
          "text": [
            "Looking in indexes: https://pypi.org/simple, https://us-python.pkg.dev/colab-wheels/public/simple/\n",
            "Collecting rdkit\n",
            "  Downloading rdkit-2022.9.5-cp39-cp39-manylinux_2_17_x86_64.manylinux2014_x86_64.whl (29.4 MB)\n",
            "\u001b[2K     \u001b[90m━━━━━━━━━━━━━━━━━━━━━━━━━━━━━━━━━━━━━━━━\u001b[0m \u001b[32m29.4/29.4 MB\u001b[0m \u001b[31m37.8 MB/s\u001b[0m eta \u001b[36m0:00:00\u001b[0m\n",
            "\u001b[?25hRequirement already satisfied: Pillow in /usr/local/lib/python3.9/dist-packages (from rdkit) (8.4.0)\n",
            "Requirement already satisfied: numpy in /usr/local/lib/python3.9/dist-packages (from rdkit) (1.22.4)\n",
            "Installing collected packages: rdkit\n",
            "Successfully installed rdkit-2022.9.5\n"
          ]
        }
      ]
    },
    {
      "cell_type": "code",
      "execution_count": null,
      "metadata": {
        "id": "Zz8aw5GTxanE"
      },
      "outputs": [],
      "source": [
        "SDFILE_DIR = 'Training.sdf'\n",
        "ACTIVITY_COLUMN = 'Composite category'\n",
        "NAME_COLUMN = 'CASRN '\n",
        "ALGORITHM = 'rf'\n",
        "FEATURES = 'ecfp6'"
      ]
    },
    {
      "cell_type": "markdown",
      "metadata": {
        "id": "dcgU9zE8xanF"
      },
      "source": [
        "First, import the necessary packages."
      ]
    },
    {
      "cell_type": "code",
      "execution_count": null,
      "metadata": {
        "id": "X9RjbdnNxanF"
      },
      "outputs": [],
      "source": [
        "# Standard imports\n",
        "import pandas as pd\n",
        "import numpy as np\n",
        "import os\n",
        "from rdkit import Chem \n",
        "from rdkit.Chem import PandasTools\n",
        "from rdkit.ML.Descriptors import MoleculeDescriptors\n",
        "from rdkit.Chem import AllChem\n",
        "from rdkit.Chem import Descriptors\n",
        "from rdkit.Chem import AllChem\n",
        "from rdkit.Chem import MACCSkeys\n",
        "from rdkit import Chem\n",
        "import pandas as pd\n",
        "\n",
        "# ML imports\n",
        "from sklearn import model_selection\n",
        "from sklearn import pipeline\n",
        "from sklearn.model_selection import cross_val_predict\n",
        "from sklearn.preprocessing import StandardScaler\n",
        "from sklearn.model_selection import KFold\n",
        "from sklearn.metrics import mean_absolute_error, r2_score\n",
        "from sklearn.neighbors import KNeighborsClassifier\n",
        "from sklearn.ensemble import RandomForestClassifier\n",
        "\n",
        "# Plotting imports\n",
        "import seaborn as sns\n",
        "import matplotlib.pyplot as plt"
      ]
    },
    {
      "cell_type": "markdown",
      "metadata": {
        "id": "VL2W2iZsxanG"
      },
      "source": [
        "## Data preprocessing\n",
        "\n",
        "Here we create desctipors for the chemicals and prepare the descriptor matrix and the and the activity column we want to learn."
      ]
    },
    {
      "cell_type": "code",
      "execution_count": null,
      "metadata": {
        "id": "97XO4c4QxanG"
      },
      "outputs": [],
      "source": [
        "def calc_fp_from_mol(mol, method=\"maccs\", n_bits=2048):\n",
        "    \"\"\"\n",
        "    Encode a molecule from a RDKit Mol into a fingerprint.\n",
        "\n",
        "    Parameters\n",
        "    ----------\n",
        "    mol : RDKit Mol\n",
        "        The RDKit molecule.\n",
        "\n",
        "    method : str\n",
        "        The type of fingerprint to use. Default is MACCS keys.\n",
        "\n",
        "    n_bits : int\n",
        "        The length of the fingerprint.\n",
        "\n",
        "    Returns\n",
        "    -------\n",
        "    array\n",
        "        The fingerprint array.\n",
        "\n",
        "    \"\"\"\n",
        "    method = method.lower()\n",
        "    if method == \"maccs\":\n",
        "        return list(MACCSkeys.GenMACCSKeys(mol))\n",
        "    elif method == \"ecfp4\":\n",
        "        return list(AllChem.GetMorganFingerprintAsBitVect(mol, 2, nBits=n_bits))\n",
        "    elif method == \"ecfp6\":\n",
        "        return list(AllChem.GetMorganFingerprintAsBitVect(mol, 3, nBits=n_bits))\n",
        "    else:\n",
        "        print(f\"Warning: Wrong method specified: {method}. Default will be used instead.\")\n",
        "        return list(MACCSkeys.GenMACCSKeys(mol))"
      ]
    },
    {
      "cell_type": "markdown",
      "metadata": {
        "id": "HNY5OwWVxanG"
      },
      "source": [
        "Loop through the data frame and create chemical descriptors for each molecule. "
      ]
    },
    {
      "cell_type": "code",
      "execution_count": null,
      "metadata": {
        "id": "alOvq4fgxanG"
      },
      "outputs": [],
      "source": [
        "df = PandasTools.LoadSDF(SDFILE_DIR)\n",
        "\n",
        "desc_list = []\n",
        "\n",
        "for mol in df.ROMol.tolist():\n",
        "    desc = calc_fp_from_mol(mol, method=FEATURES)\n",
        "    desc_list.append(desc)\n",
        "    \n",
        "desc_frame = pd.DataFrame(desc_list)"
      ]
    },
    {
      "cell_type": "markdown",
      "metadata": {
        "id": "CUMDGwZexanH"
      },
      "source": [
        "Create variables to feed into the ML algorithm.  `X` is the descriptor matrix and `y` contains the activity to predict."
      ]
    },
    {
      "cell_type": "code",
      "execution_count": null,
      "metadata": {
        "id": "wBzt_AePxanH",
        "outputId": "cbeddf6e-e27d-456b-df56-e5f1d17343d7",
        "colab": {
          "base_uri": "https://localhost:8080/"
        }
      },
      "outputs": [
        {
          "output_type": "stream",
          "name": "stdout",
          "text": [
            "(75, 2048)\n",
            "(75,)\n"
          ]
        }
      ],
      "source": [
        "X = desc_frame.copy()\n",
        "X.index = df[NAME_COLUMN].astype(str)\n",
        "y = df[ACTIVITY_COLUMN].astype(float)\n",
        "y.index = df[NAME_COLUMN].astype(str)\n",
        "\n",
        "print(X.shape)\n",
        "print(y.shape)"
      ]
    },
    {
      "cell_type": "markdown",
      "metadata": {
        "id": "F3cUDpwsxanH"
      },
      "source": [
        "Sometimes chemicals can not get descriptors made for them, so we need to remove these"
      ]
    },
    {
      "cell_type": "code",
      "execution_count": null,
      "metadata": {
        "id": "u6VKau4ZxanI",
        "outputId": "06a66076-6230-4df6-eb8e-6afd96f449a8",
        "colab": {
          "base_uri": "https://localhost:8080/"
        }
      },
      "outputs": [
        {
          "output_type": "stream",
          "name": "stdout",
          "text": [
            "(75, 2048)\n",
            "(75,)\n"
          ]
        }
      ],
      "source": [
        "X_train = X[X.notnull().all(1)]\n",
        "y_train = y[X.notnull().all(1)]\n",
        "\n",
        "print(X_train.shape)\n",
        "print(y_train.shape)"
      ]
    },
    {
      "cell_type": "markdown",
      "metadata": {
        "id": "lbEUrTMRxanI"
      },
      "source": [
        "## Model training\n",
        "\n",
        "The model is trained using 5-fold cross validation.  Model parameters are searching using a \"grid search\" method that searches through all possible parameters and finds the optimal solution.  \n",
        "\n",
        "The 5-fold cross validation predictions are exported to a file `data/five_fold_predictions.csv`."
      ]
    },
    {
      "cell_type": "code",
      "execution_count": null,
      "metadata": {
        "id": "gNOi2QOOxanI"
      },
      "outputs": [],
      "source": [
        "# RF\n",
        "model_RF = RandomForestClassifier()\n",
        "\n",
        "#knn\n",
        "model_KNN = KNeighborsClassifier(metric='jaccard')\n",
        "\n",
        "\n",
        "models = {\n",
        "    \"rf\": model_RF,\n",
        "    \"knn\": model_KNN\n",
        "}\n",
        "\n",
        "params_dic = {\n",
        "    'rf' : {'rf__n_estimators': [10, 25, 50, 100]},\n",
        "    'knn': {'knn__n_neighbors': [1, 2, 3, 4, 5, 10, 25]}\n",
        "}"
      ]
    },
    {
      "cell_type": "code",
      "execution_count": null,
      "metadata": {
        "id": "rLsRA1MhxanI"
      },
      "outputs": [],
      "source": [
        "N_FOLDS = 5\n",
        "\n",
        "clf = models[ALGORITHM]\n",
        "params = params_dic[ALGORITHM]\n",
        "pipe = pipeline.Pipeline([(ALGORITHM, clf)])\n",
        "cv = KFold(n_splits=N_FOLDS, shuffle=True, random_state=0)\n",
        "grid_search = model_selection.GridSearchCV(pipe, param_grid=params, cv=cv, refit='AUC')\n",
        "grid_search.fit(X_train, y_train)\n",
        "best_estimator = grid_search.best_estimator_"
      ]
    },
    {
      "cell_type": "markdown",
      "metadata": {
        "id": "qRbF38BlxanI"
      },
      "source": [
        "Export the predictions"
      ]
    },
    {
      "cell_type": "code",
      "execution_count": null,
      "metadata": {
        "id": "4PgrVjGzxanJ"
      },
      "outputs": [],
      "source": [
        "preds = pd.DataFrame(cross_val_predict(best_estimator, X_train, y_train), \n",
        "                    index=X_train.index, columns=['CV Prediction'])\n",
        "preds['CV Prediction'] = preds['CV Prediction'].round(2)\n",
        "preds['Compound'] = X_train.index\n",
        "preds[['Compound', 'CV Prediction']].to_csv('five_fold_predictions.csv', index=False)"
      ]
    },
    {
      "cell_type": "markdown",
      "source": [
        "## Test Set Predictions"
      ],
      "metadata": {
        "id": "co-TAKR25GyL"
      }
    },
    {
      "cell_type": "code",
      "source": [
        "TEST_SDFILE_DIR = 'External.sdf'\n",
        "TEST_NAME_COLUMN = 'CASRN '"
      ],
      "metadata": {
        "id": "NfPBiayp4_Xq"
      },
      "execution_count": null,
      "outputs": []
    },
    {
      "cell_type": "code",
      "source": [
        "test_set = PandasTools.LoadSDF(TEST_SDFILE_DIR)\n",
        "\n",
        "desc_list = []\n",
        "\n",
        "for mol in test_set.ROMol.tolist():\n",
        "    desc = calc_fp_from_mol(mol, method=FEATURES)\n",
        "    desc_list.append(desc)\n",
        "    \n",
        "X_test = pd.DataFrame(desc_list)"
      ],
      "metadata": {
        "id": "cD8sdfGT5Kpp"
      },
      "execution_count": null,
      "outputs": []
    },
    {
      "cell_type": "code",
      "source": [
        "preds = pd.DataFrame(best_estimator.predict(X_test), \n",
        "                    index=X_test.index, columns=['Prediction'])\n",
        "preds['Prediction'] = preds['Prediction'].round(2)\n",
        "preds['Compound'] = test_set[TEST_NAME_COLUMN]\n",
        "preds[['Compound', 'Prediction']].to_csv('test_set_predictions.csv', index=False)"
      ],
      "metadata": {
        "id": "gIHYtFth5t5Z"
      },
      "execution_count": null,
      "outputs": []
    }
  ],
  "metadata": {
    "colab": {
      "name": "DeepLearning.ipynb",
      "provenance": [],
      "include_colab_link": true
    },
    "kernelspec": {
      "display_name": "Python 3 (ipykernel)",
      "language": "python",
      "name": "python3"
    },
    "language_info": {
      "codemirror_mode": {
        "name": "ipython",
        "version": 3
      },
      "file_extension": ".py",
      "mimetype": "text/x-python",
      "name": "python",
      "nbconvert_exporter": "python",
      "pygments_lexer": "ipython3",
      "version": "3.7.11"
    }
  },
  "nbformat": 4,
  "nbformat_minor": 0
}