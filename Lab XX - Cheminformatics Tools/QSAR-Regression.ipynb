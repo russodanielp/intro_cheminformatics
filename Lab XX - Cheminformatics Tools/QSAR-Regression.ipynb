{
 "cells": [
  {
   "cell_type": "markdown",
   "metadata": {
    "id": "NKSWxf8ZVMZj"
   },
   "source": [
    "# QSAR - Regression\n",
    "\n",
    "Build either a Random Forest or k-Nearest Neighbor regression model using scikit-learn.  "
   ]
  },
  {
   "cell_type": "markdown",
   "metadata": {},
   "source": [
    "## Script variables\n",
    "\n",
    "Script variables that need to be changed are in the script below.  The script requires that you provide four pieces of information.  \n",
    "\n",
    "1) `SDFILE_DIR`: the filepath to the SDFile containing the chemicals to build a ML model\n",
    "2) `ACTIVITY_COLUMN`: the name of the column/property in the SDFile that contains the activity you would like to perform QSAR on\n",
    "3) `NAME_COLUMN`: the name of the column/property in the SDFile that contains the name or identifier of the molecule\n",
    "4) `ALGORITHM`: which machine learning algorithm you would like to use - either random forest (rf) or k-nearest neighbors (knn)"
   ]
  },
  {
   "cell_type": "code",
   "execution_count": 1,
   "metadata": {},
   "outputs": [],
   "source": [
    "SDFILE_DIR = 'data/QSAR_solubility_example.sdf'\n",
    "ACTIVITY_COLUMN = 'Solubility'\n",
    "NAME_COLUMN = 'Compound ID'\n",
    "ALGORITHM = 'rf'"
   ]
  },
  {
   "cell_type": "markdown",
   "metadata": {},
   "source": [
    "First, import the necessary packages."
   ]
  },
  {
   "cell_type": "code",
   "execution_count": 2,
   "metadata": {},
   "outputs": [],
   "source": [
    "# Standard imports\n",
    "import pandas as pd\n",
    "import numpy as np\n",
    "import os\n",
    "from rdkit import Chem \n",
    "from rdkit.Chem import PandasTools\n",
    "from rdkit.ML.Descriptors import MoleculeDescriptors\n",
    "from rdkit.Chem import AllChem\n",
    "from rdkit.Chem import Descriptors\n",
    "\n",
    "# ML imports\n",
    "from sklearn import model_selection\n",
    "from sklearn import pipeline\n",
    "from sklearn.model_selection import cross_val_predict\n",
    "from sklearn.preprocessing import StandardScaler\n",
    "from sklearn.model_selection import KFold\n",
    "from sklearn.metrics import mean_absolute_error, r2_score\n",
    "from sklearn.neighbors import KNeighborsRegressor\n",
    "from sklearn.ensemble import RandomForestRegressor\n",
    "\n",
    "# Plotting imports\n",
    "import seaborn as sns\n",
    "import matplotlib.pyplot as plt"
   ]
  },
  {
   "cell_type": "markdown",
   "metadata": {},
   "source": [
    "## Data preprocessing\n",
    "\n",
    "Here we create desctipors for the chemicals and prepare the descriptor matrix and the and the activity column we want to learn."
   ]
  },
  {
   "cell_type": "code",
   "execution_count": 3,
   "metadata": {},
   "outputs": [],
   "source": [
    "def calc_descriptors_from_mol(mol):\n",
    "    \"\"\"\n",
    "    Encode a molecule from a RDKit Mol into a set of descriptors.\n",
    "\n",
    "    Parameters\n",
    "    ----------\n",
    "    mol : RDKit Mol\n",
    "        The RDKit molecule.\n",
    "\n",
    "    Returns\n",
    "    -------\n",
    "    list\n",
    "        The set of chemical descriptors as a list.\n",
    "\n",
    "    \"\"\"\n",
    "    calc = MoleculeDescriptors.MolecularDescriptorCalculator([desc[0] for desc in Descriptors.descList])\n",
    "    return list(calc.CalcDescriptors(mol))"
   ]
  },
  {
   "cell_type": "markdown",
   "metadata": {},
   "source": [
    "Loop through the data frame and create chemical descriptors for each molecule. "
   ]
  },
  {
   "cell_type": "code",
   "execution_count": 4,
   "metadata": {},
   "outputs": [],
   "source": [
    "df = PandasTools.LoadSDF(SDFILE_DIR)\n",
    "\n",
    "desc_list = []\n",
    "\n",
    "for mol in df.ROMol.tolist():\n",
    "    desc = calc_descriptors_from_mol(mol)\n",
    "    desc_list.append(desc)\n",
    "    \n",
    "desc_frame = pd.DataFrame(desc_list, columns = [desc[0] for desc in Descriptors.descList])"
   ]
  },
  {
   "cell_type": "markdown",
   "metadata": {},
   "source": [
    "Create variables to feed into the ML algorithm.  `X` is the descriptor matrix and `y` contains the activity to predict."
   ]
  },
  {
   "cell_type": "code",
   "execution_count": 5,
   "metadata": {},
   "outputs": [
    {
     "name": "stdout",
     "output_type": "stream",
     "text": [
      "(250, 208)\n",
      "(250,)\n"
     ]
    }
   ],
   "source": [
    "X = desc_frame.copy()\n",
    "X.index = df[NAME_COLUMN].astype(str)\n",
    "y = df[ACTIVITY_COLUMN].astype(float)\n",
    "y.index = df[NAME_COLUMN].astype(str)\n",
    "\n",
    "print(X.shape)\n",
    "print(y.shape)"
   ]
  },
  {
   "cell_type": "markdown",
   "metadata": {},
   "source": [
    "Sometimes chemicals can not get descriptors made for them, so we need to remove these"
   ]
  },
  {
   "cell_type": "code",
   "execution_count": 6,
   "metadata": {},
   "outputs": [
    {
     "name": "stdout",
     "output_type": "stream",
     "text": [
      "(250, 208)\n",
      "(250,)\n"
     ]
    }
   ],
   "source": [
    "X_train = X[X.notnull().all(1)]\n",
    "y_train = y[X.notnull().all(1)]\n",
    "\n",
    "print(X_train.shape)\n",
    "print(y_train.shape)"
   ]
  },
  {
   "cell_type": "markdown",
   "metadata": {},
   "source": [
    "## Model training\n",
    "\n",
    "The model is trained using 5-fold cross validation.  Model parameters are searching using a \"grid search\" method that searches through all possible parameters and finds the optimal solution.  \n",
    "\n",
    "The 5-fold cross validation predictions are exported to a file `data/five_fold_predictions.csv`."
   ]
  },
  {
   "cell_type": "code",
   "execution_count": 7,
   "metadata": {},
   "outputs": [],
   "source": [
    "# RF\n",
    "model_RF = RandomForestRegressor()\n",
    "\n",
    "#knn\n",
    "model_KNN = KNeighborsRegressor(metric='euclidean')\n",
    "\n",
    "\n",
    "models = {\n",
    "    \"rf\": model_RF,\n",
    "    \"knn\": model_KNN\n",
    "}\n",
    "\n",
    "params_dic = {\n",
    "    'rf' : {'rf__n_estimators': [10, 25, 50, 100]},\n",
    "    'knn': {'knn__n_neighbors': [1, 2, 3, 4, 5, 10, 25]}\n",
    "}"
   ]
  },
  {
   "cell_type": "code",
   "execution_count": 8,
   "metadata": {},
   "outputs": [],
   "source": [
    "N_FOLDS = 5\n",
    "\n",
    "clf = models[ALGORITHM]\n",
    "params = params_dic[ALGORITHM]\n",
    "pipe = pipeline.Pipeline([('scaler', StandardScaler()), (ALGORITHM, clf)])\n",
    "cv = KFold(n_splits=N_FOLDS, shuffle=True, random_state=0)\n",
    "grid_search = model_selection.GridSearchCV(pipe, param_grid=params, cv=cv, refit='AUC')\n",
    "grid_search.fit(X_train, y_train)\n",
    "best_estimator = grid_search.best_estimator_"
   ]
  },
  {
   "cell_type": "markdown",
   "metadata": {},
   "source": [
    "Export the predictions"
   ]
  },
  {
   "cell_type": "code",
   "execution_count": 9,
   "metadata": {},
   "outputs": [],
   "source": [
    "preds = pd.DataFrame(cross_val_predict(best_estimator, X_train, y_train), \n",
    "                    index=X_train.index, columns=['CV Prediction'])\n",
    "preds['CV Prediction'] = preds['CV Prediction'].round(2)\n",
    "preds['Compound'] = X_train.index\n",
    "preds[['Compound', 'CV Prediction']].to_csv('data/five_fold_predictions.csv', index=False)"
   ]
  }
 ],
 "metadata": {
  "colab": {
   "authorship_tag": "ABX9TyOVN/VpiHHC5CTEMMSPncg8",
   "include_colab_link": true,
   "name": "DeepLearning.ipynb",
   "provenance": []
  },
  "kernelspec": {
   "display_name": "Python 3 (ipykernel)",
   "language": "python",
   "name": "python3"
  },
  "language_info": {
   "codemirror_mode": {
    "name": "ipython",
    "version": 3
   },
   "file_extension": ".py",
   "mimetype": "text/x-python",
   "name": "python",
   "nbconvert_exporter": "python",
   "pygments_lexer": "ipython3",
   "version": "3.7.11"
  }
 },
 "nbformat": 4,
 "nbformat_minor": 4
}
