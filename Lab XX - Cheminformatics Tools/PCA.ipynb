{
  "cells": [
    {
      "cell_type": "markdown",
      "metadata": {
        "id": "view-in-github",
        "colab_type": "text"
      },
      "source": [
        "<a href=\"https://colab.research.google.com/github/russodanielp/intro_cheminformatics/blob/google_colab/Lab%20XX%20-%20Cheminformatics%20Tools/PCA.ipynb\" target=\"_parent\"><img src=\"https://colab.research.google.com/assets/colab-badge.svg\" alt=\"Open In Colab\"/></a>"
      ]
    },
    {
      "cell_type": "markdown",
      "metadata": {
        "id": "NKSWxf8ZVMZj"
      },
      "source": [
        "# Principal Component Analysis"
      ]
    },
    {
      "cell_type": "markdown",
      "source": [
        "## Script variables\n",
        "\n",
        "Script variables that need to be changed are in the script below.  The script requires that you provide four pieces of information.  \n",
        "\n",
        "1) `SDFILE_DIR`: the filepath to the SDFile containing the chemicals to build a ML model  \n",
        "2) `ACTIVITY_COLUMN`: the name of the column/property in the SDFile that contains the activity you would like to color \n",
        "3) `NAME_COLUMN`: the name of the column/property in the SDFile that contains the name or identifier of the molecule  \n",
        "4) `ONE_COLOR`: the color for the \"one\" activity   \n",
        "5) `ZERO_COLOR`: the color for the \"zero\" activity  \n",
        "\n",
        "The acceptable colors are:\n",
        "```\n",
        "'aliceblue', 'antiquewhite', 'aqua', 'aquamarine', 'azure', 'beige', 'bisque', 'black', 'blanchedalmond', 'blue', 'blueviolet', 'brown', 'burlywood', 'cadetblue', 'chartreuse', 'chocolate', 'coral', 'cornflowerblue', 'cornsilk', 'crimson', 'cyan', 'darkblue', 'darkcyan', 'darkgoldenrod', 'darkgray', 'darkgreen', 'darkgrey', 'darkkhaki', 'darkmagenta', 'darkolivegreen', 'darkorange', 'darkorchid', 'darkred', 'darksalmon', 'darkseagreen', 'darkslateblue', 'darkslategray', 'darkslategrey', 'darkturquoise', 'darkviolet', 'deeppink', 'deepskyblue', 'dimgray', 'dimgrey', 'dodgerblue', 'firebrick', 'floralwhite', 'forestgreen', 'fuchsia', 'gainsboro', 'ghostwhite', 'gold', 'goldenrod', 'gray', 'green', 'greenyellow', 'grey', 'honeydew', 'hotpink', 'indianred', 'indigo', 'ivory', 'khaki', 'lavender', 'lavenderblush', 'lawngreen', 'lemonchiffon', 'lightblue', 'lightcoral', 'lightcyan', 'lightgoldenrodyellow', 'lightgray', 'lightgreen', 'lightgrey', 'lightpink', 'lightsalmon', 'lightseagreen', 'lightskyblue', 'lightslategray', 'lightslategrey', 'lightsteelblue', 'lightyellow', 'lime', 'limegreen', 'linen', 'magenta', 'maroon', 'mediumaquamarine', 'mediumblue', 'mediumorchid', 'mediumpurple', 'mediumseagreen', 'mediumslateblue', 'mediumspringgreen', 'mediumturquoise', 'mediumvioletred', 'midnightblue', 'mintcream', 'mistyrose', 'moccasin', 'navajowhite', 'navy', 'oldlace', 'olive', 'olivedrab', 'orange', 'orangered', 'orchid', 'palegoldenrod', 'palegreen', 'paleturquoise', 'palevioletred', 'papayawhip', 'peachpuff', 'peru', 'pink', 'plum', 'powderblue', 'purple', 'rebeccapurple', 'red', 'rosybrown', 'royalblue', 'saddlebrown', 'salmon', 'sandybrown', 'seagreen', 'seashell', 'sienna', 'silver', 'skyblue', 'slateblue', 'slategray', 'slategrey', 'snow', 'springgreen', 'steelblue', 'tan', 'teal', 'thistle', 'tomato', 'turquoise', 'violet', 'wheat', 'white', 'whitesmoke', 'yellow', 'yellowgreen'\n",
        "```"
      ],
      "metadata": {
        "id": "mduEbuhYZ37C"
      }
    },
    {
      "cell_type": "code",
      "execution_count": 70,
      "metadata": {
        "id": "-pFb3f2gXjyo"
      },
      "outputs": [],
      "source": [
        "SDFILE_DIR = 'Training.sdf'\n",
        "ACTIVITY_COLUMN = 'Composite category'\n",
        "NAME_COLUMN = 'CASRN '\n",
        "ONE_COLOR = 'red'\n",
        "ZERO_COLOR = 'blue'"
      ]
    },
    {
      "cell_type": "code",
      "source": [
        "!pip install rdkit"
      ],
      "metadata": {
        "id": "XpdB9YdXYNvV",
        "outputId": "746579a4-89af-4f4a-83c8-03ef719ab6bd",
        "colab": {
          "base_uri": "https://localhost:8080/"
        }
      },
      "execution_count": 43,
      "outputs": [
        {
          "output_type": "stream",
          "name": "stdout",
          "text": [
            "Looking in indexes: https://pypi.org/simple, https://us-python.pkg.dev/colab-wheels/public/simple/\n",
            "Requirement already satisfied: rdkit in /usr/local/lib/python3.9/dist-packages (2022.9.5)\n",
            "Requirement already satisfied: numpy in /usr/local/lib/python3.9/dist-packages (from rdkit) (1.22.4)\n",
            "Requirement already satisfied: Pillow in /usr/local/lib/python3.9/dist-packages (from rdkit) (8.4.0)\n"
          ]
        }
      ]
    },
    {
      "cell_type": "markdown",
      "source": [
        "### Imports and Code"
      ],
      "metadata": {
        "id": "9CPDw-XBZ9nS"
      }
    },
    {
      "cell_type": "code",
      "source": [
        "from rdkit import Chem \n",
        "from rdkit.Chem import PandasTools\n",
        "import pandas as pd\n",
        "import plotly.express as px\n",
        "from rdkit import Chem\n",
        "from rdkit.Chem import AllChem\n",
        "from rdkit.ML.Descriptors import MoleculeDescriptors\n",
        "from rdkit.Chem import Descriptors\n",
        "import pandas as pd\n",
        "from rdkit import DataStructs\n",
        "from rdkit.ML.Cluster import Butina\n",
        "\n",
        "from sklearn.preprocessing import StandardScaler\n",
        "from sklearn.decomposition import PCA\n",
        "from matplotlib import colors\n",
        "\n",
        "desc_set = ['MolWt', 'TPSA', 'NumRotatableBonds', 'NumHDonors', 'NumHAcceptors', 'MolLogP']\n",
        "\n",
        "def calc_descriptors_from_frame(df: pd.DataFrame, scale=True, desc_set=None) -> pd.DataFrame:\n",
        "    \"\"\" calculates rdkit descriptors from a smiles.txt file \"\"\"\n",
        "\n",
        "    if desc_set:\n",
        "        desc_set = [desc[0] for desc in Descriptors.descList if desc[0] in desc_set]\n",
        "    else:\n",
        "        desc_set = [desc[0] for desc in Descriptors.descList]\n",
        "\n",
        "    calc = MoleculeDescriptors.MolecularDescriptorCalculator(desc_set)\n",
        "\n",
        "    X = pd.DataFrame([list(calc.CalcDescriptors(mol)) for mol in df['ROMol']],\n",
        "                     columns=list(calc.GetDescriptorNames()), index=df[NAME_COLUMN])\n",
        "    X = X.loc[X.notnull().all(1), :]\n",
        "\n",
        "    if scale:\n",
        "        X = pd.DataFrame(StandardScaler().fit_transform(X), index=X.index, columns=X.columns)\n",
        "    return X"
      ],
      "metadata": {
        "id": "b6k_7-W3Z8va"
      },
      "execution_count": 44,
      "outputs": []
    },
    {
      "cell_type": "markdown",
      "source": [
        "## PCA"
      ],
      "metadata": {
        "id": "Yz-u7-R2fZs1"
      }
    },
    {
      "cell_type": "code",
      "source": [
        "df = PandasTools.LoadSDF(SDFILE_DIR)\n",
        "descriptors = calc_descriptors_from_frame(df, desc_set=desc_set)\n",
        "pca = PCA()\n",
        "\n",
        "latent_space = pd.DataFrame(pca.fit_transform(descriptors)[:, 0:3])\n",
        "latent_space.columns = ['PC1', 'PC2', 'PC3']\n",
        "latent_space['Class'] = df[ACTIVITY_COLUMN]\n",
        "latent_space[NAME_COLUMN] = df[NAME_COLUMN]"
      ],
      "metadata": {
        "id": "71Gh9hmEaseo"
      },
      "execution_count": 64,
      "outputs": []
    },
    {
      "cell_type": "markdown",
      "source": [
        "## Colors"
      ],
      "metadata": {
        "id": "x2pXraNsfbTO"
      }
    },
    {
      "cell_type": "code",
      "source": [
        "r_1, g_1, b_1 =  colors.to_rgb(ONE_COLOR.lower())\n",
        "r_1, g_1, b_1 = r_1*255, g_1*255, b_1*255\n",
        "\n",
        "r_0, g_0, b_0 =  colors.to_rgb(ZERO_COLOR.lower())\n",
        "r_0, g_0, b_0 = r_0*255, g_0*255, b_0*255"
      ],
      "metadata": {
        "id": "ce8IIj6UeU5g"
      },
      "execution_count": 67,
      "outputs": []
    },
    {
      "cell_type": "markdown",
      "source": [
        "## Plot"
      ],
      "metadata": {
        "id": "TbtGn-pjfdMN"
      }
    },
    {
      "cell_type": "code",
      "source": [
        "fig = px.scatter_3d(latent_space,\n",
        "                  x='PC1',\n",
        "                  y='PC2',\n",
        "                  z='PC3',\n",
        "                  color='Class',\n",
        "                  hover_name=NAME_COLUMN,\n",
        "                  hover_data=['Class', 'PC1', 'PC2', 'PC3'],\n",
        "                  labels={\n",
        "                      \"PC1\": \"PC1 ({:.2%})\".format(pca.explained_variance_ratio_[0]),\n",
        "                      \"PC2\": \"PC2 ({:.2%})\".format(pca.explained_variance_ratio_[1]),\n",
        "                      \"PC3\": \"PC3 ({:.2%})\".format(pca.explained_variance_ratio_[2]),\n",
        "                  },\n",
        "                height=800, # default height\n",
        "                color_discrete_map={\n",
        "                    '1': \"rgba({}, {}, {}, 0.5)\".format(r_1, g_1, b_1 ),\n",
        "                    '0': \"rgba({}, {}, {}, 0.5)\".format(r_0, g_0, b_0)\n",
        "                    }\n",
        "                  )\n",
        "\n",
        "fig.update_layout(template='plotly_white',\n",
        "                  scene=dict(aspectratio=dict(x=1, y=1, z=1))\n",
        "                  )\n",
        "fig.update_xaxes(showline=True, linewidth=2, linecolor='black')\n",
        "fig.update_yaxes(showline=True, linewidth=2, linecolor='black')\n",
        "#fig.update_zaxes(showline=True, linewidth=2, linecolor='black')\n",
        "fig.update_traces(marker=dict(size=6,\n",
        "                              opacity=0.5,\n",
        "                              #line=dict(width=2, color='DarkSlateGrey')\n",
        "                              ),\n",
        "                  )\n",
        "\n",
        "camera = dict(\n",
        "    eye=dict(x=0., y=2.5, z=0),\n",
        ")\n",
        "\n",
        "fig.update_layout(scene_camera=camera, scene_dragmode='orbit')\n",
        "fig.show()"
      ],
      "metadata": {
        "id": "M-XHwPrfbvTA",
        "outputId": "74b15156-7c42-4878-e73d-3ee7b7254c61",
        "colab": {
          "base_uri": "https://localhost:8080/",
          "height": 817
        }
      },
      "execution_count": 68,
      "outputs": [
        {
          "output_type": "display_data",
          "data": {
            "text/html": [
              "<html>\n",
              "<head><meta charset=\"utf-8\" /></head>\n",
              "<body>\n",
              "    <div>            <script src=\"https://cdnjs.cloudflare.com/ajax/libs/mathjax/2.7.5/MathJax.js?config=TeX-AMS-MML_SVG\"></script><script type=\"text/javascript\">if (window.MathJax && window.MathJax.Hub && window.MathJax.Hub.Config) {window.MathJax.Hub.Config({SVG: {font: \"STIX-Web\"}});}</script>                <script type=\"text/javascript\">window.PlotlyConfig = {MathJaxConfig: 'local'};</script>\n",
              "        <script src=\"https://cdn.plot.ly/plotly-2.18.2.min.js\"></script>                <div id=\"af07ce11-7d50-4155-8270-1a7bbff10c81\" class=\"plotly-graph-div\" style=\"height:800px; width:100%;\"></div>            <script type=\"text/javascript\">                                    window.PLOTLYENV=window.PLOTLYENV || {};                                    if (document.getElementById(\"af07ce11-7d50-4155-8270-1a7bbff10c81\")) {                    Plotly.newPlot(                        \"af07ce11-7d50-4155-8270-1a7bbff10c81\",                        [{\"customdata\":[[\"0\"],[\"0\"],[\"0\"],[\"0\"],[\"0\"],[\"0\"],[\"0\"],[\"0\"],[\"0\"],[\"0\"],[\"0\"],[\"0\"],[\"0\"],[\"0\"],[\"0\"],[\"0\"],[\"0\"],[\"0\"],[\"0\"],[\"0\"],[\"0\"],[\"0\"],[\"0\"],[\"0\"],[\"0\"],[\"0\"],[\"0\"],[\"0\"],[\"0\"],[\"0\"],[\"0\"],[\"0\"],[\"0\"],[\"0\"],[\"0\"],[\"0\"],[\"0\"],[\"0\"],[\"0\"],[\"0\"]],\"hovertemplate\":\"<b>%{hovertext}</b><br><br>Class=%{customdata[0]}<br>PC1 (58.23%)=%{x}<br>PC2 (23.35%)=%{y}<br>PC3 (13.17%)=%{z}<extra></extra>\",\"hovertext\":[\"50339\",\"56815\",\"67685\",\"90802\",\"92433\",\"94133\",\"95556\",\"95636\",\"96184\",\"96377\",\"102716\",\"108032\",\"108101\",\"108883\",\"108941\",\"109864\",\"110009\",\"110543\",\"110805\",\"120127\",\"123546\",\"123864\",\"141786\",\"141979\",\"494199\",\"590476\",\"609143\",\"657249\",\"1450857\",\"2736234\",\"3938952\",\"5392289\",\"7631983\",\"9002920\",\"9005645\",\"12427382\",\"16219753\",\"25102129\",\"25322683\",\"72128020\"],\"legendgroup\":\"0\",\"marker\":{\"color\":\"rgba(0.0, 128.0, 0.0, 0.5)\",\"symbol\":\"circle\",\"opacity\":0.5,\"size\":6},\"mode\":\"markers\",\"name\":\"0\",\"scene\":\"scene\",\"showlegend\":true,\"x\":[-0.10027362460753922,0.38139581445293125,-1.1462271146379357,1.7176892401872028,-0.42052223357880264,-0.053653006787802014,-0.28113953171772105,-1.4655814035996195,-1.2702443777427534,-1.545250561432533,0.9018337753633345,-0.6692636522283558,-1.0754008347691302,-1.512722731493369,-1.1676410477787245,-0.5763862109401481,-1.2765591072107771,-1.421743415169562,-0.5110724070780429,-1.3733804056162207,-0.7172185773528208,-0.7406735185113426,-0.8713011262355528,-0.3557541976719195,-0.8405847985867637,-0.053504350859728024,-0.32901713424880563,0.3751868878074399,-0.6514930600067398,0.8679674364083525,-0.8057095503374403,3.393352377329011,0.5678570143506726,0.14206563154300783,4.14068634627342,0.4290664196648745,-1.4613629194528068,4.264764724172087,12.171350050081966,1.75110409391865],\"y\":[-1.3186690917535615,1.875174375091693,0.12050409328062131,2.692740524893719,0.17473290053217005,-0.12878607364213268,0.7932448923184227,-0.6767452156968277,-0.6689162885244583,-0.5069517756198281,1.6321832971738728,-0.015532495812277902,-0.39515310630890593,-0.47234420368899016,-0.29223753818382886,0.6034104494586074,-0.199097030314482,-0.7178105903805552,0.4440817742156873,-1.1254526293168738,-0.0581406700462192,-0.36542778228551065,-0.04677043179966999,-0.11525715973980283,-0.5830292955271783,0.7135859141840265,-0.20209897345678182,1.9953247302858164,0.2328468550175147,0.5958045149290668,-0.3782086431700241,3.6661117210795022,-0.5353372594663484,-1.1492049782135165,-0.432807463184808,0.5004439420570616,-0.6562833629159576,3.994404679515239,-3.7632183626486855,-0.8035788642667003],\"z\":[0.2746422738275486,0.46237101805433567,-0.7224924772299901,0.658710730507557,0.07639107985045773,0.28444263206141496,0.6538394393296852,-0.0034254087420062715,-0.1607734511778698,-0.1303415595569534,0.3617092272933496,-0.5913173662526402,-0.3294107835189357,-0.17717644426179172,-0.32150801635767173,-0.3278448977235018,-0.4059068473080526,-0.0821932409074762,-0.23765654396628194,0.3828501746135281,-0.6283110780716037,-0.44493123980311655,-0.625307947317556,-0.6728959815065705,0.7989419499252277,-0.24496417315504826,-0.601960428657356,0.7744666442919788,0.11362361327845702,0.8282184218439543,-0.3389047189644425,2.164679334382933,-1.0009176205510057,0.6642269936059166,0.9910599832688192,0.26378689152790574,-0.02466167086908108,-2.82745255981084,-1.906236313367248,0.8027586381834578],\"type\":\"scatter3d\"},{\"customdata\":[[\"1\"],[\"1\"],[\"1\"],[\"1\"],[\"1\"],[\"1\"],[\"1\"],[\"1\"],[\"1\"],[\"1\"],[\"1\"],[\"1\"],[\"1\"],[\"1\"],[\"1\"],[\"1\"],[\"1\"],[\"1\"],[\"1\"],[\"1\"],[\"1\"],[\"1\"],[\"1\"],[\"1\"],[\"1\"],[\"1\"],[\"1\"],[\"1\"],[\"1\"],[\"1\"],[\"1\"],[\"1\"],[\"1\"],[\"1\"],[\"1\"]],\"hovertemplate\":\"<b>%{hovertext}</b><br><br>Class=%{customdata[0]}<br>PC1 (58.23%)=%{x}<br>PC2 (23.35%)=%{y}<br>PC3 (13.17%)=%{z}<extra></extra>\",\"hovertext\":[\"55561\",\"57090\",\"58333\",\"62760\",\"64175\",\"67630\",\"67641\",\"69056\",\"76039\",\"78831\",\"78933\",\"79209\",\"96480\",\"104767\",\"105340\",\"107186\",\"108930\",\"110032\",\"110861\",\"111273\",\"111762\",\"111875\",\"121540\",\"133062\",\"140727\",\"151213\",\"288324\",\"302954\",\"595379\",\"619669\",\"1623081\",\"2743386\",\"4659454\",\"8001545\",\"9002931\"],\"legendgroup\":\"1\",\"marker\":{\"color\":\"rgba(255.0, 0.0, 0.0, 0.5)\",\"symbol\":\"circle\",\"opacity\":0.5,\"size\":6},\"mode\":\"markers\",\"name\":\"1\",\"scene\":\"scene\",\"showlegend\":true,\"x\":[3.177051166652278,-0.123104200329155,-0.3796514217969892,0.517284880448729,-1.0013699555788935,-0.9818615356252459,-1.2327655059164542,0.7702742689958373,-0.5857414245150885,-0.9093190882936746,-1.167451702054349,-0.9366149300976582,-0.9103449844349271,-0.6480638728452542,-0.44793027842109323,-0.9303294633885972,-0.9167370774875164,-0.11124232043330043,-1.238041605163534,-0.7401147401304732,-0.38044479935383285,-0.609487132406263,0.3929585926792443,-0.14840012229115085,-0.04494353298909411,0.867367818459095,-0.8810822976236643,1.4085280238981908,-0.6293512162277008,-0.2144715881339066,0.3658546778172871,2.0406951142574163,-0.9045359716763602,-0.715453223850747,-0.16179946404314505],\"y\":[1.5386767741480252,-1.8296753517384616,-1.69941588108532,2.64455918187161,0.6120290362198141,0.4901245238343169,0.010346057893913675,-1.997366394851974,0.13394450039723943,0.36585854725991473,-0.14898261734900667,0.11255824344325029,0.054571045018882866,-0.2714561537117665,0.16730306855696708,0.5115981728128461,0.1875409277565744,0.497491188938292,-0.17248310925632182,-0.025285664751867106,0.1254244237298466,-0.34394301523770787,-1.7537347167969128,-0.9817690084686544,-1.9144025108099225,-0.6023902362303772,0.5175779584430646,0.4256273876303649,0.13223466710515105,0.21914887060238736,-0.7555573767831246,0.2805307261876597,-0.9939650854498946,0.8906017984513156,-0.8548553558492187],\"z\":[3.753414883005592,0.019259173594977537,0.4391557464519631,-3.178060390598988,-0.1769491818261381,-0.06962393016609934,-0.5807230438825893,1.3955063714047709,0.2841349392800788,-0.01582527521970395,-0.4905346901253697,-0.715496301074776,-0.6717489490537577,0.34492813980917525,-0.7623261085463086,-0.14512925503607324,0.18959109735881832,0.6995431786224959,-0.4504530751241764,0.18380423320274114,-0.057279836451842404,0.3641809407171807,0.036314712232876,0.06112537440309741,0.10835114292292075,-0.7928224171667133,-0.04694892118474873,0.4966227511794011,0.2385745614696226,0.15269292553833108,0.7006767006355415,0.7495008849992367,0.19849086398351606,-0.7912802690384333,0.7792047469138924],\"type\":\"scatter3d\"}],                        {\"template\":{\"data\":{\"barpolar\":[{\"marker\":{\"line\":{\"color\":\"white\",\"width\":0.5},\"pattern\":{\"fillmode\":\"overlay\",\"size\":10,\"solidity\":0.2}},\"type\":\"barpolar\"}],\"bar\":[{\"error_x\":{\"color\":\"#2a3f5f\"},\"error_y\":{\"color\":\"#2a3f5f\"},\"marker\":{\"line\":{\"color\":\"white\",\"width\":0.5},\"pattern\":{\"fillmode\":\"overlay\",\"size\":10,\"solidity\":0.2}},\"type\":\"bar\"}],\"carpet\":[{\"aaxis\":{\"endlinecolor\":\"#2a3f5f\",\"gridcolor\":\"#C8D4E3\",\"linecolor\":\"#C8D4E3\",\"minorgridcolor\":\"#C8D4E3\",\"startlinecolor\":\"#2a3f5f\"},\"baxis\":{\"endlinecolor\":\"#2a3f5f\",\"gridcolor\":\"#C8D4E3\",\"linecolor\":\"#C8D4E3\",\"minorgridcolor\":\"#C8D4E3\",\"startlinecolor\":\"#2a3f5f\"},\"type\":\"carpet\"}],\"choropleth\":[{\"colorbar\":{\"outlinewidth\":0,\"ticks\":\"\"},\"type\":\"choropleth\"}],\"contourcarpet\":[{\"colorbar\":{\"outlinewidth\":0,\"ticks\":\"\"},\"type\":\"contourcarpet\"}],\"contour\":[{\"colorbar\":{\"outlinewidth\":0,\"ticks\":\"\"},\"colorscale\":[[0.0,\"#0d0887\"],[0.1111111111111111,\"#46039f\"],[0.2222222222222222,\"#7201a8\"],[0.3333333333333333,\"#9c179e\"],[0.4444444444444444,\"#bd3786\"],[0.5555555555555556,\"#d8576b\"],[0.6666666666666666,\"#ed7953\"],[0.7777777777777778,\"#fb9f3a\"],[0.8888888888888888,\"#fdca26\"],[1.0,\"#f0f921\"]],\"type\":\"contour\"}],\"heatmapgl\":[{\"colorbar\":{\"outlinewidth\":0,\"ticks\":\"\"},\"colorscale\":[[0.0,\"#0d0887\"],[0.1111111111111111,\"#46039f\"],[0.2222222222222222,\"#7201a8\"],[0.3333333333333333,\"#9c179e\"],[0.4444444444444444,\"#bd3786\"],[0.5555555555555556,\"#d8576b\"],[0.6666666666666666,\"#ed7953\"],[0.7777777777777778,\"#fb9f3a\"],[0.8888888888888888,\"#fdca26\"],[1.0,\"#f0f921\"]],\"type\":\"heatmapgl\"}],\"heatmap\":[{\"colorbar\":{\"outlinewidth\":0,\"ticks\":\"\"},\"colorscale\":[[0.0,\"#0d0887\"],[0.1111111111111111,\"#46039f\"],[0.2222222222222222,\"#7201a8\"],[0.3333333333333333,\"#9c179e\"],[0.4444444444444444,\"#bd3786\"],[0.5555555555555556,\"#d8576b\"],[0.6666666666666666,\"#ed7953\"],[0.7777777777777778,\"#fb9f3a\"],[0.8888888888888888,\"#fdca26\"],[1.0,\"#f0f921\"]],\"type\":\"heatmap\"}],\"histogram2dcontour\":[{\"colorbar\":{\"outlinewidth\":0,\"ticks\":\"\"},\"colorscale\":[[0.0,\"#0d0887\"],[0.1111111111111111,\"#46039f\"],[0.2222222222222222,\"#7201a8\"],[0.3333333333333333,\"#9c179e\"],[0.4444444444444444,\"#bd3786\"],[0.5555555555555556,\"#d8576b\"],[0.6666666666666666,\"#ed7953\"],[0.7777777777777778,\"#fb9f3a\"],[0.8888888888888888,\"#fdca26\"],[1.0,\"#f0f921\"]],\"type\":\"histogram2dcontour\"}],\"histogram2d\":[{\"colorbar\":{\"outlinewidth\":0,\"ticks\":\"\"},\"colorscale\":[[0.0,\"#0d0887\"],[0.1111111111111111,\"#46039f\"],[0.2222222222222222,\"#7201a8\"],[0.3333333333333333,\"#9c179e\"],[0.4444444444444444,\"#bd3786\"],[0.5555555555555556,\"#d8576b\"],[0.6666666666666666,\"#ed7953\"],[0.7777777777777778,\"#fb9f3a\"],[0.8888888888888888,\"#fdca26\"],[1.0,\"#f0f921\"]],\"type\":\"histogram2d\"}],\"histogram\":[{\"marker\":{\"pattern\":{\"fillmode\":\"overlay\",\"size\":10,\"solidity\":0.2}},\"type\":\"histogram\"}],\"mesh3d\":[{\"colorbar\":{\"outlinewidth\":0,\"ticks\":\"\"},\"type\":\"mesh3d\"}],\"parcoords\":[{\"line\":{\"colorbar\":{\"outlinewidth\":0,\"ticks\":\"\"}},\"type\":\"parcoords\"}],\"pie\":[{\"automargin\":true,\"type\":\"pie\"}],\"scatter3d\":[{\"line\":{\"colorbar\":{\"outlinewidth\":0,\"ticks\":\"\"}},\"marker\":{\"colorbar\":{\"outlinewidth\":0,\"ticks\":\"\"}},\"type\":\"scatter3d\"}],\"scattercarpet\":[{\"marker\":{\"colorbar\":{\"outlinewidth\":0,\"ticks\":\"\"}},\"type\":\"scattercarpet\"}],\"scattergeo\":[{\"marker\":{\"colorbar\":{\"outlinewidth\":0,\"ticks\":\"\"}},\"type\":\"scattergeo\"}],\"scattergl\":[{\"marker\":{\"colorbar\":{\"outlinewidth\":0,\"ticks\":\"\"}},\"type\":\"scattergl\"}],\"scattermapbox\":[{\"marker\":{\"colorbar\":{\"outlinewidth\":0,\"ticks\":\"\"}},\"type\":\"scattermapbox\"}],\"scatterpolargl\":[{\"marker\":{\"colorbar\":{\"outlinewidth\":0,\"ticks\":\"\"}},\"type\":\"scatterpolargl\"}],\"scatterpolar\":[{\"marker\":{\"colorbar\":{\"outlinewidth\":0,\"ticks\":\"\"}},\"type\":\"scatterpolar\"}],\"scatter\":[{\"fillpattern\":{\"fillmode\":\"overlay\",\"size\":10,\"solidity\":0.2},\"type\":\"scatter\"}],\"scatterternary\":[{\"marker\":{\"colorbar\":{\"outlinewidth\":0,\"ticks\":\"\"}},\"type\":\"scatterternary\"}],\"surface\":[{\"colorbar\":{\"outlinewidth\":0,\"ticks\":\"\"},\"colorscale\":[[0.0,\"#0d0887\"],[0.1111111111111111,\"#46039f\"],[0.2222222222222222,\"#7201a8\"],[0.3333333333333333,\"#9c179e\"],[0.4444444444444444,\"#bd3786\"],[0.5555555555555556,\"#d8576b\"],[0.6666666666666666,\"#ed7953\"],[0.7777777777777778,\"#fb9f3a\"],[0.8888888888888888,\"#fdca26\"],[1.0,\"#f0f921\"]],\"type\":\"surface\"}],\"table\":[{\"cells\":{\"fill\":{\"color\":\"#EBF0F8\"},\"line\":{\"color\":\"white\"}},\"header\":{\"fill\":{\"color\":\"#C8D4E3\"},\"line\":{\"color\":\"white\"}},\"type\":\"table\"}]},\"layout\":{\"annotationdefaults\":{\"arrowcolor\":\"#2a3f5f\",\"arrowhead\":0,\"arrowwidth\":1},\"autotypenumbers\":\"strict\",\"coloraxis\":{\"colorbar\":{\"outlinewidth\":0,\"ticks\":\"\"}},\"colorscale\":{\"diverging\":[[0,\"#8e0152\"],[0.1,\"#c51b7d\"],[0.2,\"#de77ae\"],[0.3,\"#f1b6da\"],[0.4,\"#fde0ef\"],[0.5,\"#f7f7f7\"],[0.6,\"#e6f5d0\"],[0.7,\"#b8e186\"],[0.8,\"#7fbc41\"],[0.9,\"#4d9221\"],[1,\"#276419\"]],\"sequential\":[[0.0,\"#0d0887\"],[0.1111111111111111,\"#46039f\"],[0.2222222222222222,\"#7201a8\"],[0.3333333333333333,\"#9c179e\"],[0.4444444444444444,\"#bd3786\"],[0.5555555555555556,\"#d8576b\"],[0.6666666666666666,\"#ed7953\"],[0.7777777777777778,\"#fb9f3a\"],[0.8888888888888888,\"#fdca26\"],[1.0,\"#f0f921\"]],\"sequentialminus\":[[0.0,\"#0d0887\"],[0.1111111111111111,\"#46039f\"],[0.2222222222222222,\"#7201a8\"],[0.3333333333333333,\"#9c179e\"],[0.4444444444444444,\"#bd3786\"],[0.5555555555555556,\"#d8576b\"],[0.6666666666666666,\"#ed7953\"],[0.7777777777777778,\"#fb9f3a\"],[0.8888888888888888,\"#fdca26\"],[1.0,\"#f0f921\"]]},\"colorway\":[\"#636efa\",\"#EF553B\",\"#00cc96\",\"#ab63fa\",\"#FFA15A\",\"#19d3f3\",\"#FF6692\",\"#B6E880\",\"#FF97FF\",\"#FECB52\"],\"font\":{\"color\":\"#2a3f5f\"},\"geo\":{\"bgcolor\":\"white\",\"lakecolor\":\"white\",\"landcolor\":\"white\",\"showlakes\":true,\"showland\":true,\"subunitcolor\":\"#C8D4E3\"},\"hoverlabel\":{\"align\":\"left\"},\"hovermode\":\"closest\",\"mapbox\":{\"style\":\"light\"},\"paper_bgcolor\":\"white\",\"plot_bgcolor\":\"white\",\"polar\":{\"angularaxis\":{\"gridcolor\":\"#EBF0F8\",\"linecolor\":\"#EBF0F8\",\"ticks\":\"\"},\"bgcolor\":\"white\",\"radialaxis\":{\"gridcolor\":\"#EBF0F8\",\"linecolor\":\"#EBF0F8\",\"ticks\":\"\"}},\"scene\":{\"xaxis\":{\"backgroundcolor\":\"white\",\"gridcolor\":\"#DFE8F3\",\"gridwidth\":2,\"linecolor\":\"#EBF0F8\",\"showbackground\":true,\"ticks\":\"\",\"zerolinecolor\":\"#EBF0F8\"},\"yaxis\":{\"backgroundcolor\":\"white\",\"gridcolor\":\"#DFE8F3\",\"gridwidth\":2,\"linecolor\":\"#EBF0F8\",\"showbackground\":true,\"ticks\":\"\",\"zerolinecolor\":\"#EBF0F8\"},\"zaxis\":{\"backgroundcolor\":\"white\",\"gridcolor\":\"#DFE8F3\",\"gridwidth\":2,\"linecolor\":\"#EBF0F8\",\"showbackground\":true,\"ticks\":\"\",\"zerolinecolor\":\"#EBF0F8\"}},\"shapedefaults\":{\"line\":{\"color\":\"#2a3f5f\"}},\"ternary\":{\"aaxis\":{\"gridcolor\":\"#DFE8F3\",\"linecolor\":\"#A2B1C6\",\"ticks\":\"\"},\"baxis\":{\"gridcolor\":\"#DFE8F3\",\"linecolor\":\"#A2B1C6\",\"ticks\":\"\"},\"bgcolor\":\"white\",\"caxis\":{\"gridcolor\":\"#DFE8F3\",\"linecolor\":\"#A2B1C6\",\"ticks\":\"\"}},\"title\":{\"x\":0.05},\"xaxis\":{\"automargin\":true,\"gridcolor\":\"#EBF0F8\",\"linecolor\":\"#EBF0F8\",\"ticks\":\"\",\"title\":{\"standoff\":15},\"zerolinecolor\":\"#EBF0F8\",\"zerolinewidth\":2},\"yaxis\":{\"automargin\":true,\"gridcolor\":\"#EBF0F8\",\"linecolor\":\"#EBF0F8\",\"ticks\":\"\",\"title\":{\"standoff\":15},\"zerolinecolor\":\"#EBF0F8\",\"zerolinewidth\":2}}},\"scene\":{\"domain\":{\"x\":[0.0,1.0],\"y\":[0.0,1.0]},\"xaxis\":{\"title\":{\"text\":\"PC1 (58.23%)\"}},\"yaxis\":{\"title\":{\"text\":\"PC2 (23.35%)\"}},\"zaxis\":{\"title\":{\"text\":\"PC3 (13.17%)\"}},\"aspectratio\":{\"x\":1,\"y\":1,\"z\":1},\"camera\":{\"eye\":{\"x\":0.0,\"y\":2.5,\"z\":0}},\"dragmode\":\"orbit\"},\"legend\":{\"title\":{\"text\":\"Class\"},\"tracegroupgap\":0},\"margin\":{\"t\":60},\"height\":800,\"xaxis\":{\"showline\":true,\"linewidth\":2,\"linecolor\":\"black\"},\"yaxis\":{\"showline\":true,\"linewidth\":2,\"linecolor\":\"black\"}},                        {\"responsive\": true}                    ).then(function(){\n",
              "                            \n",
              "var gd = document.getElementById('af07ce11-7d50-4155-8270-1a7bbff10c81');\n",
              "var x = new MutationObserver(function (mutations, observer) {{\n",
              "        var display = window.getComputedStyle(gd).display;\n",
              "        if (!display || display === 'none') {{\n",
              "            console.log([gd, 'removed!']);\n",
              "            Plotly.purge(gd);\n",
              "            observer.disconnect();\n",
              "        }}\n",
              "}});\n",
              "\n",
              "// Listen for the removal of the full notebook cells\n",
              "var notebookContainer = gd.closest('#notebook-container');\n",
              "if (notebookContainer) {{\n",
              "    x.observe(notebookContainer, {childList: true});\n",
              "}}\n",
              "\n",
              "// Listen for the clearing of the current output cell\n",
              "var outputEl = gd.closest('.output');\n",
              "if (outputEl) {{\n",
              "    x.observe(outputEl, {childList: true});\n",
              "}}\n",
              "\n",
              "                        })                };                            </script>        </div>\n",
              "</body>\n",
              "</html>"
            ]
          },
          "metadata": {}
        }
      ]
    }
  ],
  "metadata": {
    "colab": {
      "name": "DeepLearning.ipynb",
      "provenance": [],
      "include_colab_link": true
    },
    "kernelspec": {
      "display_name": "Python 3 (ipykernel)",
      "language": "python",
      "name": "python3"
    },
    "language_info": {
      "codemirror_mode": {
        "name": "ipython",
        "version": 3
      },
      "file_extension": ".py",
      "mimetype": "text/x-python",
      "name": "python",
      "nbconvert_exporter": "python",
      "pygments_lexer": "ipython3",
      "version": "3.7.10"
    }
  },
  "nbformat": 4,
  "nbformat_minor": 0
}